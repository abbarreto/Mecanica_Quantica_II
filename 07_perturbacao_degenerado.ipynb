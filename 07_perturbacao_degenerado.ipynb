{
 "cells": [
  {
   "cell_type": "markdown",
   "metadata": {},
   "source": [
    "### Notas de aula de Mecânica Quântica <br> Autor: Jonas Maziero"
   ]
  },
  {
   "cell_type": "markdown",
   "metadata": {},
   "source": [
    "# Teoria de perturbação\n",
    "O objetivo da teoria de perturbação é construir soluções aproximadas (estáticas ou dinâmicas) a partir das soluções analíticas obtidas em casos particulares, que geralmente estão relacionados com intensidades de interação maiores em relação às correções que queremos incluir.\n",
    "\n",
    "# Teoria de perturbação independente do tempo"
   ]
  },
  {
   "cell_type": "markdown",
   "metadata": {},
   "source": [
    "# Espectros discretos degenerados\n",
    "Consideremos agora o problema $H|\\psi_{n}\\rangle = E_{n}|\\psi_{n}\\rangle$ com $H=H_{0}+H_{1}$ e\n",
    "\\begin{equation}\n",
    "H_{0}|\\psi_{n,k}^{(0)}\\rangle = E_{n}^{(0)}|\\psi_{n,k}^{(0)}\\rangle\n",
    "\\end{equation}\n",
    "para $k=1,\\cdots,d_{n}$. O desenvolvimento aqui é similar ao caso não degenerado. Consideremos um autovetor qualquer correspondente a $E_{n}^{(0)}$:\n",
    "\\begin{equation}\n",
    "|\\psi_{n}^{(0)}\\rangle = \\sum_{k=1}^{d_{n}}c_{n,k}|\\psi_{n,k}^{(0)}\\rangle.\n",
    "\\end{equation}\n",
    " Começamos escrevendo\n",
    "\\begin{equation}\n",
    "|\\psi_{n}\\rangle = N_{n}\\left(|\\psi_{n}^{(0)}\\rangle + |\\chi_{n}\\rangle \\right) = N_{n}\\left(\\sum_{k=1}^{d_{n}}c_{n,k}|\\psi_{n,k}^{(0)}\\rangle + |\\chi_{n}\\rangle \\right)\n",
    "\\end{equation}\n",
    "com $\\langle\\psi_{n,k}^{(0)}|\\chi_{n}\\rangle=0 \\text{ }\\forall k$. Substituindo na equação geral,\n",
    "\\begin{align}\n",
    "&  E_{n}|\\psi_{n}\\rangle = E_{n}N_{n}\\left(\\sum_{k=1}^{d_{n}}c_{n,k}|\\psi_{n,k}^{(0)}\\rangle + |\\chi_{n}\\rangle \\right) \\\\\n",
    "& = H|\\psi_{n}\\rangle = (H_{0}+\\xi H_{1})N_{n}\\left(\\sum_{k=1}^{d_{n}}c_{n,k}|\\psi_{n,k}^{(0)}\\rangle + |\\chi_{n}\\rangle \\right)  \\\\\n",
    "& = N_{n}\\left(E_{n}^{(0)}\\sum_{k=1}^{d_{n}}c_{n,k}|\\psi_{n,k}^{(0)}\\rangle + H_{0}|\\chi_{n}\\rangle + \\xi\\sum_{k=1}^{d_{n}}c_{n,k}H_{1}|\\psi_{n,k}^{(0)}\\rangle + \\xi H_{1}|\\chi_{n}\\rangle \\right).\n",
    "\\end{align}"
   ]
  },
  {
   "cell_type": "markdown",
   "metadata": {},
   "source": [
    "Dividindo esta eq. por $N_{n}$ e rearranjando,\n",
    "\\begin{equation}\n",
    "(E_{n}-E_{n}^{(0)})\\sum_{k=1}^{d_{n}}c_{n,k}|\\psi_{n,k}^{(0)}\\rangle = \\xi \\sum_{k=1}^{d_{n}}c_{n,k}H_{1}|\\psi_{n,k}^{(0)}\\rangle + (H_{0}+\\xi H_{1}-E_{n})|\\chi_{n}\\rangle, \\hspace{1cm}(\\star)\n",
    "\\end{equation}\n",
    "e tomando o produto interno com $|\\psi_{n,l}^{(0)}\\rangle$ obtemos\n",
    "\\begin{align}\n",
    "& (E_{n}-E_{n}^{(0)})\\sum_{k=1}^{d_{n}}c_{n,k}\\langle\\psi_{n,l}^{(0)}|\\psi_{n,k}^{(0)}\\rangle = \\xi \\sum_{k=1}^{d_{n}}c_{n,k}\\langle\\psi_{n,l}^{(0)}|H_{1}|\\psi_{n,k}^{(0)}\\rangle + \\langle\\psi_{n,l}^{(0)}|H_{0}|\\chi_{n}\\rangle+\\xi \\langle\\psi_{n,l}^{(0)}|H_{1}|\\chi_{n}\\rangle-E_{n}\\langle\\psi_{n,l}^{(0)}|\\chi_{n}\\rangle \\\\\n",
    "& \\therefore (E_{n}-E_{n}^{(0)})\\sum_{k=1}^{d_{n}}c_{n,k}\\delta_{lk} = \\xi \\sum_{k=1}^{d_{n}}c_{n,k}\\langle\\psi_{n,l}^{(0)}|H_{1}|\\psi_{n,k}^{(0)}\\rangle + E_{n}^{(0)}\\langle\\psi_{n,l}^{(0)}|\\chi_{n}\\rangle + \\xi \\langle\\psi_{n,l}^{(0)}|H_{1}|\\chi_{n}\\rangle -E_{n}0 \\\\\n",
    "& \\therefore (E_{n}-E_{n}^{(0)})c_{n,l} = \\xi \\sum_{k=1}^{d_{n}}c_{n,k}\\langle\\psi_{n,l}^{(0)}|H_{1}|\\psi_{n,k}^{(0)}\\rangle + 0 + \\xi\\langle\\psi_{n,l}^{(0)}|H_{1}|\\chi_{n}\\rangle.\n",
    "\\end{align}"
   ]
  },
  {
   "cell_type": "markdown",
   "metadata": {},
   "source": [
    "Mais uma vez, escrevemos $|\\chi_{n}\\rangle$ em uma base de autovetores de $H_{0}$:\n",
    "\\begin{equation}\n",
    "|\\chi_{n}\\rangle = \\sum_{m}\\sum_{j=1}^{d_{m}}\\langle\\psi_{m,j}^{(0)}|\\chi_{n}\\rangle|\\psi_{m,j}^{(0)}\\rangle.\n",
    "\\end{equation}\n",
    "Para obter os coeficientes tomamos o produto interno de $|\\psi_{m,j}^{(0)}\\rangle$ com a eq. $(\\star)$ para $m\\ne n$:\n",
    "\\begin{align}\n",
    "& (E_{n}-E_{n}^{(0)})\\sum_{k=1}^{d_{n}}c_{n,k}\\langle\\psi_{m,j}^{(0)}|\\psi_{n,k}^{(0)}\\rangle = \\xi \\sum_{k=1}^{d_{n}}c_{n,k}\\langle\\psi_{m,j}^{(0)}|H_{1}|\\psi_{n,k}^{(0)}\\rangle + \\langle\\psi_{m,j}^{(0)}|H_{0}|\\chi_{n}\\rangle +\\xi \\langle\\psi_{m,j}^{(0)}|H_{1}|\\chi_{n}\\rangle -E_{n}\\langle\\psi_{m,j}^{(0)}|\\chi_{n}\\rangle \\\\\n",
    "& \\therefore 0 = \\xi \\sum_{k=1}^{d_{n}}c_{n,k}\\langle\\psi_{m,j}^{(0)}|H_{1}|\\psi_{n,k}^{(0)}\\rangle + E_{m}^{(0)}\\langle\\psi_{m,j}^{(0)}|\\chi_{n}\\rangle +\\xi \\langle\\psi_{m,j}^{(0)}|H_{1}|\\chi_{n}\\rangle -E_{n}\\langle\\psi_{m,j}^{(0)}|\\chi_{n}\\rangle.\n",
    "\\end{align}\n",
    "Teremos assim que\n",
    "\\begin{equation}\n",
    "\\langle\\psi_{m,j}^{(0)}|\\chi_{n}\\rangle = \\xi\\sum_{k=1}^{d_{n}}\\frac{c_{n,k}\\langle\\psi_{m,j}^{(0)}|H_{1}|\\psi_{n,k}^{(0)}\\rangle}{E_{n}-E_{m}^{(0)}} + \\xi\\frac{\\langle\\psi_{m,j}^{(0)}|H_{1}|\\chi_{n}\\rangle}{E_{n}-E_{m}^{(0)}}.\n",
    "\\end{equation}\n",
    "e com isso vem que\n",
    "\\begin{equation}\n",
    "|\\chi_{n}\\rangle = \\xi\\sum_{m\\ne n}\\sum_{j=1}^{d_{m}}\\sum_{k=1}^{d_{n}}\\frac{c_{n,k}\\langle\\psi_{m,j}^{(0)}|H_{1}|\\psi_{n,k}^{(0)}\\rangle}{E_{n}-E_{m}^{(0)}}|\\psi_{m,j}^{(0)}\\rangle + \\xi\\sum_{m\\ne n}\\sum_{j=1}^{d_{m}}\\frac{\\langle\\psi_{m,j}^{(0)}|H_{1}|\\chi_{n}\\rangle}{E_{n}-E_{m}^{(0)}}|\\psi_{m,j}^{(0)}\\rangle.\n",
    "\\end{equation}"
   ]
  },
  {
   "cell_type": "markdown",
   "metadata": {},
   "source": [
    "Iterando,\n",
    "\\begin{align}\n",
    "|\\chi_{n}\\rangle & = \\xi\\sum_{m\\ne n}\\sum_{j=1}^{d_{m}}\\sum_{k=1}^{d_{n}}\\frac{c_{n,k}\\langle\\psi_{m,j}^{(0)}|H_{1}|\\psi_{n,k}^{(0)}\\rangle}{E_{n}-E_{m}^{(0)}}|\\psi_{m,j}^{(0)}\\rangle \\\\\n",
    "& \\hspace{0.5cm} + \\xi^{2}\\sum_{m\\ne n}\\sum_{j=1}^{d_{m}}\\sum_{m'\\ne n}\\sum_{j'=1}^{d_{m}}\\sum_{k=1}^{d_{n}}\\frac{c_{n,k}\\langle\\psi_{m,j}^{(0)}|H_{1}|\\psi_{m',j'}^{(0)}\\rangle\\langle\\psi_{m',j'}^{(0)}|H_{1}|\\psi_{n,k}^{(0)}\\rangle}{(E_{n}-E_{m}^{(0)})(E_{n}-E_{m'}^{(0)})}|\\psi_{m,j}^{(0)}\\rangle \\\\\n",
    "& \\hspace{0.5cm} + \\cdots.\n",
    "\\end{align}"
   ]
  },
  {
   "cell_type": "markdown",
   "metadata": {},
   "source": [
    "Substituindo na eq. para a energia, usando a expansão de Rayleigh-Schrödinger e a série para $1/(E_{n}-E_{m}^{(0)})$, obteremos\n",
    "\\begin{align}\n",
    "( & E_{n}-E_{n}^{(0)})c_{n,l} = (\\xi^{0}E_{n}^{(0)} + \\xi^{1}E_{n}^{(1)} + \\xi^{2}E_{n}^{(2)} + \\xi^{3}E_{n}^{(3)} + \\cdots - E_{n}^{(0)})c_{n,l} \\\\\n",
    "& = \\xi \\sum_{k=1}^{d_{n}}\\langle\\psi_{n,l}^{(0)}|H_{1}|\\psi_{n,k}^{(0)}\\rangle c_{n,k} + \\xi^{2}\\sum_{k=1}^{d_{n}}\\sum_{m\\ne n}\\sum_{j=1}^{d_{m}}\\frac{\\langle\\psi_{n,l}^{(0)}|H_{1}|\\psi_{m,j}^{(0)}\\rangle\\langle\\psi_{m,j}^{(0)}|H_{1}|\\psi_{n,k}^{(0)}\\rangle}{E_{n}-E_{m}^{(0)}}c_{n,k} \\\\\n",
    " & \\hspace{0.5cm} + \\xi^{3}\\sum_{k=1}^{d_{n}}\\sum_{m\\ne n}\\sum_{j=1}^{d_{m}}\\sum_{m'\\ne n}\\sum_{j'=1}^{d_{m}}\\frac{\\langle\\psi_{n,l}^{(0)}|H_{1}|\\psi_{m,j}^{(0)}\\rangle\\langle\\psi_{m,j}^{(0)}|H_{1}|\\psi_{m',j'}\\rangle\\langle\\psi_{m',j'}^{(0)}|H_{1}|\\psi_{n,k}^{(0)}\\rangle}{(E_{n}-E_{m}^{(0)})(E_{n}-E_{m'}^{(0)})}c_{n,k} \\\\\n",
    " & \\hspace{0.5cm} + \\cdots. \\hspace{13cm} (\\diamond)\n",
    "\\end{align}"
   ]
  },
  {
   "cell_type": "markdown",
   "metadata": {},
   "source": [
    "A correção perturbativa de primeira ordem é obtida de\n",
    "\\begin{equation}\n",
    "E_{n}^{(1)}c_{n,l} = \\sum_{k=1}^{d_{n}}\\langle\\psi_{n,l}^{(0)}|H_{1}|\\psi_{n,k}^{(0)}\\rangle c_{n,k},\n",
    "\\end{equation}\n",
    "que pode ser escrita na forma matricial como segue\n",
    "\\begin{equation}\n",
    "E_{n}^{(1)}\\begin{bmatrix} c_{n,1} \\\\ c_{n,2} \\\\ \\vdots \\\\ c_{n,d_{n}} \\end{bmatrix} =\n",
    "\\begin{bmatrix} \n",
    "H_{1}^{n(1,1)} & H_{1}^{n(1,2)} & \\cdots & H_{1}^{n(1,d_{n})} \\\\\n",
    "H_{1}^{n(2,1)} & H_{1}^{n(2,2)} & \\cdots & H_{1}^{n(2,d_{n})} \\\\\n",
    "\\vdots & \\vdots & \\ddots & \\vdots \\\\\n",
    "H_{1}^{n(d_{n},1)} & H_{1}^{n(d_{n},2)} & \\cdots & H_{1}^{n(d_{n},d_{n})}\n",
    "\\end{bmatrix} \n",
    "\\begin{bmatrix} c_{n,1} \\\\ c_{n,2} \\\\ \\vdots \\\\ c_{n,d_{n}} \\end{bmatrix},\n",
    "\\end{equation}\n",
    "com $H_{1}^{n(j,k)}=\\langle\\psi_{n,j}^{(0)}|H_{1}|\\psi_{n,k}^{(0)}\\rangle$. Note que os autovalores independem da base $\\{|\\psi_{n,j}^{(0)}\\rangle\\}_{j=1}^{d_{n}}$ escolhida. Os autovetores dessa equação nos fornecem os coeficientes $c_{n,k}$, que precisaremos se quisermos calcular as correções pertubativas para os autoestados."
   ]
  },
  {
   "cell_type": "markdown",
   "metadata": {},
   "source": [
    "### Exemplo: <br> Oscilador bidimensional carregado em um campo magnético\n",
    "Consideremos um oscilador harmônico bidimensional no plano $xy$ com a partícula carregada sujeita a um campo magnético na direção $z$. O _Hamiltoniano não perturbado_ é\n",
    "\\begin{align}\n",
    "H_{0} & = \\frac{\\vec{P}^{2}}{2m} + \\frac{m\\omega^{2}}{2}\\vec{R}^{2} = \\frac{P_{1}^{2}}{2m} + \\frac{m\\omega^{2}}{2}X_{1}^{2} + \\frac{P_{2}^{2}}{2m} + \\frac{m\\omega^{2}}{2}X_{2}^{2} \\\\\n",
    "& = H_{0}^{oh1} + H_{0}^{oh2}.\n",
    "\\end{align}\n",
    "A solução desse Hamiltoniano pode ser escrita como\n",
    "\\begin{equation}\n",
    "H_{0}|n_{1},n_{2}\\rangle = \\hbar\\omega(n_{1}+n_{2}+1)|n_{1},n_{2}\\rangle.\n",
    "\\end{equation}"
   ]
  },
  {
   "cell_type": "markdown",
   "metadata": {},
   "source": [
    "_Hamiltoniano de perturbação_: <br>\n",
    "A partícula possui carga elétrica e gira, portanto terá um momento magnético proporcional ao momento angular:\n",
    "\\begin{equation}\n",
    "H_{1} = -\\vec{\\mu}\\cdot\\vec{B} \\propto \\vec{L}\\cdot\\vec{B} =: gL_{3},\n",
    "\\end{equation}\n",
    "em que incluímos todas as constantes de proporcionalidade em $g$. Lembrando, $L_{3}=(\\vec{X}\\mathrm{x}\\vec{P})_{3}=\\sum_{kl}\\epsilon_{3kl}X_{k}P_{l}=X_{1}P_{2}-X_{2}P_{1}$. Lembrando, para o OH 1D temos $H_{0}^{ohj} = \\hbar\\omega(a_{j}^{\\dagger}a_{j}+\\mathbb{I})$ com o operador de aniquilação sendo\n",
    "\\begin{equation}\n",
    "a_{j} = \\sqrt{\\frac{m\\omega}{2\\hbar}}\\left(X_{j}+\\frac{i}{m\\omega}P_{j}\\right).\n",
    "\\end{equation}\n",
    "Assim\n",
    "\\begin{equation}\n",
    "X_{j} = \\sqrt{\\frac{\\hbar}{2m\\omega}}(a_{j}^{\\dagger}+a_{j}) \\text{ e } P_{j} = i\\sqrt{\\frac{\\hbar m\\omega}{2}}(a_{j}^{\\dagger}-a_{j}).\n",
    "\\end{equation}\n",
    "\n",
    "Escrevemos então\n",
    "\\begin{align}\n",
    "L_{3} & = \\sqrt{\\frac{\\hbar}{2m\\omega}}(a_{1}^{\\dagger}+a_{1})i\\sqrt{\\frac{\\hbar m\\omega}{2}}(a_{2}^{\\dagger}-a_{2}) - i\\sqrt{\\frac{\\hbar m\\omega}{2}}(a_{2}^{\\dagger}+a_{2})\\sqrt{\\frac{\\hbar}{2m\\omega}}(a_{1}^{\\dagger}-a_{1}) \\\\\n",
    "& = \\frac{i\\hbar}{2}\\left(a_{1}^{\\dagger}a_{2}^{\\dagger}- a_{1}^{\\dagger}a_{2} + a_{1}a_{2}^{\\dagger} - a_{1}a_{2} - a_{2}^{\\dagger}a_{1}^{\\dagger} + a_{2}^{\\dagger}a_{1} - a_{2}a_{1}^{\\dagger} + a_{2}a_{1}  \\right) \\\\\n",
    "& = i\\hbar(a_{2}^{\\dagger}a_{1} - a_{1}^{\\dagger}a_{2}).\n",
    "\\end{align}\n",
    "Note que consideramos que os operadores de criação e de aniquilação relacionados a diferentes modos do oscilador comutam. E assim obtemos\n",
    "\\begin{equation}\n",
    "H_{1} = gi\\hbar(a_{2}^{\\dagger}a_{1} - a_{1}^{\\dagger}a_{2}).\n",
    "\\end{equation}"
   ]
  },
  {
   "cell_type": "markdown",
   "metadata": {},
   "source": [
    "Vamos considerar a correção de primeira orde aplicada ao caso $n_{1}+n_{2}=2$, que corresponde ao autovalor $E_{n}^{(0)}=3\\hbar\\omega$ e aos autovetores $\\{|0,2\\rangle,|2,0\\rangle,|1,1\\rangle\\}$. Vamos obter a matriz de $H_{1}$ nessa base do subespaço considerado. Para isso consideremos\n",
    "\\begin{align}\n",
    "\\langle n_{1},n_{2}|H_{1}|n_{1}',n_{2}'\\rangle & = i\\hbar g(\\langle n_{1},n_{2}|a_{2}^{\\dagger}a_{1}|n_{1}',n_{2}'\\rangle - \\langle n_{1},n_{2}|a_{1}^{\\dagger}a_{2}|n_{1}',n_{2}'\\rangle) \\\\\n",
    "& = i\\hbar g\\left(\\langle n_{1},n_{2}|a_{2}^{\\dagger}\\sqrt{n_{1}'}|n_{1}'-1,n_{2}'\\rangle - \\langle n_{1},n_{2}|a_{1}^{\\dagger}\\sqrt{n_{2}'}|n_{1}',n_{2}'-1\\rangle\\right) \\\\\n",
    "& = i\\hbar g\\left(\\langle n_{1},n_{2}|\\sqrt{n_{2}'+1}\\sqrt{n_{1}'}|n_{1}'-1,n_{2}'+1\\rangle - \\langle n_{1},n_{2}|\\sqrt{n_{1}'+1}\\sqrt{n_{2}'}|n_{1}'+1,n_{2}'-1\\rangle\\right) \\\\\n",
    "& = i\\hbar g\\left(\\sqrt{(n_{2}'+1)n_{1}'}\\delta_{n_{1},n_{1}'-1}\\delta_{n_{2},n_{2}'+1} - \\sqrt{(n_{1}'+1)n_{2}'}\\delta_{n_{1},n_{1}'+1}\\delta_{n_{2},n_{2}'-1}\\right).\n",
    "\\end{align}\n",
    "\n",
    "Em geral, todos os termos na diagonal são nulos e aqui teremos ainda\n",
    "\\begin{align}\n",
    "& \\langle 0,2|H_{1}|2,0\\rangle = 0, \\\\\n",
    "& \\langle 0,2|H_{1}|1,1\\rangle = i\\hbar g\\left(\\sqrt{(1+1)1}\\delta_{0,0}\\delta_{2,2} - \\sqrt{(1+1)1}\\delta_{0,2}\\delta_{2,0}\\right) = i\\hbar g\\sqrt{2},\\\\\n",
    "& \\langle 2,0|H_{1}|1,1\\rangle = i\\hbar g\\left(\\sqrt{(1+1)1}\\delta_{2,0}\\delta_{0,2} - \\sqrt{(1+1)1}\\delta_{2,2}\\delta_{0,0}\\right) = -i\\hbar g\\sqrt{2}.\n",
    "\\end{align}\n",
    "Assim, na base $\\{|0,2\\rangle,|2,0\\rangle,|1,1\\rangle\\}$,\n",
    "\\begin{equation}\n",
    "H_{1} = \\begin{bmatrix} 0 & 0 & i\\hbar g\\sqrt{2} \\\\ 0 & 0 & -i\\hbar g\\sqrt{2} \\\\ -i\\hbar g\\sqrt{2} & i\\hbar g\\sqrt{2}  & 0 \\end{bmatrix}.\n",
    "\\end{equation}\n",
    "De $\\det(H_{1}-\\lambda\\mathbb{I})=0$ obtemos \n",
    "\\begin{align}\n",
    "& -\\lambda^{3}-(i\\hbar g\\sqrt{2})^{2}\\lambda -(-i\\hbar g\\sqrt{2})^{2}\\lambda = 0 \\Rightarrow (\\lambda^{2} - 4\\hbar^{2}g^{2})\\lambda = 0, \\\\\n",
    "& \\lambda = 0, \\pm 2\\hbar g.\n",
    "\\end{align}\n",
    "a degenerência na energia é quebrada e teremos \n",
    "\\begin{equation}\n",
    "E_{2}^{(0)}\\rightarrow \\{\\hbar(3\\omega-2g),\\hbar3\\omega,\\hbar(3\\omega+2g)\\}.\n",
    "\\end{equation}"
   ]
  },
  {
   "cell_type": "markdown",
   "metadata": {},
   "source": [
    "---\n",
    "# Exercícios\n",
    "\n",
    "1. Para espectros discretos degenerados, mostre que as correções de 2ª ordem são obtidas diagonalizando o operador $H_{2}^{n}=\\sum_{m\\ne n}\\sum_{j=1}^{d_{m}}\\frac{H_{1}|\\psi_{m,j}^{(0)}\\rangle\\langle\\psi_{m,j}^{(0)}|H_{1}}{E_{n}^{(0)}-E_{m}^{(0)}}.$"
   ]
  },
  {
   "cell_type": "code",
   "execution_count": null,
   "metadata": {},
   "outputs": [],
   "source": []
  }
 ],
 "metadata": {
  "kernelspec": {
   "display_name": "Python 3 (ipykernel)",
   "language": "python",
   "name": "python3"
  },
  "language_info": {
   "codemirror_mode": {
    "name": "ipython",
    "version": 3
   },
   "file_extension": ".py",
   "mimetype": "text/x-python",
   "name": "python",
   "nbconvert_exporter": "python",
   "pygments_lexer": "ipython3",
   "version": "3.8.11"
  }
 },
 "nbformat": 4,
 "nbformat_minor": 2
}
