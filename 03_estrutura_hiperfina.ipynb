{
 "cells": [
  {
   "cell_type": "markdown",
   "id": "8ee472de",
   "metadata": {},
   "source": [
    "# Estrutura hiperfina do átomo de Hidrogênio\n",
    "\n",
    "Como vimos, a interação eletrostática entre as cargas elétricas do próton e do elétron no átomo de Hidrogênio dá origem a sua estrutura \"principal\" de níveis energia:\n",
    "\\begin{equation}\n",
    "\\text{estrutura principal}\\propto 1\\text{ eV}.\n",
    "\\end{equation}\n",
    "No entanto, também vimos que a interação entre o momento magnético do elétron com o campo magnético gerado pelo movimento relativo do próton, a consideração de efeitos relativísticos do movimento do elétron e a consideração de que o elétron, sendo um sistema quântico, tem dimensão espacial finita, nos levam à identificação de uma estrutura fina para os níveis de energia do átomo de Hidrogênio:\n",
    "\\begin{equation}\n",
    "\\text{estrutura fina}\\propto 10^{-3}\\text{ eV}.\n",
    "\\end{equation}\n",
    "Na sequência, consideraremos a interação do spin do elétron com o campo magnético gerado pelo spin do próton (ou vice-versa). Essa interação dará origem a correções ainda menores para a energia de $H$, sendo responsável pela chamada estrutura hiperfina do átomo de Hidrogênio: \n",
    "\\begin{equation}\n",
    "\\text{estrutura hiperfina}\\propto 10^{-6}\\text{ eV}.\n",
    "\\end{equation}\n",
    "\n",
    "A seguir vamos iniciar obtendo o campo magnético gerado por um momento de dipolo magnético clássico. Usaremos esse campo para obter a energia potencial de interação entre dois momentos de dipolo magnético clássicos. Feito isso, quantizaremos essa expressão para obter o hamiltoniano que descreve a interação entre dois dipolos magnéticos quânticos. Esse hamiltoniano será usado para obter as correções perturbativas que levam a estrutura hiperfina de $H$.\n",
    "\n",
    "OBS. Todas esses resultados se aplicam também para átomos hidrogenóides."
   ]
  },
  {
   "cell_type": "markdown",
   "id": "a64556a5",
   "metadata": {},
   "source": [
    "## Campo magnético gerado por um dipolo magnético\n",
    "Começamos considerando o potencial vetor magnético\n",
    "\\begin{equation}\n",
    "\\vec{\\mathcal{A}} = \\frac{\\mu_{0}}{4\\pi}\\int_{V'}\\frac{\\vec{J}(\\vec{r}')}{||\\vec{r}-\\vec{r}'||}dV',\n",
    "\\end{equation}\n",
    "em que $\\vec{r}$ é a posição do ponto $P$ onde estamos calculando $\\vec{\\mathcal{A}}$ e $\\vec{r}'$ é a posição da densidade de corrente elétrica $\\vec{J}$ em relação ao centro da distribuição de correntes. Usando a série de Taylor \n",
    "\\begin{equation}\n",
    "(1+x)^{-1/2}=1-0.5x+\\cdots,\n",
    "\\end{equation}\n",
    "podemos escrever\n",
    "\\begin{align}\n",
    "\\frac{1}{||\\vec{r}-\\vec{r}'||} & = \\frac{1}{\\sqrt{r^{2}+r'^{2}-2\\vec{r}\\cdot\\vec{r}'}} = \\frac{1}{r\\sqrt{1+r'^{2}/r^{2}-2\\vec{r}\\cdot\\vec{r}'/r^{2}}} \\\\\n",
    "& = \\frac{1}{r}\\left(1+\\frac{r'^{2}}{r^{2}}-2\\frac{\\vec{r}\\cdot\\vec{r}'}{r^{2}}\\right)^{-1/2} \\approx  \\frac{1}{r}\\left(1-\\frac{1}{2}\\frac{r'^{2}}{r^{2}}+\\frac{1}{2}2\\frac{\\vec{r}\\cdot\\vec{r}'}{r^{2}}\\right) \\\\\n",
    "& = \\frac{1}{r}-\\frac{1}{2}\\frac{r'^{2}}{r^{3}} + \\frac{\\vec{r}\\cdot\\vec{r}'}{r^{3}} \\approx \\frac{1}{r} + \\frac{\\vec{r}\\cdot\\vec{r}'}{r^{3}}.\n",
    "\\end{align}\n",
    "Na última passagem, desprezamos o 2º termo considerando um dipolo magnético de dimensão muito pequena, i.e., $r'\\ll r$."
   ]
  },
  {
   "cell_type": "code",
   "execution_count": 31,
   "id": "bbca1469",
   "metadata": {},
   "outputs": [
    {
     "data": {
      "image/png": "[encoded data removed]",
      "text/latex": [
       "$\\displaystyle 1 - 0.5 x + 0.375 x^{2} - 0.3125 x^{3} + 0.2734375 x^{4} + O\\left(x^{5}\\right)$"
      ],
      "text/plain": [
       "                   2           3              4    ⎛ 5⎞\n",
       "1 - 0.5⋅x + 0.375⋅x  - 0.3125⋅x  + 0.2734375⋅x  + O⎝x ⎠"
      ]
     },
     "execution_count": 31,
     "metadata": {},
     "output_type": "execute_result"
    }
   ],
   "source": [
    "%run init.ipynb\n",
    "x = symbols('x'); series((1+x)**(-1/2), x, 0, 5)"
   ]
  },
  {
   "cell_type": "markdown",
   "id": "19d499ef",
   "metadata": {},
   "source": [
    "Com isso, teremos que\n",
    "\\begin{align}\n",
    "\\vec{\\mathcal{A}} & = \\frac{\\mu_{0}}{4\\pi}\\int_{V'}\\frac{\\vec{J}}{r}dV' + \\frac{\\mu_{0}}{4\\pi}\\int_{V'}\\frac{(\\vec{r}\\cdot\\vec{r}')\\vec{J}}{r^{3}}dV' \\\\\n",
    "& = \\frac{\\mu_{0}}{4\\pi r}\\int_{V'}\\vec{J}dV' + \\frac{\\mu_{0}}{4\\pi r^{3}}\\int_{V'}(\\vec{r}\\cdot\\vec{r}')\\vec{J}dV'\n",
    "\\end{align}\n",
    "Usando\n",
    "\\begin{equation}\n",
    "\\vec{\\nabla}\\cdot\\big(\\phi\\vec{A}\\big) = \\vec{\\nabla}\\phi\\cdot\\vec{A} + \\phi\\vec{\\nabla}\\cdot\\vec{A},\n",
    "\\end{equation}\n",
    "que vale para $\\phi(\\vec{r})$ um campo escalar qualquer e para $\\vec{A}(\\vec{r})$ um campo vetorial qualquer, pode-se demonstrar que\n",
    "\\begin{equation}\n",
    "\\int_{V}\\big(f\\vec{J}\\cdot\\vec{\\nabla}g+g\\vec{J}\\cdot\\vec{\\nabla}f\\big)dV = 0, \\hspace{1cm} (\\star)\n",
    "\\end{equation}\n",
    "em que $f(\\vec{r})$ e $g(\\vec{r})$ são funções bem comportadas e $\\vec{J}$ é uma distribuição de corrente elétrica estacionária e localizada em um volume finito."
   ]
  },
  {
   "cell_type": "markdown",
   "id": "fabd797f",
   "metadata": {},
   "source": [
    "Se escolhemos\n",
    "\\begin{equation}\n",
    "f(\\vec{r}) = 1 \\text{ e } g(\\vec{r})=x_{j},\n",
    "\\end{equation}\n",
    "e as substituímos na eq. ($\\star$), vem que\n",
    "\\begin{align}\n",
    "& \\int_{V}\\big(1\\vec{J}\\cdot\\vec{\\nabla}x_{j}+x_{j}\\vec{J}\\cdot\\vec{\\nabla}1\\big)dV = \\int_{V}\\big(\\vec{J}\\cdot\\hat{e}_{j}+0\\big)dV \\\\\n",
    "& = \\int_{V}J_{j}dV = 0,\n",
    "\\end{align}\n",
    "que implica que\n",
    "\\begin{equation}\n",
    "\\int_{V}\\vec{J}dV = \\sum_{j}\\hat{e}_{j}\\int_{V}J_{j}dV = \\vec{0}.\n",
    "\\end{equation}"
   ]
  },
  {
   "cell_type": "markdown",
   "id": "b0117247",
   "metadata": {},
   "source": [
    "Seguindo, substituindo esse resultado na equação para o potencial vetor magnético, e usando \n",
    "\\begin{equation}\n",
    "\\vec{A}\\cdot\\int_{V}\\vec{r}J_{i}dV = -\\frac{1}{2}\\sum_{j,k}\\epsilon_{ijk}A_{j}\\int_{V}\\big(\\vec{r}\\times\\vec{J}\\big)_{k}dV,\n",
    "\\end{equation}\n",
    "que é válida para qualquer campo vetorial $\\vec{A}$, teremos\n",
    "\\begin{align}\n",
    "\\vec{\\mathcal{A}} & = 0 + \\frac{\\mu_{0}}{4\\pi r^{3}}\\int_{V'}(\\vec{r}\\cdot\\vec{r}')\\vec{J}dV' = \\sum_{i}\\hat{e}_{i}\\frac{\\mu_{0}}{4\\pi r^{3}}\\vec{r}\\cdot\\int_{V'}\\vec{r}'J_{i}dV' \\\\\n",
    "& = -\\sum_{ijk}\\epsilon_{ijk}\\hat{e}_{i}\\frac{\\mu_{0}}{4\\pi r^{3}}x_{j}\\frac{1}{2}\\int_{V'}\\big(\\vec{r}'\\times\\vec{J}\\big)_{k}dV' = \\sum_{i}\\hat{e}_{i}\\Big(-\\frac{\\mu_{0}}{4\\pi r^{3}}\\sum_{jk}\\epsilon_{ijk}x_{j}\\mu_{k}\\Big) \\\\\n",
    "& = -\\frac{\\mu_{0}}{4\\pi r^{3}}\\sum_{i}\\hat{e}_{i}(\\vec{r}\\times\\vec{\\mu})_{i} = -\\frac{\\mu_{0}}{4\\pi r^{3}}\\vec{r}\\times\\vec{\\mu},\n",
    "\\end{align}\n",
    "em que usamos a definição de __momento de dipolo magnético__:\n",
    "\\begin{equation}\n",
    "\\vec{\\mu} := \\frac{1}{2}\\int_{V'}\\vec{r}'\\times\\vec{J}dV'.\n",
    "\\end{equation}"
   ]
  },
  {
   "cell_type": "markdown",
   "id": "3b89dff7",
   "metadata": {},
   "source": [
    "Utilizando a igualdade \n",
    "\\begin{equation}\n",
    "\\vec{\\nabla}\\times(\\vec{A}\\times\\vec{B}) = (\\vec{\\nabla}\\cdot\\vec{B})\\vec{A} - (\\vec{\\nabla}\\cdot\\vec{A})\\vec{B} + (\\vec{B}\\cdot\\vec{\\nabla})\\vec{A} - (\\vec{A}\\cdot\\vec{\\nabla})\\vec{B}\n",
    "\\end{equation}\n",
    "vamos passar para o cálculo do __campo magnético__ gerado pelo dipolo magnético:\n",
    "\\begin{align}\n",
    "\\vec{B} & = \\vec{\\nabla}\\times\\vec{\\mathcal{A}} = -\\frac{\\mu_{0}}{4\\pi}\\vec{\\nabla}\\times\\Big(\\frac{\\vec{r}}{r^{3}}\\times\\vec{\\mu}\\Big) \\\\\n",
    "& = -\\frac{\\mu_{0}}{4\\pi}\\Big((\\vec{\\nabla}\\cdot\\vec{\\mu})\\frac{\\vec{r}}{r^{3}} -\\Big(\\vec{\\nabla}\\cdot\\frac{\\vec{r}}{r^{3}}\\Big)\\vec{\\mu} +(\\vec{\\mu}\\cdot\\vec{\\nabla})\\frac{\\vec{r}}{r^{3}} -\\Big(\\frac{\\vec{r}}{r^{3}}\\cdot\\vec{\\nabla}\\Big)\\vec{\\mu}\\Big) \\\\\n",
    "& = \\frac{\\mu_{0}}{4\\pi}\\Big(\\Big(\\vec{\\nabla}\\cdot\\frac{\\vec{r}}{r^{3}}\\Big)\\vec{\\mu} -(\\vec{\\mu}\\cdot\\vec{\\nabla})\\frac{\\vec{r}}{r^{3}}\\Big),\n",
    "\\end{align}\n",
    "em que usamos \n",
    "\\begin{equation}\n",
    "\\vec{\\nabla}\\cdot\\vec{\\mu} = \\Big(\\frac{\\vec{r}}{r^{3}}\\cdot\\vec{\\nabla}\\Big)\\vec{\\mu} = 0\n",
    "\\end{equation}\n",
    "pois o momento de dipolo magnético é um vetor fixo no espaço."
   ]
  },
  {
   "cell_type": "markdown",
   "id": "29be4f0c",
   "metadata": {},
   "source": [
    "Pode-se verificar que\n",
    "\\begin{equation}\n",
    "\\vec{\\nabla}\\cdot\\frac{\\vec{r}}{r^{3}} = 4\\pi\\delta(\\vec{r}).\n",
    "\\end{equation}\n",
    "e que\n",
    "\\begin{equation}\n",
    "(\\vec{\\mu}\\cdot\\vec{\\nabla})\\frac{\\vec{r}}{r^{3}} = \\frac{\\vec{\\mu}}{r^{3}} - 3\\frac{(\\vec{\\mu}\\cdot\\vec{r})\\vec{r}}{r^{5}}.\n",
    "\\end{equation}"
   ]
  },
  {
   "cell_type": "markdown",
   "id": "2d566a57",
   "metadata": {},
   "source": [
    "Substituindo esses resultados, podemos escrever o campo magnético como segue\n",
    "\\begin{align}\n",
    "\\vec{B} & = \\frac{\\mu_{0}}{4\\pi}\\Big(4\\pi\\delta(\\vec{r})\\vec{\\mu} - \\frac{\\vec{\\mu}}{r^{3}} + \\frac{3(\\vec{\\mu}\\cdot\\vec{r})\\vec{r}}{r^{5}}\\Big) \\\\\n",
    "& = \\frac{\\mu_{0}}{4\\pi}\\Big(\\frac{3(\\vec{\\mu}\\cdot\\hat{r})\\hat{r} - \\vec{\\mu}}{r^{3}} + 4\\pi(1-d)\\delta(\\vec{r})\\vec{\\mu} \\Big),\n",
    "\\end{align}\n",
    "onde introduzimos o parâmetro $d$, chamado de _fator de desmagnetização_, que é usado de maneira fenomenológica para levar em conta possíveis assimetrias da distribuição de correntes responsável pelo dipolo magnético.\n",
    "\n",
    "Com isso, podemos calcular a energia potencial de interação entre o momento magnético do elétron com o campo magnético gerado pelo momento magnético do próton:\n",
    "\\begin{align}\n",
    "U & = -\\vec{\\mu}_{e}\\cdot\\vec{B} \\\\\n",
    "& = -\\vec{\\mu}_{e}\\cdot\\frac{\\mu_{0}}{4\\pi}\\Big(\\frac{3(\\vec{\\mu}_{p}\\cdot\\hat{r})\\hat{r} - \\vec{\\mu}_{p}}{r^{3}} + 4\\pi(1-d)\\delta(\\vec{r})\\vec{\\mu}_{p} \\Big) \\\\\n",
    "& = \\frac{\\mu_{0}}{4\\pi}\\Big(\\frac{\\vec{\\mu}_{e}\\cdot\\vec{\\mu}_{p} - 3(\\vec{\\mu}_{p}\\cdot\\hat{r})(\\vec{\\mu}_{e}\\cdot\\hat{r})}{r^{3}} - 4\\pi(1-d)\\delta(\\vec{r})\\vec{\\mu}_{e}\\cdot\\vec{\\mu}_{p}\\Big).\n",
    "\\end{align}"
   ]
  },
  {
   "cell_type": "markdown",
   "id": "2d5ad7c7",
   "metadata": {},
   "source": [
    "Usando a relação entre momento magnético e momento angular para uma carga elétrica $q$ em movimento circular,\n",
    "\\begin{equation}\n",
    "\\vec{\\mu} = \\frac{q}{2m}\\vec{L} = \\frac{1}{\\hbar}\\frac{q\\hbar}{2m}\\vec{L} = \\frac{1}{\\hbar}\\mu_{b}\\vec{L},\n",
    "\\end{equation}\n",
    "com\n",
    "\\begin{equation}\n",
    "\\mu_{b} := \\frac{q\\hbar}{2m}\n",
    "\\end{equation}\n",
    "sendo o magneton de Bohr, podemos escrever as relações entre os momentos de dipolo magnético intrínsecos e momentos angulares intrínsecos do elétron e do próton como segue:\n",
    "\\begin{equation}\n",
    "\\vec{\\mu}_{e} = \\frac{g_{e}\\mu_{be}}{\\hbar}\\vec{S}_{e} \\text{ e } \\vec{\\mu}_{p} = \\frac{g_{p}\\mu_{bp}}{\\hbar}\\vec{S}_{p},\n",
    "\\end{equation}\n",
    "em que introduzimos os fatores giromagnéticos do elétron e do próton e usamos \n",
    "\\begin{equation}\n",
    "\\mu_{be} = \\frac{-e\\hbar}{2m_{e}} \\text{ e } \\mu_{bp} = \\frac{e\\hbar}{2m_{p}}.\n",
    "\\end{equation}\n",
    "\n",
    "Com isso podemos substituir as variáveis clássicas na expressão para a energia potencial de interação entre os dois momentos de dipolo magnético para assim obter o operador hamiltoniano quântico:\n",
    "\\begin{equation}\n",
    "H_{1}^{ss} = \\frac{\\mu_{0}g_{e}\\mu_{be}g_{p}\\mu_{bp}}{4\\pi\\hbar^{2}}\\Big(\\frac{\\vec{S}_{e}\\cdot\\vec{S}_{p} - 3(\\vec{S}_{p}\\cdot\\hat{r})(\\vec{S}_{e}\\cdot\\hat{r})}{r^{3}} - 4\\pi(1-d)\\delta(\\vec{r})\\vec{S}_{e}\\cdot\\vec{S}_{p}\\Big).\n",
    "\\end{equation}"
   ]
  },
  {
   "cell_type": "markdown",
   "id": "471b2b77",
   "metadata": {},
   "source": [
    "Seguindo, utilizaremos a soma de momentos angulares de spin do próton e do elétron,\n",
    "\\begin{equation}\n",
    "\\vec{S} = \\vec{S}_{e}\\otimes\\mathbb{I}_{p} + \\mathbb{I}_{e}\\otimes\\vec{S}_{p},\n",
    "\\end{equation}\n",
    "para escrever\n",
    "\\begin{align}\n",
    "S^{2} & = \\vec{S}\\cdot\\vec{S} = \\big(\\vec{S}_{e}\\otimes\\mathbb{I}_{p} + \\mathbb{I}_{e}\\otimes\\vec{S}_{p}\\big)\\cdot\\big(\\vec{S}_{e}\\otimes\\mathbb{I}_{p} + \\mathbb{I}_{e}\\otimes\\vec{S}_{p}\\big) \\\\\n",
    "& = \\vec{S}_{e}\\cdot\\vec{S}_{e}\\otimes\\mathbb{I}_{p} + \\mathbb{I}_{e}\\otimes\\vec{S}_{p}\\cdot\\vec{S}_{p} + \\big(\\vec{S}_{e}\\otimes\\mathbb{I}_{p}\\big)\\cdot\\big(\\mathbb{I}_{e}\\otimes\\vec{S}_{p}\\big) + \\big(\\mathbb{I}_{e}\\otimes\\vec{S}_{p}\\big)\\cdot\\big(\\vec{S}_{e}\\otimes\\mathbb{I}_{p}\\big) \\\\\n",
    "& =: S_{e}^{2}\\otimes\\mathbb{I}_{p} + \\mathbb{I}_{e}\\otimes S_{p}^{2} + 2\\vec{S}_{e}\\cdot \\vec{S}_{p},\n",
    "\\end{align}\n",
    "em que utilizamos a notação\n",
    "\\begin{equation}\n",
    "2\\vec{S}_{e}\\cdot \\vec{S}_{p} := \\big(\\vec{S}_{e}\\otimes\\mathbb{I}_{p}\\big)\\cdot\\big(\\mathbb{I}_{e}\\otimes\\vec{S}_{p}\\big) + \\big(\\mathbb{I}_{e}\\otimes\\vec{S}_{p}\\big)\\cdot\\big(\\vec{S}_{e}\\otimes\\mathbb{I}_{p}\\big).\n",
    "\\end{equation}\n",
    "Com isso, temos que\n",
    "\\begin{equation}\n",
    "\\vec{S}_{e}\\cdot \\vec{S}_{p} = \\frac{1}{2}\\Big(S^{2} - S_{e}^{2}\\otimes\\mathbb{I}_{p} - \\mathbb{I}_{e}\\otimes S_{p}^{2}\\Big).\n",
    "\\end{equation}"
   ]
  },
  {
   "cell_type": "markdown",
   "id": "2db00df8",
   "metadata": {},
   "source": [
    "Também podemos usar\n",
    "\\begin{align}\n",
    "\\big(\\vec{S}\\cdot\\vec{r}\\big)^{2} & = \\big((\\vec{S}_{e}+\\vec{S}_{p})\\cdot\\vec{r}\\big)^{2} = \\big(\\vec{S}_{e}\\cdot\\vec{r}+\\vec{S}_{p}\\cdot\\vec{r}\\big)^{2} \\\\\n",
    "& = (\\vec{S}_{e}\\cdot\\vec{r})^{2} + (\\vec{S}_{p}\\cdot\\vec{r})^{2} + 2(\\vec{S}_{e}\\cdot\\vec{r})(\\vec{S}_{p}\\cdot\\vec{r})\n",
    "\\end{align}\n",
    "para escrever\n",
    "\\begin{equation}\n",
    "(\\vec{S}_{e}\\cdot\\vec{r})(\\vec{S}_{p}\\cdot\\vec{r}) = \\frac{1}{2}\\Big(\\big(\\vec{S}\\cdot\\vec{r}\\big)^{2} -(\\vec{S}_{e}\\cdot\\vec{r})^{2} - (\\vec{S}_{p}\\cdot\\vec{r})^{2} \\Big).\n",
    "\\end{equation}\n",
    "\n",
    "Com isso, podemos escrever o hamiltoniano de interação spin-spin como segue\n",
    "\\begin{align}\n",
    "H_{1}^{ss} & = \\frac{\\mu_{0}g_{e}\\mu_{be}g_{p}\\mu_{bp}}{8\\pi\\hbar^{2}}\\Big(\\frac{\\big(S^{2} - S_{e}^{2}\\otimes\\mathbb{I}_{p} - \\mathbb{I}_{e}\\otimes S_{p}^{2}\\big) - 3\\big(\\big(\\vec{S}\\cdot\\hat{r}\\big)^{2} -(\\vec{S}_{e}\\cdot\\hat{r})^{2} - (\\vec{S}_{p}\\cdot\\hat{r})^{2} \\big)}{r^{3}} \\\\\n",
    "& \\hspace{3.5cm} - 4\\pi(1-d)\\delta(\\vec{r})\\big(S^{2} - S_{e}^{2}\\otimes\\mathbb{I}_{p} - \\mathbb{I}_{e}\\otimes S_{p}^{2}\\big)\\Big).\n",
    "\\end{align}"
   ]
  },
  {
   "cell_type": "markdown",
   "id": "8de98d71",
   "metadata": {},
   "source": [
    "A função de onda total desse sistema deve levar em conta o grau de liberdade espacial e de spin do elétron e o grau de liberdade de spin do próton:\n",
    "\\begin{equation}\n",
    "|\\Psi\\rangle = |\\psi\\rangle\\otimes|\\sigma_{e}\\rangle\\otimes|\\sigma_{p}\\rangle.\n",
    "\\end{equation}\n",
    "Quanto aos spins, vamos trabalhar na base de autovetores comuns a $S_{e}^{2}, S_{p}^{2},S^{2}$, que é\n",
    "\\begin{equation}\n",
    "|s_{e},s_{p},s,m_{s}\\rangle = |1/2,1/2,s,m_{s}\\rangle,\n",
    "\\end{equation}\n",
    "em que usamos o fato de que os elétron e o próton são férmions com spin $1/2$:\n",
    "\\begin{equation}\n",
    "s_{e} = \\frac{1}{2} \\text{ e } s_{p} = \\frac{1}{2}.\n",
    "\\end{equation}\n",
    "Da teoria sobre a soma de momentos angulares, temos que\n",
    "\\begin{equation}\n",
    "s = |s_{e}-s_{p}|,|s_{e}-s_{p}|,\\cdots,s_{e}+s_{p} = 0,1\n",
    "\\end{equation}\n",
    "e para cada valor do número quântico do momento angular totoal, $s$, o número quântico que determina a componente $z$ do momento angular total pode assumir os valores\n",
    "\\begin{equation}\n",
    "m_{s} = -s,-s+1,\\cdots,s.\n",
    "\\end{equation}\n",
    "Nesse caso\n",
    "\\begin{equation}\n",
    "m_{s=0}=0 \\text{ e } m_{s=1} = -1,0,1.\n",
    "\\end{equation}"
   ]
  },
  {
   "cell_type": "markdown",
   "id": "b0a0508b",
   "metadata": {},
   "source": [
    "Como os momentos angulares intrínsecos individuais do elétron e do próton podem ser escritos em termos das matrizes de Pauli, i.e.,\n",
    "\\begin{equation}\n",
    "\\vec{S}_{e} = \\frac{\\hbar}{2}\\vec{\\sigma} \\text{ e } \\vec{S}_{p} = \\frac{\\hbar}{2}\\vec{\\sigma}.\n",
    "\\end{equation}\n",
    "Com isso, vemos que\n",
    "\\begin{align}\n",
    "\\big(\\vec{S}_{e}\\cdot\\hat{r}\\big)^{2} & = \\big(2^{-1}\\hbar\\vec{\\sigma}\\cdot\\hat{r}\\big)^{2}  = 2^{-2}\\hbar^{2}\\big(\\vec{\\sigma}\\cdot\\hat{r}\\big)^{2} = 2^{-2}\\hbar^{2}\\mathbb{I}_{e}, \\\\\n",
    "\\big(\\vec{S}_{p}\\cdot\\hat{r}\\big)^{2} & = \\big(2^{-1}\\hbar\\vec{\\sigma}\\cdot\\hat{r}\\big)^{2}  = 2^{-2}\\hbar^{2}\\big(\\vec{\\sigma}\\cdot\\hat{r}\\big)^{2} = 2^{-2}\\hbar^{2}\\mathbb{I}_{p}.\n",
    "\\end{align}\n",
    "\n",
    "Assim, usando\n",
    "\\begin{equation}\n",
    "S_{e,p}^{2}|1/2,1/2,s,m_{s}\\rangle = \\hbar^{2}(1/2)(1/2+1)|1/2,1/2,s,m_{s}\\rangle = \\hbar^{2}(3/4)|1/2,1/2,s,m_{s}\\rangle,\n",
    "\\end{equation}\n",
    "a correção perturbativa de primeira ordem para a energia do átomo de Hidrogênio devido à interação spin-spin pode ser escrita como:\n",
    "\\begin{align}\n",
    "E_{n,l}^{ss(1)} & = \\big(\\big(\\langle\\psi|\\otimes\\langle1/2,1/2,s,m_{s}|\\big)\\big)H_{1}^{ss}\\big(|\\psi\\rangle\\otimes|1/2,1/2,s,m_{s}\\rangle\\big) \\\\\n",
    "& = \\frac{\\mu_{0}g_{e}\\mu_{be}g_{p}\\mu_{bp}}{8\\pi\\hbar^{2}}\\Big(\\big(\\langle\\psi|\\otimes\\langle1/2,1/2,s,m_{s}|\\big)r^{-3}\\big(S^{2} - S_{e}^{2}\\otimes\\mathbb{I}_{p} - \\mathbb{I}_{e}\\otimes S_{p}^{2}\\big)\\big(|\\psi\\rangle\\otimes|1/2,1/2,s,m_{s}\\rangle\\big) \\\\\n",
    "& \\hspace{3.5cm} - 3\\big(\\langle\\psi|\\otimes\\langle1/2,1/2,s,m_{s}|\\big)r^{-3}\\big(\\big(\\vec{S}\\cdot\\hat{r}\\big)^{2} -22^{-2}\\hbar^{2}\\mathbb{I}_{e}\\otimes\\mathbb{I}_{p} \\big)\\big(|\\psi\\rangle\\otimes|1/2,1/2,s,m_{s}\\rangle\\big) \\\\\n",
    "& \\hspace{3.5cm} - 4\\pi(1-d)\\big(\\langle\\psi|\\otimes\\langle1/2,1/2,s,m_{s}|\\big)\\delta(\\vec{r})\\big(S^{2} - S_{e}^{2}\\otimes\\mathbb{I}_{p} - \\mathbb{I}_{e}\\otimes S_{p}^{2}\\big)\\big(|\\psi\\rangle\\otimes|1/2,1/2,s,m_{s}\\rangle\\big)\\Big) \\\\\n",
    "& = \\frac{\\mu_{0}g_{e}\\mu_{be}g_{p}\\mu_{bp}}{8\\pi\\hbar^{2}}\\Big(\\big(\\langle\\psi|\\otimes\\langle1/2,1/2,s,m_{s}|\\big)r^{-3}\\big(S^{2} - (3\\hbar^{2}/2)\\big)\\big(|\\psi\\rangle\\otimes|1/2,1/2,s,m_{s}\\rangle\\big) \\\\\n",
    "& \\hspace{3.5cm} - 3\\big(\\langle\\psi|\\otimes\\langle1/2,1/2,s,m_{s}|\\big)r^{-3}\\big(\\big(\\vec{S}\\cdot\\hat{r}\\big)^{2} -(\\hbar^{2}/2)\\big)\\big(|\\psi\\rangle\\otimes|1/2,1/2,s,m_{s}\\rangle\\big) \\\\\n",
    "& \\hspace{3.5cm} - 4\\pi(1-d)\\big(\\langle\\psi|\\otimes\\langle1/2,1/2,s,m_{s}|\\big)\\delta(\\vec{r})\\big(S^{2} - (3\\hbar^{2}/2)\\big)\\big(|\\psi\\rangle\\otimes|1/2,1/2,s,m_{s}\\rangle\\big)\\Big).\n",
    "\\end{align}"
   ]
  },
  {
   "cell_type": "markdown",
   "id": "1b3bbbb2",
   "metadata": {},
   "source": [
    "Doravante vamos considerar somente autoestados do hamiltoniano não perturbado com momento angular nulo, i.e.,\n",
    "\\begin{equation}\n",
    "l=0.\n",
    "\\end{equation}\n",
    "Com isso, além de simplificar as contas, anulamos a contribuição da interação do spin do próton com o momento magnético orbital do elétron. Nesse caso, a função de onda é dada por\n",
    "\\begin{align}\n",
    "& \\psi_{n,l,m_{l}}(r,\\theta,\\phi) = \\sqrt{\\left(\\frac{2Z}{a_{0}n}\\right)^{3}\\frac{(n-l-1)!}{(n+l)!2n}}e^{-Zr/a_{0}n}\\left(\\frac{2Zr}{a_{0}n}\\right)^{l}L_{n-l-1}^{2l+1}\\left(\\frac{2Zr}{a_{0}n}\\right)\\sqrt{\\frac{2l+1}{4\\pi}\\frac{(l-|m_{l}|)!}{(l+|m_{l}|)!}}(\\sin\\theta)^{|m_{l}|}\\frac{\\partial^{|m_{l}|}P_{l}(\\cos\\theta)}{\\partial z^{|m_{l}|}}e^{im_{l}\\phi}, \\\\\n",
    "& \\therefore\\ \\psi_{n,0,0}(r,\\theta,\\phi) = \\sqrt{\\left(\\frac{2Z}{a_{0}n}\\right)^{3}\\frac{1}{2n^{2}}}e^{-Zr/a_{0}n}L_{n-1}^{1}\\left(\\frac{2Zr}{a_{0}n}\\right)\\sqrt{\\frac{1}{4\\pi}} \\equiv \\psi_{n,0,0}(r),\n",
    "\\end{align}\n",
    "com $L_{j}^{k}(x)=(e^{x}x^{-k}/j!)\\partial_{x^{j}}(e^{-x}x^{j+k})$ e $P_{l}(z)=(1/l!2^{l})\\partial_{z^{l}}(z^{2}-1)^{l}\\ \\therefore\\ P_{0}(z)=1$.\n",
    "\n",
    "Ademais\n",
    "\\begin{align}\n",
    "\\big(\\vec{S}\\cdot\\hat{r}\\big)^{2} & = \\big((\\hat{i}S_{x}+\\hat{j}S_{y}+\\hat{k}S_{z})\\cdot(\\hat{i}\\sin\\theta\\cos\\phi +\\hat{j}\\sin\\theta\\sin\\phi + \\hat{k}\\cos\\theta)\\big)^{2} \\\\\n",
    "& = \\big(S_{x}\\sin\\theta\\cos\\phi + S_{y}\\sin\\theta\\sin\\phi + S_{z}\\cos\\theta)\\big)^{2} \\\\\n",
    "& = S_{x}^{2}\\sin^{2}\\theta\\cos^{2}\\phi + S_{y}^{2}\\sin^{2}\\theta\\sin^{2}\\phi + S_{z}^{2}\\cos^{2}\\theta + \\sin^{2}\\theta\\sin\\phi\\cos\\phi\\{S_{x},S_{y}\\} \\\\\n",
    "& + \\sin\\theta\\cos\\theta\\cos\\phi\\{S_{x},S_{z}\\}  + \\sin\\theta\\cos\\theta\\sin\\phi\\{S_{y},S_{z}\\} \\\\\n",
    "& = S_{x}^{2}\\sin^{2}\\theta\\cos^{2}\\phi + S_{y}^{2}\\sin^{2}\\theta\\sin^{2}\\phi + S_{z}^{2}\\cos^{2}\\theta\n",
    "\\end{align}"
   ]
  },
  {
   "cell_type": "markdown",
   "id": "e394d4a9",
   "metadata": {},
   "source": [
    "pois \n",
    "\\begin{equation}\n",
    "\\{S_{j},S_{k}\\} = \\frac{\\hbar^{2}}{4}\\{\\sigma_{j},\\sigma_{k}\\} = \\mathbb{O} \\ \\forall\\ j\\ne k.\n",
    "\\end{equation}\n",
    "\n",
    "Também temos que\n",
    "\\begin{align}\n",
    "& \\int d\\Omega \\big(\\vec{S}\\cdot\\hat{r}\\big)^{2} = \\int_{0}^{\\pi}\\int_{0}^{2\\pi}\\sin\\theta d\\theta d\\phi \\big(\\vec{S}\\cdot\\hat{r}\\big)^{2} \\\\\n",
    "& = S_{x}^{2}\\int_{0}^{\\pi}\\sin^{3}\\theta d\\theta\\int_{0}^{2\\pi}\\cos^{2}\\phi d\\phi + S_{y}^{2}\\int_{0}^{\\pi}\\sin^{3}\\theta d\\theta\\int_{0}^{2\\pi}\\sin^{2}\\phi d\\phi \\\\\n",
    "& + S_{z}^{2}\\int_{0}^{\\pi}\\sin\\theta\\cos^{2}\\theta d\\theta\\int_{0}^{2\\pi}d\\phi \\\\\n",
    "& = S_{x}^{2}(4/3)(\\pi) + S_{y}^{2}(4/3)(\\pi) + S_{z}^{2}(2/3)(2\\pi) \\\\\n",
    "& = \\frac{4\\pi}{3}S^{2},\n",
    "\\end{align}\n",
    "o que implica que \n",
    "\\begin{equation}\n",
    "\\int d\\Omega\\Big(3\\big(\\vec{S}\\cdot\\hat{r}\\big)^{2}-S^{2}\\Big) = 4\\pi S^{2}-S^{2}\\int d\\Omega = 4\\pi S^{2}-S^{2}4\\pi=0.\n",
    "\\end{equation}"
   ]
  },
  {
   "cell_type": "code",
   "execution_count": 8,
   "id": "fcde39dd",
   "metadata": {},
   "outputs": [
    {
     "data": {
      "image/png": "[encoded data removed]",
      "text/latex": [
       "$\\displaystyle \\left( \\frac{4}{3}, \\  \\frac{2}{3}\\right)$"
      ],
      "text/plain": [
       "(4/3, 2/3)"
      ]
     },
     "execution_count": 8,
     "metadata": {},
     "output_type": "execute_result"
    }
   ],
   "source": [
    "integrate(sin(x)**3, (x,0,pi)), integrate(sin(x)*cos(x)**2, (x,0,pi))"
   ]
  },
  {
   "cell_type": "code",
   "execution_count": 5,
   "id": "a2eadb32",
   "metadata": {},
   "outputs": [
    {
     "data": {
      "image/png": "[encoded data removed]",
      "text/latex": [
       "$\\displaystyle \\left( \\pi, \\  \\pi\\right)$"
      ],
      "text/plain": [
       "(π, π)"
      ]
     },
     "execution_count": 5,
     "metadata": {},
     "output_type": "execute_result"
    }
   ],
   "source": [
    "integrate(cos(x)**2, (x,0,2*pi)), integrate(sin(x)**2, (x,0,2*pi))"
   ]
  },
  {
   "cell_type": "markdown",
   "id": "6781d5a0",
   "metadata": {},
   "source": [
    "Com isso, vem que\n",
    "\\begin{align}\n",
    "& \\big(\\langle\\psi|\\otimes\\langle1/2,1/2,s,m_{s}|\\big)r^{-3}\\big(3\\big(\\vec{S}\\cdot\\hat{r}\\big)^{2}-S^{2}\\big)\\big(|\\psi\\rangle\\otimes|1/2,1/2,s,m_{s}\\rangle\\big) \\\\\n",
    "& = \\big(\\langle\\psi|\\otimes\\langle1/2,1/2,s,m_{s}|\\big)\\Big(\\int d^{3}r'|\\vec{r}'\\rangle\\langle\\vec{r}'|\\otimes\\mathbb{I}_{ep}\\Big)r^{-3}\\big(3\\big(\\vec{S}\\cdot\\hat{r}\\big)^{2}-S^{2}\\big)\\big(|\\psi\\rangle\\otimes|1/2,1/2,s,m_{s}\\rangle\\big) \\\\\n",
    "& = \\langle1/2,1/2,s,m_{s}|\\Big(\\int_{0}^{\\infty}\\int_{0}^{pi}\\int_{0}^{2\\pi}r'^{2}\\sin\\theta dr'd\\theta d\\phi\\langle\\psi|\\vec{r}'\\rangle r^{-3}\\big(3\\big(\\vec{S}\\cdot\\hat{r}\\big)^{2}-S^{2}\\big)\\langle\\vec{r}'|\\psi\\rangle\\Big)|1/2,1/2,s,m_{s}\\rangle \\\\\n",
    "& = \\langle1/2,1/2,s,m_{s}|\\Big(\\int_{0}^{\\infty}r'^{2}r^{-3}dr'\\psi(\\vec{r}')^{*}\\psi(\\vec{r}') \\int d\\Omega\\big(3\\big(\\vec{S}\\cdot\\hat{r}\\big)^{2}-S^{2}\\big)\\Big)|1/2,1/2,s,m_{s}\\rangle \\\\\n",
    "& = \\langle1/2,1/2,s,m_{s}|\\Big(\\int_{0}^{\\infty}r'^{2}r^{-3}dr'|\\psi(\\vec{r}')|^{2}0\\Big)|1/2,1/2,s,m_{s}\\rangle \\\\\n",
    "& = 0.\n",
    "\\end{align}"
   ]
  },
  {
   "cell_type": "markdown",
   "id": "5c4ac5e3",
   "metadata": {},
   "source": [
    "Por conseguinte, os dois primeiros termos na expressão para $E_{n,l=0}^{ss(1)}$ se cancelam, sobrando somento o termo proporcional a $\\delta(\\vec{r})$:\n",
    "\\begin{align}\n",
    "E_{n,l=0}^{ss(1)} & = \\frac{\\mu_{0}g_{e}\\mu_{be}g_{p}\\mu_{bp}}{8\\pi\\hbar^{2}}\\Big(- 4\\pi(1-d)\\big(\\langle\\psi|\\otimes\\langle1/2,1/2,s,m_{s}|\\big)\\delta(\\vec{r})\\big(S^{2} - (3\\hbar^{2}/2)\\big)\\big(|\\psi\\rangle\\otimes|1/2,1/2,s,m_{s}\\rangle\\big)\\Big) \\\\\n",
    "& = -\\frac{\\mu_{0}g_{e}\\mu_{be}g_{p}\\mu_{bp}(1-d)}{2\\hbar^{2}}\\int d^{3}r'|\\psi(\\vec{r}')|^{2}\\delta(\\vec{r}) \\langle1/2,1/2,s,m_{s}|\\big(S^{2} - (3\\hbar^{2}/2)\\big)|1/2,1/2,s,m_{s}\\rangle \\\\\n",
    "& = -\\frac{\\mu_{0}g_{e}\\mu_{be}g_{p}\\mu_{bp}(1-d)}{2\\hbar^{2}}|\\psi(\\vec{0})|^{2}\\big(\\hbar^{2}s(s+1) - (3\\hbar^{2}/2)\\big)\\langle1/2,1/2,s,m_{s}|1/2,1/2,s,m_{s}\\rangle \\\\\n",
    "& = -\\frac{\\mu_{0}g_{e}\\mu_{be}g_{p}\\mu_{bp}(1-d)}{2}|\\psi_{n,l=0,m_{l}=0}(\\vec{0})|^{2}\\big(s(s+1) - 3/2\\big) \\\\\n",
    "& = E_{n,l=0,s}^{ss(1)},\n",
    "\\end{align}\n",
    "em que usamos $\\int d^{3}r'f(\\vec{r}')\\delta(\\vec{r}'-\\vec{a})=f(\\vec{a})$."
   ]
  },
  {
   "cell_type": "markdown",
   "id": "11b3e992",
   "metadata": {},
   "source": [
    "Vamos utilizar \n",
    "\\begin{equation}\n",
    "d = 1/3 \\ \\therefore\\ 1-d=2/3,\n",
    "\\end{equation}\n",
    "que corresponde a uma distribuição uniforme esférica de magnetização para o próton.\n",
    "\n",
    "Vamos usar $\\lim_{x\\rightarrow 0}L_{n-0-1}^{2(0)+1}(x) = n$ e vamos considerar primeiramente\n",
    "\\begin{equation}\n",
    "n=1.\n",
    "\\end{equation}\n",
    "Nesse caso (faz $Z=1$)\n",
    "\\begin{equation}\n",
    "\\psi_{1,0,0}(\\vec{0}) = \\sqrt{\\left(\\frac{2Z}{a_{0}}\\right)^{3}\\frac{1}{2}}(1)(1)\\sqrt{\\frac{1}{4\\pi}} =\\sqrt{\\left(\\frac{2Z}{a_{0}}\\right)^{3}\\frac{1}{8\\pi}} =\\sqrt{\\frac{1}{a_{0}^{3}\\pi}}.\n",
    "\\end{equation}\n",
    "Com isso, usando também $g_{e}=2$, $g_{p}\\approx 5.52$, $\\mu_{0}=\\frac{1}{\\epsilon_{0}c^{2}}$, $\\mu_{be} = \\frac{-e\\hbar}{2m_{e}}$, $\\mu_{bp} = \\frac{e\\hbar}{2m_{p}}$, $\\alpha=\\frac{ke^{2}}{\\hbar c}$ e $a_{0} = \\frac{\\hbar}{km_{e}e^{2}}=\\frac{\\hbar}{m_{e}c\\alpha}$, teremos\n",
    "\\begin{align}\n",
    "E_{n=1,l=0,s}^{ss(1)} & = -\\frac{\\mu_{0}g_{e}\\mu_{be}g_{p}\\mu_{bp}}{3}\\frac{1}{a_{0}^{3}\\pi}\\big(s(s+1) - 3/2\\big) \\\\\n",
    "& = \\frac{g_{e}g_{p}}{3\\pi}\\frac{1}{\\epsilon_{0}c^{2}}\\frac{e\\hbar}{2m_{e}}\\frac{e\\hbar}{2m_{p}}\\frac{m_{e}^{3}c^{3}\\alpha^{3}}{\\hbar^{3}}\\big(s(s+1) - 3/2\\big) \\\\\n",
    "& = \\frac{g_{e}g_{p}}{3}\\frac{ke^{2}}{\\hbar c}\\frac{m_{e}}{m_{p}}\\alpha^{3}m_{e}c^{2}\\big(s(s+1) - 3/2\\big) \\\\\n",
    "& = \\frac{g_{e}g_{p}}{3}\\frac{m_{e}}{m_{p}}\\alpha^{4}m_{e}c^{2}\\big(s(s+1) - 3/2\\big) \\\\\n",
    "& \\approx (2.94\\times 10^{-6}\\text{ eV})\\big(s(s+1) - 3/2\\big).\n",
    "\\end{align}"
   ]
  },
  {
   "cell_type": "code",
   "execution_count": 16,
   "id": "154ac642",
   "metadata": {},
   "outputs": [
    {
     "data": {
      "image/png": "[encoded data removed]",
      "text/latex": [
       "$\\displaystyle 2.93572651542712 \\cdot 10^{-6}$"
      ],
      "text/plain": [
       "2.9357265154271187e-06"
      ]
     },
     "execution_count": 16,
     "metadata": {},
     "output_type": "execute_result"
    }
   ],
   "source": [
    "(1/3)*ge*gp*((me/mp)*al**4*me*c**2)/e"
   ]
  },
  {
   "cell_type": "markdown",
   "id": "3d23871b",
   "metadata": {},
   "source": [
    "Assim, para o estado fundamental do átomo de Hidrogênio temos as seguintes correções de estrutura hiperfina:\n",
    "\\begin{align}\n",
    "E_{n=1,l=0,s=0}^{ss(1)} & = (2.94\\times 10^{-6}\\text{ eV})\\big(0(0+1) - 3/2\\big) \\approx -4.40\\times 10^{-6}\\text{ eV}, \\\\\n",
    "E_{n=1,l=0,s=1}^{ss(1)} & = (2.94\\times 10^{-6}\\text{ eV})\\big(1(1+1) - 3/2\\big) \\approx 1.47\\times 10^{-6}\\text{ eV}.\n",
    "\\end{align}"
   ]
  },
  {
   "cell_type": "markdown",
   "id": "b83e5596",
   "metadata": {},
   "source": [
    "Para o código abaixo, usamos que para um $n$ qualquer temos\n",
    "\\begin{equation}\n",
    "\\psi_{n,0,0}(\\vec{0}) = \\sqrt{\\frac{1}{a_{0}^{3}\\pi n^{3}}}.\n",
    "\\end{equation}\n",
    "Camo fizemos para obter $E_{n=1,l=0,s}^{ss(1)}$, vemos que\n",
    "\\begin{align}\n",
    "E_{n,l=0}^{ss(1)} = \\frac{g_{e}g_{p}}{3}\\frac{m_{e}}{m_{p}}\\alpha^{4}m_{e}c^{2}\\frac{s(s+1) - 3/2}{n^{3}}.\n",
    "\\end{align}"
   ]
  },
  {
   "cell_type": "code",
   "execution_count": 24,
   "id": "874fa36b",
   "metadata": {},
   "outputs": [],
   "source": [
    "def Ess(n,s):\n",
    "    return -((1/3)*ge*gp*((me/mp)*al**4*me*c**2)/e)*((s*(s+1) - 3/2)/n**3)"
   ]
  },
  {
   "cell_type": "code",
   "execution_count": 29,
   "id": "d8f5454f",
   "metadata": {},
   "outputs": [
    {
     "name": "stdout",
     "output_type": "stream",
     "text": [
      "n= 1 , Ess(n,s=0)= 4.403589773140678e-06 , Ess(n,s=1)= -1.4678632577135594e-06\n",
      "n= 2 , Ess(n,s=0)= 5.504487216425848e-07 , Ess(n,s=1)= -1.8348290721419492e-07\n",
      "n= 3 , Ess(n,s=0)= 1.6309591752372882e-07 , Ess(n,s=1)= -5.436530584124294e-08\n",
      "n= 4 , Ess(n,s=0)= 6.88060902053231e-08 , Ess(n,s=1)= -2.2935363401774365e-08\n",
      "n= 5 , Ess(n,s=0)= 3.5228718185125423e-08 , Ess(n,s=1)= -1.1742906061708476e-08\n"
     ]
    }
   ],
   "source": [
    "for n in range(1,6):\n",
    "    print('n=',n,', Ess(n,s=0)=',Ess(n,s=0),', Ess(n,s=1)=', Ess(n,s=1))"
   ]
  },
  {
   "cell_type": "code",
   "execution_count": 34,
   "id": "5a9ab749",
   "metadata": {},
   "outputs": [],
   "source": [
    "def bohr(Z,mu,n): # em eV\n",
    "    return (-((mu*Z**2*e**4*k**2)/(2*hb**2))/n**2)/e"
   ]
  },
  {
   "cell_type": "code",
   "execution_count": 54,
   "id": "ee738738",
   "metadata": {},
   "outputs": [
    {
     "data": {
      "image/png": "[encoded data removed]",
      "text/plain": [
       "<Figure size 500x300 with 1 Axes>"
      ]
     },
     "metadata": {
      "needs_background": "light"
     },
     "output_type": "display_data"
    }
   ],
   "source": [
    "import matplotlib\n",
    "matplotlib.rcParams.update({'font.size':10})\n",
    "plt.figure(figsize = (5,3), dpi = 100)\n",
    "def plot_Ess(n):\n",
    "    Z = 1; mu = (me*mp)/(me+mp)\n",
    "    plt.hlines(bohr(Z,mu,n), 0, 0.3, color='blue')\n",
    "    plt.text(-0.15,bohr(Z,mu,n),'%10.7f' % (bohr(Z,mu,n)),color='blue')\n",
    "    plt.text(0.1, bohr(Z,mu,n), 'n='+str(n), color='red')\n",
    "    for s in range(0, 2):\n",
    "        plt.plot([0.3,0.6],[bohr(Z,mu,n),bohr(Z,mu,n)+Ess(n,s)], '--', color='gray', linewidth=0.5)\n",
    "        plt.plot([0.6,0.9],[bohr(Z,mu,n)+Ess(n,s),bohr(Z,mu,n)+Ess(n,s)], color='blue')\n",
    "        plt.text(0.9,bohr(Z,mu,n)+Ess(n,s),'%10.7f' % (bohr(Z,mu,n)+Ess(n,s)),color='blue')\n",
    "        plt.text(0.6,bohr(Z,mu,n)+Ess(n,s),'n='+str(n)+',l='+str(0)+',s='+str(s),color='red')\n",
    "    plt.axis('off'); plt.show()\n",
    "plot_Ess(1)"
   ]
  },
  {
   "cell_type": "markdown",
   "id": "8fae6ab2",
   "metadata": {},
   "source": [
    "---\n",
    "# Exercícios\n",
    "\n",
    "1. Para um campo escalar qualquer $\\phi=\\phi(\\vec{r})$ e para um campo vetorial qualquer $\\vec{A}=\\vec{A}(\\vec{r})$, verifique a igualdade\n",
    "\\begin{equation}\n",
    "\\vec{\\nabla}\\cdot\\big(\\phi\\vec{A}\\big) = \\vec{\\nabla}\\phi\\cdot\\vec{A} + \\phi\\vec{\\nabla}\\cdot\\vec{A}.\n",
    "\\end{equation}\n",
    "\n",
    "1. Considerando duas funções bem comportadas $f(\\vec{r})$ e $g(\\vec{r})$ e uma distribuição de corrente elétrica estacionária e localizada em um volume finito, demonstre a igualdade\n",
    "\\begin{equation}\n",
    "\\int_{V}\\big(f\\vec{J}\\cdot\\vec{\\nabla}g+g\\vec{J}\\cdot\\vec{\\nabla}f\\big)dV = 0.\n",
    "\\end{equation}\n",
    "\n",
    "1. Utilizando o resultado do último exercício, verifique que\n",
    "\\begin{align}\n",
    "\\vec{A}\\cdot\\int_{V}\\vec{r}J_{i}dV & = -\\frac{1}{2}\\sum_{j}A_{j}\\int_{V}\\big(x_{j}J_{j}-x_{j}J_{i}\\big)dV \\\\\n",
    "& = -\\frac{1}{2}\\sum_{j,k}\\epsilon_{ijk}A_{j}\\int_{V}\\big(\\vec{r}\\times\\vec{J}\\big)_{k}dV. \n",
    "\\end{align}\n",
    "\n",
    "1. Verifique a igualdade\n",
    "\\begin{equation}\n",
    "\\vec{\\nabla}\\times(\\vec{A}\\times\\vec{B}) = (\\vec{\\nabla}\\cdot\\vec{B})\\vec{A} - (\\vec{\\nabla}\\cdot\\vec{A})\\vec{B} + (\\vec{B}\\cdot\\vec{\\nabla})\\vec{A} - (\\vec{A}\\cdot\\vec{\\nabla})\\vec{B}.\n",
    "\\end{equation}\n",
    "\n",
    "1. Verifique que\n",
    "\\begin{equation}\n",
    "\\vec{\\nabla}\\cdot\\frac{\\vec{r}}{r^{3}} = 4\\pi\\delta(\\vec{r}).\n",
    "\\end{equation}\n",
    "\n",
    "1. Verifique que\n",
    "\\begin{equation}\n",
    "(\\vec{\\mu}\\cdot\\vec{\\nabla})\\frac{\\vec{r}}{r^{3}} = \\frac{\\vec{\\mu}}{r^{3}} - 3\\frac{(\\vec{\\mu}\\cdot\\vec{r})\\vec{r}}{r^{5}}.\n",
    "\\end{equation}\n",
    "\n",
    "1. Para $\\vec{\\sigma}=\\sum_{j=1}^{3}\\hat{e}_{j}\\sigma_{j}$, com\n",
    "\\begin{equation}\n",
    "\\sigma_{1} = \\begin{bmatrix}0&1\\\\1&0\\end{bmatrix},\\ \\sigma_{2} = \\begin{bmatrix}0&-i\\\\i&0\\end{bmatrix}, \\ \\sigma_{3} = \\begin{bmatrix}1&0\\\\0&-1\\end{bmatrix}\n",
    "\\end{equation}\n",
    "e $\\hat{r}$ um versor e $\\{\\hat{e}_{j}\\}$ a base padrão de $\\mathbb{R}^{3}$, verifique que\n",
    "\\begin{equation}\n",
    "(\\vec{\\sigma}\\cdot\\hat{r})^{2}=\\sigma_{0},\n",
    "\\end{equation}\n",
    "com $\\sigma_{0}=\\begin{bmatrix}1&0\\\\0&1\\end{bmatrix}$.\n",
    "\n",
    "1. Verifique que\n",
    "\\begin{align}\n",
    "& \\int_{0}^{\\pi}\\sin^{3}x dx = \\frac{4}{3}, \\\\\n",
    "& \\int_{0}^{\\pi}\\sin x\\cos^{2}x dx = \\frac{2}{3}, \\\\\n",
    "& \\int_{0}^{2\\pi}\\sin^{2}x dx = \\int_{0}^{2\\pi}\\cos^{2}x dx = \\pi. \n",
    "\\end{align}\n",
    "\n",
    "1. Calcule as correções de 1ª ordem para a estrutura hiperfina do átomo de Hidrogênio para $n=2$ e $l=0$.\n",
    "\n",
    "2. Calcule o comprimento de onda da radiação eletromagnética emitida em uma transição entre os estados hiperfinos do átomo de hidrogênio: $n=1,l=0,s=0\\longrightarrow n=1,l=0,s=1$. Em qual faixa do espectro eletromagnético está este comprimento de onda?"
   ]
  },
  {
   "cell_type": "code",
   "execution_count": null,
   "id": "1981ad1a",
   "metadata": {},
   "outputs": [],
   "source": []
  }
 ],
 "metadata": {
  "kernelspec": {
   "display_name": "Python 3 (ipykernel)",
   "language": "python",
   "name": "python3"
  },
  "language_info": {
   "codemirror_mode": {
    "name": "ipython",
    "version": 3
   },
   "file_extension": ".py",
   "mimetype": "text/x-python",
   "name": "python",
   "nbconvert_exporter": "python",
   "pygments_lexer": "ipython3",
   "version": "3.8.8"
  }
 },
 "nbformat": 4,
 "nbformat_minor": 5
}
