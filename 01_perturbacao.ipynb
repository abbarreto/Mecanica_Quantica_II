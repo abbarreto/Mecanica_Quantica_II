{
 "cells": [
  {
   "cell_type": "markdown",
   "metadata": {},
   "source": [
    "### Notas de aula de Mecânica Quântica II <br> Autor: Jonas Maziero"
   ]
  },
  {
   "cell_type": "markdown",
   "metadata": {},
   "source": [
    "# Teoria de perturbação\n",
    "São poucos os exemplos conhecidos de sistemas físicos quânticos para os quais dispomos de soluções analíticas conhecidas. O objetivo da teoria de perturbação é construir soluções aproximadas (estáticas ou dinâmicas) a partir das soluções analíticas obtidas em casos particulares, que geralmente estão relacionados com intensidades de interação maiores em relação às correções que queremos incluir."
   ]
  },
  {
   "cell_type": "markdown",
   "metadata": {},
   "source": [
    "# Teoria de perturbação independente do tempo: Espectros discretos não degenerados\n",
    "Para Hamiltonianos com espectro discreto não degenerado, começamos considerando que nosso objetivo é obter a solução da equação de autovalores e autovetores\n",
    "\\begin{equation}\n",
    "H|\\psi_{n}\\rangle = E_{n}|\\psi_{n}\\rangle\n",
    "\\end{equation}\n",
    "quando o Hamiltoniano pode ser escrito como \n",
    "\\begin{equation}\n",
    "H = H_{0} + H_{1},\n",
    "\\end{equation}\n",
    "onde $H_{0}$ representa a parte \"mais intensa\" da interação e cujos autovalores e autovetores são conhecidos, i.e., conhecemos a solução de \n",
    "\\begin{equation}\n",
    "H_{0}|\\psi_{n}^{(0)}\\rangle = E_{n}^{(0)}|\\psi_{n}^{(0)}\\rangle,\n",
    "\\end{equation}\n",
    "e $H_{1}$ é a perturbação, uma interação de \"intensidade pequena\" em relação a $H_{0}$. "
   ]
  },
  {
   "cell_type": "markdown",
   "metadata": {},
   "source": [
    "Na sequência obteremos equações que nos possibilitarão, a princípio, calcular correções parturbativas de várias ordens para as autoenergias e autofunções. Começaremos trocando $H = H_{0} + H_{1}$ por\n",
    "\\begin{equation}\n",
    "H = H_{0} + \\xi H_{1}.\n",
    "\\end{equation}\n",
    "O parâmetro contínuo $\\xi$ é usado para controlar a intensidade com que a perturbação é incluída. Para $\\xi=0$ temos o caso não perturbado e para $\\xi=1$ a perturbação é incluída em toda sua intensidade. \n",
    "\n",
    "Seguindo, escrevemos a solução geral para os autovetores em termos da não perturbada como\n",
    "\\begin{equation}\n",
    "|\\psi_{n}\\rangle = N_{n}(|\\psi_{n}^{(0)}\\rangle + |\\chi_{n}\\rangle) = \\frac{|\\psi_{n}^{(0)}\\rangle+|\\chi_{n}\\rangle}{\\sqrt{1+\\langle\\chi_{n}|\\chi_{n}\\rangle}}, \\hspace{2cm} (\\star)\n",
    "\\end{equation}\n",
    "com $|\\chi_{n}\\rangle$ não sendo necessariamente normalizado e satisfazendo\n",
    "\\begin{equation}\n",
    "\\langle\\chi_{n}|\\psi_{n}^{(0)}\\rangle:=0.\n",
    "\\end{equation}"
   ]
  },
  {
   "cell_type": "markdown",
   "metadata": {},
   "source": [
    "Substituindo o Hamiltoniano e autovetores, como escritos acima, na equação característica, teremos que\n",
    "\\begin{align}\n",
    "& H|\\psi_{n}\\rangle = (H_{0}+\\xi H_{1})N_{n}(|\\psi_{n}^{(0)}\\rangle + |\\chi_{n}\\rangle ) \\\\\n",
    "& = N_{n}\\left(H_{0}|\\psi_{n}^{(0)}\\rangle + H_{0}|\\chi_{n}\\rangle + \\xi H_{1}|\\psi_{n}^{(0)}\\rangle + \\xi H_{1}|\\chi_{n}\\rangle\\right) \\\\ \n",
    "& = N_{n}\\left(E_{n}^{(0)}|\\psi_{n}^{(0)}\\rangle + H_{0}|\\chi_{n}\\rangle + \\xi H_{1}|\\psi_{n}^{(0)}\\rangle + \\xi H_{1}|\\chi_{n}\\rangle\\right) \\\\\n",
    "& = E_{n}|\\psi_{n}\\rangle = E_{n}N_{n}(|\\psi_{n}^{(0)}\\rangle + |\\chi_{n}\\rangle).\n",
    "\\end{align}\n",
    "Das duas últimas linhas desta equação, prontamente identificamos a relação:\n",
    "\\begin{equation}\n",
    "(E_{n}-E_{n}^{(0)})|\\psi_{n}^{(0)}\\rangle = \\xi H_{1}|\\psi_{n}^{(0)}\\rangle + (H_{0}+ \\xi H_{1} - E_{n})|\\chi_{n}\\rangle. \\hspace{2cm}\\text{(*)}\n",
    "\\end{equation}\n",
    "Se tomarmos o produto interno de $|\\psi_{n}^{(0)}\\rangle$ com ($*$):\n",
    "\\begin{align}\n",
    "& (E_{n}-E_{n}^{(0)})\\langle\\psi_{n}^{(0)}|\\psi_{n}^{(0)}\\rangle = E_{n}-E_{n}^{(0)} \\\\\n",
    "& = \\xi \\langle\\psi_{n}^{(0)}|H_{1}|\\psi_{n}^{(0)}\\rangle + \\langle\\psi_{n}^{(0)}|H_{0}|\\chi_{n}\\rangle + \\xi \\langle\\psi_{n}^{(0)}|H_{1}|\\chi_{n}\\rangle - E_{n}\\langle\\psi_{n}^{(0)}|\\chi_{n}\\rangle \\\\\n",
    "& = \\xi \\langle\\psi_{n}^{(0)}|H_{1}|\\psi_{n}^{(0)}\\rangle + E_{n}^{(0)}\\langle\\psi_{n}^{(0)}|\\chi_{n}\\rangle + \\xi \\langle\\psi_{n}^{(0)}|H_{1}|\\chi_{n}\\rangle - 0 \\\\\n",
    "& = \\xi\\left(\\langle\\psi_{n}^{(0)}|H_{1}|\\psi_{n}^{(0)}\\rangle + \\langle\\psi_{n}^{(0)}|H_{1}|\\chi_{n}\\rangle\\right).\n",
    "\\end{align}\n",
    "obteremos\n",
    "\\begin{equation}\n",
    "E_{n} = E_{n}^{(0)} + \\xi\\langle\\psi_{n}^{(0)}|H_{1}|\\psi_{n}^{(0)}\\rangle + \\xi\\langle\\psi_{n}^{(0)}|H_{1}|\\chi_{n}\\rangle.  \\hspace{2cm} (**)\n",
    "\\end{equation}\n",
    "Essa equação já seria suficiente para algumas aplicações importantes, como veremos em uma outra oportunidade."
   ]
  },
  {
   "cell_type": "markdown",
   "metadata": {},
   "source": [
    "Note que na Eq. $(**)$ somente o último termo está escrito em termos de $|\\chi_{n}\\rangle$, que não conhecemos. Vamos então decompor este vetor na base ortonormal $\\{|\\psi_{n}^{(0)}\\rangle\\}$:\n",
    "\\begin{equation}\n",
    "|\\chi_{n}\\rangle = \\sum_{m}\\langle\\psi_{m}^{(0)}|\\chi_{n}\\rangle|\\psi_{m}^{(0)}\\rangle \\equiv \\sum_{m\\ne n}\\langle\\psi_{m}^{(0)}|\\chi_{n}\\rangle|\\psi_{m}^{(0)}\\rangle.\n",
    "\\end{equation}\n",
    "Para obter os coeficientes $\\langle\\psi_{m}^{(0)}|\\chi_{n}\\rangle$ tomamos o produto interno de $|\\psi_{m}^{(0)}\\rangle$ com a Eq. ($*$), com $m\\ne n$:\n",
    "\\begin{align}\n",
    "& (E_{n}-E_{n}^{(0)})\\langle\\psi_{m}^{(0)}|\\psi_{n}^{(0)}\\rangle = 0 \\\\\n",
    "& = \\xi \\langle\\psi_{m}^{(0)}|H_{1}|\\psi_{n}^{(0)}\\rangle + \\langle\\psi_{m}^{(0)}|H_{0}|\\chi_{n}\\rangle + \\xi \\langle\\psi_{m}^{(0)}|H_{1}|\\chi_{n}\\rangle - E_{n}\\langle\\psi_{m}^{(0)}|\\chi_{n}\\rangle \\\\\n",
    "& = \\xi \\langle\\psi_{m}^{(0)}|H_{1}|\\psi_{n}^{(0)}\\rangle + E_{m}^{(0)}\\langle\\psi_{m}^{(0)}|\\chi_{n}\\rangle + \\xi \\langle\\psi_{m}^{(0)}|H_{1}|\\chi_{n}\\rangle - E_{n}\\langle\\psi_{m}^{(0)}|\\chi_{n}\\rangle.\n",
    "\\end{align}\n",
    "Assim, como $E_{n}\\ne E_{m}^{(0)}$ (supomos que a interação perturbativa não cria degenerescências),\n",
    "\\begin{equation}\n",
    "\\langle\\psi_{m}^{(0)}|\\chi_{n}\\rangle = \\xi\\frac{\\langle\\psi_{m}^{(0)}|H_{1}|\\psi_{n}^{(0)}\\rangle}{E_{n}-E_{m}^{(0)}} + \\xi\\frac{\\langle\\psi_{m}^{(0)}|H_{1}|\\chi_{n}\\rangle}{E_{n}-E_{m}^{(0)}}.\n",
    "\\end{equation}\n",
    "\n",
    "Usando esses coeficientes na decomposição de $|\\chi_{n}\\rangle$ e o substituindo _iterativamente_ vem que\n",
    "\\begin{align}\n",
    "|\\chi_{n}\\rangle & = \\xi\\sum_{m\\ne n}\\frac{\\langle\\psi_{m}^{(0)}|H_{1}|\\psi_{n}^{(0)}\\rangle}{E_{n}-E_{m}^{(0)}}|\\psi_{m}^{(0)}\\rangle + \\xi\\sum_{m\\ne n}\\frac{\\langle\\psi_{m}^{(0)}|H_{1}|\\chi_{n}\\rangle}{E_{n}-E_{m}^{(0)}}|\\psi_{m}^{(0)}\\rangle \\\\\n",
    "& = \\xi\\sum_{m\\ne n}\\frac{\\langle\\psi_{m}^{(0)}|H_{1}|\\psi_{n}^{(0)}\\rangle}{E_{n}-E_{m}^{(0)}}|\\psi_{m}^{(0)}\\rangle + \\xi^{2}\\sum_{m\\ne n}\\sum_{m'\\ne n}\\frac{\\langle\\psi_{m}^{(0)}|H_{1}|\\psi_{m'}^{(0)}\\rangle}{E_{n}-E_{m}^{(0)}}\\frac{\\langle\\psi_{m'}^{(0)}|H_{1}|\\psi_{n}^{(0)}\\rangle}{E_{n}-E_{m'}^{(0)}}|\\psi_{m}^{(0)}\\rangle \\\\ \n",
    "& \\hspace{0.4cm} + \\xi^{2}\\sum_{m\\ne n}\\sum_{m'\\ne n}\\frac{\\langle\\psi_{m}^{(0)}|H_{1}|\\psi_{m'}^{(0)}\\rangle}{E_{n}-E_{m}^{(0)}}\\frac{\\langle\\psi_{m'}^{(0)}|H_{1}|\\chi_{n}\\rangle}{E_{n}-E_{m'}^{(0)}}|\\psi_{m}^{(0)}\\rangle. \\hspace{5cm} (\\square)\n",
    "\\end{align}\n",
    "OBS. Poderíamos continuar com esse processo indefinidamente."
   ]
  },
  {
   "cell_type": "markdown",
   "metadata": {},
   "source": [
    "Substituindo essa última equação na Eq. $(**)$ obteremos\n",
    "\\begin{align}\n",
    "E_{n} & = \\xi^{0}E_{n}^{(0)} + \\xi^{1}\\langle\\psi_{n}^{(0)}|H_{1}|\\psi_{n}^{(0)}\\rangle + \\xi^{2}\\sum_{m\\ne n}\\frac{\\langle\\psi_{n}^{(0)}|H_{1}|\\psi_{m}^{(0)}\\rangle\\langle\\psi_{m}^{(0)}|H_{1}|\\psi_{n}^{(0)}\\rangle}{E_{n}-E_{m}^{(0)}} \\\\\n",
    "& \\hspace{0.5cm} + \\xi^{3}\\sum_{m\\ne n}\\sum_{m'\\ne n}\\frac{\\langle\\psi_{n}^{(0)}|H_{1}|\\psi_{m}^{(0)}\\rangle\\langle\\psi_{m}^{(0)}|H_{1}|\\psi_{m'}^{(0)}\\rangle\\langle\\psi_{m'}^{(0)}|H_{1}|\\psi_{n}^{(0)}\\rangle}{(E_{n}-E_{m}^{(0)})(E_{n}-E_{m'}^{(0)})} \\\\\n",
    "& \\hspace{0.5cm} + \\xi^{3}\\sum_{m\\ne n}\\sum_{m'\\ne n}\\frac{\\langle\\psi_{n}^{(0)}|H_{1}|\\psi_{m}^{(0)}\\rangle\\langle\\psi_{m}^{(0)}|H_{1}|\\psi_{m'}^{(0)}\\rangle\\langle\\psi_{m'}^{(0)}|H_{1}|\\chi_{n}\\rangle}{(E_{n}-E_{m}^{(0)})(E_{n}-E_{m'}^{(0)})}. \\hspace{1cm} (\\square\\square)\n",
    "\\end{align}\n",
    "Notemos que ainda nos resta o $E_{n}$ no denominador das expressões acima. Lideramos com esta questão a seguir."
   ]
  },
  {
   "cell_type": "markdown",
   "metadata": {},
   "source": [
    "Vamos considerar a expansão de cada autovalor na base de potências de $\\xi$, a chamada __expansão de Rayleigh-Schrödinger__:\n",
    "\\begin{equation}\n",
    "E_{n} = \\sum_{j=0}^{\\infty} E_{n}^{(j)}\\xi^{j}.\n",
    "\\end{equation}\n",
    "Usando a série $(1-x)^{-1} = \\sum_{j=0}^{\\infty}x^{j}$, para $|x|<1$, teremos que ($x=-\\sum_{j=1}^{\\infty} E_{n}^{(j)}\\xi^{j}/(E_{n}^{(0)}-E_{m}^{(0)})$):\n",
    "\\begin{align}\n",
    "\\frac{1}{E_{n}-E_{m}^{(0)}} & = \\frac{1}{E_{n}^{(0)}+\\sum_{j=1}^{\\infty} E_{n}^{(j)}\\xi^{j}-E_{m}^{(0)}} \\\\\n",
    "& = \\frac{1}{(E_{n}^{(0)}-E_{m}^{(0)})}\\frac{1}{(1+\\sum_{j=1}^{\\infty} E_{n}^{(j)}\\xi^{j}/(E_{n}^{(0)}-E_{m}^{(0)}))} \\\\\n",
    "& = \\frac{1}{(E_{n}^{(0)}-E_{m}^{(0)})}\\left(1 - \\frac{\\sum_{j=1}^{\\infty} E_{n}^{(j)}\\xi^{j}}{E_{n}^{(0)}-E_{m}^{(0)}} + \\frac{(\\sum_{j=1}^{\\infty} E_{n}^{(j)}\\xi^{j})^{2}}{(E_{n}^{(0)}-E_{m}^{(0)})^{2}} - \\frac{(\\sum_{j=1}^{\\infty} E_{n}^{(j)}\\xi^{j})^{3}}{(E_{n}^{(0)}-E_{m}^{(0)})^{3}} + \\cdots\\right) \\\\\n",
    "& = \\frac{1}{E_{n}^{(0)}-E_{m}^{(0)}} - \\frac{\\sum_{j=1}^{\\infty} E_{n}^{(j)}\\xi^{j}}{(E_{n}^{(0)}-E_{m}^{(0)})^{2}} + \\frac{(\\sum_{j=1}^{\\infty} E_{n}^{(j)}\\xi^{j})^{2}}{(E_{n}^{(0)}-E_{m}^{(0)})^{3}} - \\frac{(\\sum_{j=1}^{\\infty} E_{n}^{(j)}\\xi^{j})^{3}}{(E_{n}^{(0)}-E_{m}^{(0)})^{4}} + \\cdots \\\\\n",
    "& = \\xi^{0}\\frac{1}{E_{n}^{(0)} - E_{m}^{(0)}} - \\xi\\frac{E_{n}^{(1)}}{(E_{n}^{(0)}-E_{m}^{(0)})^{2}} + \\xi^{2}\\left( \\frac{E_{n}^{(2)}}{(E_{n}^{(0)}-E_{m}^{(0)})^{2}} + \\frac{(E_{n}^{(1)})^{2}}{(E_{n}^{(0)}-E_{m}^{(0)})^{3}}\\right) \\\\ \n",
    "& \\hspace{0.5cm} - \\cdots. \\hspace{13cm} (\\triangle)\n",
    "\\end{align}"
   ]
  },
  {
   "cell_type": "code",
   "execution_count": 2,
   "metadata": {},
   "outputs": [
    {
     "data": {
      "image/png": "[encoded data removed]",
      "text/latex": [
       "$\\displaystyle 1 + x + x^{2} + x^{3} + x^{4} + O\\left(x^{5}\\right)$"
      ],
      "text/plain": [
       "         2    3    4    ⎛ 5⎞\n",
       "1 + x + x  + x  + x  + O⎝x ⎠"
      ]
     },
     "execution_count": 2,
     "metadata": {},
     "output_type": "execute_result"
    }
   ],
   "source": [
    "%run init.ipynb\n",
    "x = symbols('x'); series(pow(1-x,-1),x0=0,n=5)"
   ]
  },
  {
   "cell_type": "markdown",
   "metadata": {},
   "source": [
    "Se substituirmos esta expressão naquela para $E_{n}$ acima obteremos as várias _ordens de correção para a energia_:\n",
    "\\begin{align}\n",
    "E_{n} & = \\xi^{0}E_{n}^{(0)} + \\xi E_{n}^{(1)} + \\xi^{2}E_{n}^{(2)} + \\xi^{3}E_{n}^{(3)} + \\cdots \\\\\n",
    "& = \\xi^{0}E_{n}^{(0)} + \\xi^{1}\\langle\\psi_{n}^{(0)}|H_{1}|\\psi_{n}^{(0)}\\rangle + \\xi^{2}\\sum_{m\\ne n}\\frac{|\\langle\\psi_{n}^{(0)}|H_{1}|\\psi_{m}^{(0)}\\rangle|^{2}}{E_{n}^{(0)}-E_{m}^{(0)}} \\\\\n",
    "& + \\xi^{3}\\left(\\sum_{m\\ne n}\\sum_{m'\\ne n}\\frac{\\langle\\psi_{n}^{(0)}|H_{1}|\\psi_{m}^{(0)}\\rangle\\langle\\psi_{m}^{(0)}|H_{1}|\\psi_{m'}^{(0)}\\rangle\\langle\\psi_{m'}^{(0)}|H_{1}|\\psi_{n}^{(0)}\\rangle}{(E_{n}^{(0)}-E_{m}^{(0)})(E_{n}^{(0)}-E_{m'}^{(0)})} - E_{n}^{(1)}\\sum_{m\\ne n}\\frac{|\\langle\\psi_{n}^{(0)}|H_{1}|\\psi_{m}^{(0)}\\rangle|^{2}}{(E_{n}^{(0)}-E_{m}^{(0)})^{2}} \\right) \\\\\n",
    "& + \\cdots.\n",
    "\\end{align}\n",
    "As correções de 1ª, 2ª e 3ª ordem para a energia são, explicitamente, dadas por:\n",
    "\\begin{align}\n",
    "E_{n}^{(1)} &= \\langle\\psi_{n}^{(0)}|H_{1}|\\psi_{n}^{(0)}\\rangle, \\\\\n",
    "E_{n}^{(2)} &= \\sum_{m\\ne n}\\frac{|\\langle\\psi_{n}^{(0)}|H_{1}|\\psi_{m}^{(0)}\\rangle|^{2}}{E_{n}^{(0)}-E_{m}^{(0)}}, \\\\\n",
    "E_{n}^{(3)} &= \\sum_{m\\ne n}\\sum_{m'\\ne n}\\frac{\\langle\\psi_{n}^{(0)}|H_{1}|\\psi_{m}^{(0)}\\rangle\\langle\\psi_{m}^{(0)}|H_{1}|\\psi_{m'}^{(0)}\\rangle\\langle\\psi_{m'}^{(0)}|H_{1}|\\psi_{n}^{(0)}\\rangle}{(E_{n}^{(0)}-E_{m}^{(0)})(E_{n}^{(0)}-E_{m'}^{(0)})} - E_{n}^{(1)}\\sum_{m\\ne n}\\frac{|\\langle\\psi_{n}^{(0)}|H_{1}|\\psi_{m}^{(0)}\\rangle|^{2}}{(E_{n}^{(0)}-E_{m}^{(0)})^{2}}.\n",
    "\\end{align}\n",
    "\n",
    "Aproximação para as autoenergias (faz $\\xi=1$):\n",
    "\\begin{equation}\n",
    "E_{n}\\approx E_{n}^{(0)}+E_{n}^{(1)}+E_{n}^{(2)}+E_{n}^{(3)}+\\cdots.\n",
    "\\end{equation}"
   ]
  },
  {
   "cell_type": "markdown",
   "metadata": {},
   "source": [
    "Fazendo o análogo para $|\\chi_{n}\\rangle$ obteremos\n",
    "\\begin{align}\n",
    "|\\chi_{n}\\rangle & = \\xi\\sum_{m\\ne n}\\frac{\\langle\\psi_{m}^{(0)}|H_{1}|\\psi_{n}^{(0)}\\rangle}{E_{n}^{(0)}-E_{m}^{(0)}}|\\psi_{m}^{(0)}\\rangle \\\\ \n",
    "& \\hspace{0.4cm} + \\xi^{2}\\left(\\sum_{m\\ne n}\\sum_{m'\\ne n}\\frac{\\langle\\psi_{m}^{(0)}|H_{1}|\\psi_{m'}^{(0)}\\rangle}{E_{n}^{(0)}-E_{m}^{(0)}}\\frac{\\langle\\psi_{m'}^{(0)}|H_{1}|\\psi_{n}^{(0)}\\rangle}{E_{n}^{(0)}-E_{m'}^{(0)}}|\\psi_{m}^{(0)}\\rangle - E_{n}^{(1)}\\sum_{m\\ne n}\\frac{\\langle\\psi_{m}^{(0)}|H_{1}|\\psi_{n}^{(0)}\\rangle}{(E_{n}^{(0)}-E_{m}^{(0)})^{2}}|\\psi_{m}^{(0)}\\rangle \\right) + \\cdots \\\\\n",
    "& = \\xi^{1}|\\psi_{n}^{(1)}\\rangle+\\xi^{2}|\\psi_{n}^{(2)}\\rangle+\\cdots.\n",
    "\\end{align}\n",
    "\n",
    "As correções de 1ª e 2ª ordem para as autofunções são obtidas, explicitamente, usando:\n",
    "\\begin{align}\n",
    "|\\psi_{n}^{(1)}\\rangle &= \\sum_{m\\ne n}\\frac{\\langle\\psi_{m}^{(0)}|H_{1}|\\psi_{n}^{(0)}\\rangle}{E_{n}^{(0)}-E_{m}^{(0)}}|\\psi_{m}^{(0)}\\rangle, \\\\\n",
    "|\\psi_{n}^{(2)}\\rangle &= \\sum_{m\\ne n}\\sum_{m'\\ne n}\\frac{\\langle\\psi_{m}^{(0)}|H_{1}|\\psi_{m'}^{(0)}\\rangle}{E_{n}^{(0)}-E_{m}^{(0)}}\\frac{\\langle\\psi_{m'}^{(0)}|H_{1}|\\psi_{n}^{(0)}\\rangle}{E_{n}^{(0)}-E_{m'}^{(0)}}|\\psi_{m}^{(0)}\\rangle - E_{n}^{(1)}\\sum_{m\\ne n}\\frac{\\langle\\psi_{m}^{(0)}|H_{1}|\\psi_{n}^{(0)}\\rangle}{(E_{n}^{(0)}-E_{m}^{(0)})^{2}}|\\psi_{m}^{(0)}\\rangle.\n",
    "\\end{align}\n",
    "\n",
    "Aproximação para as autofunções (faz $\\xi=1$):\n",
    "\\begin{equation}\n",
    "|\\psi_{n}\\rangle \\approx N_{n}\\left(|\\psi_{n}^{(0)}\\rangle+|\\psi_{n}^{(1)}\\rangle+|\\psi_{n}^{(2)}\\rangle+\\cdots+|\\psi_{n}^{(M)}\\rangle\\right),\n",
    "\\end{equation}\n",
    "com \n",
    "\\begin{equation}\n",
    "N_{n}=1/\\sqrt{1+\\langle\\chi_{n}|\\chi_{n}\\rangle}=1/\\sqrt{1+\\sum_{j,k=1}^{M}\\langle\\psi_{n}^{(j)}|\\psi_{n}^{(k)}\\rangle}.\n",
    "\\end{equation}"
   ]
  },
  {
   "cell_type": "markdown",
   "metadata": {},
   "source": [
    "### Exemplo\n",
    "Consideremos o Hamiltoniano $H=H_{0}+H_{1}$ com \n",
    "\\begin{equation}\n",
    "H_{0}=-\\omega\\sigma_{y} = -\\omega\\begin{bmatrix}0&-i\\\\i&0\\end{bmatrix}\n",
    "\\end{equation}\n",
    "e Hamiltoniano perturbativo \n",
    "\\begin{equation}\n",
    "H_{1}=-\\epsilon\\sigma_{x}\\begin{bmatrix}0&1\\\\1&0\\end{bmatrix},\n",
    "\\end{equation}\n",
    "i.e., $\\omega\\gg\\epsilon$ (ou seja, consideramos um campo magnético constante \"forte\" na direção $y$ e outro campo desse tipo, \"fraco\", na direção $x$). Calculemos as correções perturbativas de primeira e de segunda ordem para as auto-energias desse sistema e as correções de primeira ordem para os autovetores de $H$.\n",
    "\n",
    "Temos $H_{0}=-\\omega|y_{+}\\rangle\\langle y_{+}|+\\omega|y_{-}\\rangle\\langle y_{-}|$. Assim \n",
    "\\begin{equation}\n",
    "E_{1}^{(0)}=-\\omega\\text{, }E_{2}^{(0)}=\\omega\\text{, }|\\psi_{1}^{(0)}\\rangle = |y_{+}\\rangle=\\frac{1}{\\sqrt{2}}\\begin{bmatrix}1\\\\i\\end{bmatrix}  \\text{ e } |\\psi_{2}^{(0)}\\rangle = |y_{-}\\rangle=\\frac{1}{\\sqrt{2}}\\begin{bmatrix}1\\\\-i\\end{bmatrix} .\n",
    "\\end{equation}\n",
    "Utilizaremos a relação\n",
    "\\begin{align}\n",
    "\\sigma_{x}|y_{\\pm}\\rangle &= \\sigma_{x}(|z_{+}\\rangle \\pm i|z_{-}\\rangle)/\\sqrt{2} = (\\sigma_{x}|z_{+}\\rangle \\pm i\\sigma_{x}|z_{-}\\rangle)/\\sqrt{2} = (|z_{-}\\rangle \\pm i|z_{+}\\rangle)/\\sqrt{2} \\\\\n",
    "&= \\pm i|y_{\\mp}\\rangle.\n",
    "\\end{align}\n",
    "Correções de primeira ordem para a energia $\\left(E_{n}^{(1)} = \\langle\\psi_{n}^{(0)}|H_{1}|\\psi_{n}^{(0)}\\rangle\\right)$:\n",
    "\\begin{align}\n",
    "E_{1}^{(1)} & = \\langle\\psi_{1}^{(0)}|H_{1}|\\psi_{1}^{(0)}\\rangle = -\\epsilon\\langle y_{+}|\\sigma_{x}|y_{+}\\rangle = -i\\epsilon\\langle y_{+}|y_{-}\\rangle \\\\\n",
    "&= 0, \\\\\n",
    "E_{2}^{(1)} & = \\langle\\psi_{2}^{(0)}|H_{1}|\\psi_{2}^{(0)}\\rangle = -\\epsilon\\langle y_{-}|\\sigma_{x}|y_{-}\\rangle = i\\epsilon\\langle y_{-}|y_{+}\\rangle \\\\\n",
    "&= 0.\n",
    "\\end{align}"
   ]
  },
  {
   "cell_type": "markdown",
   "metadata": {},
   "source": [
    "Correções de segunda ordem para a energia $\\left(E_{n}^{(2)} = \\sum_{m\\ne n}\\frac{|\\langle\\psi_{n}^{(0)}|H_{1}|\\psi_{m}^{(0)}\\rangle|^{2}}{E_{n}^{(0)}-E_{m}^{(0)}}\\right)$:\n",
    "\\begin{align}\n",
    "E_{1}^{(2)} & = \\sum_{m\\ne 1}\\frac{|\\langle\\psi_{1}^{(0)}|H_{1}|\\psi_{m}^{(0)}\\rangle|^{2}}{E_{1}^{(0)}-E_{m}^{(0)}} = \\frac{|\\langle\\psi_{1}^{(0)}|H_{1}|\\psi_{2}^{(0)}\\rangle|^{2}}{E_{1}^{(0)}-E_{2}^{(0)}} = \\frac{\\epsilon^{2}|\\langle y_{+}|\\sigma_{x}|y_{-}\\rangle|^{2}}{-\\omega-\\omega} \\\\\n",
    "&= \\frac{-\\epsilon^{2}}{2\\omega}, \\\\\n",
    "E_{2}^{(2)} & =  \\sum_{m\\ne 2}\\frac{|\\langle\\psi_{2}^{(0)}|H_{1}|\\psi_{m}^{(0)}\\rangle|^{2}}{E_{2}^{(0)}-E_{m}^{(0)}} = \\frac{|\\langle\\psi_{2}^{(0)}|H_{1}|\\psi_{1}^{(0)}\\rangle|^{2}}{E_{2}^{(0)}-E_{1}^{(0)}} = \\frac{\\epsilon^{2}|\\langle y_{-}|\\sigma_{x}|y_{+}\\rangle|^{2}}{\\omega-(-\\omega)} \\\\\n",
    "&= \\frac{\\epsilon^{2}}{2\\omega}.\n",
    "\\end{align}\n",
    "\n",
    "Assim, as aproximações perturbativas para as energias são\n",
    "\\begin{align}\n",
    "E_{1} &\\approx E_{1}^{(0)}+E_{1}^{(1)}+E_{1}^{(2)} = -\\omega+0-\\frac{\\epsilon^{2}}{2\\omega} \\\\\n",
    "&= -\\omega\\left(1+\\frac{\\epsilon^{2}}{2\\omega^{2}}\\right), \\\\\n",
    "E_{2} &\\approx E_{2}^{(0)}+E_{2}^{(1)}+E_{2}^{(2)} = +\\omega+0+\\frac{\\epsilon^{2}}{2\\omega} \\\\\n",
    "&= \\omega\\left(1+\\frac{\\epsilon^{2}}{2\\omega^{2}}\\right).\n",
    "\\end{align}\n",
    "\n",
    "OBS. Vemos neste exemplo que a inclusão de correções de mais altas ordens não necessariamente melhoram a aproximação de forma gradativa. Nesse caso, em 1ª ordem não temos nenhuma correção, que só é obtida quando consideramos as correções de 2ª ordem."
   ]
  },
  {
   "cell_type": "markdown",
   "metadata": {},
   "source": [
    "Correções de primeira ordem para o estado $\\left(|\\psi_{n}^{(1)}\\rangle = \\sum_{m\\ne n}\\frac{\\langle\\psi_{m}^{(0)}|H_{1}|\\psi_{n}^{(0)}\\rangle}{E_{n}^{(0)}-E_{m}^{(0)}}|\\psi_{m}^{(0)}\\rangle\\right)$:\n",
    "\\begin{align}\n",
    "|\\psi_{1}^{(1)}\\rangle & = \\sum_{m\\ne 1}\\frac{\\langle\\psi_{m}^{(0)}|H_{1}|\\psi_{1}^{(0)}\\rangle}{E_{1}^{(0)}-E_{m}^{(0)}}|\\psi_{m}^{(0)}\\rangle = \\frac{\\langle\\psi_{2}^{(0)}|H_{1}|\\psi_{1}^{(0)}\\rangle}{E_{1}^{(0)}-E_{2}^{(0)}}|\\psi_{2}^{(0)}\\rangle = \\frac{-\\epsilon\\langle y_{-}|\\sigma_{x}|y_{+}\\rangle}{-\\omega-\\omega}|y_{-}\\rangle \\\\\n",
    "&= \\frac{i\\epsilon}{2\\omega}|y_{-}\\rangle, \\\\\n",
    "|\\psi_{2}^{(1)}\\rangle & = \\sum_{m\\ne 2}\\frac{\\langle\\psi_{m}^{(0)}|H_{1}|\\psi_{2}^{(0)}\\rangle}{E_{2}^{(0)}-E_{m}^{(0)}}|\\psi_{m}^{(0)}\\rangle = \\frac{\\langle\\psi_{1}^{(0)}|H_{1}|\\psi_{2}^{(0)}\\rangle}{E_{2}^{(0)}-E_{1}^{(0)}}|\\psi_{1}^{(0)}\\rangle = \\frac{-\\epsilon\\langle y_{+}|\\sigma_{x}|y_{-}\\rangle}{\\omega+\\omega}|y_{+}\\rangle \\\\\n",
    "&= \\frac{i\\epsilon}{2\\omega}|y_{+}\\rangle.\n",
    "\\end{align}\n",
    "Como $\\langle\\chi_{1}|\\chi_{1}\\rangle=\\langle\\psi_{1}^{(1)}|\\psi_{1}^{(1)}\\rangle=\\epsilon^{2}/4\\omega^{2}$ e $\\langle\\chi_{2}|\\chi_{2}\\rangle=\\langle\\psi_{2}^{(1)}|\\psi_{2}^{(1)}\\rangle=\\epsilon^{2}/4\\omega^{2}$ temos \\begin{equation}\n",
    "N_{1}=N_{2}=1/\\sqrt{1+\\epsilon^{2}/4\\omega^{2}}\n",
    "\\end{equation}\n",
    "e as aproximações perturbativas para os autovetores de $H$ são:\n",
    "\\begin{align}\n",
    "& |\\psi_{1}\\rangle \\approx \\frac{|y_{+}\\rangle+\\frac{i\\epsilon}{2\\omega}|y_{-}\\rangle}{\\sqrt{1+\\epsilon^{2}/4\\omega^{2}}}, \\\\\n",
    "& |\\psi_{2}\\rangle \\approx \\frac{|y_{-}\\rangle+\\frac{i\\epsilon}{2\\omega}|y_{+}\\rangle}{\\sqrt{1+\\epsilon^{2}/4\\omega^{2}}}.\n",
    "\\end{align}\n",
    "\n",
    "Vemos, usando o código abaixo, que a solução aproximada é igual à exata no limite de perturbações pequenas."
   ]
  },
  {
   "cell_type": "code",
   "execution_count": 7,
   "metadata": {},
   "outputs": [
    {
     "data": {
      "image/png": "[encoded data removed]",
      "text/latex": [
       "$$\\left ( \\left[\\begin{matrix}0 & 1.0 i \\omega\\\\- 1.0 i \\omega & 0\\end{matrix}\\right], \\quad \\left [ \\left ( - \\omega, \\quad 1, \\quad \\left [ \\left[\\begin{matrix}- 1.0 i\\\\1.0\\end{matrix}\\right]\\right ]\\right ), \\quad \\left ( \\omega, \\quad 1, \\quad \\left [ \\left[\\begin{matrix}1.0 i\\\\1.0\\end{matrix}\\right]\\right ]\\right )\\right ]\\right )$$"
      ],
      "text/plain": [
       "⎛⎡   0      1.0⋅ⅈ⋅ω⎤  ⎡⎛       ⎡⎡-1.0⋅ⅈ⎤⎤⎞  ⎛      ⎡⎡1.0⋅ⅈ⎤⎤⎞⎤⎞\n",
       "⎜⎢                 ⎥, ⎢⎜-ω, 1, ⎢⎢      ⎥⎥⎟, ⎜ω, 1, ⎢⎢     ⎥⎥⎟⎥⎟\n",
       "⎝⎣-1.0⋅ⅈ⋅ω     0   ⎦  ⎣⎝       ⎣⎣ 1.0  ⎦⎦⎠  ⎝      ⎣⎣ 1.0 ⎦⎦⎠⎦⎠"
      ]
     },
     "execution_count": 7,
     "metadata": {},
     "output_type": "execute_result"
    }
   ],
   "source": [
    "H0=-w*pauli(2); H0, H0.eigenvects()"
   ]
  },
  {
   "cell_type": "code",
   "execution_count": 8,
   "metadata": {},
   "outputs": [
    {
     "data": {
      "image/png": "[encoded data removed]",
      "text/latex": [
       "$$\\left ( \\left[\\begin{matrix}0 & - \\epsilon + 1.0 i \\omega\\\\- \\epsilon - 1.0 i \\omega & 0\\end{matrix}\\right], \\quad \\left [ \\left ( - \\left(\\epsilon^{2} + \\omega^{2}\\right)^{0.5}, \\quad 1, \\quad \\left [ \\left[\\begin{matrix}- \\frac{- \\epsilon + i \\omega}{\\left(\\epsilon^{2} + \\omega^{2}\\right)^{0.5}}\\\\1.0\\end{matrix}\\right]\\right ]\\right ), \\quad \\left ( \\left(\\epsilon^{2} + \\omega^{2}\\right)^{0.5}, \\quad 1, \\quad \\left [ \\left[\\begin{matrix}\\frac{- \\epsilon + i \\omega}{\\left(\\epsilon^{2} + \\omega^{2}\\right)^{0.5}}\\\\1.0\\end{matrix}\\right]\\right ]\\right )\\right ]\\right )$$"
      ],
      "text/plain": [
       "⎛                              ⎡⎛          0.5     ⎡⎡                     -0.5\n",
       "⎜⎡     0        -ε + 1.0⋅ⅈ⋅ω⎤  ⎢⎜ ⎛ 2    2⎞        ⎢⎢            ⎛ 2    2⎞    \n",
       "⎜⎢                          ⎥, ⎢⎜-⎝ε  + ω ⎠   , 1, ⎢⎢-(-ε + ⅈ⋅ω)⋅⎝ε  + ω ⎠    \n",
       "⎜⎣-ε - 1.0⋅ⅈ⋅ω       0      ⎦  ⎢⎜                  ⎢⎢                         \n",
       "⎝                              ⎣⎝                  ⎣⎣           1.0           \n",
       "\n",
       "⎤⎤⎞  ⎛         0.5     ⎡⎡                    -0.5⎤⎤⎞⎤⎞\n",
       "⎥⎥⎟  ⎜⎛ 2    2⎞        ⎢⎢           ⎛ 2    2⎞    ⎥⎥⎟⎥⎟\n",
       "⎥⎥⎟, ⎜⎝ε  + ω ⎠   , 1, ⎢⎢(-ε + ⅈ⋅ω)⋅⎝ε  + ω ⎠    ⎥⎥⎟⎥⎟\n",
       "⎥⎥⎟  ⎜                 ⎢⎢                        ⎥⎥⎟⎥⎟\n",
       "⎦⎦⎠  ⎝                 ⎣⎣          1.0           ⎦⎦⎠⎦⎠"
      ]
     },
     "execution_count": 8,
     "metadata": {},
     "output_type": "execute_result"
    }
   ],
   "source": [
    "w,eps=symbols('omega epsilon'); H=H0-eps*pauli(1); H, H.eigenvects()"
   ]
  },
  {
   "cell_type": "code",
   "execution_count": 12,
   "metadata": {},
   "outputs": [
    {
     "data": {
      "image/png": "[encoded data removed]",
      "text/latex": [
       "$$1 + \\frac{x^{2}}{2} + \\mathcal{O}\\left(x^{3}\\right)$$"
      ],
      "text/plain": [
       "     2        \n",
       "    x     ⎛ 3⎞\n",
       "1 + ── + O⎝x ⎠\n",
       "    2         "
      ]
     },
     "execution_count": 12,
     "metadata": {},
     "output_type": "execute_result"
    }
   ],
   "source": [
    "x = symbols('x'); series(sqrt(1+x**2),x0=0,n=3)"
   ]
  },
  {
   "cell_type": "markdown",
   "metadata": {},
   "source": [
    "---\n",
    "# Exercícios\n",
    "\n",
    "1. Verifique que a constante de normalização na eq. $(\\star)$, considerada $\\in\\mathbb{R}$, é dada por $N_{n} = 1/\\sqrt{1+\\langle\\chi_{n}|\\chi_{n}\\rangle}$, i.e., verifique que $|\\psi_{n}\\rangle=(|\\psi_{n}^{(0)}\\rangle+|\\chi_{n}\\rangle)/\\sqrt{1+\\langle\\chi_{n}|\\chi_{n}\\rangle}$.\n",
    "\n",
    "1. Considere o Hamiltoniano $H=H_{0}+H_{1}$ com $H_{0}=\\omega\\sigma_{z}=\\omega\\begin{bmatrix}1&0\\\\0&-1\\end{bmatrix}$ e Hamiltoniano perturbativo $H_{1}=\\epsilon\\sigma_{x}$, i.e., $\\omega\\gg\\epsilon$. Calcule as correções perturbativas de primeira e de segunda ordens para as auto-energias desse sistema. Calcule os autovetores de $H$ com correção perturbativa de primeira ordem.\n",
    "\n",
    "1. Para espectros discretos não degenerados, obtenha as expressões que devemos usar para calcular as correções perturbativas de 4ª ordem para as autoenergias, $E_{n}^{(4)}$, e de 3ª ordem para as autofunções, $|\\psi_{n}^{(3)}\\rangle$."
   ]
  },
  {
   "cell_type": "code",
   "execution_count": null,
   "metadata": {},
   "outputs": [],
   "source": []
  }
 ],
 "metadata": {
  "kernelspec": {
   "display_name": "Python 3 (ipykernel)",
   "language": "python",
   "name": "python3"
  },
  "language_info": {
   "codemirror_mode": {
    "name": "ipython",
    "version": 3
   },
   "file_extension": ".py",
   "mimetype": "text/x-python",
   "name": "python",
   "nbconvert_exporter": "python",
   "pygments_lexer": "ipython3",
   "version": "3.8.11"
  }
 },
 "nbformat": 4,
 "nbformat_minor": 2
}
