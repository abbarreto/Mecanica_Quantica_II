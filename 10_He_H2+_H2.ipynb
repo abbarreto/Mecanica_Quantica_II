{
 "cells": [
  {
   "cell_type": "markdown",
   "id": "4ae46450",
   "metadata": {},
   "source": [
    "### Notas de aula de Mecânica Quântica <br> Autor: Jonas Maziero"
   ]
  },
  {
   "cell_type": "code",
   "execution_count": 1,
   "id": "38654557",
   "metadata": {},
   "outputs": [],
   "source": [
    "%run init.ipynb"
   ]
  },
  {
   "cell_type": "markdown",
   "id": "a5fd24a0",
   "metadata": {},
   "source": [
    "## O estado fundamental do átomo de Hélio $(He)$\n",
    "O átomo de Hélio é constituído por 2 elétrons, 2 prótons e 2 nêutrons. Considerando somente energia cinética não relativística e energia potencial devido à interação coulombiana, e considerando o núcleo parado, o hamiltoniano deste átomo pode ser escrito como segue:\n",
    "$$H = -\\frac{\\hbar^{2}}{2m_{e}}\\big(\\nabla_{1}^{2}+\\nabla_{2}^{2}\\big)-ke^{2}\\Big(\\frac{2}{r_{1}}+\\frac{2}{r_{2}}-\\frac{1}{||\\vec{r}_{1}-\\vec{r}_{2}||}\\Big). $$\n",
    "Nesta equação o índice $s=1,2$ refere-se ao elétron $1,2$.\n",
    "\n",
    "Nosso problema é calcular teoricamente a energia do estado fundamental deste átomo. Essa energia é igual à energia necessária para arrancar os 2 elétrons do átomo, e o valor dessa energia é conhecido experimentalmente:\n",
    "$$E_{0}^{exp} \\approx -78.935\\text{ eV}.$$\n",
    "\n",
    "<img src='fig_He.png' width='250'>"
   ]
  },
  {
   "cell_type": "markdown",
   "id": "7ca73989",
   "metadata": {},
   "source": [
    "A dificuldade em se resolver este problema se deve ao termo de repulsão elétron-elétron:\n",
    "$$U_{ee} = \\frac{ke^{2}}{||\\vec{r}_{1}-\\vec{r}_{2}||}.$$\n",
    "Se ignoramos esse termo, o hamiltoniano fica escrito como\n",
    "$$H_{i} = -\\frac{\\hbar^{2}}{2m_{e}}\\nabla_{1}^{2}-\\frac{2ke^{2}}{r_{1}}-\\frac{\\hbar^{2}}{2m_{e}}\\nabla_{2}^{2}-\\frac{2ke^{2}}{r_{2}} = H_{1}^{h}+H_{2}^{h},$$\n",
    "que equivale à soma dos hamiltonianos de 2 átomos hidrogenóides independentes com número atômico $Z=2$. Seja $\\psi_{nlm_{l}}^{(j)}$ a autofunção de $H_{j}^{h}$. Teremos assim que\n",
    "$$H_{i}\\psi_{nlm_{l}}^{(1)}\\psi_{n'l'm_{l}'}^{(2)} = \\big(E_{n}^{(0)}+E_{n'}^{(0)}\\big)\\psi_{nlm_{l}}^{(1)}\\psi_{n'l'm_{l}'}^{(2)},$$\n",
    "com\n",
    "$$E_{n}^{(0)} = -\\frac{m_{e} Z^{2}k^{2}e^{4}}{2\\hbar^{2}}\\frac{1}{n^{2}} = Z^{2}\\Big(-\\frac{m_{e}k^{2}e^{4}}{2\\hbar^{2}}\\Big)\\frac{1}{n^{2}} = Z^{2}\\frac{E_{1}^{(0)}}{n^{2}},$$\n",
    "em que usamos \n",
    "$$E_{1}^{(0)} = -\\frac{m_{e}k^{2}e^{4}}{2\\hbar^{2}} = -\\frac{ke^{2}}{2a_{0}}.$$\n",
    "Com isso, para o estado fundamental teremos a seguinte aproximação para a energia (hamiltoniano de elétrons independentes):\n",
    "$$E_{0}^{ei} = 2(2^{2})E_{1}^{(0)} \\approx -108.85\\text{ eV}.$$\n",
    "Note, essa é só uma 1ª aproximação, sem uso do método variacional."
   ]
  },
  {
   "cell_type": "code",
   "execution_count": 43,
   "id": "339e137b",
   "metadata": {},
   "outputs": [
    {
     "data": {
      "image/png": "[encoded data removed]",
      "text/latex": [
       "$\\displaystyle \\left( -13.6056949477175, \\  -108.84555958174\\right)$"
      ],
      "text/plain": [
       "(-13.605694947717485, -108.84555958173988)"
      ]
     },
     "execution_count": 43,
     "metadata": {},
     "output_type": "execute_result"
    }
   ],
   "source": [
    "E10 = (-(me*k**2*e**4)/(2*hb**2))/e; E10, 2*2**2*(-(me*k**2*e**4)/(2*hb**2))/e"
   ]
  },
  {
   "cell_type": "markdown",
   "id": "bf7beb2c",
   "metadata": {},
   "source": [
    "Para melhorar essa aproximação, ainda sem parâmetros variacionais, vamos usar como função de onda teste a autofunção de elétrons independentes:\n",
    "$$\\phi = \\psi_{100}^{(1)}\\psi_{100}^{(2)} = \\frac{8}{\\pi a_{0}^{3}}e^{-2(r_{1}+r_{2})/a_{0}},$$\n",
    "em que usamos (https://github.com/jonasmaziero/mecanica_quantica_1900-1925/blob/master/16_hidrogenio.ipynb) $$\\psi_{1,0,0}(r,\\theta,\\phi) = \\left(\\frac{Z^{3}}{\\pi a_{0}^{3}}\\right)^{1/2}e^{-Zr/a_{0}}.$$\n",
    "Teremos assim que\n",
    "$$\\langle H\\rangle_{\\phi} = -108.85\\text{ eV} + \\langle U_{ee}\\rangle,$$\n",
    "em que\n",
    "\\begin{align}\n",
    "\\langle U_{ee}\\rangle & = \\iint d^{3}r_{1}d^{3}r_{2} U_{ee}|\\phi|^{2} = ke^{2}\\Big(\\frac{8}{\\pi a_{0}^{3}}\\Big)^{2}\\iint d^{3}r_{1}d^{3}r_{2} \\frac{e^{-4(r_{1}+r_{2})/a_{0}}}{||\\vec{r}_{1}-\\vec{r}_{2}||} \\\\\n",
    "&  = ke^{2}\\Big(\\frac{8}{\\pi a_{0}^{3}}\\Big)^{2}\\int d^{3}r_{1}e^{-4r_{1}/a_{0}}\\int d^{3}r_{2} \\frac{e^{-4r_{2}/a_{0}}}{||\\vec{r}_{1}-\\vec{r}_{2}||}.\n",
    "\\end{align}"
   ]
  },
  {
   "cell_type": "markdown",
   "id": "1e8dda51",
   "metadata": {},
   "source": [
    "<img src='fig_He_referencial.png' width='300'>\n",
    "\n",
    "Usemos \n",
    "\\begin{align}\n",
    "||\\vec{r}_{1}-\\vec{r}_{2}|| & = \\sqrt{(\\vec{r}_{1}-\\vec{r}_{2})\\cdot(\\vec{r}_{1}-\\vec{r}_{2})} = \\sqrt{r_{1}^{2}+r_{2}^{2}-2\\vec{r}_{1}\\cdot\\vec{r}_{2}} \\\\\n",
    "& = \\sqrt{r_{1}^{2}+r_{2}^{2}-2r_{1}r_{2}\\cos\\theta_{2}},\n",
    "\\end{align}\n",
    "em que $\\theta_{2}$ é o ângulo entre $\\vec{r}_{1}$ e $\\vec{r}_{2}$, para fazer primeiro a integral sobre o elétron 2:\n",
    "\\begin{align}\n",
    "\\int d^{3}r_{2} \\frac{e^{-4r_{2}/a_{0}}}{||\\vec{r}_{1}-\\vec{r}_{2}||} & = \\int_{0}^{\\infty}\\int_{0}^{\\pi}\\int_{0}^{2\\pi} r_{2}^{2}\\sin\\theta_{2}dr_{2}d\\theta_{2}d\\phi_{2} \\frac{e^{-4r_{2}/a_{0}}}{\\sqrt{r_{1}^{2}+r_{2}^{2}-2r_{1}r_{2}\\cos\\theta_{2}}} \\\\\n",
    "& = 2\\pi\\int_{0}^{\\infty}dr_{2}r_{2}^{2}e^{-4r_{2}/a_{0}}\\int_{0}^{\\pi}\\frac{d\\theta_{2}\\sin\\theta_{2}}{\\sqrt{r_{1}^{2}+r_{2}^{2}-2r_{1}r_{2}\\cos\\theta_{2}}} \\\\\n",
    "& = 2\\pi\\int_{0}^{\\infty}dr_{2}r_{2}^{2}e^{-4r_{2}/a_{0}}\\int u^{-1/2}\\frac{du}{2r_{1}r_{2}} \\\\\n",
    "& = \\frac{\\pi}{r_{1}}\\int_{0}^{\\infty}dr_{2}r_{2}e^{-4r_{2}/a_{0}}\\Big(\\frac{u^{1/2}}{1/2}\\Big) \\\\\n",
    "& = \\frac{2\\pi}{r_{1}}\\int_{0}^{\\infty}dr_{2}r_{2}e^{-4r_{2}/a_{0}}\\Big[\\sqrt{r_{1}^{2}+r_{2}^{2}-2r_{1}r_{2}\\cos\\theta_{2}}\\Big]_{0}^{\\pi} \\\\\n",
    "& = \\frac{2\\pi}{r_{1}}\\int_{0}^{\\infty}dr_{2}r_{2}e^{-4r_{2}/a_{0}}\\Big(\\sqrt{r_{1}^{2}+r_{2}^{2}+2r_{1}r_{2}} - \\sqrt{r_{1}^{2}+r_{2}^{2}-2r_{1}r_{2}}\\Big) \\\\\n",
    "& = \\frac{2\\pi}{r_{1}}\\int_{0}^{\\infty}dr_{2}r_{2}e^{-4r_{2}/a_{0}}\\Big(\\sqrt{(r_{1}+r_{2})^{2}} - \\sqrt{(r_{1}-r_{2})^{2}}\\Big) \\\\\n",
    "& = \\frac{2\\pi}{r_{1}}\\int_{0}^{\\infty}dr_{2}r_{2}e^{-4r_{2}/a_{0}}\\big(r_{1}+r_{2} - |r_{1}-r_{2}|\\big) \\\\\n",
    "& = \\frac{2\\pi}{r_{1}}\\int_{0}^{\\infty}dr_{2}r_{2}e^{-4r_{2}/a_{0}}\\times\\begin{cases} 2r_{2} \\text{ se } r_{1}\\ge r_{2}, \\\\\n",
    "2r_{1} \\text{ se } r_{1}<r_{2},\\end{cases} \\\\\n",
    "& = \\frac{4\\pi}{r_{1}}\\Big( \\int_{0}^{r_{1}}dr_{2}r_{2}^{2}e^{-4r_{2}/a_{0}} + r_{1}\\int_{r_{1}}^{\\infty}dr_{2}r_{2}e^{-4r_{2}/a_{0}} \\Big),\n",
    "\\end{align}\n",
    "em que fizemos a mudança de variável $u = r_{1}^{2}+r_{2}^{2}-2r_{1}r_{2}\\cos\\theta_{2}\\ \\therefore\\ du = 2r_{1}r_{2}\\sin\\theta_{2}d\\theta_{2}$."
   ]
  },
  {
   "cell_type": "markdown",
   "id": "3ab1c288",
   "metadata": {},
   "source": [
    "Faremos uso de integração por partes:\n",
    "\\begin{align}\n",
    "\\int xe^{-ax}dx = x\\frac{e^{-ax}}{-a} - \\int \\frac{e^{-ax}}{-a}dx = -\\frac{1}{a}\\Big(x+\\frac{1}{a}\\Big)e^{-ax},\n",
    "\\end{align}\n",
    "em que usamos $u=x\\ \\therefore\\ du=dx$ e $dv = e^{-ax}dx\\ \\therefore\\ v = \\frac{e^{-ax}}{-a}$.\n",
    "\n",
    "Também precisamos de\n",
    "\\begin{align}\n",
    "\\int x^{2}e^{-ax}dx & = x^{2}\\frac{e^{-ax}}{-a} - \\int \\frac{e^{-ax}}{-a}2xdx = -\\frac{1}{a}\\Big(x^{2}e^{-ax} - 2\\int xe^{-ax}dx\\Big) \\\\\n",
    "& = -\\frac{1}{a}\\Big(x^{2}e^{-ax} - 2(-1)\\frac{1}{a}\\Big(x+\\frac{1}{a}\\Big)e^{-ax}\\Big) \\\\\n",
    "& = -\\frac{1}{a}\\Big(x^{2} +\\frac{2}{a}\\Big(x+\\frac{1}{a}\\Big)\\Big)e^{-ax},\n",
    "\\end{align}\n",
    "em que usamos $u=x^{2}\\ \\therefore\\ du=2xdx$ e $dv = e^{-ax}dx\\ \\therefore\\ v = \\frac{e^{-ax}}{-a}$."
   ]
  },
  {
   "cell_type": "code",
   "execution_count": 23,
   "id": "5079c7d2",
   "metadata": {},
   "outputs": [
    {
     "data": {
      "image/png": "[encoded data removed]",
      "text/latex": [
       "$\\displaystyle \\left( \\frac{\\left(- a x - 1\\right) e^{- a x}}{a^{2}}, \\  \\frac{\\left(- a^{2} x^{2} - 2 a x - 2\\right) e^{- a x}}{a^{3}}\\right)$"
      ],
      "text/plain": [
       "⎛            -a⋅x  ⎛   2  2            ⎞  -a⋅x⎞\n",
       "⎜(-a⋅x - 1)⋅ℯ      ⎝- a ⋅x  - 2⋅a⋅x - 2⎠⋅ℯ    ⎟\n",
       "⎜────────────────, ───────────────────────────⎟\n",
       "⎜        2                       3            ⎟\n",
       "⎝       a                       a             ⎠"
      ]
     },
     "execution_count": 23,
     "metadata": {},
     "output_type": "execute_result"
    }
   ],
   "source": [
    "x = symbols('x'); a = symbols('a', positive=True)\n",
    "integrate(x*exp(-a*x), x), integrate(x**2*exp(-a*x), x)"
   ]
  },
  {
   "cell_type": "markdown",
   "id": "1092ad88",
   "metadata": {},
   "source": [
    "Assim \n",
    "\\begin{align}\n",
    "\\int_{0}^{r_{1}}dr_{2}r_{2}^{2}e^{-4r_{2}/a_{0}} & = \\Big[-\\frac{a_{0}}{4}\\Big(r_{2}^{2} +\\frac{2a_{0}}{4}\\Big(r_{2}+\\frac{a_{0}}{4}\\Big)\\Big)e^{-4r_{2}/a_{0}}\\Big]_{0}^{r_{1}} \\\\\n",
    "& = -\\frac{a_{0}}{4}\\Big(r_{1}^{2} +\\frac{2a_{0}}{4}\\Big(r_{1}+\\frac{a_{0}}{4}\\Big)\\Big)e^{-4r_{1}/a_{0}} + \\frac{a_{0}}{4}\\Big(0^{2} +\\frac{2a_{0}}{4}\\Big(0+\\frac{a_{0}}{4}\\Big)\\Big)e^{-40/a_{0}} \\\\\n",
    "& = -\\frac{a_{0}}{4}\\Big(r_{1}^{2} +\\frac{a_{0}}{2}\\Big(r_{1}+\\frac{a_{0}}{4}\\Big)\\Big)e^{-4r_{1}/a_{0}} + \\frac{a_{0}^{3}}{32}\n",
    "\\end{align}\n",
    "e \n",
    "\\begin{align}\n",
    "\\int_{r_{1}}^{\\infty}dr_{2}r_{2}e^{-4r_{2}/a_{0}} & = \\Big[ -\\frac{a_{0}}{4}\\Big(r_{2}+\\frac{a_{0}}{4}\\Big)e^{-4r_{2}/a_{0}}\\Big]_{r_{1}}^{\\infty} \\\\\n",
    "& = 0 + \\frac{a_{0}}{4}\\Big(r_{1}+\\frac{a_{0}}{4}\\Big)e^{-4r_{1}/a_{0}}.\n",
    "\\end{align}\n",
    "Por conseguinte\n",
    "\\begin{align}\n",
    "\\int d^{3}r_{2} \\frac{e^{-4r_{2}/a_{0}}}{||\\vec{r}_{1}-\\vec{r}_{2}||} & = \\frac{4\\pi}{r_{1}}\\Big( -\\frac{a_{0}}{4}\\Big(r_{1}^{2} +\\frac{a_{0}}{2}\\Big(r_{1}+\\frac{a_{0}}{4}\\Big)\\Big)e^{-4r_{1}/a_{0}} + \\frac{a_{0}^{3}}{32} + r_{1}\\frac{a_{0}}{4}\\Big(r_{1}+\\frac{a_{0}}{4}\\Big)e^{-4r_{1}/a_{0}} \\Big) \\\\\n",
    "& = \\frac{\\pi a_{0}^{3}}{8r_{1}}\\Big(1 -\\frac{32}{a_{0}^{3}}\\frac{a_{0}}{4}\\Big(r_{1}^{2} +\\frac{a_{0}}{2}\\Big(r_{1}+\\frac{a_{0}}{4}\\Big)-r_{1}^{2} - \\frac{a_{0}r_{1}}{4}\\Big)e^{-4r_{1}/a_{0}} \\Big) \\\\\n",
    "& = \\frac{\\pi a_{0}^{3}}{8r_{1}}\\Big(1 -\\frac{8}{a_{0}^{2}}\\frac{a_{0}}{2}\\Big(\\frac{r_{1}}{2}+\\frac{a_{0}}{4}\\Big)e^{-4r_{1}/a_{0}} \\Big) \\\\\n",
    "& = \\frac{\\pi a_{0}^{3}}{8r_{1}}\\Big(1 -\\Big(\\frac{2r_{1}}{a_{0}}+1\\Big)e^{-4r_{1}/a_{0}} \\Big).\n",
    "\\end{align}"
   ]
  },
  {
   "cell_type": "markdown",
   "id": "55e88b5e",
   "metadata": {},
   "source": [
    "Com isso, podemos voltar ao cálculo do valor médio da interação elétron-elétron\n",
    "\\begin{align}\n",
    "\\langle U_{ee}\\rangle & = ke^{2}\\Big(\\frac{8}{\\pi a_{0}^{3}}\\Big)^{2}\\int d^{3}r_{1}e^{-4r_{1}/a_{0}}\\frac{\\pi a_{0}^{3}}{8r_{1}}\\Big(1 -\\Big(\\frac{2r_{1}}{a_{0}}+1\\Big)e^{-4r_{1}/a_{0}} \\Big) \\\\\n",
    "& = ke^{2}\\frac{8}{\\pi a_{0}^{3}}\\int_{0}^{2\\pi}d\\phi_{1}\\int_{0}^{\\pi}\\sin\\theta_{1}d\\theta_{1}\\int_{0}^{\\infty}r_{1}^{2}dr_{1}e^{-4r_{1}/a_{0}}\\frac{1}{r_{1}}\\Big(1 -\\Big(\\frac{2r_{1}}{a_{0}}+1\\Big)e^{-4r_{1}/a_{0}} \\Big) \\\\\n",
    "& = ke^{2}\\frac{8}{\\pi a_{0}^{3}}4\\pi\\int_{0}^{\\infty}dr_{1}\\Big(r_{1}e^{-4r_{1}/a_{0}} -\\Big(\\frac{2r_{1}^{2}}{a_{0}}+r_{1}\\Big)e^{-8r_{1}/a_{0}} \\Big) \\\\\n",
    "& = \\frac{32ke^{2}}{a_{0}^{3}}\\Big(\\Big[-\\frac{a_{0}}{4}\\Big(r_{1}+\\frac{a_{0}}{4}\\Big)e^{-4r_{1}/a_{0}}\\Big]_{0}^{\\infty} -\\frac{2}{a_{0}}\\Big[-\\frac{a_{0}}{8}\\Big(r_{1}^{2} +\\frac{2a_{0}}{8}\\Big(r_{1}+\\frac{a_{0}}{8}\\Big)\\Big)e^{-8r_{1}/a_{0}}\\Big]_{0}^{\\infty} \\\\\n",
    "& \\hspace{2.2cm} - \\Big[-\\frac{a_{0}}{8}\\Big(r_{1}+\\frac{a_{0}}{8}\\Big)e^{-8r_{1}/a_{0}}\\Big]_{0}^{\\infty}\\Big) \\\\\n",
    "& = \\frac{2^{5}ke^{2}}{a_{0}^{3}}\\Big(0+\\frac{a_{0}^{2}}{2^{4}} -\\frac{2}{a_{0}}\\Big(0+\\frac{a_{0}^{3}}{2^{8}}\\Big) - \\Big(0+\\frac{a_{0}^{2}}{2^{6}}\\Big)\\Big) \\\\\n",
    "& = \\frac{2^{5}ke^{2}}{a_{0}}\\frac{2^{3}-1-2^{1}}{2^{7}}  = \\frac{5ke^{2}}{4a_{0}} \\\\\n",
    "& \\approx 34.01 \\text{ eV}.\n",
    "\\end{align}"
   ]
  },
  {
   "cell_type": "code",
   "execution_count": 28,
   "id": "e5deea08",
   "metadata": {},
   "outputs": [
    {
     "data": {
      "image/png": "[encoded data removed]",
      "text/latex": [
       "$\\displaystyle \\left( 34.0142373692937, \\  -74.84\\right)$"
      ],
      "text/plain": [
       "(34.01423736929372, -74.84)"
      ]
     },
     "execution_count": 28,
     "metadata": {},
     "output_type": "execute_result"
    }
   ],
   "source": [
    "((5*k*e**2)/(4*a0))/e, -108.85+34.01"
   ]
  },
  {
   "cell_type": "markdown",
   "id": "a5eaba93",
   "metadata": {},
   "source": [
    "Com isso, temos que o limite superior para a energia do estado fundamental do átomo de Hélio estimada usando como função de onda teste o produto das funções de onda dos elétrons independentes:\n",
    "\\begin{align}\n",
    "\\langle H\\rangle_{\\phi} & \\approx -108.85\\text{ eV} + 34.01 \\text{ eV} \\\\\n",
    "& = -74.84\\text{ eV},\n",
    "\\end{align}\n",
    "que está razoavelmente próximo do valor experimental, que é $E_{0}^{exp} \\approx -78.935\\text{ eV}.$\n",
    "\n",
    "Podemos, claro, melhorar este resultado. Notemos que ainda não fizemos nenhuma optimização sobre parâmetros variacionais. Uma dica sobre que parâmetro é esse pode ser obtida notando-se que estamos usando uma \"imagem\" clássica de elétrons pontuais, quando na verdade eles são objetos quânticos espalhados no espaço. Esse espraiamento faz com que um elétron blinde o núcleo, fazendo com que o outro elétron interaja efetivamente com menos que $Z$ prótons. Para incluir esse efeito, vamos usar a função de onda teste\n",
    "\\begin{align}\n",
    "\\phi & = \\psi_{1,0,0}(r_{1},\\theta_{1},\\phi_{1})\\psi_{1,0,0}(r_{2},\\theta_{2},\\phi_{2}) \\\\\n",
    "& = \\frac{Z^{3}}{\\pi a_{0}^{3}}e^{-Z(r_{1}+r_{2})/a_{0}} = \\phi(r_{1},r_{2},Z). \\hspace{1cm} (*)\n",
    "\\end{align}\n",
    "Como no método variacional não modificamos o Hamiltoniano do sistema, para utilizar os resultados conhecidos, vamos reescrever o Hamiltoniano do átomo de Hélio como segue\n",
    "$$H = -\\frac{\\hbar^{2}}{2m_{e}}\\big(\\nabla_{1}^{2}+\\nabla_{2}^{2}\\big)-ke^{2}\\Big(\\frac{Z}{r_{1}}+\\frac{Z}{r_{2}}\\Big) + ke^{2}\\Big(\\frac{Z-2}{r_{1}}+\\frac{Z-2}{r_{2}}+\\frac{1}{||\\vec{r}_{1}-\\vec{r}_{2}||}\\Big). \\hspace{1cm} (\\star)$$"
   ]
  },
  {
   "cell_type": "markdown",
   "id": "a5c0aa10",
   "metadata": {},
   "source": [
    "Os 2 primeiros termos correspondem à soma de Hamiltonianos de 2 átomos hidrogenóides com nº atômico $Z$. Assim, pela forma da função de onda teste, pode-se verificar que\n",
    "\\begin{align}\n",
    "\\langle H\\rangle_{\\phi} & = 2Z^{2}E_{1}^{(0)} + 2ke^{2}(Z-2)\\Big\\langle\\frac{1}{r}\\Big\\rangle_{\\psi_{100}} + \\langle U_{ee}\\rangle_{\\phi} \\\\\n",
    "& = 2Z^{2}E_{1}^{(0)} + 2ke^{2}(Z-2)\\frac{Z}{a_{0}} + \\frac{Z}{2}\\frac{5ke^{2}}{4a_{0}}  \\hspace{1cm} (\\diamond) \\\\\n",
    "& = 2Z^{2}E_{1}^{(0)} + 4(Z^{2}-2Z)\\frac{ke^{2}}{2a_{0}} + \\frac{5Z}{4}\\frac{ke^{2}}{2a_{0}} \\\\\n",
    "& = \\Big(2Z^{2} - 4(Z^{2}-2Z) - \\frac{5Z}{4}\\Big)E_{1}^{(0)} \\\\\n",
    "& = \\Big(-2Z^{2} + (8-5/4)Z\\Big)E_{1}^{(0)}.\n",
    "\\end{align}\n",
    "\n",
    "Obtemos o parâmetro variacional ótimo de\n",
    "\\begin{align}\n",
    "& \\partial_{Z}\\langle H\\rangle_{\\phi} = 0 \\ \\therefore\\ \\big(-4Z_{opt}+(8-5/4)\\big)E_{1}^{(0)}=0 \\\\\n",
    "& \\therefore\\ Z_{opt} = \\frac{8-5/4}{4} = 1.6875.\n",
    "\\end{align}\n",
    "\n",
    "Usando este valor de $Z$, teremos a seguinte estimativa variacional para a energia do estado fundamental do átomo de Hélio:\n",
    "$$\\langle H\\rangle_{\\phi} \\approx -77.49\\text{ eV},$$\n",
    "que está ainda mais próxima do valor experimental $E_{0}^{exp} \\approx -78.935\\text{ eV}.$\n",
    "\n",
    "Pode-se continuar melhorando esse resultado pela adição de mais parâmetros variacionais na função de onda teste, como já foi feito na literatura."
   ]
  },
  {
   "cell_type": "code",
   "execution_count": 41,
   "id": "80f4f44d",
   "metadata": {},
   "outputs": [
    {
     "data": {
      "image/png": "[encoded data removed]",
      "text/latex": [
       "$\\displaystyle 1.6875$"
      ],
      "text/plain": [
       "1.6875"
      ]
     },
     "execution_count": 41,
     "metadata": {},
     "output_type": "execute_result"
    }
   ],
   "source": [
    "Z = (8-5/4)/4; Z"
   ]
  },
  {
   "cell_type": "code",
   "execution_count": 44,
   "id": "2a225cd8",
   "metadata": {},
   "outputs": [
    {
     "data": {
      "image/png": "[encoded data removed]",
      "text/latex": [
       "$\\displaystyle -77.4886845069222$"
      ],
      "text/plain": [
       "-77.48868450692224"
      ]
     },
     "execution_count": 44,
     "metadata": {},
     "output_type": "execute_result"
    }
   ],
   "source": [
    "(-2*Z**2 + (8-5/4)*Z)*E10"
   ]
  },
  {
   "cell_type": "markdown",
   "id": "80c17131",
   "metadata": {},
   "source": [
    "## Íon da molécula de hidrogênio $(H_{2}^{+})$\n",
    "\n",
    "Neste caso temos um sistema quântico constituído por 2 prótons e 1 elétron. Consideremos que os 2 prótons estão fixos a uma distância $R$ um do outro. Um os dos principais produtos do nosso cálculo será obter uma estimativa para o valor de $R$. Teremos assim que o hamiltoniano desse sistema será\n",
    "$$H = -\\frac{\\hbar^{2}}{2m_{e}}\\nabla^{2} -ke^{2}\\Big(\\frac{1}{r_{1}}+\\frac{1}{r_{2}}\\Big).$$\n",
    "A energia de repulsão entre os prótons, $ke^{2}/R$, pode ser incluída depois que obtermos $R$, que por enquanto será considerado fixo. \n",
    "\n",
    "<img src='fig_H2+.png' width='250'>\n",
    "\n",
    "Se ignoramos um dos prótons, a função de onda é aquela do átomo de hidrogênio. Para o estado fundamental\n",
    "$$\\psi_{0}(r) = \\frac{1}{\\sqrt{\\pi a_{0}^{3}}}e^{-r/a_{0}}.$$\n",
    "\n",
    "Assim, como uma 1ª tentativa de função de onda variacional, podemos usar\n",
    "$$\\phi = A\\big(\\psi_{0}(r_{1})+\\psi_{0}(r_{2})\\big).$$\n",
    "Esse tipo de função de onda molecular é usualmente chamado de CLOA, que a sigla para Combinação Linear de Orbitais Atômicos (__LCAO__, que é a sigla para Linear Combination of Atomic Orbitals). Pela simetria do sistema por troca dos prótons, temos que os módulos dos coeficientes na combinação linear devem ser iguais. Usaremos o sinal de mais, que leva a um estado ligado. Ficará como exercício mostrar que o uso do sinal de menos leva a um estado não ligado."
   ]
  },
  {
   "cell_type": "code",
   "execution_count": 14,
   "id": "2329ef9f",
   "metadata": {},
   "outputs": [
    {
     "data": {
      "image/png": "[encoded data removed]",
      "text/latex": [
       "$\\displaystyle 1$"
      ],
      "text/plain": [
       "1"
      ]
     },
     "execution_count": 14,
     "metadata": {},
     "output_type": "execute_result"
    }
   ],
   "source": [
    "r, a0 = symbols('r a_{0}', positive=True)\n",
    "integrate(r**2*(1/(pi*a0**3))*exp(-2*r/a0),(r,0,oo))*4*pi # ok psi0 esta normalizada"
   ]
  },
  {
   "cell_type": "markdown",
   "id": "5d2c21b2",
   "metadata": {},
   "source": [
    "Normalizando\n",
    "\\begin{align}\n",
    "& \\int d^{3}r |\\phi|^{2} = 1 = |A|^{2}\\int d^{3}r\\big(|\\psi_{0}(r_{1})|^{2}+|\\psi_{0}(r_{2})|^{2}+2\\psi_{0}(r_{1})\\psi_{0}(r_{2})\\big) \\\\\n",
    "& = |A|^{2}\\Big(1+1+\\frac{2}{\\pi a_{0}^{3}}\\int d^{3}r e^{-(r_{1}+r_{2})/a_{0}}\\big) =: |A|^{2}2(1+I), \\\\\n",
    "& \\therefore A = \\frac{1}{\\sqrt{2(1+I)}}.\n",
    "\\end{align}\n",
    "\n",
    "<img src='fig_H2+_ref1.png' width='300'>\n",
    "\n",
    "Seguindo, escolhemos o referencial de forma que o próton 1 está na orgigem e o próton 2 está no eixo positivo $z$. Teremos assim que\n",
    "$$r_{1}=r \\text{ e } r_{2} =r'= \\sqrt{r^{2}+R^{2}-2rR\\cos\\theta},$$\n",
    "em que $\\theta$ é o ângulo entre $\\vec{r}$ e o eixo $z$ ($\\hat{k}$). Com isso, teremos que a chamada __integral de sobreposição__ (de _overlap_) é\n",
    "\\begin{align}\n",
    "I & = \\langle\\psi_{0}(r_{1})|\\psi_{0}(r_{2})\\rangle = \\int d^{3}r \\psi_{0}(r_{1})^{*}\\psi_{0}(r_{2})\\\\\n",
    "& = \\frac{1}{\\pi a_{0}^{3}}\\int d^{3}r e^{-(r_{1}+r_{2})/a_{0}} = \\int_{0}^{\\infty}r^{2}dr\\int_{0}^{\\pi}\\sin\\theta d\\theta e^{-\\big(r+\\sqrt{r^{2}+R^{2}-2rR\\cos\\theta}\\big)/a_{0}}\\int_{0}^{2\\pi}d\\phi \\\\\n",
    "& = 2\\pi\\frac{1}{\\pi a_{0}^{3}}\\int_{0}^{\\infty}r^{2}e^{-r/a_{0}}dr\\int_{0}^{\\pi}\\sin\\theta d\\theta e^{-\\sqrt{r^{2}+R^{2}-2rR\\cos\\theta}/a_{0}}.\n",
    "\\end{align}"
   ]
  },
  {
   "cell_type": "markdown",
   "id": "12e02442",
   "metadata": {},
   "source": [
    "Seguindo, fazemos a seguinte mudança de variável\n",
    "\\begin{align}\n",
    "& y = \\sqrt{r^{2}+R^{2}-2rR\\cos\\theta}/a_{0} \\ \\therefore\\ a_{0}^{2}y^{2} = r^{2}+R^{2}-2rR\\cos\\theta \\\\\n",
    "& \\therefore\\ a_{0}^{2}d(y^{2}) = a_{0}^{2}2ydy = 2rR\\sin\\theta d\\theta \\ \\therefore\\ \\sin\\theta d\\theta =  \\frac{a_{0}^{2}ydy}{rR}; \\\\\n",
    "& \\begin{cases} \\theta = 0 \\ \\therefore\\ y = \\sqrt{(r-R)^{2}}/a_{0} = |r-R|/a_{0}, \\\\ \\theta = \\pi \\ \\therefore\\ y = \\sqrt{(r+R)^{2}}/a_{0} = (r+R)/a_{0} \\end{cases}.\n",
    "\\end{align}"
   ]
  },
  {
   "cell_type": "markdown",
   "id": "dd221a3d",
   "metadata": {},
   "source": [
    "Assim\n",
    "\\begin{align}\n",
    "I & = \\frac{1}{\\pi a_{0}^{3}}2\\pi\\int_{0}^{\\infty}r^{2}e^{-r/a_{0}}dr\\int_{|r-R|/a_{0}}^{(r+R)/a_{0}}\\frac{a_{0}^{2}ydy}{rR}e^{-y} \\\\\n",
    "& = \\frac{1}{\\pi a_{0}^{3}}\\frac{2\\pi a_{0}^{2}}{R}\\int_{0}^{\\infty}re^{-r/a_{0}}dr\\int_{|r-R|/a_{0}}^{(r+R)/a_{0}}ye^{-y}dy \\\\\n",
    "& = \\frac{1}{\\pi a_{0}^{3}}\\frac{2\\pi a_{0}^{2}}{R}\\int_{0}^{\\infty}re^{-r/a_{0}}dr\\Big(\\big[-ye^{-y}\\big]_{|r-R|/a_{0}}^{(r+R)/a_{0}} - \\int_{|r-R|/a_{0}}^{(r+R)/a_{0}}(-e^{-y})dy\\Big) \\\\\n",
    "& = \\frac{1}{\\pi a_{0}^{3}}\\frac{2\\pi a_{0}^{2}}{R}\\int_{0}^{\\infty}re^{-r/a_{0}}dr\\Big(-\\frac{r+R}{a_{0}}e^{-(r+R)/a_{0}}+\\frac{|r-R|}{a_{0}}e^{-|r-R|/a_{0}} -e^{-(r+R)/a_{0}} + e^{-|r-R|/a_{0}}\\Big) \\\\\n",
    "& = \\frac{1}{\\pi a_{0}^{3}}\\frac{2\\pi a_{0}}{R}\\int_{0}^{\\infty}re^{-r/a_{0}}dr\\Big(-\\big(r+R+a_{0}\\big)e^{-(r+R)/a_{0}}+\\big(|r-R|+a_{0}\\big)e^{-|r-R|/a_{0}}\\Big) \\\\\n",
    "& = \\frac{1}{\\pi a_{0}^{3}}\\frac{2\\pi a_{0}}{R}\\int_{0}^{\\infty}dr\\Big(-\\big(r^{2}+(R+a_{0})r\\big)e^{-(2r+R)/a_{0}}+\\big(r|r-R|+a_{0}r\\big)e^{-(r+|r-R|)/a_{0}}\\Big) \\\\\n",
    "& = -\\frac{1}{\\pi a_{0}^{3}}\\frac{2\\pi a_{0}}{R}\\Big(\\int_{0}^{\\infty}r^{2}e^{-(2r+R)/a_{0}}dr + (R+a_{0})\\int_{0}^{\\infty}re^{-(2r+R)/a_{0}}dr \\\\\n",
    "& \\hspace{2cm} - \\int_{0}^{R}\\big(r|r-R|+a_{0}r\\big)e^{-(r+|r-R|)/a_{0}} - \\int_{R}^{\\infty}\\big(r|r-R|+a_{0}r\\big)e^{-(r+|r-R|)/a_{0}}\\Big) \\\\\n",
    "& = -\\frac{1}{\\pi a_{0}^{3}}\\frac{2\\pi a_{0}}{R}\\Big(\\frac{a_{0}^{3}e^{-R/a_{0}}}{4} + \\frac{(R+a_{0})a_{0}^{2}e^{-R/a_{0}}}{4} - \\int_{0}^{R}\\big(r(R-r)+a_{0}r\\big)e^{-(r+R-r)/a_{0}} \\\\\n",
    "& \\hspace{2cm} - \\int_{R}^{\\infty}\\big(r(r-R)+a_{0}r\\big)e^{-(r+r-R)/a_{0}}\\Big) \\\\\n",
    "& = -\\frac{1}{\\pi a_{0}^{3}}\\frac{2\\pi a_{0}}{R}\\Big(\\frac{a_{0}^{3}e^{-R/a_{0}}}{4} + \\frac{(R+a_{0})a_{0}^{2}e^{-R/a_{0}}}{4} - \\frac{R^{2}(R+3a_{0})}{6} - \\frac{a_{0}^{2}(3R+2a_{0})e^{-R/a_{0}}}{4}\\Big) \\\\\n",
    "& = \\frac{1}{\\pi a_{0}^{3}}\\pi a_{0}^{3}\\big(R^{2}/3a_{0}^{2} + R/a_{0}+1\\big)e^{-R/a_{0}} \\\\\n",
    "& = \\big(R^{2}/3a_{0}^{2} + R/a_{0}+1\\big)e^{-R/a_{0}},\n",
    "\\end{align}\n",
    "em que usamos integração por partes: $u=y\\ \\therefore\\ du=dy$ e $dv=e^{-y}dy\\ \\therefore\\ v = -e^{-y}$. Também usamos as integrais abaixo."
   ]
  },
  {
   "cell_type": "code",
   "execution_count": 19,
   "id": "f1a109fd",
   "metadata": {},
   "outputs": [],
   "source": [
    "A0,r,R = symbols('a_{0} r R', positive=True)"
   ]
  },
  {
   "cell_type": "code",
   "execution_count": 12,
   "id": "63acadf8",
   "metadata": {},
   "outputs": [
    {
     "data": {
      "image/png": "[encoded data removed]",
      "text/latex": [
       "$\\displaystyle \\frac{a_{0}^{3} e^{- \\frac{R}{a_{0}}}}{4}$"
      ],
      "text/plain": [
       "         -R  \n",
       "        ─────\n",
       "     3  a_{0}\n",
       "a_{0} ⋅ℯ     \n",
       "─────────────\n",
       "      4      "
      ]
     },
     "execution_count": 12,
     "metadata": {},
     "output_type": "execute_result"
    }
   ],
   "source": [
    "I1 = integrate(r**2*exp(-(2*r+R)/A0),(r,0,oo)); simplify(I1)"
   ]
  },
  {
   "cell_type": "code",
   "execution_count": 19,
   "id": "1b63b2ff",
   "metadata": {},
   "outputs": [
    {
     "data": {
      "image/png": "[encoded data removed]",
      "text/latex": [
       "$\\displaystyle \\frac{a_{0}^{2} \\left(R + a_{0}\\right) e^{- \\frac{R}{a_{0}}}}{4}$"
      ],
      "text/plain": [
       "                     -R  \n",
       "                    ─────\n",
       "     2              a_{0}\n",
       "a_{0} ⋅(R + a_{0})⋅ℯ     \n",
       "─────────────────────────\n",
       "            4            "
      ]
     },
     "execution_count": 19,
     "metadata": {},
     "output_type": "execute_result"
    }
   ],
   "source": [
    "I2 = (R+A0)*integrate(r*exp(-(2*r+R)/A0),(r,0,oo)); simplify(I2)"
   ]
  },
  {
   "cell_type": "code",
   "execution_count": 21,
   "id": "660279c2",
   "metadata": {},
   "outputs": [
    {
     "data": {
      "image/png": "[encoded data removed]",
      "text/latex": [
       "$\\displaystyle \\frac{R^{2} \\left(R + 3 a_{0}\\right) e^{- \\frac{R}{a_{0}}}}{6}$"
      ],
      "text/plain": [
       "                   -R  \n",
       "                  ─────\n",
       " 2                a_{0}\n",
       "R ⋅(R + 3⋅a_{0})⋅ℯ     \n",
       "───────────────────────\n",
       "           6           "
      ]
     },
     "execution_count": 21,
     "metadata": {},
     "output_type": "execute_result"
    }
   ],
   "source": [
    "I3 = integrate((r*(R-r)+A0*r)*exp(-R/A0),(r,0,R)); simplify(I3)"
   ]
  },
  {
   "cell_type": "code",
   "execution_count": 15,
   "id": "7da08096",
   "metadata": {},
   "outputs": [
    {
     "data": {
      "image/png": "[encoded data removed]",
      "text/latex": [
       "$\\displaystyle \\frac{a_{0}^{2} \\left(3 R + 2 a_{0}\\right) e^{- \\frac{R}{a_{0}}}}{4}$"
      ],
      "text/plain": [
       "                         -R  \n",
       "                        ─────\n",
       "     2                  a_{0}\n",
       "a_{0} ⋅(3⋅R + 2⋅a_{0})⋅ℯ     \n",
       "─────────────────────────────\n",
       "              4              "
      ]
     },
     "execution_count": 15,
     "metadata": {},
     "output_type": "execute_result"
    }
   ],
   "source": [
    "I4 = integrate((r*(r-R)+A0*r)*exp(-(2*r-R)/A0),(r,R,oo)); simplify(I4)"
   ]
  },
  {
   "cell_type": "code",
   "execution_count": 22,
   "id": "356ffa1b",
   "metadata": {},
   "outputs": [
    {
     "data": {
      "image/png": "[encoded data removed]",
      "text/latex": [
       "$\\displaystyle \\frac{\\pi a_{0} \\left(R^{2} + 3 R a_{0} + 3 a_{0}^{2}\\right) e^{- \\frac{R}{a_{0}}}}{3}$"
      ],
      "text/plain": [
       "                                      -R  \n",
       "                                     ─────\n",
       "        ⎛ 2                      2⎞  a_{0}\n",
       "π⋅a_{0}⋅⎝R  + 3⋅R⋅a_{0} + 3⋅a_{0} ⎠⋅ℯ     \n",
       "──────────────────────────────────────────\n",
       "                    3                     "
      ]
     },
     "execution_count": 22,
     "metadata": {},
     "output_type": "execute_result"
    }
   ],
   "source": [
    "simplify(-((2*pi*A0)/R)*(I1+I2-I3-I4))"
   ]
  },
  {
   "cell_type": "markdown",
   "id": "f87001fa",
   "metadata": {},
   "source": [
    "Tendo a integral de overlap, obtemos a constante de normalização e a função de onda teste\n",
    "\\begin{align}\n",
    "& A = \\frac{1}{\\sqrt{2(1+I)}} = \\frac{1}{\\sqrt{2\\big(1+\\big(R^{2}/3a_{0}^{2} + R/a_{0}+1\\big)e^{-R/a_{0}}\\big)}}, \\\\\n",
    "& \\phi = \\frac{\\psi_{0}(r_{1})+\\psi_{0}(r_{2})}{\\sqrt{2\\big(1+\\big(R^{2}/3a_{0}^{2} + R/a_{0}+1\\big)e^{-R/a_{0}}\\big)}}.\n",
    "\\end{align}\n",
    "\n",
    "Seguindo, vamos usar\n",
    "$$\\Big(-\\frac{\\hbar^{2}}{2m_{e}}\\nabla^{2}-\\frac{ke^{2}}{r}\\Big)\\psi_{0}(r)=E_{1}^{(0)}\\psi_{0}(r).$$\n",
    "Com isso, vem que\n",
    "\\begin{align}\n",
    "H\\phi & = \\Big(-\\frac{\\hbar^{2}}{2m_{e}}\\nabla^{2}-\\frac{ke^{2}}{r}-\\frac{ke^{2}}{r_{2}}\\Big)A\\big(\\psi_{0}(r)+\\psi_{0}(r_{2})\\big) \\\\\n",
    "& = A\\Big(\\Big(-\\frac{\\hbar^{2}}{2m_{e}}\\nabla^{2}-\\frac{ke^{2}}{r}\\Big)\\psi_{0}(r) + \\Big(-\\frac{\\hbar^{2}}{2m_{e}}\\nabla^{2}-\\frac{ke^{2}}{r_{2}}\\Big)\\psi_{0}(r_{2}) - ke^{2}\\Big(\\frac{\\psi_{0}(r)}{r_{2}}+\\frac{\\psi_{0}(r_{2})}{r}\\Big)\\Big) \\\\\n",
    "& = A\\Big(E_{1}^{(0)}\\psi_{0}(r) + E_{1}^{(0)}\\psi_{0}(r_{2}) - ke^{2}\\Big(\\frac{\\psi_{0}(r)}{r_{2}}+\\frac{\\psi_{0}(r_{2})}{r}\\Big)\\Big) \\\\\n",
    "& = E_{1}^{(0)}\\phi - Ake^{2}\\Big(\\frac{\\psi_{0}(r)}{r_{2}}+\\frac{\\psi_{0}(r_{2})}{r}\\Big)\\Big).\n",
    "\\end{align}"
   ]
  },
  {
   "cell_type": "markdown",
   "id": "b8421f0d",
   "metadata": {},
   "source": [
    "Assim\n",
    "\\begin{align}\n",
    "\\langle H\\rangle_{\\phi} & = \\int d^{3}r \\phi^{*}H\\phi \\\\\n",
    "& = E_{1}^{(0)}\\int d^{3}r|\\phi|^{2} - |A|^{2}ke^{2}\\int d^{3}r \\big(\\psi_{0}(r)^{*}+\\psi_{0}(r_{2})^{*}\\big)\\Big(\\frac{\\psi_{0}(r)}{r_{2}}+\\frac{\\psi_{0}(r_{2})}{r}\\Big) \\\\\n",
    "& = E_{1}^{(0)} - A^{2}ke^{2}\\Big(\\int d^{3}r \\psi_{0}(r)\\frac{1}{r_{2}}\\psi_{0}(r) + \\int d^{3}r \\psi_{0}(r)\\frac{1}{r}\\psi_{0}(r_{2}) \\\\\n",
    "& \\hspace{3cm} + \\int d^{3}r \\psi_{0}(r_{2})\\frac{1}{r_{2}}\\psi_{0}(r) + \\int d^{3}r \\psi_{0}(r_{2})\\frac{1}{r}\\psi_{0}(r_{2}) \\Big) \\\\\n",
    "& = E_{1}^{(0)} - 2A^{2}ke^{2}\\Big(\\int d^{3}r \\psi_{0}(r)\\frac{1}{r_{2}}\\psi_{0}(r) + \\int d^{3}r \\psi_{0}(r)\\frac{1}{r}\\psi_{0}(r_{2}) \\Big) \\\\\n",
    "& = E_{1}^{(0)} - 2A^{2}ke^{2}(I_{D} + I_{T}).\n",
    "\\end{align}\n",
    "Passemos agora para o cálculo da chamada __integral direta__\n",
    "\\begin{align}\n",
    "I_{D} & = \\int d^{3}r \\psi_{0}(r)\\frac{1}{r_{2}}\\psi_{0}(r) \\equiv \\langle\\psi_{0}|\\Big(\\int d^{3}r \\frac{|\\vec{r}\\rangle\\langle \\vec{r}|}{r_{2}}\\Big)|\\psi_{0}\\rangle \\\\\n",
    "& = \\frac{1}{\\pi a_{0}^{3}}\\int_{0}^{2\\pi}d\\phi\\int_{0}^{\\infty}r^{2}e^{-2r/a_{0}}dr\\int_{0}^{\\pi}\\frac{\\sin\\theta d\\theta}{ \\sqrt{r^{2}+R^{2}-2rR\\cos\\theta}} \\\\\n",
    "& = \\frac{1}{\\pi a_{0}^{3}}2\\pi\\int_{0}^{\\infty}r^{2}e^{-2r/a_{0}}dr\\frac{1}{rR}\\big(r+R-|r-R|\\big) \\\\\n",
    "& = \\frac{2}{R a_{0}^{3}}\\Big(\\int_{0}^{R}re^{-2r/a_{0}}dr2r + \\int_{R}^{\\infty}re^{-2r/a_{0}}dr2R \\Big) \\\\\\\n",
    "& = \\frac{2}{R a_{0}^{3}}\\frac{a_{0}^{3}\\big(1 - \\big(1+R/a_{0}\\big)e^{-2R/a_{0}}\\big)}{2} \\\\\n",
    "& = \\frac{1}{R} - \\Big(\\frac{1}{R} + \\frac{1}{a_{0}}\\Big)e^{-2R/a_{0}}.\n",
    "\\end{align}"
   ]
  },
  {
   "cell_type": "code",
   "execution_count": 20,
   "id": "7004d0f4",
   "metadata": {},
   "outputs": [],
   "source": [
    "th = symbols('theta')"
   ]
  },
  {
   "cell_type": "code",
   "execution_count": 22,
   "id": "da7401e5",
   "metadata": {},
   "outputs": [
    {
     "data": {
      "image/png": "[encoded data removed]",
      "text/latex": [
       "$\\displaystyle - \\frac{\\sqrt{R^{2} - 2 R r + r^{2}}}{R r} + \\frac{\\sqrt{R^{2} + 2 R r + r^{2}}}{R r}$"
      ],
      "text/plain": [
       "     _________________      _________________\n",
       "    ╱  2            2      ╱  2            2 \n",
       "  ╲╱  R  - 2⋅R⋅r + r     ╲╱  R  + 2⋅R⋅r + r  \n",
       "- ──────────────────── + ────────────────────\n",
       "          R⋅r                    R⋅r         "
      ]
     },
     "execution_count": 22,
     "metadata": {},
     "output_type": "execute_result"
    }
   ],
   "source": [
    "integrate(sin(th)/sqrt(r**2+R**2-2*r*R*cos(th)),(th,0,pi))"
   ]
  },
  {
   "cell_type": "code",
   "execution_count": 25,
   "id": "17833fd5",
   "metadata": {
    "scrolled": true
   },
   "outputs": [
    {
     "data": {
      "image/png": "[encoded data removed]",
      "text/latex": [
       "$\\displaystyle \\frac{a_{0}^{2} \\left(- R + a_{0} e^{\\frac{2 R}{a_{0}}} - a_{0}\\right) e^{- \\frac{2 R}{a_{0}}}}{2}$"
      ],
      "text/plain": [
       "       ⎛             2⋅R         ⎞  -2⋅R \n",
       "       ⎜            ─────        ⎟  ─────\n",
       "     2 ⎜            a_{0}        ⎟  a_{0}\n",
       "a_{0} ⋅⎝-R + a_{0}⋅ℯ      - a_{0}⎠⋅ℯ     \n",
       "─────────────────────────────────────────\n",
       "                    2                    "
      ]
     },
     "execution_count": 25,
     "metadata": {},
     "output_type": "execute_result"
    }
   ],
   "source": [
    "simplify(2*integrate(r**2*exp(-2*r/A0),(r,0,R)) + 2*R*integrate(r*exp(-2*r/A0),(r,R,oo)))"
   ]
  },
  {
   "cell_type": "markdown",
   "id": "7a8952f7",
   "metadata": {},
   "source": [
    "Já a chamada __integral de troca__ é obtida como segue\n",
    "\\begin{align}\n",
    "I_{T} & = \\int d^{3}r \\psi_{0}(r)\\frac{1}{r}\\psi_{0}(r_{2})  \\equiv \\langle\\psi_{0}|\\Big(\\int d^{3}r \\frac{|\\vec{r}\\rangle\\langle \\vec{r}_{2}|}{r}\\Big)|\\psi_{0}\\rangle \\\\\n",
    "& = \\frac{1}{\\pi a_{0}^{3}}\\int_{0}^{2\\pi}d\\phi\\int_{0}^{\\infty}\\frac{r^{2}e^{-r/a_{0}}}{r}dr\\int_{0}^{\\pi} e^{-\\sqrt{r^{2}+R^{2}-2rR\\cos\\theta}/a_{0}} \\sin\\theta d\\theta \\\\\n",
    "& = \\frac{1}{\\pi a_{0}^{3}}2\\pi\\int_{0}^{\\infty}re^{-r/a_{0}}dr\\int_{|r-R|/a_{a}}^{(r+R)/a_{0}} e^{-y} \\frac{a_{0}^{2}ydy}{rR} \\\\\n",
    "& = \\frac{2}{R a_{0}}\\int_{0}^{\\infty}e^{-r/a_{0}}dr\\Big(-\\big(1+y\\big)e^{-y}\\Big)_{|r-R|/a_{0}}^{(r+R)/a_{0}} \\\\\n",
    "& = \\frac{2}{R a_{0}}\\int_{0}^{\\infty}e^{-r/a_{0}}dr\\Big(-\\big(1+(r+R)/a_{0}\\big)e^{-(r+R)/a_{0}} + \\big(1+|r-R|/a_{a}\\big)e^{-|r-R|/a_{0}}\\Big) \\\\\n",
    "& = \\frac{2}{R a_{0}}\\Big(-\\int_{0}^{\\infty}e^{-r/a_{0}}dr\\big(1+(r+R)/a_{0}\\big)e^{-(r+R)/a_{0}} + \\int_{0}^{R}e^{-r/a_{0}}dr\\big(1+(R-r)/a_{a}\\big)e^{-(R-r)/a_{0}} \\\\ \n",
    "& \\hspace{2cm} + \\int_{R}^{\\infty}e^{-r/a_{0}}dr\\big(1+(r-R)/a_{0}\\big)e^{-(r-R)/a_{0}}\\Big) \\\\\n",
    "& = \\frac{2}{R a_{0}}\\Big(-\\int_{0}^{\\infty}dr\\big(1+(r+R)/a_{0}\\big)e^{-(2r+R)/a_{0}} + \\int_{0}^{R}dr\\big(1+(R-r)/a_{0}\\big)e^{-R/a_{0}} \\\\ \n",
    "& \\hspace{2cm} + \\int_{R}^{\\infty}dr\\big(1+(r-R)/a_{0}\\big)e^{-(2r-R)/a_{0}}\\Big) \\\\\n",
    "& = \\frac{2}{R a_{0}}\\frac{R(R+a_{0})e^{-R/a_{0}}}{2a_{0}} \\\\\n",
    "& = \\frac{1}{a_{0}}\\Big(1+\\frac{R}{a_{0}}\\Big)e^{-R/a_{0}},\n",
    "\\end{align}\n",
    "em que fizemos novamente a troca de variável $y=\\sqrt{r^{2}+R^{2}-2rR\\cos\\theta}/a_{0}\\ \\therefore\\ d(y^{2}) = 2ydy=2rR\\sin\\theta d\\theta/a_{0}^{2}$."
   ]
  },
  {
   "cell_type": "code",
   "execution_count": 30,
   "id": "6ccbf717",
   "metadata": {},
   "outputs": [
    {
     "data": {
      "image/png": "[encoded data removed]",
      "text/latex": [
       "$\\displaystyle \\left(- y - 1\\right) e^{- y}$"
      ],
      "text/plain": [
       "          -y\n",
       "(-y - 1)⋅ℯ  "
      ]
     },
     "execution_count": 30,
     "metadata": {},
     "output_type": "execute_result"
    }
   ],
   "source": [
    "y = symbols('y'); integrate(y*exp(-y))"
   ]
  },
  {
   "cell_type": "code",
   "execution_count": 38,
   "id": "8ab55583",
   "metadata": {},
   "outputs": [
    {
     "data": {
      "image/png": "[encoded data removed]",
      "text/latex": [
       "$\\displaystyle \\frac{R \\left(R + a_{0}\\right) e^{- \\frac{R}{a_{0}}}}{2 a_{0}}$"
      ],
      "text/plain": [
       "                -R  \n",
       "               ─────\n",
       "               a_{0}\n",
       "R⋅(R + a_{0})⋅ℯ     \n",
       "────────────────────\n",
       "      2⋅a_{0}       "
      ]
     },
     "execution_count": 38,
     "metadata": {},
     "output_type": "execute_result"
    }
   ],
   "source": [
    "simplify(-integrate((1+(r+R)/A0)*exp(-(2*r+R)/A0),(r,0,oo)) + integrate((1+(R-r)/A0)*exp(-R/A0),(r,0,R)) \n",
    "        + integrate((1+(r-R)/A0)*exp(-(2*r-R)/A0),(r,R,oo)))"
   ]
  },
  {
   "cell_type": "markdown",
   "id": "843c9634",
   "metadata": {},
   "source": [
    "Temos assim que\n",
    "\\begin{align}\n",
    "\\langle H\\rangle_{\\phi} & = E_{1}^{(0)} - 2A^{2}ke^{2}(I_{D} + I_{T}) \\\\\n",
    "& = E_{1}^{(0)} - 2\\frac{1}{2\\big(1+\\big(R^{2}/3a_{0}^{2} + R/a_{0}+1\\big)e^{-R/a_{0}}\\big)}ke^{2}\\Big(\\frac{1}{R} - \\Big( \\frac{1}{R} + \\frac{1}{a_{0}}\\Big)e^{-2R/a_{0}} + \\frac{1}{a_{0}}\\Big(1+\\frac{R}{a_{0}}\\Big)e^{-R/a_{0}} \\Big).\n",
    "\\end{align}\n",
    "\n",
    "Para obter a _energia total_, $E$, incluímos também a energia coulombiana de interação próton-próton:\n",
    "\\begin{align}\n",
    "U_{pp} & = \\frac{ke^{2}}{R} = \\frac{ke^{2}}{R}\\frac{E_{1}^{(0)}}{E_{1}^{(0)}} = -\\frac{ke^{2}}{R}\\frac{2a_{0}}{ke^{2}}E_{1}^{(0)} = -\\frac{2a_{0}}{R}E_{1}^{(0)},\n",
    "\\end{align}\n",
    "em que usamos $E_{1}^{(0)} = -\\frac{m_{e}k^{2}e^{4}}{2\\hbar^{2}} = -\\frac{ke^{2}}{2a_{0}}$. "
   ]
  },
  {
   "cell_type": "markdown",
   "id": "167afa25",
   "metadata": {},
   "source": [
    "Assim\n",
    "\\begin{align}\n",
    "\\langle H_{t}\\rangle_{\\phi} & = \\langle H\\rangle_{\\phi} + U_{pp} \\\\\n",
    "& = E_{1}^{(0)} - \\frac{1}{\\big(1+\\big(R^{2}/3a_{0}^{2} + R/a_{0}+1\\big)e^{-R/a_{0}}\\big)}ke^{2}\\Big(\\frac{1}{R} - \\Big( \\frac{1}{R} + \\frac{1}{a_{0}}\\Big)e^{-2R/a_{0}} + \\frac{1}{a_{0}}\\Big(1+\\frac{R}{a_{0}}\\Big)e^{-R/a_{0}} \\Big) -\\frac{2a_{0}}{R}E_{1}^{(0)} \\\\\n",
    "& = E_{1}^{(0)}\\Big(1-\\frac{2a_{0}}{R}\\Big) - \\frac{1}{\\big(1+\\big(R^{2}/3a_{0}^{2} + R/a_{0}+1\\big)e^{-R/a_{0}}\\big)}\\frac{ke^{2}}{R}\\Big(1 - \\Big(1 + \\frac{R}{a_{0}}\\Big)e^{-2R/a_{0}} + \\frac{R}{a_{0}}\\Big(1+\\frac{R}{a_{0}}\\Big)e^{-R/a_{0}} \\Big) \\\\\n",
    "& = E_{1}^{(0)}\\Big(1-\\frac{2a_{0}}{R}\\Big) - \\frac{1}{\\big(1+\\big(R^{2}/3a_{0}^{2} + R/a_{0}+1\\big)e^{-R/a_{0}}\\big)}\\frac{-2a_{0}}{R}E_{1}^{(0)}\\Big(1 - \\Big(1 + \\frac{R}{a_{0}}\\Big)e^{-2R/a_{0}} + \\frac{R}{a_{0}}\\Big(1+\\frac{R}{a_{0}}\\Big)e^{-R/a_{0}} \\Big) \\\\\n",
    "& = -E_{1}^{(0)}\\Big(-1+\\frac{2}{x} - \\frac{2}{x}\\frac{1 - (1 + x)e^{-2x} + x(1+x)e^{-x}}{1+\\big(x^{2}/3 + x+1\\big)e^{-x}}\\Big) \\\\\n",
    "& = -E_{1}^{(0)}\\Big(-1+\\frac{2}{x}\\Big( 1 - \\frac{1 - (1 + x)e^{-2x} + x(1+x)e^{-x}}{1+\\big(x^{2}/3 + x+1\\big)e^{-x}}\\Big)\\Big) \\\\\n",
    "& = -E_{1}^{(0)}\\Big(-1+\\frac{2}{x}\\Big(\\frac{1+\\big(x^{2}/3 + x+1\\big)e^{-x} -1 + (1 + x)e^{-2x} - x(1+x)e^{-x}}{1+\\big(x^{2}/3 + x+1\\big)e^{-x}}\\Big)\\Big) \\\\\n",
    "& = -E_{1}^{(0)}\\Big(-1+\\frac{2}{x}\\Big(\\frac{(1-2x^{2}/3)e^{-x}+ (1 + x)e^{-2x}}{1+\\big(x^{2}/3 + x+1\\big)e^{-x}}\\Big)\\Big) \\\\\n",
    "& = -E_{1}^{(0)}f(x),\n",
    "\\end{align}\n",
    "em que definimos $$x:=\\frac{R}{a_{0}}.$$"
   ]
  },
  {
   "cell_type": "code",
   "execution_count": 6,
   "id": "40e2896d",
   "metadata": {},
   "outputs": [],
   "source": [
    "def Htm(x): # em unidade de -E_1^0\n",
    "    return -1 + (2*x**-1)*(((1-2*x**2/3)*np.exp(-x)+(1+x)*np.exp(-2*x))/(1+(1+x+x**2/3)*np.exp(-x)))"
   ]
  },
  {
   "cell_type": "code",
   "execution_count": 9,
   "id": "b866a6d6",
   "metadata": {},
   "outputs": [
    {
     "data": {
      "image/png": "[encoded data removed]",
      "text/plain": [
       "<Figure size 500x400 with 1 Axes>"
      ]
     },
     "metadata": {
      "needs_background": "light"
     },
     "output_type": "display_data"
    }
   ],
   "source": [
    "matplotlib.rcParams.update({'font.size':10}); plt.figure(figsize = (5,4), dpi = 100)\n",
    "x = np.arange(1,10,0.05)\n",
    "y = Htm(x)\n",
    "plt.plot(x,y)\n",
    "plt.ylabel(r'$\\langle H_{t}\\rangle_{\\phi}(-E_{1}^{(0)})$'); plt.xlabel(r'$R/a_{0}$'); plt.show()"
   ]
  },
  {
   "cell_type": "markdown",
   "id": "fa016cf3",
   "metadata": {},
   "source": [
    "Vemos assim que existe um estado ligado para o íon da molécula de hidrogênio, pois a energia tem um mínimo menor que $-E_{1}^{(0)}$, que é a energia de um átomo de hidrogênio mais um próton livre. Funções de onda teste melhores nos fornecerão energias de ligação ainda menores. Note que aqui o parâmetro variacional é $R$, a distância entre os prótons. Na sequência obteremos o valor de $R$ que minimiza $\\langle H_{t}\\rangle_{\\phi}$. Com a ajuda do código abaixo, vemos que\n",
    "$$R_{opt} \\approx 2.49a_{0} \\approx 1.32\\ \\overset{\\circ}{A}.$$\n",
    "O valor experimental é\n",
    "$$R_{exp} = 1.06\\ \\overset{\\circ}{A}.$$\n",
    "\n",
    "A energia de ligação, que é a diferença da energia da molécula de hidrogêncio ionizada, que estamos limitando superiormente por $\\langle H_{t}\\rangle$, e a energia de um átomo de hidrogênio mais um próton livre, que é $E_{1}^{0}$:\n",
    "\\begin{align}\n",
    "E_{lig} & = E_{(p+e)+p} - E_{(2p+e)} \\approx -13.6\\text{ eV} + 15.37\\text{ eV} \\\\\n",
    "& \\approx 1.76\\text{ eV},\n",
    "\\end{align}\n",
    "enquanto que o valor experimental é\n",
    "$$E_{lig}^{exp} \\approx 2.8\\text{ eV}.$$"
   ]
  },
  {
   "cell_type": "code",
   "execution_count": 28,
   "id": "c6a7ed1f",
   "metadata": {},
   "outputs": [
    {
     "name": "stdout",
     "output_type": "stream",
     "text": [
      "2*(x**2*(x + 1)*(3*x + (3 - 2*x**2)*exp(x) + 3) + x*(-6*x + (2*x**2 - 4*x - 3)*exp(x) - 3)*(x**2 + 3*x + 3*exp(x) + 3) + (-3*x + (2*x**2 - 3)*exp(x) - 3)*(x**2 + 3*x + 3*exp(x) + 3))*exp(-x)/(x**2*(x**2 + 3*x + 3*exp(x) + 3)**2)\n"
     ]
    }
   ],
   "source": [
    "x = symbols('x')\n",
    "Htm_ = -1 + (2*x**-1)*(((1-2*x**2/3)*exp(-x)+(1+x)*exp(-2*x))/(1+(1+x+x**2/3)*exp(-x)))\n",
    "dHtm = diff(Htm_,x,1); print(simplify(dHtm))"
   ]
  },
  {
   "cell_type": "code",
   "execution_count": 26,
   "id": "93eafc2e",
   "metadata": {},
   "outputs": [],
   "source": [
    "def dHtm(x):\n",
    "    der = 2*(x**2*(x + 1)*(3*x + (3 - 2*x**2)*np.exp(x) + 3) \n",
    "            + x*(-6*x + (2*x**2 - 4*x - 3)*np.exp(x) - 3)*(x**2 + 3*x + 3*np.exp(x) + 3) \n",
    "            + (-3*x + (2*x**2 - 3)*np.exp(x) - 3)*(x**2 + 3*x + 3*np.exp(x) + 3))*np.exp(-x)/(x**2*(x**2 + 3*x + 3*np.exp(x) + 3)**2)\n",
    "    return der"
   ]
  },
  {
   "cell_type": "code",
   "execution_count": 66,
   "id": "12b390be",
   "metadata": {},
   "outputs": [
    {
     "data": {
      "image/png": "[encoded data removed]",
      "text/plain": [
       "<Figure size 500x300 with 1 Axes>"
      ]
     },
     "metadata": {
      "needs_background": "light"
     },
     "output_type": "display_data"
    }
   ],
   "source": [
    "matplotlib.rcParams.update({'font.size':10}); plt.figure(figsize = (5,3), dpi = 100)\n",
    "x = np.arange(2,3,0.05); y = dHtm(x); y1 = 0*x\n",
    "plt.plot(x,y); plt.plot(x,y1)\n",
    "plt.ylabel(r'$\\partial_{R/a_{0}}\\langle H_{t}\\rangle_{\\phi}(-E_{1}^{(0)})$'); plt.xlabel(r'$R/a_{0}$'); plt.show()"
   ]
  },
  {
   "cell_type": "code",
   "execution_count": 27,
   "id": "930fa030",
   "metadata": {},
   "outputs": [
    {
     "data": {
      "image/png": "[encoded data removed]",
      "text/latex": [
       "$\\displaystyle \\left( 2.49283218383789, \\  1\\right)$"
      ],
      "text/plain": [
       "(2.4928321838378906, 1)"
      ]
     },
     "execution_count": 27,
     "metadata": {},
     "output_type": "execute_result"
    }
   ],
   "source": [
    "%run numerics.ipynb\n",
    "bissection(dHtm, 2, 3, 10**-5, 10**3) # valor otimo de x = R/a0"
   ]
  },
  {
   "cell_type": "code",
   "execution_count": 70,
   "id": "e3f0868a",
   "metadata": {},
   "outputs": [
    {
     "data": {
      "image/png": "[encoded data removed]",
      "text/latex": [
       "$\\displaystyle 1.31914979385121 \\cdot 10^{-10}$"
      ],
      "text/plain": [
       "1.3191497938512097e-10"
      ]
     },
     "execution_count": 70,
     "metadata": {},
     "output_type": "execute_result"
    }
   ],
   "source": [
    "2.49283218383789*a0  # valor otimo de R"
   ]
  },
  {
   "cell_type": "code",
   "execution_count": 33,
   "id": "05d67338",
   "metadata": {},
   "outputs": [],
   "source": [
    "def bohr(Z,n): # em eV\n",
    "    return ((-((k*e**2)/(2*a0))/e)*Z**2)/n**2"
   ]
  },
  {
   "cell_type": "code",
   "execution_count": 74,
   "id": "2ac4b068",
   "metadata": {},
   "outputs": [
    {
     "data": {
      "image/png": "[encoded data removed]",
      "text/latex": [
       "$\\displaystyle \\left( -1.12966198474142, \\  -15.3698363584248, \\  1.76414141070733\\right)$"
      ],
      "text/plain": [
       "(-1.129661984741418, -15.369836358424816, 1.7641414107073317)"
      ]
     },
     "execution_count": 74,
     "metadata": {},
     "output_type": "execute_result"
    }
   ],
   "source": [
    "# energia em unidades de -E1, em eV e energia de ligacao\n",
    "Htm(2.49283218383789), Htm(2.49283218383789)*(-bohr(1,1)), bohr(1,1)-Htm(2.49283218383789)*(-bohr(1,1))"
   ]
  },
  {
   "cell_type": "markdown",
   "id": "647e2763",
   "metadata": {},
   "source": [
    "### Estabilidade da molécula\n",
    "\n",
    "Em torno do ponto de mínima energia, $R_{opt}$, a curva de energia pode ser aproximada por aquela de um oscilador harmônico:\n",
    "\\begin{align} \n",
    "& U=\\frac{m\\omega^{2}x^{2}}{2}\\ \\therefore\\ \\partial_{xx}U = m\\omega^{2} \\\\\n",
    "& \\omega = \\sqrt{\\partial_{xx}U/m}.\n",
    "\\end{align}\n",
    "Com a ajuda do código abaixo, obtemos\n",
    "$$\\big(\\partial_{xx}f(x)\\big)_{R_{opt}} \\approx 0.13.$$\n",
    "Notemos que como $x=R/a_{0}$, teremos\n",
    "$$\\partial_{xx}=\\partial_{x}\\partial_{x} = \\partial_{x}R\\partial_{R}\\partial_{x}R\\partial_{R} = a_{0}^{2}\\partial_{RR}.$$\n",
    "Então\n",
    "\\begin{align}\n",
    "\\omega & = \\sqrt{\\frac{\\partial_{RR}\\langle H_{t}\\rangle}{m}} = \\sqrt{\\frac{-(E_{1}^{(0)}/a_{0}^{2})\\partial_{xx}f(x)}{m}} \\\\\n",
    "& \\approx 3.42\\times 10^{14}\\text{ Hz}.\n",
    "\\end{align}\n",
    "com $m=(m_{p}m_{p})/(m_{p}+m_{p}) = m_{p}/2$ sendo a massa reduzida dos 2 prótons."
   ]
  },
  {
   "cell_type": "code",
   "execution_count": 29,
   "id": "59809407",
   "metadata": {},
   "outputs": [
    {
     "name": "stdout",
     "output_type": "stream",
     "text": [
      "2*(2*x**4*(x + 1)**2*(3*x + (3 - 2*x**2)*exp(x) + 3) + 12*x**3*(x**2 + 3*x + 3*exp(x) + 3)**2 - 2*x**2*(x + 1)*(3*x + (3 - 2*x**2)*exp(x) + 3)*(x**2 + 3*x + 3*exp(x) + 3) + x**2*(-2*x*(x + 1)*(6*x + (-2*x**2 + 4*x + 3)*exp(x) + 3) + (3*x + (3 - 2*x**2)*exp(x) + 3)*(-x**2 + x + 1))*(x**2 + 3*x + 3*exp(x) + 3) + x**2*(-2*x**2 + 8*x - 1)*(x**2 + 3*x + 3*exp(x) + 3)**2*exp(x) + 2*x*(6*x + (-2*x**2 + 4*x + 3)*exp(x) + 3)*(x**2 + 3*x + 3*exp(x) + 3)**2 + 2*(3*x + (3 - 2*x**2)*exp(x) + 3)*(x**2 + 3*x + 3*exp(x) + 3)**2)*exp(-x)/(x**3*(x**2 + 3*x + 3*exp(x) + 3)**3)\n"
     ]
    }
   ],
   "source": [
    "def ddHtm(x):\n",
    "    Htm_ = -1 + (2*x**-1)*(((1-2*x**2/3)*exp(-x)+(1+x)*exp(-2*x))/(1+(1+x+x**2/3)*exp(-x)))\n",
    "    d2 = diff(Htm_,x,2)\n",
    "    return d2\n",
    "print(simplify(ddHtm(x)))"
   ]
  },
  {
   "cell_type": "code",
   "execution_count": 31,
   "id": "aebbe36e",
   "metadata": {},
   "outputs": [
    {
     "data": {
      "image/png": "[encoded data removed]",
      "text/latex": [
       "$\\displaystyle 0.125665661374464$"
      ],
      "text/plain": [
       "0.125665661374464"
      ]
     },
     "execution_count": 31,
     "metadata": {},
     "output_type": "execute_result"
    }
   ],
   "source": [
    "def d2Htm(x):\n",
    "    d2 = 2*(2*x**4*(x + 1)**2*(3*x + (3 - 2*x**2)*exp(x) + 3) \n",
    "            + 12*x**3*(x**2 + 3*x + 3*exp(x) + 3)**2 \n",
    "            - 2*x**2*(x + 1)*(3*x + (3 - 2*x**2)*exp(x) + 3)*(x**2 + 3*x + 3*exp(x) + 3) \n",
    "            + x**2*(-2*x*(x + 1)*(6*x + (-2*x**2 + 4*x + 3)*exp(x) + 3) \n",
    "                    + (3*x + (3 - 2*x**2)*exp(x) + 3)*(-x**2 + x + 1))*(x**2 + 3*x + 3*exp(x) + 3) \n",
    "            + x**2*(-2*x**2 + 8*x - 1)*(x**2 + 3*x + 3*exp(x) + 3)**2*exp(x) \n",
    "            + 2*x*(6*x + (-2*x**2 + 4*x + 3)*exp(x) + 3)*(x**2 + 3*x + 3*exp(x) + 3)**2 \n",
    "            + 2*(3*x + (3 - 2*x**2)*exp(x) + 3)*(x**2 + 3*x + 3*exp(x) + 3)**2)*exp(-x)/(x**3*(x**2 + 3*x + 3*exp(x) + 3)**3)\n",
    "    return d2\n",
    "d2Htm(2.49283218383789)"
   ]
  },
  {
   "cell_type": "code",
   "execution_count": 38,
   "id": "85713b3b",
   "metadata": {},
   "outputs": [
    {
     "data": {
      "image/png": "[encoded data removed]",
      "text/latex": [
       "$\\displaystyle 342010081346730.0$"
      ],
      "text/plain": [
       "342010081346730."
      ]
     },
     "execution_count": 38,
     "metadata": {},
     "output_type": "execute_result"
    }
   ],
   "source": [
    "# frequencia\n",
    "om = sqrt((-((bohr(1,1)*e)/a0**2)*0.125665661374464)/(mp/2)) # passa a energia pra Joules\n",
    "om"
   ]
  },
  {
   "cell_type": "markdown",
   "id": "873cbe0a",
   "metadata": {},
   "source": [
    "Para o estado fundamental do oscilador harmônico quântico teremos a energia\n",
    "$$E_{0} = \\frac{\\hbar\\omega}{2} = 0.11\\text{ eV},$$\n",
    "que é menor que a energia de ligação do $H_{2}^{+}$, que é $1.76\\text{ eV}$. Portanto, pelo menos para este estado de oscilação nossos cálculos indicam que a $H_{2}^{+}$ não se quebrará.\n",
    "\n",
    "Podemos obter também o número de estados do oscilador harmônico tais que $H_{2}^{+}$ não se quebra. Obtemos isso impondo\n",
    "\\begin{align}\n",
    "\\hbar\\omega(n+1/2) \\le 1.76\\text{ eV}\\ \\therefore\\ n\\le \\frac{1.76\\text{ eV}}{\\hbar\\omega}-\\frac{1}{2} \\approx 7.32.\n",
    "\\end{align}\n",
    "Temos então 8 estados ligados do oscilador para os quais a molécula é estável.\n",
    "\n",
    "Vale notar que a energia térmica a temperatura ambiente ($300\\text{ K}$) é aproximandamente $0.04\\text{ eV}$, e portanto não é suficiente para excitar os modos de oscilação do oscilador a ponto de quebrar a molécula (cuja menor energia e $0.11\\text{ eV}$)."
   ]
  },
  {
   "cell_type": "code",
   "execution_count": 37,
   "id": "9f3ebb2a",
   "metadata": {},
   "outputs": [
    {
     "data": {
      "image/png": "[encoded data removed]",
      "text/latex": [
       "$\\displaystyle 0.112557543918487$"
      ],
      "text/plain": [
       "0.11255754391848714"
      ]
     },
     "execution_count": 37,
     "metadata": {},
     "output_type": "execute_result"
    }
   ],
   "source": [
    "((hb*342010081346730)/2)/e # energia de oscilacao em eV"
   ]
  },
  {
   "cell_type": "code",
   "execution_count": 40,
   "id": "74aeebf7",
   "metadata": {},
   "outputs": [
    {
     "data": {
      "image/png": "[encoded data removed]",
      "text/latex": [
       "$\\displaystyle 7.31822318935179$"
      ],
      "text/plain": [
       "7.31822318935179"
      ]
     },
     "execution_count": 40,
     "metadata": {},
     "output_type": "execute_result"
    }
   ],
   "source": [
    "# No. de estados ligados\n",
    "nmax = (1.76)/(hb*om/e) -1/2; nmax"
   ]
  },
  {
   "cell_type": "code",
   "execution_count": 12,
   "id": "6cb36a6a",
   "metadata": {},
   "outputs": [
    {
     "data": {
      "image/png": "[encoded data removed]",
      "text/latex": [
       "$\\displaystyle 0.0387780281052909$"
      ],
      "text/plain": [
       "0.03877802810529091"
      ]
     },
     "execution_count": 12,
     "metadata": {},
     "output_type": "execute_result"
    }
   ],
   "source": [
    "T = 300; (3*kB*T/2)/e # energia termica para temperatura ambiente"
   ]
  },
  {
   "cell_type": "markdown",
   "id": "0f68d301",
   "metadata": {},
   "source": [
    "## A molécula de hidrogênio $(H_{2})$\n",
    "\n",
    "Neste caso teremos um sistema constituído por 2 elétrons e 2 prótons. Consideraremos inicialmente que os prótons estão parados e separados por uma distância $R$. Com isso, o hamiltoniano deste sistema fica escrito como segue:\n",
    "$$H = -\\frac{\\hbar^{2}}{2m_{e}}\\big(\\nabla_{1}^{2}+\\nabla_{2}^{2}\\big)-ke^{2}\\Big(\\frac{1}{r_{1}}+\\frac{1}{r_{2}}+\\frac{1}{r_{1}'}+\\frac{1}{r_{2}'}-\\frac{1}{r_{12}}-\\frac{1}{R}\\Big),$$\n",
    "em que $r_{j}(r_{j}')$ é a distância entre o elétron $j$ e o próton $p(p')$ e $r_{12}$ é a distância entre os elétrons.\n",
    "\n",
    "<img src='fig_H2.png' width='250'>"
   ]
  },
  {
   "cell_type": "markdown",
   "id": "aa4270e6",
   "metadata": {},
   "source": [
    "Como focamos na função de onda dos elétrons, e temos um sistema constituído por 2 elétrons, que são férmions, pelo princípio de exclusão de Pauli, a função de onda destes elétrons deve ser antisimétrica pela troca deles. Então, se usamos a função de onda de átomo hidrogenóide para montar nossa função de onda teste, devemos ter uma das seguintes funções de onda teste completas:\n",
    "\\begin{align}\n",
    "& \\Phi_{+}(\\vec{r}_{1},\\vec{r}_{2}) = \\phi_{+}(\\vec{r}_{1},\\vec{r}_{2})\\chi_{s}, \\\\\n",
    "& \\Phi_{-}(\\vec{r}_{1},\\vec{r}_{2}) = \\phi_{-}(\\vec{r}_{1},\\vec{r}_{2})\\chi_{t},\n",
    "\\end{align}\n",
    "com as funções de onda de spin singleto, $\\chi_{s}$, e tripleto, $\\chi_{t}$, dadas por\n",
    "\\begin{align}\n",
    "& \\chi_{s} = \\frac{1}{\\sqrt{2}}\\big(|\\uparrow_{1}\\rangle|\\downarrow_{2}\\rangle-|\\downarrow_{1}\\rangle|\\uparrow_{2}\\rangle\\big), \\\\\n",
    "& \\chi_{t} = \\begin{cases}|\\uparrow_{1}\\rangle|\\uparrow_{2}\\rangle \\\\ \\frac{1}{\\sqrt{2}}\\big(|\\uparrow_{1}\\rangle|\\downarrow_{2}\\rangle+|\\downarrow_{1}\\rangle|\\uparrow_{2}\\rangle\\big) \\\\\n",
    "|\\downarrow_{1}\\rangle|\\downarrow_{2}\\rangle \\end{cases},\n",
    "\\end{align}\n",
    "enquanto que as respectivas funções de onda espaciais são\n",
    "\\begin{align}\n",
    "& \\phi_{+}(\\vec{r}_{1},\\vec{r}_{2}) = A_{+}\\big(\\psi_{0}(r_{1})\\psi_{0}(r_{2}')+\\psi_{0}(r_{2})\\psi_{0}(r_{1}')\\big), \\\\\n",
    "& \\phi_{-}(\\vec{r}_{1},\\vec{r}_{2}) = A_{-}\\big(\\psi_{0}(r_{1})\\psi_{0}(r_{2}')-\\psi_{0}(r_{2})\\psi_{0}(r_{1}')\\big),\n",
    "\\end{align}\n",
    "com \n",
    "$$\\psi_{0}(r)=\\sqrt{\\frac{1}{\\pi a_{0}^{3}}}e^{-r/a_{0}}$$ \n",
    "sendo a função de onda do estado fundamental do átomo de hidrogênio. Essas funções de onda teste variacionais constituem a chamada __aproximação de Heitler-London__. Note que nesta aproximação estamos considerando que não há emaranhamento entre os graus de liberdade de posição e spin."
   ]
  },
  {
   "cell_type": "markdown",
   "id": "6428105c",
   "metadata": {},
   "source": [
    "Trabalharei aqui com a função de onda $\\Phi_{+}$, e deixarei como exercício a análise análoga da função de onda $\\Phi_{-}$. Aplicando a normalização, teremos\n",
    "\\begin{align}\n",
    "1 & = \\iint d^{3}r_{1}d^{3}r_{2}|\\phi_{+}|^{2} \\\\\n",
    "& = |A_{+}|^{2}\\int d^{3}r_{1}\\int d^{3}r_{2}\\big(\\psi_{0}(r_{1})^{*}\\psi_{0}(r_{2}')^{*}+\\psi_{0}(r_{2})^{*}\\psi_{0}(r_{1}')^{*}\\big)\\big(\\psi_{0}(r_{1})\\psi_{0}(r_{2}')+\\psi_{0}(r_{2})\\psi_{0}(r_{1}')\\big) \\\\\n",
    "& = |A_{+}|^{2}\\Big(\\int d^{3}r_{1}|\\psi_{0}(r_{1})|^{2}\\int d^{3}r_{2}|\\psi_{0}(r_{2}')|^{2} + \\int d^{3}r_{1}|\\psi_{0}(r_{1}')|^{2}\\int d^{3}r_{2}|\\psi_{0}(r_{2})|^{2} \\\\\n",
    "& \\hspace{2cm} + 2\\int d^{3}r_{1}\\psi_{0}(r_{1})\\psi_{0}(r_{1}')\\int d^{3}r_{2}\\psi_{0}(r_{2})\\psi_{0}(r_{2}')\\Big) \\\\\n",
    "& = |A_{+}|^{2}\\Big((1)(1) + (1)(1) + 2(I)(I)\\Big), \\\\\n",
    "& \\therefore\\ A_{+} = \\frac{1}{\\sqrt{2(1+I^{2})}},\n",
    "\\end{align}\n",
    "em que a integral de overlap foi calculada quando estudamos a molécula de $H_{2}^{+}$, e é dada por \n",
    "$$I= \\int d^{3}r_{1} \\psi_{0}(r_{1})\\psi_{0}(r_{1}')=\\Big(\\frac{R^{2}}{3a_{0}^{2}} + \\frac{R}{a_{0}}+1\\Big)e^{-R/a_{0}}.$$"
   ]
  },
  {
   "cell_type": "markdown",
   "id": "536e3a08",
   "metadata": {},
   "source": [
    "Tendo a função de onda teste normalizada, passemos para o cálculo do valor médio do hamiltoniano\n",
    "\\begin{align}\n",
    "\\langle H\\rangle_{\\phi} & = \\Big\\langle\\frac{-\\hbar^{2}}{2m_{e}}\\nabla_{1}^{2}\\Big\\rangle_{\\phi} + \\Big\\langle\\frac{-\\hbar^{2}}{2m_{e}}\\nabla_{2}^{2}\\Big\\rangle_{\\phi} + \\Big\\langle\\frac{-ke^{2}}{r_{1}}\\Big\\rangle_{\\phi}  + \\Big\\langle\\frac{-ke^{2}}{r_{2}}\\Big\\rangle_{\\phi}  \\\\\n",
    "& \\hspace{0.5cm} + \\Big\\langle\\frac{-ke^{2}}{r_{1}'}\\Big\\rangle_{\\phi}  + \\Big\\langle\\frac{-ke^{2}}{r_{2}'}\\Big\\rangle_{\\phi}  + \\Big\\langle\\frac{ke^{2}}{r_{12}}\\Big\\rangle_{\\phi}  + \\Big\\langle\\frac{ke^{2}}{R}\\Big\\rangle_{\\phi} \\\\\n",
    "& = \\big\\langle K_{1}\\big\\rangle_{\\phi} + \\big\\langle K_{2}\\big\\rangle_{\\phi} + \\big\\langle U_{e_{1}p}\\big\\rangle_{\\phi}  + \\big\\langle U_{e_{1}p'}\\big\\rangle_{\\phi} \\\\\n",
    "&  \\hspace{0.5cm} + \\big\\langle U_{e_{2}p}\\big\\rangle_{\\phi} + \\big\\langle U_{e_{2}p'}\\big\\rangle_{\\phi} + \\big\\langle U_{e_{1}e_{2}}\\big\\rangle_{\\phi} + \\big\\langle U_{pp'}\\big\\rangle_{\\phi}.\n",
    "\\end{align}\n",
    "Pela complexidade do problema, faremos isso termo a termo. Começamos com a energia cinética do elétron 1:"
   ]
  },
  {
   "cell_type": "markdown",
   "id": "e6f400b6",
   "metadata": {},
   "source": [
    "\\begin{align}\n",
    "\\langle K_{1}\\rangle_{\\phi} & = \\Big\\langle -\\frac{\\hbar^{2}}{2m_{e}}\\nabla_{1}^{2}\\Big\\rangle_{\\phi} = \\iint d^{3}r_{1}d^{3}r_{2}\\phi^{*}\\Big(-\\frac{\\hbar^{2}}{2m_{e}}\\nabla_{1}^{2}\\Big)\\phi \\\\\n",
    "& = \\iint d^{3}r_{1}d^{3}r_{2}\\phi^{*}\\Big(-\\frac{\\hbar^{2}}{2m_{e}}\\nabla_{1}^{2}\\Big)A_{+}\\big(\\psi_{0}(r_{1})\\psi_{0}(r_{2}')+\\psi_{0}(r_{2})\\psi_{0}(r_{1}')\\big) \\\\\n",
    "& = \\iint d^{3}r_{1}d^{3}r_{2}\\phi^{*}A_{+}\\Big(\\Big(-\\frac{\\hbar^{2}}{2m_{e}}\\nabla_{1}^{2}\\psi_{0}(r_{1})\\Big)\\psi_{0}(r_{2}')+\\psi_{0}(r_{2})\\Big(\\Big(-\\frac{\\hbar^{2}}{2m_{e}}\\nabla_{1}^{2}\\psi_{0}(r_{1}')\\Big)\\Big) \\\\\n",
    "& = \\iint d^{3}r_{1}d^{3}r_{2}\\phi^{*}A_{+}\\Big(\\Big(\\Big(-\\frac{\\hbar^{2}}{2m_{e}}\\nabla_{1}^{2}-\\frac{ke^{2}}{r_{1}}+\\frac{ke^{2}}{r_{1}}\\Big)\\psi_{0}(r_{1})\\Big)\\psi_{0}(r_{2}')\\\\\n",
    "& \\hspace{4cm} +\\psi_{0}(r_{2})\\Big(\\Big(\\Big(-\\frac{\\hbar^{2}}{2m_{e}}\\nabla_{1}^{2}-\\frac{ke^{2}}{r_{1}'}+\\frac{ke^{2}}{r_{1}'}\\Big)\\psi_{0}(r_{1}')\\Big)\\Big) \\\\\n",
    "& = \\iint d^{3}r_{1}d^{3}r_{2}\\phi^{*}A_{+}\\Big(\\Big(\\Big(E_{1}^{(0)}+\\frac{ke^{2}}{r_{1}}\\Big)\\psi_{0}(r_{1})\\Big)\\psi_{0}(r_{2}') + \\psi_{0}(r_{2})\\Big(\\Big(E_{1}^{(0)}+\\frac{ke^{2}}{r_{1}'}\\Big)\\psi_{0}(r_{1}')\\Big)\\Big) \\\\\n",
    "& = \\iint d^{3}r_{1}d^{3}r_{2}\\phi^{*}\\Big(E_{1}^{(0)}\\phi + A_{+}ke^{2}\\Big(\\frac{1}{r_{1}}\\psi_{0}(r_{1})\\psi_{0}(r_{2}') + \\frac{1}{r_{1}'}\\psi_{0}(r_{1}')\\psi_{0}(r_{2})\\Big)\\Big) \\\\\n",
    "& = E_{1}^{(0)} + A_{+}ke^{2}\\iint d^{3}r_{1}d^{3}r_{2}\\phi^{*}\\Big(\\frac{1}{r_{1}}\\psi_{0}(r_{1})\\psi_{0}(r_{2}') + \\frac{1}{r_{1}'}\\psi_{0}(r_{1}')\\psi_{0}(r_{2})\\Big) \\\\\n",
    "& = E_{1}^{(0)} + A_{+}^{2}ke^{2}\\Big(\\int d^{3}r_{1}\\psi_{0}(r_{1})\\frac{1}{r_{1}}\\psi_{0}(r_{1})\\int d^{3}r_{2}|\\psi_{0}(r_{2}')|^{2} + \\int d^{3}r_{1}\\psi_{0}(r_{1})\\frac{1}{r_{1}'}\\psi_{0}(r_{1}')\\int d^{3}r_{2}\\psi_{0}(r_{2}')\\psi_{0}(r_{2}) \\\\\n",
    "& \\hspace{3cm} +  \\int d^{3}r_{1}\\psi_{0}(r_{1}')\\frac{1}{r_{1}}\\psi_{0}(r_{1})\\int d^{3}r_{2}\\psi_{0}(r_{2})\\psi_{0}(r_{2}') + \\int d^{3}r_{1}\\psi_{0}(r_{1}')\\frac{1}{r_{1}'}\\psi_{0}(r_{1}')\\int d^{3}r_{2}|\\psi_{0}(r_{2})|^{2}\\Big) \\\\\n",
    "& = E_{1}^{(0)} + 2A_{+}^{2}ke^{2}\\Big(\\int d^{3}r_{1}\\psi_{0}(r_{1})\\frac{1}{r_{1}}\\psi_{0}(r_{1})\\int d^{3}r_{2}|\\psi_{0}(r_{2}')|^{2} + \\int d^{3}r_{1}\\psi_{0}(r_{1})\\frac{1}{r_{1}'}\\psi_{0}(r_{1}')\\int d^{3}r_{2}\\psi_{0}(r_{2}')\\psi_{0}(r_{2})\\Big) \\\\\n",
    "& = E_{1}^{(0)} + 2A_{+}^{2}ke^{2}\\Big(\\Big\\langle\\frac{1}{r}\\Big\\rangle_{\\psi_{0}}(1) + I_{T}I \\Big) \\\\\n",
    "& = E_{1}^{(0)} + \\frac{2ke^{2}\\big(a_{0}^{-1}+I_{T}I\\big)}{2(1+I^{2})}  = E_{1}^{(0)} + \\frac{ke^{2}\\big(a_{0}^{-1}+I_{T}I\\big)}{1+I^{2}} \\\\\n",
    "& = E_{1}^{(0)} + \\frac{-2a_{0}E_{1}^{(0)}\\big(a_{0}^{-1}+I_{T}I\\big)}{1+I^{2}} = E_{1}^{(0)}\\Big(1-\\frac{2\\big(1+a_{0}I_{T}I\\big)}{1+I^{2}}\\Big),\n",
    "\\end{align}"
   ]
  },
  {
   "cell_type": "markdown",
   "id": "31d8654b",
   "metadata": {},
   "source": [
    "em que $\\vec{\\nabla}_{1}$ atua no espaço de estados do elétron 1 e já tínhamos calculado \n",
    "a integral de troca \n",
    "$$I_{T} = \\int d^{3}r_{1} \\psi_{0}(r_{1})\\frac{1}{r_{1}}\\psi_{0}(r_{1}') = \\frac{1}{a_{0}}\\Big(1+\\frac{R}{a_{0}}\\Big)e^{-R/a_{0}}$$\n",
    "e \n",
    "$$\\Big\\langle\\frac{1}{r}\\Big\\rangle_{\\psi_{0}}=\\frac{Z}{a_{0}}=\\frac{1}{a_{0}}.$$ Acima e doravante usamos \n",
    "$$ke^{2} = ke^{2}\\frac{E_{1}^{(0)}}{E_{1}^{(0)}}=ke^{2}\\frac{-2a_{0}}{ke^{2}}E_{1}^{(0)} = -2a_{0}E_{1}^{(0)}.$$\n",
    "\n",
    "Pela simetria do sistema, os 2 elétrons possuem a mesma energia cinética média:\n",
    "$$\\langle K_{2}\\rangle_{\\phi} = \\langle K_{1}\\rangle_{\\phi}.$$"
   ]
  },
  {
   "cell_type": "markdown",
   "id": "46b3c932",
   "metadata": {},
   "source": [
    "O valor médio da energia de interação elétron-próton é\n",
    "\\begin{align}\n",
    "\\langle U_{e_{1}p}\\rangle_{\\phi} & = \\Big\\langle \\frac{-ke^{2}}{r_{1}}\\Big\\rangle = -ke^{2}\\iint d^{3}r_{1}d^{3}r_{2}\\phi^{*}\\frac{1}{r_{1}}\\phi \\\\\n",
    "& = -ke^{2}A_{+}^{2}\\iint d^{3}r_{1}d^{3}r_{2}\\big(\\psi_{0}(r_{1})\\psi_{0}(r_{2}')+\\psi_{0}(r_{2})\\psi_{0}(r_{1}')\\big)\\frac{1}{r_{1}}\\big(\\psi_{0}(r_{1})\\psi_{0}(r_{2}')+\\psi_{0}(r_{2})\\psi_{0}(r_{1}')\\big) \\\\\n",
    "& = -ke^{2}A_{+}^{2}\\Big(\\int d^{3}r_{1}\\psi_{0}(r_{1})\\frac{1}{r_{1}}\\psi_{0}(r_{1})\\int d^{3}r_{2}\\psi_{0}(r_{2}')^{2} + \\int d^{3}r_{1}\\psi_{0}(r_{1})\\frac{1}{r_{1}}\\psi_{0}(r_{1}')\\int d^{3}r_{2}\\psi_{0}(r_{2}')\\psi_{0}(r_{2}) \\\\\n",
    "& \\hspace{2cm} + \\int d^{3}r_{1}\\psi_{0}(r_{1}')\\frac{1}{r_{1}}\\psi_{0}(r_{1})\\int d^{3}r_{2}\\psi_{0}(r_{2})\\psi_{0}(r_{2}') + \\int d^{3}r_{1}\\psi_{0}(r_{1}')\\frac{1}{r_{1}}\\psi_{0}(r_{1}')\\int d^{3}r_{2}\\psi_{0}(r_{2})^{2} \\Big) \\\\\n",
    "& = -ke^{2}A_{+}^{2}\\big(a_{0}^{-1}(1) + 2I_{T}I + I_{D}(1) \\big) \\\\\n",
    "& = -\\frac{ke^{2}\\big(a_{0}^{-1} + 2I_{T}I + I_{D} \\big)}{2\\big(1+I^{2}\\big)} = -\\frac{-2a_{0}E_{1}^{(0)}\\big(a_{0}^{-1} + 2I_{T}I + I_{D} \\big)}{2\\big(1+I^{2}\\big)} \\\\\n",
    "& = E_{1}^{(0)}\\frac{\\big(1 + 2a_{0}I_{T}I + a_{0}I_{D} \\big)}{\\big(1+I^{2}\\big)},\n",
    "\\end{align}\n",
    "em que usamos a integral direta \n",
    "$$I_{D} = \\int d^{3}r_{1} \\psi_{0}(r_{1})\\frac{1}{r_{2}}\\psi_{0}(r_{1}) = \\frac{1}{a_{0}}\\Big(\\frac{a_{0}}{R} - \\Big(\\frac{a_{0}}{R} + 1\\Big)e^{-2R/a_{0}}\\Big),$$\n",
    "obtida anteriormente.\n",
    "\n",
    "Novamente, pela simetria do sistema, teremos que\n",
    "$$\\Big\\langle \\frac{-ke^{2}}{r_{1}}\\Big\\rangle = \\Big\\langle \\frac{-ke^{2}}{r_{2}}\\Big\\rangle = \\Big\\langle \\frac{-ke^{2}}{r_{1}'}\\Big\\rangle = \\Big\\langle \\frac{-ke^{2}}{r_{2}'}\\Big\\rangle.$$\n",
    "Portanto, o valor médio da energia total de interação elétron-próton é\n",
    "$$\\langle U_{ep}\\rangle_{\\phi} = 4\\langle U_{e_{1}p}\\rangle_{\\phi}.$$"
   ]
  },
  {
   "cell_type": "markdown",
   "id": "26937b6c",
   "metadata": {},
   "source": [
    "Seguindo, passamos para o cálculo do valor médio da interação elétron-elétron:\n",
    "\\begin{align}\n",
    "\\langle U_{ee}\\rangle_{\\phi} & = \\Big\\langle\\frac{ke^{2}}{r_{12}}\\Big\\rangle_{\\phi} =  ke^{2}\\iint d^{3}r_{1}d^{3}r_{2}\\phi^{*}\\frac{1}{r_{12}}\\phi \\\\\n",
    "& =  ke^{2}A_{+}^{2}\\iint d^{3}r_{1}d^{3}r_{2}\\big(\\psi_{0}(r_{1})\\psi_{0}(r_{2}')+\\psi_{0}(r_{2})\\psi_{0}(r_{1}')\\big)\\frac{1}{r_{12}}\\big(\\psi_{0}(r_{1})\\psi_{0}(r_{2}')+\\psi_{0}(r_{2})\\psi_{0}(r_{1}')\\big) \\\\\n",
    "& =  ke^{2}A_{+}^{2}\\Big(\\iint d^{3}r_{1}d^{3}r_{2}|\\psi_{0}(r_{1})|^{2}|\\psi_{0}(r_{2}')|^{2}\\frac{1}{r_{12}} + \\iint d^{3}r_{1}d^{3}r_{2}|\\psi_{0}(r_{2})|^{2}|\\psi_{0}(r_{1}')|^{2}\\frac{1}{r_{12}} \\\\\n",
    "& \\hspace{2cm} + \\iint d^{3}r_{1}d^{3}r_{2}\\psi_{0}(r_{1})\\psi_{0}(r_{2}')\\frac{1}{r_{12}}\\psi_{0}(r_{2})\\psi_{0}(r_{1}') + \\iint d^{3}r_{1}d^{3}r_{2}\\psi_{0}(r_{2})\\psi_{0}(r_{1}')\\frac{1}{r_{12}}\\psi_{0}(r_{1})\\psi_{0}(r_{2}') \\Big)\\\\\n",
    "& =  2ke^{2}A_{+}^{2}\\Big(\\iint d^{3}r_{1}d^{3}r_{2}|\\psi_{0}(r_{1})|^{2}|\\psi_{0}(r_{2}')|^{2}\\frac{1}{r_{12}} + \\iint d^{3}r_{1}d^{3}r_{2}\\psi_{0}(r_{1})\\psi_{0}(r_{2}')\\frac{1}{r_{12}}\\psi_{0}(r_{2})\\psi_{0}(r_{1}') \\Big) \\\\\n",
    "& =: \\frac{2ke^{2}\\big(I_{d}+I_{t}\\big)}{2\\big(1+I^{2}\\big)} = \\frac{ke^{2}\\big(I_{d}+I_{t}\\big)}{1+I^{2}} \\\\\n",
    "& = \\frac{-2a_{0}E_{1}^{(0)}\\big(I_{d}+I_{t}\\big)}{1+I^{2}} = -2E_{1}^{(0)}\\frac{\\big(a_{0}I_{d}+a_{0}I_{t}\\big)}{1+I^{2}},\n",
    "\\end{align}\n",
    "em que definimos\n",
    "\\begin{align}\n",
    "& I_{d} := \\iint d^{3}r_{1}d^{3}r_{2}|\\psi_{0}(r_{1})|^{2}|\\psi_{0}(r_{2}')|^{2}\\frac{1}{r_{12}}, \\\\\n",
    "& I_{t} := \\iint d^{3}r_{1}d^{3}r_{2}\\psi_{0}(r_{1})\\psi_{0}(r_{2}')\\frac{1}{r_{12}}\\psi_{0}(r_{2})\\psi_{0}(r_{1}').\n",
    "\\end{align}"
   ]
  },
  {
   "cell_type": "markdown",
   "id": "95f07d4b",
   "metadata": {},
   "source": [
    "Passemos agora para o cálculo dessas integrais. A primeira integral pode ser identificada com a energia potencial eletrostática de duas distribuições de carga elétrica $\\rho_{1} = |\\psi_{0}(r_{1})|^{2}$ e $\\rho_{2} = |\\psi_{0}(r_{2})|^{2}$:\n",
    "\\begin{align}\n",
    "I_{d} & = \\iint d^{3}r_{1}d^{3}r_{2}|\\psi_{0}(r_{1})|^{2}|\\psi_{0}(r_{2}')|^{2}\\frac{1}{r_{12}} \\\\\n",
    "& = \\frac{1}{\\pi a_{0}^{3}}\\int d^{3}r_{2}|\\psi_{0}(r_{2}')|^{2}\\int_{0}^{\\infty}r_{1}^{2}e^{-2r_{1}/a_{0}}dr_{1}\\int_{0}^{\\pi}\\frac{\\sin\\theta_{1} d\\theta_{1}}{\\sqrt{r_{1}^{2}+r_{2}^{2}-2r_{1}r_{2}\\cos\\theta_{1}}}\\int_{0}^{2\\pi}d\\phi_{1} \\\\\n",
    "& = \\frac{2\\pi}{\\pi a_{0}^{3}}\\int d^{3}r_{2}|\\psi_{0}(r_{2}')|^{2}\\int_{0}^{\\infty}r_{1}^{2}e^{-2r_{1}/a_{0}}dr_{1}\\int_{(r_{1}-r_{2})^{2}}^{(r_{1}+r_{2})^{2}}y^{-1/2}\\frac{dy}{2r_{1}r_{2}} \\\\\n",
    "& = \\frac{1}{a_{0}^{3}}\\int d^{3}r_{2}\\frac{|\\psi_{0}(r_{2}')|^{2}}{r_{2}}\\int_{0}^{\\infty}r_{1}e^{-2r_{1}/a_{0}}dr_{1}\\Big(\\frac{\\sqrt{y}}{1/2}\\Big)_{(r_{1}-r_{2})^{2}}^{(r_{1}+r_{2})^{2}} \\\\\n",
    "& = \\frac{2}{a_{0}^{3}}\\int d^{3}r_{2}\\frac{|\\psi_{0}(r_{2}')|^{2}}{r_{2}}\\int_{0}^{\\infty}r_{1}e^{-2r_{1}/a_{0}}dr_{1}\\Big(\\sqrt{(r_{1}+r_{2})^{2}}-\\sqrt{(r_{1}-r_{2})^{2}}\\Big) \\\\\n",
    "& = \\frac{2}{a_{0}^{3}}\\int d^{3}r_{2}\\frac{|\\psi_{0}(r_{2}')|^{2}}{r_{2}}\\int_{0}^{\\infty}r_{1}e^{-2r_{1}/a_{0}}dr_{1}\\big(r_{1}+r_{2}-|r_{1}-r_{2}|\\big) \\\\\n",
    "& = \\frac{2}{a_{0}^{3}}\\int d^{3}r_{2}\\frac{|\\psi_{0}(r_{2}')|^{2}}{r_{2}}\\Big(\\int_{0}^{r_{2}}r_{1}e^{-2r_{1}/a_{0}}dr_{1}\\big(r_{1}+r_{2}-r_{2}+r_{1}|\\big) + \\int_{r_{2}}^{\\infty}r_{1}e^{-2r_{1}/a_{0}}dr_{1}\\big(r_{1}+r_{2}-r_{1}+r_{2}\\big) \\Big) \\\\\n",
    "& = \\frac{2}{a_{0}^{3}}\\int d^{3}r_{2}\\frac{|\\psi_{0}(r_{2}')|^{2}}{r_{2}}\\Big(2\\int_{0}^{r_{2}}r_{1}^{2}e^{-2r_{1}/a_{0}}dr_{1} + 2r_{2}\\int_{r_{2}}^{\\infty}r_{1}e^{-2r_{1}/a_{0}}dr_{1} \\Big) \\\\\n",
    "& = \\frac{4}{a_{0}^{3}}\\int d^{3}r_{2}\\frac{|\\psi_{0}(r_{2}')|^{2}}{r_{2}}\\Big(\\frac{a_{0}^{3}}{4}\\Big(1-\\big(1+r_{2}/a_{0}\\big)e^{-2r_{2}/a_{0}}\\Big)\\Big) \\\\\n",
    "& = \\int d^{3}r_{2}\\frac{|\\psi_{0}(r_{2}')|^{2}}{r_{2}}\\Big(1-\\big(1+r_{2}/a_{0}\\big)e^{-2r_{2}/a_{0}}\\Big),\n",
    "\\end{align}\n",
    "em que $\\theta_{1}$ é o ângulo entre $\\vec{r}_{1}$ e $\\vec{r}_{2}$. Acima fizemos a mudança de variável $y = r_{1}^{2}+r_{2}^{2}-2r_{1}r_{2}\\cos\\theta_{1}\\ \\therefore\\ dy = 2r_{1}r_{2}\\sin\\theta_{1}d\\theta_{1}$. Assim $\\theta_{1}=0\\Rightarrow y = (r_{1}-r_{2})^{2}$ e $\\theta_{1}=\\pi\\Rightarrow y = (r_{1}+r_{2})^{2}$."
   ]
  },
  {
   "cell_type": "code",
   "execution_count": 20,
   "id": "82f30d13",
   "metadata": {},
   "outputs": [
    {
     "data": {
      "image/png": "[encoded data removed]",
      "text/latex": [
       "$\\displaystyle \\frac{a_{0}^{2} \\left(a_{0} e^{\\frac{2 r_{2}}{a_{0}}} - a_{0} - r_{2}\\right) e^{- \\frac{2 r_{2}}{a_{0}}}}{4}$"
      ],
      "text/plain": [
       "    ⎛    2⋅r₂          ⎞  -2⋅r₂ \n",
       "    ⎜    ────          ⎟  ──────\n",
       "  2 ⎜     a₀           ⎟    a₀  \n",
       "a₀ ⋅⎝a₀⋅ℯ     - a₀ - r₂⎠⋅ℯ      \n",
       "────────────────────────────────\n",
       "               4                "
      ]
     },
     "execution_count": 20,
     "metadata": {},
     "output_type": "execute_result"
    }
   ],
   "source": [
    "r1,r2,A0 = symbols('r_1 r_2 a_0', positive=True)\n",
    "simplify(integrate(r1**2*exp(-2*r1/A0), (r1,0,r2)) + r2*integrate(r1*exp(-2*r1/A0), (r1,r2,oo)))"
   ]
  },
  {
   "cell_type": "markdown",
   "id": "f470fd58",
   "metadata": {},
   "source": [
    "Continuando com o cálculo da integral acima, teremos\n",
    "\\begin{align}\n",
    "I_{d} & = \\frac{1}{\\pi a_{0}^{3}}\\int_{0}^{\\infty}\\frac{1}{r_{2}}\\Big(1-\\big(1+r_{2}/a_{0}\\big)e^{-2r_{2}/a_{0}}\\Big)r_{2}^{2}dr_{2}\\int_{0}^{\\pi}e^{-2r_{2}'/a_{0}}\\sin\\theta_{2}d\\theta_{2}\\int_{0}^{2\\pi}d\\phi_{2} \\\\\n",
    "& = \\frac{2\\pi}{\\pi a_{0}^{3}}\\int_{0}^{\\infty}\\Big(1-\\big(1+r_{2}/a_{0}\\big)e^{-2r_{2}/a_{0}}\\Big)r_{2}dr_{2}\\int_{0}^{\\pi}e^{-2\\sqrt{r_{2}^{2}+R^{2}-2r_{2}R\\cos\\theta_{2}}/a_{0}}\\sin\\theta_{2}d\\theta_{2} \\\\\n",
    "& = \\frac{2}{a_{0}^{3}}\\int_{0}^{\\infty}\\Big(1-\\big(1+r_{2}/a_{0}\\big)e^{-2r_{2}/a_{0}}\\Big)r_{2}dr_{2}\\int_{2|r_{2}-R|/a_{0}}^{2(r_{2}+R)/a_{0}}e^{-y}\\frac{a_{0}^{2}ydy}{4r_{2}R} \\\\\n",
    "& = \\frac{1}{2a_{0}R}\\int_{0}^{\\infty}\\Big(1-\\big(1+r_{2}/a_{0}\\big)e^{-2r_{2}/a_{0}}\\Big)dr_{2}\\Big(-\\big(1+2(r_{2}+R)/a_{0}\\big)e^{-2(r_{2}+R)/a_{0}} + \\big(1+2|r_{2}-R|/a_{0}\\big)e^{-2|r_{2}-R|/a_{0}} \\Big) \\\\\n",
    "& = -\\frac{1}{2a_{0}R}\\Big(\\int_{0}^{\\infty}\\Big(1-\\big(1+r_{2}/a_{0}\\big)e^{-2r_{2}/a_{0}}\\Big)\\big(1+2(r_{2}+R)/a_{0}\\big)e^{-2(r_{2}+R)/a_{0}}dr_{2} \\\\\n",
    "& \\hspace{2cm} - \\int_{0}^{\\infty}\\Big(1-\\big(1+r_{2}/a_{0}\\big)e^{-2r_{2}/a_{0}}\\Big)\\big(1+2|r_{2}-R|/a_{0}\\big)e^{-2|r_{2}-R|/a_{0}} \\Big)  \\\\\n",
    "& = -\\frac{1}{2a_{0}R}\\Big(\\int_{0}^{\\infty}\\Big(1-\\big(1+r_{2}/a_{0}\\big)e^{-2r_{2}/a_{0}}\\Big)\\big(1+2(r_{2}+R)/a_{0}\\big)e^{-2(r_{2}+R)/a_{0}}dr_{2} \\\\\n",
    "& \\hspace{2cm} - \\int_{0}^{R}\\Big(1-\\big(1+r_{2}/a_{0}\\big)e^{-2r_{2}/a_{0}}\\Big)\\big(1+2(R-r_{2})/a_{0}\\big)e^{-2(R-r_{2})/a_{0}}dr_{2} \\\\\n",
    "& \\hspace{2cm} - \\int_{R}^{\\infty}\\Big(1-\\big(1+r_{2}/a_{0}\\big)e^{-2r_{2}/a_{0}}\\Big)\\big(1+2(r_{2}-R)/a_{0}\\big)e^{-2(r_{2}-R)/a_{0}}dr_{2} \\Big) \\\\\n",
    "& = -\\frac{1}{2a_{0}R}\\Big(-2a_{0} + \\Big(\\frac{1}{3}\\frac{R^{3}}{a_{0}^{2}} + \\frac{3}{2}\\frac{R^{2}}{a_{0}} + \\frac{11}{4}R + 2a_{0}\\Big)e^{-2R/a_{0}} \\Big) \\\\\n",
    "& = \\frac{1}{R} - \\frac{1}{R}\\Big(\\frac{R^{3}}{6a_{0}^{3}} + \\frac{3R^{2}}{4a_{0}^{2}} + \\frac{11R}{8a_{0}} + 1 \\Big)e^{-2R/a_{0}},\n",
    "\\end{align}\n",
    "em que $\\theta_{2}$ é o ângulo entre $\\vec{r}_{2}$ e $\\vec{R}$. Acima usamos a mudança de variável $y=2\\sqrt{r_{2}^{2}+R^{2}-2r_{2}R\\cos\\theta_{2}}/a_{0}\\ \\therefore\\ a_{0}^{2}d(y^{2})=a_{0}^{2}2ydy = 8r_{2}R\\sin\\theta_{2}d\\theta_{2}$. Assim $\\theta_{2}=0\\Rightarrow y = 2|r_{2}-R|/a_{0}$ e $\\theta_{2}=\\pi\\Rightarrow y = 2(r_{2}+R)/a_{0}$."
   ]
  },
  {
   "cell_type": "code",
   "execution_count": 28,
   "id": "f04a2ebf",
   "metadata": {},
   "outputs": [
    {
     "data": {
      "image/png": "[encoded data removed]",
      "text/latex": [
       "$\\displaystyle \\left(- y - 1\\right) e^{- y}$"
      ],
      "text/plain": [
       "          -y\n",
       "(-y - 1)⋅ℯ  "
      ]
     },
     "execution_count": 28,
     "metadata": {},
     "output_type": "execute_result"
    }
   ],
   "source": [
    "y,th2,R = symbols('y theta_2 R')\n",
    "integrate(y*exp(-y))"
   ]
  },
  {
   "cell_type": "code",
   "execution_count": 30,
   "id": "89d781e6",
   "metadata": {},
   "outputs": [
    {
     "data": {
      "image/png": "[encoded data removed]",
      "text/latex": [
       "$\\displaystyle \\frac{\\left(4 R^{3} + 18 R^{2} a_{0} + 33 R a_{0}^{2} - 24 a_{0}^{3} e^{\\frac{2 R}{a_{0}}} + 24 a_{0}^{3}\\right) e^{- \\frac{2 R}{a_{0}}}}{12 a_{0}^{2}}$"
      ],
      "text/plain": [
       "⎛                                     2⋅R         ⎞  -2⋅R \n",
       "⎜                                     ───         ⎟  ─────\n",
       "⎜   3       2             2        3   a₀        3⎟    a₀ \n",
       "⎝4⋅R  + 18⋅R ⋅a₀ + 33⋅R⋅a₀  - 24⋅a₀ ⋅ℯ    + 24⋅a₀ ⎠⋅ℯ     \n",
       "──────────────────────────────────────────────────────────\n",
       "                               2                          \n",
       "                          12⋅a₀                           "
      ]
     },
     "execution_count": 30,
     "metadata": {},
     "output_type": "execute_result"
    }
   ],
   "source": [
    "simplify( integrate( (1-(1+r2/A0)*exp(-2*r2/A0))*(1+2*(r2+R)/A0)*exp(-2*(r2+R)/A0), (r2,0,oo) ) \n",
    "        - integrate( (1-(1+r2/A0)*exp(-2*r2/A0))*(1+2*(R-r2)/A0)*exp(-2*(R-r2)/A0), (r2,0,R) ) \n",
    "        - integrate( (1-(1+r2/A0)*exp(-2*r2/A0))*(1+2*(r2-R)/A0)*exp(-2*(r2-R)/A0), (r2,R,oo) ) )"
   ]
  },
  {
   "cell_type": "markdown",
   "id": "e382f2da",
   "metadata": {},
   "source": [
    "Seguindo, vamos para a outra integral:\n",
    "\\begin{align}\n",
    "I_{t} & = \\iint d^{3}r_{1}d^{3}r_{2}\\psi_{0}(r_{1})\\psi_{0}(r_{2}')\\frac{1}{r_{12}}\\psi_{0}(r_{2})\\psi_{0}(r_{1}') \\\\\n",
    "& = \\frac{1}{(\\pi a_{0}^{3})^{2}}\\int d^{3}r_{2}e^{-(r_{2}+r_{2}')/a_{0}}\\int d^{3}r_{1}\\frac{e^{-(r_{1}+r_{1}')/a_{0}}}{r_{12}} \\\\\n",
    "& \\vdots \\ \\text{ (Y. SUGIURA, Über die Eigenschaften des Wasserstoffmoleküls im Grundzustande, Z. Phys. 46, 484 (1927).)} \\\\\n",
    "& = \\frac{e^{-2R/a_{0}}}{a_{0}}\\Big(\\frac{5}{8}-\\frac{23R}{20 a_{0}} - \\frac{3}{5}\\Big(\\frac{R}{a_{0}}\\Big)^{2}-\\frac{1}{15}\\Big(\\frac{R}{a_{0}}\\Big)^{3}\\Big) \\\\\n",
    "& \\hspace{0.5cm} + \\frac{6I^{2}}{5R}\\Big(\\gamma \\log(R/a_{0}) + (\\tilde{I}/I)^{2}Ei(-4R/a_{0}) - 2(\\tilde{I}/I)Ei(-2R/a_{0})\\Big),\n",
    "\\end{align}\n",
    "com $\\gamma \\approx 0.5772$ sendo a constante de Euler, a integral exponencial é\n",
    "$$Ei(x)=\\int_{-x}^{\\infty}dt e^{-t}/t$$ \n",
    "e $\\tilde{I}$ é obtida de $I$ trocando-se o sinal de $R$: \n",
    "$$\\tilde{I} = e^{R/a_{0}}\\big(1+R/a_{0}+(R/a_{0})^{2}\\big)/3.$$"
   ]
  },
  {
   "cell_type": "markdown",
   "id": "1bd827a6",
   "metadata": {},
   "source": [
    "Por fim, como por hora estamos considerando $R$ constante, a energia potencial de interação Coulombiana próton-próton é dada por\n",
    "\\begin{align}\n",
    "\\big\\langle U_{pp'}\\big\\rangle_{\\phi} & = \\Big\\langle\\frac{ke^{2}}{R}\\Big\\rangle = \\iint d^{3}r_{1}d^{3}r_{2}\\phi^{*}\\frac{ke^{2}}{R}\\phi = \\frac{ke^{2}}{R}\\iint d^{3}r_{1}d^{3}r_{2}|\\phi|^{2} \\\\\n",
    "& = \\frac{ke^{2}}{R}\\frac{E_{1}^{(0)}}{E_{1}^{(0)}} = \\frac{ke^{2}}{R}\\frac{-2a_{0}}{ke^{2}}E_{1}^{(0)} = \\frac{-2a_{0}E_{1}^{(0)}}{R}.\n",
    "\\end{align}\n",
    "\n",
    "Com isso, teremos\n",
    "\\begin{align}\n",
    "\\langle H\\rangle_{\\phi} & = 2\\langle K_{1}\\rangle_{\\phi} + 4\\langle U_{e_{1}p}\\rangle_{\\phi} + \\langle U_{e_{1}e_{2}}\\rangle_{\\phi} + \\langle U_{pp'}\\rangle_{\\phi} \\\\\n",
    "& = 2E_{1}^{(0)}\\Big(1-\\frac{2\\big(1+a_{0}I_{T}I\\big)}{1+I^{2}}\\Big) + 4E_{1}^{(0)}\\frac{\\big(1 + 2a_{0}I_{T}I + a_{0}I_{D} \\big)}{\\big(1+I^{2}\\big)} -2E_{1}^{(0)}\\frac{\\big(a_{0}I_{d}+a_{0}I_{t}\\big)}{1+I^{2}} -2E_{1}^{(0)}\\frac{a_{0}}{R} \\\\\n",
    "& = -2E_{1}^{(0)}\\Big(-1+\\frac{a_{0}}{R} - \\frac{2a_{0}I_{T}I+2a_{0}I_{D}-a_{0}I_{d}-a_{0}I_{t}}{1+I^{2}}\\Big).\n",
    "\\end{align}"
   ]
  },
  {
   "cell_type": "code",
   "execution_count": 2,
   "id": "6ac33ea2",
   "metadata": {},
   "outputs": [],
   "source": [
    "def Hm_H2(x): # x = R/a0\n",
    "    I = (x**2/3 + x +1)*math.exp(-x)\n",
    "    IT = (1+x)*math.exp(-x)#*(1/a0)\n",
    "    ID = (1/x - (1/x + 1)*math.exp(-2*x))#*(1/a0)\n",
    "    Id = 1/x - (x**2/6 + (3*x)/4 + 11/8 +1/x)*math.exp(-2*x)\n",
    "    ga = 0.5772\n",
    "    Itil = (x**2/3 - x +1)*math.exp(x)\n",
    "    It = (5/8 - (23*x)/20 - (3/5)*x**2 - (1/15)*x**3)*math.exp(-2*x) \n",
    "    + ((6*I**2)/(5*x))*(ga*math.log(x) + (Itil/I)**2*Ei(-4*x) - 2*(Itil/I)*Ei(-2*x) )\n",
    "    return 2*(-1 + 1/x - ((2*IT*I+2*ID-Id-It)/(1+I**2)))#*(-2*E10)"
   ]
  },
  {
   "cell_type": "code",
   "execution_count": 7,
   "id": "072260e9",
   "metadata": {},
   "outputs": [
    {
     "data": {
      "image/png": "[encoded data removed]",
      "text/plain": [
       "<Figure size 500x400 with 1 Axes>"
      ]
     },
     "metadata": {
      "needs_background": "light"
     },
     "output_type": "display_data"
    }
   ],
   "source": [
    "import matplotlib\n",
    "matplotlib.rcParams.update({'font.size':10}); plt.figure(figsize = (5,4), dpi = 100)\n",
    "x = np.arange(0.6,6,0.05); d = len(x); y = np.zeros(d); y2 = y-2\n",
    "for j in range(0,d):\n",
    "    y[j] = Hm_H2(x[j])\n",
    "plt.plot(x,y); plt.plot(x,y2)\n",
    "plt.ylabel(r'$\\langle H_{t}\\rangle_{\\phi}(-E_{1}^{(0)})$'); plt.xlabel(r'$R/a_{0}$')\n",
    "plt.show()"
   ]
  },
  {
   "cell_type": "markdown",
   "id": "3c2169b8",
   "metadata": {},
   "source": [
    "# Exercícios\n",
    "\n",
    "1. Verifique que para a função de onda teste da eq. ($*$), o valor médio do hamiltoniano da eq. ($\\star$) é dado pela expressão na eq. ($\\diamond$).\n",
    "\n",
    "1. Considerando o íon da molécula de hidrogênio, faça os cálculos para verificar que a função de onda teste \n",
    "$$\\phi_{-} = A\\big(\\psi_{0}(r_{1})-\\psi_{0}(r_{2})\\big)$$\n",
    "indica um estado não ligado para esta molécula.\n",
    "\n",
    "1. Qual seria a temperatura para a qual a energia térmica seria a mesma que a energia de oscilação necessária para quebrar a molécula $H_{2}^{+}$?\n",
    "\n",
    "1. Considerando a molécula de hidrogênio, $H_{2}$, faça os cálculos para verificar que a função de onda teste \n",
    "$$\\phi_{-}(\\vec{r}_{1},\\vec{r}_{2}) = A_{-}\\big(\\psi_{0}(r_{1})\\psi_{0}(r_{2}')-\\psi_{0}(r_{2})\\psi_{0}(r_{1}')\\big)$$\n",
    "indica um estado não ligado para esta molécula."
   ]
  },
  {
   "cell_type": "code",
   "execution_count": null,
   "id": "ebfaa62d",
   "metadata": {},
   "outputs": [],
   "source": []
  }
 ],
 "metadata": {
  "kernelspec": {
   "display_name": "Python 3 (ipykernel)",
   "language": "python",
   "name": "python3"
  },
  "language_info": {
   "codemirror_mode": {
    "name": "ipython",
    "version": 3
   },
   "file_extension": ".py",
   "mimetype": "text/x-python",
   "name": "python",
   "nbconvert_exporter": "python",
   "pygments_lexer": "ipython3",
   "version": "3.8.8"
  }
 },
 "nbformat": 4,
 "nbformat_minor": 5
}
