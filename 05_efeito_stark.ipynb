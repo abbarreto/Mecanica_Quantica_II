{
 "cells": [
  {
   "cell_type": "markdown",
   "id": "06a2ff27",
   "metadata": {},
   "source": [
    "### Notas de aula de Mecânica Quântica <br> Autor: Jonas Maziero"
   ]
  },
  {
   "cell_type": "markdown",
   "id": "16911cf9",
   "metadata": {},
   "source": [
    "# Efeito Stark\n",
    "\n",
    "## Acoplamento mínimo\n",
    "Vamos considerar uma partícula de carga elétrica $q$ e massa $m$ sujeita a campos elétricos e magnéticos. Sabemos da teoria eletromagnética que as seguintes relações seguem para os campos elétrico e magnético em termos dos potenciais escalar elétrico e vetor magnético:\n",
    "\\begin{align}\n",
    "& \\vec{E} = -\\vec{\\nabla}\\Phi - \\partial_{t}\\vec{A}, \\\\\n",
    "& \\vec{B} = \\vec{\\nabla}\\times\\vec{A},\n",
    "\\end{align}\n",
    "com $\\Phi=\\Phi(\\vec{r},t)$ e $\\vec{A}=\\vec{A}(\\vec{r},t)$.\n",
    "\n",
    "A dinâmica clássica dessa partícula pode ser descrita através da Lagrangeana\n",
    "\\begin{equation}\n",
    "L = \\frac{1}{2}m\\dot{\\vec{r}}^{2} + q\\dot{\\vec{r}}\\cdot\\vec{A} - q\\Phi = \\frac{m}{2}\\sum_{j=1}^{3}\\dot{r}_{j}^{2}+ q\\sum_{j=1}^{3}\\dot{r}_{j}A_{j}-q\\Phi. \\hspace{1cm} (\\star)\n",
    "\\end{equation}\n",
    "Pode-se verificar, usando as equações de Euler-Lagrange,\n",
    "\\begin{equation}\n",
    "\\frac{\\partial L}{\\partial r_{j}}-\\frac{d}{dt}\\frac{\\partial L}{\\partial\\dot{r}_{j}}=0 \\text{ para } j=1,2,3,\n",
    "\\end{equation}\n",
    "que essa Lagrangena é consistente com a força de Lorentz e a 2ª lei de Newton\n",
    "\\begin{align}\n",
    " \\vec{F} = q\\vec{E} + q\\dot{\\vec{r}}\\times\\vec{B} = \\frac{d}{dt}\\big(m\\dot{\\vec{r}}\\big).\n",
    "\\end{align}\n"
   ]
  },
  {
   "cell_type": "markdown",
   "id": "25dd5597",
   "metadata": {},
   "source": [
    "O momento canonicamente conjugado a $\\vec{r}$ é obtido de\n",
    "\\begin{align}\n",
    "& p_{k} = \\frac{\\partial L}{\\partial \\dot{r}_{k}} = \\frac{m}{2}\\sum_{j=1}^{3}2\\dot{r}_{j}\\frac{\\partial \\dot{r}_{j}}{\\partial \\dot{r}_{k}} + q\\sum_{j=1}^{3}\\frac{\\partial \\dot{r}_{j}}{\\partial \\dot{r}_{k}}A_{j}-q\\frac{\\partial \\Phi}{\\partial \\dot{r}_{k}} \\\\\n",
    "&  = m\\sum_{j=1}^{3}\\dot{r}_{j}\\delta_{j,k} + q\\sum_{j=1}^{3}\\delta_{j,k}A_{j}-q0 = m\\dot{r}_{k} + qA_{k} \\\\\n",
    "& \\therefore\\ \\vec{p} = m\\dot{\\vec{r}} + q\\vec{A}, \\ \\therefore\\ \\dot{\\vec{r}} = \\frac{1}{m}\\big(\\vec{p}-q\\vec{A}\\big).\n",
    "\\end{align}"
   ]
  },
  {
   "cell_type": "markdown",
   "id": "319c1e18",
   "metadata": {},
   "source": [
    "A hamiltoniana associada à lagrangeana acima é\n",
    "\\begin{align}\n",
    "H & = \\vec{p}\\cdot\\dot{\\vec{r}} - L \\\\ \n",
    "& = \\vec{p}\\cdot\\dot{\\vec{r}} - \\frac{1}{2}m\\dot{\\vec{r}}^{2} - q\\dot{\\vec{r}}\\cdot\\vec{A} + q\\Phi \\\\\n",
    "& = \\vec{p}\\cdot\\dot{\\vec{r}} - \\frac{1}{2}m\\dot{\\vec{r}}^{2} - q\\vec{A}\\cdot\\dot{\\vec{r}} + q\\Phi \\\\\n",
    "& = \\vec{p}\\cdot\\frac{1}{m}\\big(\\vec{p}-q\\vec{A}\\big) - \\frac{1}{2}m\\frac{1}{m^{2}}\\big(\\vec{p}-q\\vec{A}\\big)^{2} - q\\vec{A}\\cdot\\frac{1}{m}\\big(\\vec{p}-q\\vec{A}\\big) + q\\Phi \\\\\n",
    "& = \\frac{1}{m}\\big(\\vec{p}-q\\vec{A}\\big)\\cdot\\big(\\vec{p}-q\\vec{A}\\big) - \\frac{1}{2m}\\big(\\vec{p}-q\\vec{A}\\big)^{2}  + q\\Phi \\\\\n",
    "& = \\frac{1}{2m}\\big(\\vec{p}-q\\vec{A}\\big)^{2} + q\\Phi.\n",
    "\\end{align}"
   ]
  },
  {
   "cell_type": "markdown",
   "id": "0b75746e",
   "metadata": {},
   "source": [
    "Usando\n",
    "\\begin{equation}\n",
    "\\vec{p}\\rightarrow -i\\hbar\\vec{\\nabla}\n",
    "\\end{equation}\n",
    "podemos escrever a equação de Schrödinger para a função de onda de uma partícula não relativśitica de massa $m$ e carga elétrica $q$ sujeita a campos elétrico e magnético representados pelos potenciais $\\Phi$ e $\\vec{A}$:\n",
    "\\begin{equation}\n",
    "\\Big(\\frac{1}{2m}\\big(-i\\hbar\\vec{\\nabla}-q\\vec{A}\\big)^{2} + q\\Phi\\Big)\\Psi = i\\hbar\\frac{\\partial}{\\partial t}\\Psi, \\hspace{1cm} (*)\n",
    "\\end{equation}\n",
    "com $\\Psi=\\Psi(\\vec{r},t)$.\n",
    "\n",
    "Vale observar que em geral \n",
    "\\begin{equation}\n",
    "[\\vec{p},\\vec{A}]\\ne \\mathbb{O},\n",
    "\\end{equation}\n",
    "pois\n",
    "\\begin{align}\n",
    "\\vec{p}\\cdot\\vec{A}\\Psi & = \\sum_{j=1}^{3}p_{j}A_{j}\\Psi = \\sum_{j=1}^{3}(-i\\hbar)\\nabla_{j}A_{j}\\Psi = \\sum_{j=1}^{3}(-i\\hbar)\\big((\\nabla_{j}A_{j})\\Psi+A_{j}\\nabla_{j}\\Psi\\big) \\\\\n",
    "& =(-i\\hbar)\\big((\\sum_{j=1}^{3}\\nabla_{j}A_{j})\\Psi+ (\\sum_{j=1}^{3}A_{j}\\nabla_{j})\\Psi\\big) = (-i\\hbar)\\big((\\vec{\\nabla}\\cdot\\vec{A})\\Psi + \\vec{A}\\cdot\\vec{\\nabla}\\Psi\\big) \\\\\n",
    "& = (-i\\hbar)(\\vec{\\nabla}\\cdot\\vec{A})\\Psi + \\vec{A}\\cdot\\vec{p}\\Psi.\n",
    "\\end{align}"
   ]
  },
  {
   "cell_type": "markdown",
   "id": "30b4c773",
   "metadata": {},
   "source": [
    "Ou seja\n",
    "\\begin{equation}\n",
    "\\vec{p}\\cdot\\vec{A} - \\vec{A}\\cdot\\vec{p} = (-i\\hbar)\\vec{\\nabla}\\cdot\\vec{A},\n",
    "\\end{equation}\n",
    "que é igual ao operador nulo somente se o potencial vetor magnético tiver divergente nulo, i.e., se $\\vec{\\nabla}\\cdot\\vec{A}=0$. Isso é de se esperar pois $\\vec{A}=\\vec{A}(\\vec{r},t)$ e $\\vec{p}\\cdot\\vec{r}\\ne \\vec{r}\\cdot\\vec{p}$. \n",
    "\n",
    "Da teoria eletromagnética, sabemos que, para\n",
    "\\begin{equation}\n",
    "\\chi = \\chi(\\vec{r},t)\n",
    "\\end{equation}\n",
    "uma função escalar real qualquer, se fazemos uma transformação de calibre \n",
    "\\begin{align}\n",
    "& \\Phi\\rightarrow \\Phi' = \\Phi - \\partial_{t}\\chi, \\\\\n",
    "& \\vec{A}\\rightarrow \\vec{A}' = \\vec{A} + \\vec{\\nabla}\\chi,\n",
    "\\end{align}\n",
    "não teremos nenhuma mudança nos campos elétrico, \n",
    "\\begin{equation}\n",
    "\\vec{E}' = -\\vec{\\nabla}\\Phi'-\\partial_{t}\\vec{A}'=-\\vec{\\nabla}\\Phi-\\partial_{t}\\vec{A}=\\vec{E},\n",
    "\\end{equation}\n",
    "e magnético\n",
    "\\begin{equation}\n",
    "\\vec{B}'=\\vec{\\nabla}\\times\\vec{A}' = \\vec{\\nabla}\\times\\vec{A}=\\vec{B}.\n",
    "\\end{equation}\n",
    "Por conseguinte a força de Lorentz também será a mesma\n",
    "\\begin{equation}\n",
    "\\vec{F}' = q\\vec{E}'+q\\vec{v}\\times\\vec{B}' = q\\vec{E}+q\\vec{v}\\times\\vec{B} = \\vec{F}.\n",
    "\\end{equation}"
   ]
  },
  {
   "cell_type": "markdown",
   "id": "8ada7930",
   "metadata": {},
   "source": [
    "No entanto, como os potenciais elétrico e magnético aparecem explicitamente na equação de Schrödinger, eq. ($*$), fica a questão sobre quais são os efeitos de transformações de calibre nesse caso. Vamos verificar isso substituindo a transformação de calibre, $\\Phi\\rightarrow \\Phi' = \\Phi - \\partial_{t}\\chi$ e $\\vec{A}\\rightarrow \\vec{A}' = \\vec{A} + \\vec{\\nabla}\\chi$ na eq. ($*$). Vamos verificar que o que essa transformação faz é adicionar uma fase na função de onda\n",
    "\\begin{equation}\n",
    "    \\Psi \\rightarrow \\Psi' = e^{iq\\chi/\\hbar}\\Psi \\ \\therefore\\ \\Psi = e^{-iq\\chi/\\hbar}\\Psi'.\n",
    "\\end{equation}\n",
    "Teremos assim que\n",
    "\\begin{align}\n",
    "i\\hbar\\partial_{t}\\Psi & = i\\hbar e^{-iq\\chi/\\hbar}(-iq/\\hbar)(\\partial_{t}\\chi)\\Psi' + i\\hbar e^{-iq\\chi/\\hbar}\\partial_{t}\\Psi' \\\\\n",
    "&  = q e^{-iq\\chi/\\hbar}(\\partial_{t}\\chi)\\Psi' + i\\hbar e^{-iq\\chi/\\hbar}\\partial_{t}\\Psi'\n",
    "\\end{align}"
   ]
  },
  {
   "cell_type": "markdown",
   "id": "6639fae3",
   "metadata": {},
   "source": [
    "Substituindo esse resultado na eq. ($*$), vem que\n",
    "\\begin{align}\n",
    "& \\Big(\\frac{1}{2m}\\big(-i\\hbar\\vec{\\nabla}-q\\vec{A}\\big)^{2} + q\\Phi\\Big)\\Psi = i\\hbar\\partial_{t}\\Psi \\\\\n",
    "& \\therefore\\ \\Big(\\frac{1}{2m}\\big(-i\\hbar\\vec{\\nabla}-q\\vec{A}\\big)^{2} + q\\Phi\\Big)e^{-iq\\chi/\\hbar}\\Psi' = q e^{-iq\\chi/\\hbar}(\\partial_{t}\\chi)\\Psi' + i\\hbar e^{-iq\\chi/\\hbar}\\partial_{t}\\Psi' \\\\\n",
    "& \\therefore\\ e^{iq\\chi/\\hbar}\\Big(\\frac{1}{2m}\\big(-i\\hbar\\vec{\\nabla}-q\\vec{A}\\big)^{2} + q\\Phi\\Big)e^{-iq\\chi/\\hbar}\\Psi' - e^{iq\\chi/\\hbar}q(\\partial_{t}\\chi)e^{-iq\\chi/\\hbar}\\Psi' = i\\hbar\\partial_{t}\\Psi' \\\\\n",
    "& \\therefore\\ e^{iq\\chi/\\hbar}\\Big(\\frac{1}{2m}\\big(-i\\hbar\\vec{\\nabla}-q\\vec{A}\\big)^{2} + q\\Phi-q(\\partial_{t}\\chi)\\Big)e^{-iq\\chi/\\hbar}\\Psi' = i\\hbar\\partial_{t}\\Psi' \\\\\n",
    "& \\therefore\\ \\Big(e^{iq\\chi/\\hbar}\\frac{1}{2m}\\big(-i\\hbar\\vec{\\nabla}-q\\vec{A}\\big)^{2}e^{-iq\\chi/\\hbar} + q(\\Phi-\\partial_{t}\\chi)\\Big)\\Psi' = i\\hbar\\partial_{t}\\Psi' \\\\\n",
    "& \\therefore\\ \\Big(e^{iq\\chi/\\hbar}\\frac{1}{2m}\\big(-i\\hbar\\vec{\\nabla}-q\\vec{A}\\big)^{2}e^{-iq\\chi/\\hbar} + q\\Phi'\\Big)\\Psi' = i\\hbar\\partial_{t}\\Psi' \\\\\n",
    "& \\therefore\\ \\Big(\\frac{1}{2m}e^{iq\\chi/\\hbar}\\big(-i\\hbar\\vec{\\nabla}-q\\vec{A}\\big)e^{-iq\\chi/\\hbar}e^{iq\\chi/\\hbar}\\big(-i\\hbar\\vec{\\nabla}-q\\vec{A}\\big)e^{-iq\\chi/\\hbar} + q\\Phi'\\Big)\\Psi' = i\\hbar\\partial_{t}\\Psi' \\\\\n",
    "& \\therefore\\ \\Big(\\frac{1}{2m}\\big(-i\\hbar e^{iq\\chi/\\hbar}\\vec{\\nabla}e^{-iq\\chi/\\hbar}-q\\vec{A}\\big)\\big(-i\\hbar e^{iq\\chi/\\hbar}\\vec{\\nabla}e^{-iq\\chi/\\hbar}-q\\vec{A}\\big) + q\\Phi'\\Big)\\Psi' = i\\hbar\\partial_{t}\\Psi' \\\\\n",
    "& \\therefore\\ \\Big(\\frac{1}{2m}\\big(-i\\hbar e^{iq\\chi/\\hbar}\\vec{\\nabla}e^{-iq\\chi/\\hbar}-q\\vec{A}\\big)^{2} + q\\Phi'\\Big)\\Psi' = i\\hbar\\partial_{t}\\Psi' \\\\\n",
    "& \\therefore\\ \\Big(\\frac{1}{2m}\\big(-i\\hbar\\vec{\\nabla} -q\\vec{\\nabla}\\chi-q\\vec{A}\\big)^{2} + q\\Phi'\\Big)\\Psi' = i\\hbar\\partial_{t}\\Psi' \\\\\n",
    "& \\therefore\\ \\Big(\\frac{1}{2m}\\big(-i\\hbar\\vec{\\nabla} -q\\vec{A}'\\big)^{2} + q\\Phi'\\Big)\\Psi' = i\\hbar\\partial_{t}\\Psi',\n",
    "\\end{align}"
   ]
  },
  {
   "cell_type": "markdown",
   "id": "f52dc616",
   "metadata": {},
   "source": [
    "em que usamos\n",
    "\\begin{align}\n",
    "-i\\hbar e^{iq\\chi/\\hbar}\\vec{\\nabla}e^{-iq\\chi/\\hbar}\\Psi' & = -i\\hbar e^{iq\\chi/\\hbar}(\\vec{\\nabla}e^{-iq\\chi/\\hbar})\\Psi' -i\\hbar e^{iq\\chi/\\hbar}e^{-iq\\chi/\\hbar}(\\vec{\\nabla}\\Psi') \\\\\n",
    "& = -i\\hbar e^{iq\\chi/\\hbar}e^{-iq\\chi/\\hbar}(-iq/\\hbar)(\\vec{\\nabla}\\chi)\\Psi' -i\\hbar\\vec{\\nabla}\\Psi' \\\\\n",
    "& = \\big(-q(\\vec{\\nabla}\\chi) -i\\hbar\\vec{\\nabla}\\big)\\Psi'.\n",
    "\\end{align}\n",
    "\n",
    "Ou seja, parece assim que a transformação de calibre não tem nenhuma consequência observável pois\n",
    "\\begin{equation}\n",
    "|\\Psi'|^{2} = \\Psi'(\\Psi')^{*} = e^{iq\\chi/\\hbar}\\Psi e^{-iq\\chi/\\hbar}\\Psi^{*} = |\\Psi|^{2}. \n",
    "\\end{equation}\n",
    "\n",
    "No entanto, existem discussões sobre fundamentos de MQ que envolvem esse tema, principalmente o efeito Aharonov-Bohm, que geram publicações científicas até os dias de hoje. Veja e.g.:\n",
    "* Aharonov, Y; Bohm, D (1959). \"Significance of electromagnetic potentials in quantum theory\". Physical Review. 115 (3): 485–491.\n",
    "* Olariu, S; Popescu, II (1985). \"The quantum effects of electromagnetic fluxes\". Reviews of Modern Physics. 57 (2): 339.\n",
    "* Overstreet, Chris; Asenbaum, Peter; Curti, Joseph; Kim, Minjeong; Kasevich, Mark A. (January 14, 2022). \"Observation of a gravitational Aharonov-Bohm effect\". Science. 375 (6577): 226–229."
   ]
  },
  {
   "cell_type": "markdown",
   "id": "d6ef5060",
   "metadata": {},
   "source": [
    "Se consideramos um sistema composto pelo elétron e pelo próton, por exemplo, o hamiltoniano mínimo é\n",
    "\\begin{align}\n",
    "H = \\frac{1}{2m_{e}}\\big(\\vec{p}_{e}-q\\vec{A}_{e}\\big)^{2} + \\frac{1}{2m_{p}}\\big(\\vec{p}_{p}-q\\vec{A}_{p}\\big)^{2} + e(\\Phi_{p}-\\Phi_{e}) - \\frac{ke^{2}}{|\\vec{r}_{p}-\\vec{r}_{e}|},\n",
    "\\end{align}\n",
    "em que\n",
    "\\begin{equation}\n",
    "p_{s} = -i\\hbar\\vec{\\nabla}_{s},\\ \\vec{A}_{s} = \\vec{A}(\\vec{r}_{s},t),\\ \\Phi_{s} = \\Phi(\\vec{r}_{s},t) \\text{ para } s=e,p.\n",
    "\\end{equation}\n",
    "Esse hamiltoniano é chamado de __acoplamento mínimo__ pois não estão inclusas nele as interações envolvendo os spins do próton e do elétron, que levam às estruturas fina e hiperfina do átomo de Hidrogênio. As interações com campos eletromagnéticos externos envolvendo spins devem ser inseridas explicitamente usando\n",
    "\\begin{equation}\n",
    "-\\vec{\\mu}\\cdot\\vec{B} = -\\frac{gq}{2m}\\vec{S}\\cdot\\vec{\\nabla}\\times\\vec{A}.\n",
    "\\end{equation}"
   ]
  },
  {
   "cell_type": "markdown",
   "id": "77a4d864",
   "metadata": {},
   "source": [
    "## Efeito Stark no átomo de Hidrogênio\n",
    "\n",
    "O efeito Stark é a correção perturbativa relacionada à interação do átomo de Hidrogênio com um campo elétrico externo uniforme e independente do tempo. Ou seja\n",
    "\\begin{align}\n",
    "& \\Phi(\\vec{r},t) = \\Phi = -\\vec{E}\\cdot\\vec{r}, \\\\\n",
    "& \\vec{A}=\\vec{0}\\ \\therefore\\ \\vec{B}=\\vec{\\nabla}\\times\\vec{A}=\\vec{0}.\n",
    "\\end{align}\n",
    "Teremos assim que\n",
    "\\begin{align}\n",
    "H & = \\frac{\\vec{p}_{e}^{2}}{2m_{e}} + \\frac{\\vec{p}_{p}^{2}}{2m_{p}} - \\frac{ke^{2}}{|\\vec{r}_{p}-\\vec{r}_{e}|} - e\\vec{E}\\cdot(\\vec{r}_{p}-\\vec{r}_{e}) \\\\\n",
    "& = \\Big(\\frac{\\vec{p}^{2}}{2m} - \\frac{ke^{2}}{r}\\Big) - e\\vec{E}\\cdot\\vec{r} \\\\\n",
    "& = H_{0} + H_{1},\n",
    "\\end{align}\n",
    "em que $\\vec{r}$ é a posição da massa reduzida,\n",
    "\\begin{equation}\n",
    "m = \\frac{m_{e}m_{p}}{m_{e}+m_{p}},\n",
    "\\end{equation}\n",
    "em relação ao centro de massa e o hamiltoniano de perturbação é identificado como\n",
    "\\begin{equation}\n",
    "H_{1} = - e\\vec{E}\\cdot\\vec{r} = \\vec{E}\\cdot\\vec{d}\n",
    "\\end{equation}\n",
    "com\n",
    "\\begin{equation}\n",
    "\\vec{d} = -e\\vec{r}\n",
    "\\end{equation}\n",
    "é o __momento de dipolo elétrico__."
   ]
  },
  {
   "cell_type": "markdown",
   "id": "1259e1ac",
   "metadata": {},
   "source": [
    "### Cálculos para o estado fundamental\n",
    "O estado fundamental $|\\psi_{1,0,0}\\rangle$ é o único estado não degenerado do H. Nesse caso, a correção perturbativa de 1ª ordem é calculada como segue\n",
    "\\begin{align}\n",
    "E_{1,0,0}^{(1)} & = \\langle\\psi_{1,0,0}|H_{1}|\\psi_{1,0,0}\\rangle \\\\\n",
    "& = \\iint d^{3}rd^{3}r'\\langle\\psi_{1,0,0}|\\vec{r}\\rangle\\langle\\vec{r}|(\\vec{E}\\cdot \\vec{d})|\\vec{r}'\\rangle\\langle\\vec{r}'|\\psi_{1,0,0}\\rangle \\\\\n",
    "& = \\vec{E}\\cdot\\iint d^{3}rd^{3}r'\\psi_{1,0,0}(\\vec{r})^{*}e\\vec{r}\\langle\\vec{r}|\\vec{r}'\\rangle\\psi_{1,0,0}(\\vec{r'}) \\\\\n",
    "& = \\vec{E}\\cdot\\iint d^{3}rd^{3}r'\\psi_{1,0,0}(\\vec{r})^{*}e\\vec{r}\\delta(\\vec{r}-\\vec{r}')\\psi_{1,0,0}(\\vec{r'}) \\\\\n",
    "& = \\vec{E}\\cdot\\int d^{3}r\\psi_{1,0,0}(\\vec{r})^{*}e\\vec{r}\\psi_{1,0,0}(\\vec{r}) \\\\\n",
    "& = \\vec{E}\\cdot\\langle\\vec{d}\\rangle_{1,0,0} = \\vec{E}\\cdot\\vec{0} \\\\\n",
    "& = \\vec{0},\n",
    "\\end{align}\n",
    "em que $\\langle\\vec{d}\\rangle_{1,0,0}=\\vec{0}$ é o momento de dipolo elétrico do estado $\\psi_{1,0,0}$."
   ]
  },
  {
   "cell_type": "markdown",
   "id": "683b1fe8",
   "metadata": {},
   "source": [
    "Acima usamos\n",
    "\\begin{align}\n",
    "\\langle\\vec{d}\\rangle_{1,0,0} = e\\int d^{3}r|\\psi_{1,0,0}(\\vec{r})|^{2}\\vec{r} = 0,\n",
    "\\end{align}\n",
    "pois esta é a integral de uma função ímpar em todo $\\mathbb{R}^{3}$, uma vez que \n",
    "\\begin{equation}\n",
    "|\\psi_{1,0,0}(\\vec{r})|^{2} = |\\psi_{1,0,0}(-\\vec{r})|^{2}\n",
    "\\end{equation}\n",
    "é uma função par. Podemos ver isto de\n",
    "\\begin{align}\n",
    "& \\psi_{n,l,m_{l}}(r,\\theta,\\phi) = \\sqrt{\\left(\\frac{2Z}{a_{0}n}\\right)^{3}\\frac{(n-l-1)!}{(n+l)!2n}}e^{-Zr/a_{0}n}\\left(\\frac{2Zr}{a_{0}n}\\right)^{l}L_{n-l-1}^{2l+1}\\left(\\frac{2Zr}{a_{0}n}\\right)\\sqrt{\\frac{2l+1}{4\\pi}\\frac{(l-|m_{l}|)!}{(l+|m_{l}|)!}}(\\sin\\theta)^{|m_{l}|}\\frac{\\partial^{|m_{l}|}P_{l}(\\cos\\theta)}{\\partial \\cos\\theta^{|m_{l}|}}e^{im_{l}\\phi}, \\\\\n",
    "& \\therefore\\ \\psi_{1,0,0}(r,\\theta,\\phi) = \\sqrt{\\frac{1}{\\pi a_{0}^{3}}}e^{-Zr/a_{0}} = \\psi_{1,0,0}(r),\n",
    "\\end{align}\n",
    "com $P_{l}(z) := \\frac{1}{l!2^{l}}\\frac{\\partial^{l}}{\\partial z^{l}}(z^{2}-1)^{l}$, $L_{j}^{k}(\\rho) = L_{n-l-1}^{2l+1}(\\rho) = \\frac{e^{\\rho}\\rho^{-(2l+1)}}{(n-l-1)!}\\frac{\\partial^{n-l-1}}{\\partial\\rho^{n-l-1}}\\left(e^{-\\rho}\\rho^{n+l}\\right)$, $\\rho = 2\\sqrt{-2\\mu E_{n}^{(0)}}r/\\hbar$. Vemos assim que $\\psi_{1,0,0}$ depende somente de $|\\vec{r}|=|-\\vec{r}|$, e não da direção."
   ]
  },
  {
   "cell_type": "markdown",
   "id": "0f78c48a",
   "metadata": {},
   "source": [
    "Como a correção de 1ª ordem é nula, partimos para a correção perturbativa de segunda ordem $\\Big(E_{n}^{(2)} = \\sum_{m\\ne n}\\frac{|\\langle\\psi_{n}^{(0)}|H_{1}|\\psi_{m}^{(0)}\\rangle|^{2}}{E_{n}^{(0)}-E_{m}^{(0)}}\\Big)$\n",
    "\\begin{align}\n",
    "E_{1,0,0}^{(2)} = \\sum_{m,l,m\\ne 1,0,0}\\frac{|\\langle\\psi_{1,0,0}^{(0)}|H_{1}|\\psi_{m,l,m_{l}}^{(0)}\\rangle|^{2}}{E_{1}-E_{n}}  = \\sum_{m,l,m_{l}\\ne 1,0,0}\\frac{|\\vec{E}\\cdot\\langle\\vec{d}\\rangle_{100,nlm}|^{2}}{E_{1}-E_{n}},\n",
    "\\end{align}\n",
    "em que o chamado __momento de dipolo de transição__ é\n",
    "\\begin{align}\n",
    "\\langle\\vec{d}\\rangle_{100,nlm} = \\int d^{3}r\\psi_{1,0,0}(\\vec{r})^{*}e\\vec{r}\\psi_{n,l,m}(\\vec{r})\n",
    "\\end{align}\n",
    "Como $\\vec{r}$ é ímpar e $\\psi_{100}$ é para pela reflexão $\\vec{r}\\rightarrow -\\vec{r}$, a integral será nula se $\\psi_{n,l,m}$ for par, i.e., se $\\psi_{nlm}(\\vec{r})=\\psi_{nlm}(-\\vec{r})$."
   ]
  },
  {
   "cell_type": "markdown",
   "id": "e57b5630",
   "metadata": {},
   "source": [
    "Para tratar esse problema de encontrar os estados $\\psi_{nlm}$ que podem possivelmente contribuir para a integral do momento de dipolo de transição, é útil usar as simetrias do Hamiltoniano $H_{0}$. Para isso, vamos começar definindo o operador de inversão espacial ou __operador de paridade__:\n",
    "\\begin{equation}\n",
    "\\langle\\vec{r}|\\mathcal{P}|\\psi\\rangle = \\langle -\\vec{r}|\\psi\\rangle = \\psi(-\\vec{r})\\ \\forall\\ |\\vec{r}\\rangle,|\\psi\\rangle.\n",
    "\\end{equation}\n",
    "Por essa definição, vemos que\n",
    "\\begin{equation}\n",
    "\\langle\\vec{r}|\\mathcal{P}^{2}|\\psi\\rangle = \\langle-\\vec{r}|\\mathcal{P}|\\psi\\rangle =  \\langle\\vec{r}|\\psi\\rangle = \\psi(\\vec{r}).\n",
    "\\end{equation}\n",
    "Portanto\n",
    "\\begin{equation}\n",
    "\\mathcal{P}^{2}=\\mathcal{P}\\mathcal{P} = \\mathbb{I}\\ \\therefore \\mathcal{P}^{-1}=\\mathcal{P}.\n",
    "\\end{equation}\n",
    "Além disso, assim como é o caso de projetores, como $\\mathcal{P}^{2}=\\mathbb{I}$, temos que os autovalores do operador de paridade são\n",
    "\\begin{equation}\n",
    "p = \\pm 1.\n",
    "\\end{equation}\n",
    "Para os autovetores correspondentes, $\\psi_{p}$, notemos que\n",
    "\\begin{align}\n",
    "& \\langle\\vec{r}|\\mathcal{P}|\\psi_{p}\\rangle = p\\langle\\vec{r}|\\psi_{p}\\rangle = \\langle-\\vec{r}|\\psi_{p}\\rangle \\\\\n",
    "& \\therefore\\ \\psi_{p}(-\\vec{r}) = p\\psi_{p}(\\vec{r}).\n",
    "\\end{align}\n",
    "Então\n",
    "\\begin{align}\n",
    "& p = 1 \\ \\therefore\\ \\psi_{p}(-\\vec{r}) = \\psi_{p}(\\vec{r})  \\ \\therefore\\ \\text{autofunção ímpar}, \\\\\n",
    "& p = -1 \\ \\therefore\\ \\psi_{p}(-\\vec{r}) = -\\psi_{p}(\\vec{r})  \\ \\therefore\\ \\text{autofunção par}.\n",
    "\\end{align}\n",
    "Daqui vem o nome deste operador, pois suas autofunções tem paridade bem definida."
   ]
  },
  {
   "cell_type": "markdown",
   "id": "1fc5faf9",
   "metadata": {},
   "source": [
    "Podemos verificar também que o operador de paridade é hermitiano:\n",
    "\\begin{align}\n",
    "\\langle\\psi'|\\mathcal{P}^{\\dagger}|\\psi\\rangle  & = \\langle\\psi|\\mathcal{P}|\\psi'\\rangle^{*} = \\Big(\\int d^{3}r\\langle\\psi|\\vec{r}\\rangle\\langle\\vec{r}|\\mathcal{P}|\\psi'\\rangle\\Big)^{*} \\\\\n",
    "& = \\int d^{3}r\\big(\\langle\\psi|\\vec{r}\\rangle\\langle-\\vec{r}|\\psi'\\rangle\\big)^{*} = \\int d^{3}r\\langle\\psi|\\vec{r}\\rangle^{*}\\langle-\\vec{r}|\\psi'\\rangle^{*} \\\\\n",
    "& = \\int d^{3}r\\langle\\vec{r}|\\psi\\rangle\\langle\\psi'|-\\vec{r}\\rangle = \\int d^{3}r\\langle\\psi'|\\vec{r}\\rangle\\langle-\\vec{r}|\\psi\\rangle \\\\\n",
    "& = \\int d^{3}r\\langle\\psi'|\\vec{r}\\rangle\\langle\\vec{r}|\\mathcal{P}|\\psi\\rangle = \\langle\\psi'|\\mathcal{P}|\\psi\\rangle,\n",
    "\\end{align}\n",
    "em que trocamos $\\vec{r}\\leftrightarrow -\\vec{r}$ pois estamos fazendo a integral sobre toto $\\mathbb{R}^{3}$. Portanto\n",
    "\\begin{equation}\n",
    "\\mathcal{P}^{\\dagger}=\\mathcal{P}.\n",
    "\\end{equation}\n",
    "\n",
    "Com isso, como $\\mathcal{P}^{2}=\\mathcal{P}$, vemos que o operador de paridade também é unitário, i.e.,\n",
    "\\begin{equation}\n",
    "\\mathcal{P}^{\\dagger}\\mathcal{P} = \\mathcal{P}\\mathcal{P}^{\\dagger} = \\mathbb{I}.\n",
    "\\end{equation}"
   ]
  },
  {
   "cell_type": "markdown",
   "id": "ecaa6306",
   "metadata": {},
   "source": [
    "Podemos verificar ainda que\n",
    "\\begin{align}\n",
    "& \\langle\\vec{r}|\\mathcal{P}\\vec{r}\\mathcal{P}^{\\dagger}|\\psi\\rangle = \\langle- \\vec{r}|\\vec{r}\\mathcal{P}^{\\dagger}|\\psi\\rangle = - \\vec{r}\\langle- \\vec{r}|\\mathcal{P}|\\psi\\rangle \\\\\n",
    "& = - \\vec{r}\\langle\\vec{r}|\\psi\\rangle \\\\\n",
    "& \\therefore\\ \\mathcal{P}\\vec{r}\\mathcal{P}^{\\dagger} = -\\vec{r}\n",
    "\\end{align}\n",
    "e\n",
    "\\begin{align}\n",
    "& \\langle\\vec{r}|\\mathcal{P}\\vec{p}\\mathcal{P}^{\\dagger}|\\psi\\rangle = \\langle- \\vec{r}|\\vec{p}\\mathcal{P}|\\psi\\rangle = - \\frac{\\hbar}{i}\\vec{\\nabla}\\langle- \\vec{r}|\\mathcal{P}|\\psi\\rangle \\\\\n",
    "& = - \\frac{\\hbar}{i}\\vec{\\nabla}\\langle\\vec{r}|\\psi\\rangle \\\\\n",
    "& \\therefore\\ \\mathcal{P}\\vec{p}\\mathcal{P}^{\\dagger} = - \\frac{\\hbar}{i}\\vec{\\nabla} = -\\vec{p}.\n",
    "\\end{align}\n",
    "Acima usamos a relação\n",
    "\\begin{equation}\n",
    "\\langle\\vec{r}|\\vec{p}|\\psi\\rangle = \\frac{\\hbar}{i}\\vec{\\nabla}\\langle\\vec{r}|\\psi\\rangle,\n",
    "\\end{equation}\n",
    "que vale para qualquer $|\\psi\\rangle$."
   ]
  },
  {
   "cell_type": "markdown",
   "id": "69c4f9f6",
   "metadata": {},
   "source": [
    "Com isso, podemos verificar que\n",
    "\\begin{align}\n",
    "& \\mathcal{P}H_{0}\\mathcal{P}^{\\dagger} = \\mathcal{P}\\Big(\\frac{\\vec{p}^{2}}{2m}-\\frac{ke^{2}}{|\\vec{r}|}\\Big)\\mathcal{P}^{\\dagger} = \\frac{(-\\vec{p})^{2}}{2m}-\\frac{ke^{2}}{|-\\vec{r}|} = \\frac{\\vec{p}^{2}}{2m}-\\frac{ke^{2}}{|\\vec{r}|} \\\\\n",
    "& = H_{0} \\\\\n",
    "& \\therefore\\ \\mathcal{P}H_{0}\\mathcal{P}^{\\dagger}\\mathcal{P}= \\mathcal{P}H_{0}=H_{0}\\mathcal{P}\\ \\therefore\\ [\\mathcal{P},H_{0}]=0.\n",
    "\\end{align}\n",
    "Ou seja, $H_{0}$ e $\\mathcal{P}$ compartilham uma mesma base de autovetores. Nos resta verificar se essa base é $\\psi_{n,l,m_{l}}$. Notemos que em termos das coordenadas esféricas, o efeito da inversão espacial é o seguinte\n",
    "\\begin{align}\n",
    "& \\vec{r}\\rightarrow -\\vec{r}\\ \\therefore\\ (x,y,z)\\rightarrow(-x,-y,-z) \\\\\n",
    "& \\therefore\\ (r\\sin\\theta\\cos\\phi,r\\sin\\theta\\sin\\phi,r\\cos\\theta)\\rightarrow (-r\\sin\\theta\\cos\\phi,-r\\sin\\theta\\sin\\phi,-r\\cos\\theta) \\\\\n",
    "& \\therefore\\ (r,\\theta,\\phi)\\rightarrow (r,\\pi-\\theta,\\phi+\\pi).\n",
    "\\end{align}"
   ]
  },
  {
   "cell_type": "markdown",
   "id": "585102ce",
   "metadata": {},
   "source": [
    "Notemos que as autofunções de $H_{0}$ pode ser escritas como\n",
    "\\begin{equation}\n",
    "\\psi_{n,l,m_{l}}(r,\\theta,\\phi) = f(r)(\\sin\\theta)^{|m_{l}|}\\frac{\\partial^{|m_{l}|}P_{l}(\\cos\\theta)}{\\partial \\cos\\theta^{|m_{l}|}}e^{im_{l}\\phi}.\n",
    "\\end{equation}\n",
    "Temos ainda que\n",
    "\\begin{align}\n",
    "e^{im_{l}(\\pi+\\phi)} & = e^{im_{l}\\pi}e^{im_{l}\\phi} = \\big(\\cos(m_{l}\\pi)+i\\sin(m_{l}\\pi)\\big)e^{im_{l}\\phi} \\\\\n",
    "& =(-1)^{m_{l}}e^{im_{l}\\phi}\n",
    "\\end{align}\n",
    "Substituindo essa mudança de coordenadas na função de onda"
   ]
  },
  {
   "cell_type": "code",
   "execution_count": null,
   "id": "9afbadb3",
   "metadata": {},
   "outputs": [],
   "source": []
  },
  {
   "cell_type": "markdown",
   "id": "da23372f",
   "metadata": {},
   "source": [
    "---\n",
    "## Exercícios\n",
    "\n",
    "1. Substitua a lagrangeana da eq. ($\\star$) nas equações de Euler-Lagrange para verificar \n",
    "compatibilidade com a força de Lorentz  e a 2ª lei de Newton.\n",
    "\n",
    "1. Considere as transformações de calibre para os potenciais elétrico e magnético:\n",
    "\\begin{align}\n",
    "\\Phi' = \\Phi - \\partial_{t}\\chi, \\\\\n",
    "\\vec{A}' = \\vec{A} + \\vec{\\nabla}\\chi,\n",
    "\\end{align}\n",
    "com $\\chi=\\chi(\\vec{r},t)$ sendo uma função escalar real qualquer. Mostre que\n",
    "\\begin{align}\n",
    "& \\vec{E}'=-\\vec{\\nabla}\\Phi'-\\partial_{t}\\vec{A}' = -\\vec{\\nabla}\\Phi-\\partial_{t}\\vec{A} = \\vec{E}, \\\\\n",
    "& \\vec{B}' = \\vec{\\nabla}\\times\\vec{B}' = \\vec{\\nabla}\\times\\vec{B} = \\vec{B}.\n",
    "\\end{align}\n",
    "\n",
    "1. Verifique que a mudança de coordenadas $(r,\\theta,\\phi)\\rightarrow (r,\\pi-\\theta,\\phi+\\pi)$ nos fornece a inversão espacial $\\vec{r}\\rightarrow -\\vec{r}$."
   ]
  },
  {
   "cell_type": "code",
   "execution_count": null,
   "id": "4b6d50c8",
   "metadata": {},
   "outputs": [],
   "source": []
  }
 ],
 "metadata": {
  "kernelspec": {
   "display_name": "Python 3 (ipykernel)",
   "language": "python",
   "name": "python3"
  },
  "language_info": {
   "codemirror_mode": {
    "name": "ipython",
    "version": 3
   },
   "file_extension": ".py",
   "mimetype": "text/x-python",
   "name": "python",
   "nbconvert_exporter": "python",
   "pygments_lexer": "ipython3",
   "version": "3.8.8"
  }
 },
 "nbformat": 4,
 "nbformat_minor": 5
}
