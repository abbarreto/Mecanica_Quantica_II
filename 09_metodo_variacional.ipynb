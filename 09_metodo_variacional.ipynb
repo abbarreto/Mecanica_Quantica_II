{
 "cells": [
  {
   "cell_type": "markdown",
   "id": "4ae46450",
   "metadata": {},
   "source": [
    "### Notas de aula de Mecânica Quântica <br> Autor: Jonas Maziero"
   ]
  },
  {
   "cell_type": "code",
   "execution_count": 26,
   "id": "38654557",
   "metadata": {},
   "outputs": [
    {
     "name": "stderr",
     "output_type": "stream",
     "text": [
      "/var/folders/c1/_8nwnwc923z5dw_vmskv8p5r0000gn/T/ipykernel_64518/1833980435.py:15: DeprecationWarning: Importing display from IPython.core.display is deprecated since IPython 7.14, please import from IPython display\n",
      "  from IPython.core.display import display, HTML, clear_output\n",
      "/var/folders/c1/_8nwnwc923z5dw_vmskv8p5r0000gn/T/ipykernel_64518/1833980435.py:15: DeprecationWarning: Importing clear_output from IPython.core.display is deprecated since IPython 7.14, please import from IPython display\n",
      "  from IPython.core.display import display, HTML, clear_output\n"
     ]
    }
   ],
   "source": [
    "%run init.ipynb"
   ]
  },
  {
   "cell_type": "markdown",
   "id": "16806687",
   "metadata": {},
   "source": [
    "# Método Variacional\n",
    "Outro método bastante usado para obter soluções aproximadas de sistemas quânticos é o método variacional. A seguir veremos uma versão simples deste método e sua aplicação a alguns sistemas interessantes.\n",
    "\n",
    "## Teorema variacional (estado fundamental)\n",
    "Seja $H$ um hamiltoniano com espectro discreto de autovalores e seja \n",
    "$$H|\\psi_{n}\\rangle = E_{n}|\\psi_{n}\\rangle,\\ \\text{com } n = 0,1,2,\\cdots,$$\n",
    "tal que\n",
    "$$E_{n+1}\\ge E_{n}.$$\n",
    "Ou seja, ordenamos os autovaores em ordem não crescente. Seque que\n",
    "$$\\langle H\\rangle_{\\phi} \\ge E_{0}\\ \\forall \\phi \\text{ com } ||\\phi||=1.$$\n",
    "\n",
    "### Prova\n",
    "A prova deste teorema é uma aplicação simples do fato de que o valor médio de uma variável aleatória é um número que está entre seus valores mínimo e máximo. No entanto, vamos repetir aqui essa prova:\n",
    "\\begin{align}\n",
    "\\langle H\\rangle_{\\phi} & = \\sum_{n}E_{n}Pr(E_{n}|\\phi) = \\sum_{n}E_{n}|\\langle\\psi_{n}|\\phi\\rangle|^{2} \\\\\n",
    "& \\le \\sum_{n}E_{0}|\\langle\\psi_{n}|\\phi\\rangle|^{2} = E_{0}\\sum_{n}|\\langle\\psi_{n}|\\phi\\rangle|^{2} = E_{0}\\sum_{n}Pr(E_{n}|\\phi) = E_{0}(1) \\\\\n",
    "& = E_{0},\n",
    "\\end{align}\n",
    "em que usamos $E_{n}\\ge E_{0}$, a regra de Born e a normalização para as probabilidades. <br>\n",
    "$\\square$"
   ]
  },
  {
   "cell_type": "markdown",
   "id": "f67884c5",
   "metadata": {},
   "source": [
    "#### Exemplo\n",
    "Vamos considerar o oscilador harmônico quântico unidimensional (OHQ1D):\n",
    "$$H = \\frac{P^{2}}{2m}+\\frac{m\\omega^{2}X^{2}}{2}.$$\n",
    "Uma __função de onda teste__ natural, para começar, é uma gaussiana\n",
    "$$\\phi(x) = Ae^{-bx^{2}}.$$\n",
    "Normalizando,\n",
    "\\begin{align}\n",
    "& \\int_{-\\infty}^{\\infty}|\\phi(x)|^{2}dx = |A|^{2}\\int_{-\\infty}^{\\infty}e^{-2bx^{2}}dx = |A|^{2}\\sqrt{\\frac{\\pi}{2b}} \\\\\n",
    "& \\therefore\\ A = \\big(2b/\\pi\\big)^{1/4},\n",
    "\\end{align}\n",
    "teremos que\n",
    "$$\\phi(x) = \\big(2b/\\pi\\big)^{1/4}e^{-bx^{2}} = \\phi(x,b).$$\n",
    "Podemos chamar $b$ de __parâmetro variacional__."
   ]
  },
  {
   "cell_type": "markdown",
   "id": "b8017c8e",
   "metadata": {},
   "source": [
    "Com isso, vem que\n",
    "\\begin{align}\n",
    "\\langle H\\rangle_{\\phi} & = \\frac{1}{2m}\\langle P^{2}\\rangle_{\\phi} + \\frac{m\\omega^{2}}{2}\\langle X^{2}\\rangle_{\\phi} \\\\\n",
    "& = -\\hbar^{2}\\frac{\\sqrt{2b/\\pi}}{2m}\\int_{-\\infty}^{+\\infty}dx e^{-bx^{2}}\\partial_{xx}e^{-bx^{2}} + \\frac{\\sqrt{2b/\\pi}m\\omega^{2}}{2}\\int_{-\\infty}^{+\\infty}dx  x^{2}e^{-2bx^{2}} \\\\\n",
    "& = -\\hbar^{2}\\frac{\\sqrt{2b/\\pi}}{2m}\\Big(4b^{2}\\int_{-\\infty}^{+\\infty}dx x^{2}e^{-bx^{2}} - 2b\\int_{-\\infty}^{+\\infty}dx e^{-2bx^{2}}\\Big) + \\frac{\\sqrt{2b/\\pi}m\\omega^{2}}{2}\\frac{\\sqrt{2\\pi}}{2^{3}b^{3/2}} \\\\\n",
    "& = -\\hbar^{2}\\frac{\\sqrt{2b/\\pi}}{2m}\\Big(4b^{2}\\frac{\\sqrt{2\\pi}}{2^{3}b^{3/2}} - 2b\\sqrt{\\pi/2b}\\Big) + \\frac{m\\omega^{2}}{2^{3}b} \\\\\n",
    "& = -\\hbar^{2}\\frac{\\sqrt{2b/\\pi}}{2m}\\Big(-\\frac{\\sqrt{2\\pi b}}{2}\\Big) + \\frac{m\\omega^{2}}{2^{3}b} \\\\\n",
    "& = \\frac{b\\hbar^{2}}{2m} + \\frac{m\\omega^{2}}{2^{3}b}.\n",
    "\\end{align}"
   ]
  },
  {
   "cell_type": "code",
   "execution_count": 52,
   "id": "984f5306",
   "metadata": {},
   "outputs": [
    {
     "data": {
      "image/png": "[encoded data removed]",
      "text/latex": [
       "$\\displaystyle 2 b \\left(2 b x^{2} - 1\\right) e^{- b x^{2}}$"
      ],
      "text/plain": [
       "                      2\n",
       "    ⎛     2    ⎞  -b⋅x \n",
       "2⋅b⋅⎝2⋅b⋅x  - 1⎠⋅ℯ     "
      ]
     },
     "execution_count": 52,
     "metadata": {},
     "output_type": "execute_result"
    }
   ],
   "source": [
    "b = symbols('b', positive=True); x = symbols('x')\n",
    "diff(exp(-b*x**2),x,2)"
   ]
  },
  {
   "cell_type": "code",
   "execution_count": 44,
   "id": "0efc2fb4",
   "metadata": {},
   "outputs": [
    {
     "data": {
      "image/png": "[encoded data removed]",
      "text/latex": [
       "$\\displaystyle \\frac{\\sqrt{\\pi}}{\\sqrt{b}}$"
      ],
      "text/plain": [
       "√π\n",
       "──\n",
       "√b"
      ]
     },
     "execution_count": 44,
     "metadata": {},
     "output_type": "execute_result"
    }
   ],
   "source": [
    "integrate(exp(-b*x**2),(x,-oo,+oo))"
   ]
  },
  {
   "cell_type": "code",
   "execution_count": 45,
   "id": "2ee9766d",
   "metadata": {},
   "outputs": [
    {
     "data": {
      "image/png": "[encoded data removed]",
      "text/latex": [
       "$\\displaystyle \\frac{\\sqrt{2} \\sqrt{\\pi}}{8 b^{\\frac{3}{2}}}$"
      ],
      "text/plain": [
       "√2⋅√π \n",
       "──────\n",
       "   3/2\n",
       "8⋅b   "
      ]
     },
     "execution_count": 45,
     "metadata": {},
     "output_type": "execute_result"
    }
   ],
   "source": [
    "integrate(x**2*exp(-2*b*x**2),(x,-oo,+oo))"
   ]
  },
  {
   "cell_type": "markdown",
   "id": "db5496a9",
   "metadata": {},
   "source": [
    "Com isso, obtemos o $b$ que nos retorna um valor extremo de $\\langle H\\rangle_{\\phi}$ usando\n",
    "\\begin{align}\n",
    "& 0 = \\partial_{b}\\langle H\\rangle_{\\phi} = \\frac{\\partial}{\\partial b}\\Big(\\frac{b\\hbar^{2}}{2m} + \\frac{m\\omega^{2}}{2^{3}b}\\Big) = \\frac{\\hbar^{2}}{2m} - \\frac{m\\omega^{2}}{2^{3}b^{2}} \\\\\n",
    "& \\therefore\\ b_{opt} = \\frac{m\\omega}{2\\hbar}.\n",
    "\\end{align}\n",
    "\n",
    "Assim temos uma estimativa para a energia do estado fundamental:\n",
    "\\begin{align}\n",
    "\\langle H\\rangle_{\\phi(b_{opt})} & = \\frac{b_{opt}\\hbar^{2}}{2m} + \\frac{m\\omega^{2}}{2^{3}b_{opt}}  =  \\frac{m\\omega}{2\\hbar}\\frac{\\hbar^{2}}{2m} +  \\frac{2\\hbar}{m\\omega}\\frac{m\\omega^{2}}{2^{3}} \\\\\n",
    "&  =  \\frac{m\\omega}{2\\hbar}\\frac{\\hbar^{2}}{2m} +  \\frac{2\\hbar}{m\\omega}\\frac{m\\omega^{2}}{2^{3}} = \\hbar\\omega(1/2),\n",
    "\\end{align}\n",
    "que coincide com a energia do estado fundamental do OHQ1D. Isso ocorreu porquê escolhemos uma função de onda teste que tem a mesma forma da autofunção correspondente ao estado fundamental do OHQ1D."
   ]
  },
  {
   "cell_type": "markdown",
   "id": "5d64ce18",
   "metadata": {},
   "source": [
    "## Teorema variacional (1º estado excitado)\n",
    "Seja $H$ um hamiltoniano com espectro discreto de autovalores e seja $H|\\psi_{n}\\rangle = E_{n}|\\psi_{n}\\rangle,\\ \\text{com } n = 0,1,2,\\cdots,$ tal que $E_{n+1}\\ge E_{n}$, e seja o __vetor de estado teste__ $|\\phi\\rangle$ ortogonal ao autovetor correspondente à menor energia, $|\\psi_{0}\\rangle$ (ou ao subespaço correspondente a $E_{0}$, se houver degenerescência), i.e., \n",
    "$$\\langle\\phi|\\psi_{0}\\rangle :=0.$$\n",
    "Seque que\n",
    "$$\\langle H\\rangle_{\\phi} \\ge E_{1}.$$\n",
    "\n",
    "### Prova\n",
    "Neste caso, teremos que:\n",
    "\\begin{align}\n",
    "\\langle H\\rangle_{\\phi} & = \\sum_{n}E_{n}Pr(E_{n}|\\phi) = \\sum_{n}E_{n}|\\langle\\psi_{n}|\\phi\\rangle|^{2}  \\\\\n",
    "& = E_{0}|\\langle\\psi_{0}|\\phi\\rangle|^{2} + \\sum_{n>0}E_{n}|\\langle\\psi_{n}|\\phi\\rangle|^{2}  = E_{0}0 + \\sum_{n>0}E_{n}|\\langle\\psi_{n}|\\phi\\rangle|^{2} \\\\\n",
    "& \\ge \\sum_{n>0}E_{1}|\\langle\\psi_{n}|\\phi\\rangle|^{2} = E_{1}\\sum_{n>0}|\\langle\\psi_{n}|\\phi\\rangle|^{2}  = E_{1}\\Big(|\\langle\\psi_{0}|\\phi\\rangle|^{2}+\\sum_{n>0}|\\langle\\psi_{n}|\\phi\\rangle|^{2}\\Big) \\\\\n",
    "& = E_{1}\\sum_{n}Pr(E_{n}|\\phi) = E_{1}(1) \\\\\n",
    "& = E_{1}.\n",
    "\\end{align}\n",
    "$\\square$\n",
    "\n",
    "OBS. Esse teorema pode ser estendido para estados com maior energia (2º, 3º, ... estados excitados). A ideia é a mesma. Por exemplo, para o 2º estado excitado, se usarmos um vetor de estado teste $|\\phi\\rangle$ ortogonal aos autovetores do estado fundamental, $|\\psi_{0}\\rangle$, e do 1º estados excitado, $|\\psi_{1}\\rangle$, teremos que $\\langle H\\rangle_{\\phi}\\ge E_{2}.$ "
   ]
  },
  {
   "cell_type": "markdown",
   "id": "13fecc0e",
   "metadata": {},
   "source": [
    "#### Exemplo\n",
    "Vamos considerar novamente o OHQ1D. Mas desta vez queremos estimar a energia do 1º estado excitado. Para isso, devemos utilizar uma função teste ortogonal à função de onda do estado fundamental. Como \"não conhecemos\" a solução exata, usamos uma função teste que seja ortogonal à função teste ótima obtida quando da estimativa da energia do estado fundamental. Podemos usar\n",
    "$$\\phi_{1}(x) = Axe^{-bx^{2}} = \\sqrt{\\frac{2^{3}b^{3/2}}{\\sqrt{2\\pi}}}xe^{-bx^{2}}.$$\n",
    "Pode-se verificar que\n",
    "$$\\langle\\phi_{1}|\\phi\\rangle = \\int_{-\\infty}^{+\\infty}dx\\phi_{1}^{*}(x)\\phi(x)\\propto \\int_{-\\infty}^{+\\infty}xe^{-2bx^{2}}dx=0.$$"
   ]
  },
  {
   "cell_type": "code",
   "execution_count": 46,
   "id": "6fd5a9d6",
   "metadata": {},
   "outputs": [
    {
     "data": {
      "image/png": "[encoded data removed]",
      "text/latex": [
       "$\\displaystyle 0$"
      ],
      "text/plain": [
       "0"
      ]
     },
     "execution_count": 46,
     "metadata": {},
     "output_type": "execute_result"
    }
   ],
   "source": [
    "integrate(x*exp(-2*b*x**2),(x,-oo,+oo))"
   ]
  },
  {
   "cell_type": "markdown",
   "id": "130d4004",
   "metadata": {},
   "source": [
    "Neste caso, teremos\n",
    "\\begin{align}\n",
    "\\langle H\\rangle_{\\phi_{1}}  & = \\frac{1}{2m}\\langle P^{2}\\rangle_{\\phi_{1}} + \\frac{m\\omega^{2}}{2}\\langle X^{2}\\rangle_{\\phi_{1}} \\\\\n",
    "& = -\\frac{\\hbar^{2}}{2m}\\int_{-\\infty}^{+\\infty}Axe^{-bx^{2}}\\partial_{xx}Axe^{-bx^{2}}dx + \\frac{m\\omega^{2}}{2}\\int_{-\\infty}^{+\\infty}x^{2}A^{2}x^{2}e^{-2bx^{2}} \\\\\n",
    "& = -\\frac{A^{2}\\hbar^{2}}{2m}\\int_{-\\infty}^{+\\infty}xe^{-bx^{2}}\\big(4b^{2}x^{3}-6bx\\big)e^{-bx^{2}}dx + \\frac{A^{2}m\\omega^{2}}{2}\\int_{-\\infty}^{+\\infty}x^{4}e^{-2bx^{2}} \\\\\n",
    "& = -\\frac{A^{2}\\hbar^{2}}{2m}\\Big(4b^{2}\\int_{-\\infty}^{+\\infty}x^{4}e^{-2bx^{2}}dx -6b\\int_{-\\infty}^{+\\infty}x^{2}e^{-2bx^{2}}dx\\Big) + \\frac{A^{2}m\\omega^{2}}{2}\\frac{3\\sqrt{2\\pi}}{32b^{5/2}} \\\\\n",
    "& = -\\frac{A^{2}\\hbar^{2}}{2m}\\Big(4b^{2}\\frac{3\\sqrt{2\\pi}}{32b^{5/2}} -6b\\frac{\\sqrt{2\\pi}}{8b^{3/2}}\\Big) + \\frac{A^{2}m\\omega^{2}}{2}\\frac{3\\sqrt{2\\pi}}{32b^{5/2}} \\\\\n",
    "& = -\\frac{2^{3}b^{3/2}}{\\sqrt{2\\pi}}\\frac{\\hbar^{2}}{2m}\\Big(4b^{2}\\frac{3\\sqrt{2\\pi}}{32b^{5/2}} -6b\\frac{\\sqrt{2\\pi}}{8b^{3/2}}\\Big) + \\frac{2^{3}b^{3/2}}{\\sqrt{2\\pi}}\\frac{m\\omega^{2}}{2}\\frac{3\\sqrt{2\\pi}}{32b^{5/2}} \\\\\n",
    "& = \\frac{3b\\hbar^{2}}{2m} + \\frac{3m\\omega^{2}}{8b}.\n",
    "\\end{align}"
   ]
  },
  {
   "cell_type": "code",
   "execution_count": 47,
   "id": "a6d5435c",
   "metadata": {},
   "outputs": [
    {
     "data": {
      "image/png": "[encoded data removed]",
      "text/latex": [
       "$\\displaystyle 2 b x \\left(2 b x^{2} - 3\\right) e^{- b x^{2}}$"
      ],
      "text/plain": [
       "                        2\n",
       "      ⎛     2    ⎞  -b⋅x \n",
       "2⋅b⋅x⋅⎝2⋅b⋅x  - 3⎠⋅ℯ     "
      ]
     },
     "execution_count": 47,
     "metadata": {},
     "output_type": "execute_result"
    }
   ],
   "source": [
    "diff(x*exp(-b*x**2),x,2)"
   ]
  },
  {
   "cell_type": "code",
   "execution_count": 48,
   "id": "425133f8",
   "metadata": {},
   "outputs": [
    {
     "data": {
      "image/png": "[encoded data removed]",
      "text/latex": [
       "$\\displaystyle \\frac{3 \\sqrt{2} \\sqrt{\\pi}}{32 b^{\\frac{5}{2}}}$"
      ],
      "text/plain": [
       "3⋅√2⋅√π\n",
       "───────\n",
       "    5/2\n",
       "32⋅b   "
      ]
     },
     "execution_count": 48,
     "metadata": {},
     "output_type": "execute_result"
    }
   ],
   "source": [
    "integrate(x**4*exp(-2*b*x**2), (x,-oo,+oo))"
   ]
  },
  {
   "cell_type": "markdown",
   "id": "7e2bc2c0",
   "metadata": {},
   "source": [
    "Para obter o valor mínimo, fazemos\n",
    "\\begin{align}\n",
    "& 0 = \\partial_{b}\\langle H\\rangle_{\\phi_{1}} = \\frac{\\partial}{\\partial b}\\Big(\\ \\frac{3b\\hbar^{2}}{2m} + \\frac{3m\\omega^{2}}{8b}\\Big) =  \\frac{3\\hbar^{2}}{2m} - \\frac{3m\\omega^{2}}{8b^{2}} \\\\\n",
    "& \\therefore\\ b_{opt} = \\frac{m\\omega}{2\\hbar}.\n",
    "\\end{align}\n",
    "\n",
    "Assim, a estimativa varicional para a energia do 1º estado excitado do OHQ1D é\n",
    "\\begin{align}\n",
    "\\langle H\\rangle_{\\phi_{1}(b_{opt}} & = \\frac{3b_{opt}\\hbar^{2}}{2m} + \\frac{3m\\omega^{2}}{8b_{opt}}  =  \\frac{m\\omega}{2\\hbar}\\frac{3\\hbar^{2}}{2m} +  \\frac{2\\hbar}{m\\omega}\\frac{3m\\omega^{2}}{8} \\\\\n",
    "& = \\hbar\\omega(3/2) = \\hbar\\omega(1+1/2),\n",
    "\\end{align}\n",
    "que também coincide com o resultado exato, também porquê usamos uma função de onda teste com a mesma forma da função de onda exata."
   ]
  },
  {
   "cell_type": "markdown",
   "id": "2f88f97c",
   "metadata": {},
   "source": [
    "## Estimativa do erro\n",
    "Vamos começar escrevendo o vetor de estado teste como\n",
    "$$|\\phi\\rangle = \\sum_{n}c_{n}|\\psi_{n}\\rangle \\equiv \\sum_{n}\\langle\\psi_{n}|\\phi\\rangle|\\psi_{n}\\rangle.$$\n",
    "Se o estado teste é igual ao autovetor correspondente ao estado fundamental, então $|c_{0}|=1$ (lembre que $|c_{n}|\\le 1$ e $\\sum_{n}|c_{n}|^{2}=1$). Quanto mais longe estamos do estado exato, menor será $|c_{0}|\\le 1$. Por conseguinte, podemos quantificar o quão errada está nossa função de onda teste em relação ao autovetor do estado fundamental usando\n",
    "$$\\epsilon(\\phi) := 1-|c_{0}|^{2}.$$\n",
    "\n",
    "Usando que \n",
    "$$Pr(E_{n}|\\phi) = |\\langle\\psi_{n}|\\phi\\rangle|^{2} = |c_{n}|^{2},$$"
   ]
  },
  {
   "cell_type": "markdown",
   "id": "b3621c2a",
   "metadata": {},
   "source": [
    "teremos que (lembre que $E_{0}\\le E_{1}\\le E_{2}\\le\\cdots$)\n",
    "\\begin{align}\n",
    "\\langle H\\rangle_{\\phi}-E_{0} & = \\sum_{n}E_{n}Pr(E_{n}|\\phi)-E_{0} = \\sum_{n}E_{n}|c_{n}|^{2}-E_{0} \\\\\n",
    "& = E_{0}|c_{0}|^{2} + \\sum_{n>0}E_{n}|c_{n}|^{2} - E_{0} \\\\\n",
    "& \\ge E_{0}|c_{0}|^{2} + \\sum_{n>0}|c_{n}|^{2}E_{1} - E_{0} \\\\\n",
    "& = -E_{0}(1-|c_{0}|^{2}) + (1-|c_{0}|^{2})E_{1} \\\\\n",
    "& = (E_{1}-E_{0})(1-|c_{0}|^{2}) \\\\\n",
    "& = (E_{1}-E_{0})\\epsilon(\\phi),\n",
    "\\end{align}\n",
    "em que usamos que\n",
    "$$\\sum_{n}|c_{n}|^{2} = \\sum_{n}Pr(E_{n}|\\phi)=1 = |c_{0}|^{2}+\\sum_{n>0}|c_{n}|^{2}.$$"
   ]
  },
  {
   "cell_type": "markdown",
   "id": "0ef05500",
   "metadata": {},
   "source": [
    "Então\n",
    "$$\\epsilon(\\phi) \\le \\frac{\\langle H\\rangle_{\\phi}-E_{0}}{E_{1}-E_{0}}.$$\n",
    "Esse limite superior pode ser calculado se conhecemos $E_{0}$ e $E_{1}$ de experimentos, ou seja, que queremos obter funções de onda que descrevam um sistema com espectro de autovalores conhecido do experimento.\n",
    "\n",
    "#### Exemplo\n",
    "Fazendo $\\hbar=1$, $\\omega=1$ e $m=1$, mostramos na figura abaixo o limite superior para o erro do vetor de estado teste em função do parâmetro livre $b$ para estimativa da energia do estado fundamental do OHQ1D."
   ]
  },
  {
   "cell_type": "code",
   "execution_count": 62,
   "id": "143b8d99",
   "metadata": {},
   "outputs": [
    {
     "data": {
      "image/png": "[encoded data removed]",
      "text/plain": [
       "<Figure size 432x288 with 1 Axes>"
      ]
     },
     "metadata": {
      "needs_background": "light"
     },
     "output_type": "display_data"
    }
   ],
   "source": [
    "# hb = w = m = 1\n",
    "x = np.arange(0.1,1,0.05); ub = (x/2 + 1/(8*x) - 1/2)/(1)\n",
    "plt.plot(x,ub,'-o'); plt.ylim(0,)\n",
    "plt.xlabel(r'$b$'); plt.title('Limite superior para o erro'); plt.show()"
   ]
  },
  {
   "cell_type": "markdown",
   "id": "04fcc0c4",
   "metadata": {},
   "source": [
    "## Limites variacionais inferiores e superiores\n",
    "### Teorema\n",
    "Seja $|\\phi\\rangle$ um vetor de estado teste. Existe algum autovalor $E_{k}$ do hamiltoniano $H$ para o qual a seguinte desigualdade é satisfeita:\n",
    "$$\\langle H\\rangle_{\\phi}-\\sqrt{Var(H)_{\\phi}} \\le  E_{k} \\le \\langle H\\rangle_{\\phi}+\\sqrt{Var(H)_{\\phi}}.$$\n",
    "\n",
    "#### Prova\n",
    "Começamos considerando a variância do hamiltoniano para o estado teste:\n",
    "\\begin{align}\n",
    "Var(H)_{\\phi} & = \\big\\langle\\big(H-\\langle H\\rangle_{\\phi}\\mathbb{I}\\big)^{2}\\big\\rangle \\\\\n",
    "& = \\sum_{n}\\big(E_{n}-\\langle H\\rangle_{\\phi}\\big)^{2}Pr(E_{n}|\\phi).\n",
    "\\end{align}\n",
    "\n",
    "Para uma dada função de onda teste $\\phi$, existe algum autovalor $E_{k}$ que é tão próximo do valor médio $\\langle H\\rangle_{\\phi}$ quanto qualquer outro autovalor. Ou seja, consideremos a __condição__:\n",
    "$$\\big(E_{k}-\\langle H\\rangle_{\\phi}\\big)^{2} \\le \\big(E_{n}-\\langle H\\rangle_{\\phi}\\big)^{2}\\ \\forall n.$$"
   ]
  },
  {
   "cell_type": "markdown",
   "id": "735d31a3",
   "metadata": {},
   "source": [
    "Com isso, vem que\n",
    "\\begin{align}\n",
    "Var(H)_{\\phi} & \\ge \\sum_{n}\\big(E_{k}-\\langle H\\rangle_{\\phi}\\big)^{2}Pr(E_{n}|\\phi) = \\big(E_{k}-\\langle H\\rangle_{\\phi}\\big)^{2}\\sum_{n}Pr(E_{n}|\\phi) \\\\\n",
    "& = \\big(E_{k}-\\langle H\\rangle_{\\phi}\\big)^{2}.\n",
    "\\end{align}\n",
    "Então\n",
    "$$\\sqrt{Var(H)_{\\phi}} \\ge |E_{k}-\\langle H\\rangle_{\\phi}|.$$\n",
    "Teremos assim os seguintes casos\n",
    "\\begin{align}\n",
    "E_{k}\\ge\\langle H\\rangle_{\\phi} & \\therefore\\ \\sqrt{Var(H)_{\\phi}} \\ge E_{k}-\\langle H\\rangle_{\\phi} \\ \\therefore\\ E_{k} \\le \\langle H\\rangle_{\\phi}+\\sqrt{Var(H)_{\\phi}}, \\\\\n",
    "E_{k}<\\langle H\\rangle_{\\phi} & \\therefore\\ \\sqrt{Var(H)_{\\phi}} \\ge -E_{k}+\\langle H\\rangle_{\\phi} \\ \\therefore\\ E_{k} \\ge \\langle H\\rangle_{\\phi}-\\sqrt{Var(H)_{\\phi}}.\n",
    "\\end{align}\n",
    "Com isso segue a seguinte desigualdade dupla:\n",
    "$$\\langle H\\rangle_{\\phi}-\\sqrt{Var(H)_{\\phi}} \\le  E_{k} \\le \\langle H\\rangle_{\\phi}+\\sqrt{Var(H)_{\\phi}}.$$\n",
    "$\\square$"
   ]
  },
  {
   "cell_type": "markdown",
   "id": "8ff18d8c",
   "metadata": {},
   "source": [
    "Note que, dada uma certa função de onda teste $\\phi$, essas desigualdades valem somente para o autovalor $E_{k}$ mais próximo de $\\langle H\\rangle_{\\phi}$. Isso é, de certo modo, lógico pois se a variância de $H$ é $0$ isso implica que $\\phi$ é autovetor de $H$, e neste caso os limites inferior e superior acima coincidem. \n",
    "\n",
    "Por outro lado, podemos usar esses limites inferior e superior para quantificar quanto um certo vetor de estado teste $|\\phi\\rangle$ está de ser um certo autovetor $|\\psi_{k}\\rangle$ de $H$."
   ]
  },
  {
   "cell_type": "markdown",
   "id": "d40e90ba",
   "metadata": {},
   "source": [
    "#### Exemplo\n",
    "Vamos considerar os cálculos feitos para estimar a energia do estado fundamental do OHQ1D, para o qual temos $\\phi(x,b)=(2b/\\pi)^{1/4}e^{-bx^{2}}$ e $\\langle H\\rangle_{\\phi} = b\\hbar^{2}/2m + m\\omega^{2}/8b$. Para calcular a variância, precisamos ainda obter\n",
    "\\begin{align}\n",
    "\\langle H^{2}\\rangle_{\\phi} & = \\langle\\phi|H^{2}|\\phi\\rangle = \\langle\\phi|\\Big(\\frac{P^{2}}{2m}+\\frac{m\\omega^{2}}{2}X^{2}\\Big)^{2}|\\phi\\rangle \\\\\n",
    "& = \\frac{1}{4m^{2}}\\langle\\phi|P^{4}|\\phi\\rangle + \\frac{m^{2}\\omega^{4}}{4}\\langle\\phi|X^{4}|\\phi\\rangle + \\frac{\\omega^{2}}{4}\\langle\\phi|\\big(P^{2}X^{2}+X^{2}P^{2}\\big)|\\phi\\rangle.\n",
    "\\end{align}\n"
   ]
  },
  {
   "cell_type": "markdown",
   "id": "b2e7574c",
   "metadata": {},
   "source": [
    "Passemos para o cálculo desses valores médios. Começamos com\n",
    "\\begin{align}\n",
    "\\langle\\phi|P^{4}|\\phi\\rangle & = \\int_{-\\infty}^{+\\infty}dx\\phi^{*}\\big(-i\\hbar\\partial_{x}\\big)^{4}\\phi  = \\hbar^{4}\\int_{-\\infty}^{+\\infty}dx\\phi^{*}\\partial_{xxxx}\\phi \\\\\n",
    "& = \\hbar^{4}\\sqrt{\\frac{2b}{\\pi}}\\int_{-\\infty}^{+\\infty}dx 4b^{2}\\big(4b^{2}x^{4}-12bx^{2}+3\\big)e^{-2bx^{2}} \\\\\n",
    "& = \\hbar^{4}\\sqrt{\\frac{2b}{\\pi}}4b^{2}\\Big(4b^{2}\\frac{3\\sqrt{2\\pi}}{32b^{5/2}}-12b\\frac{\\sqrt{2\\pi}}{8b^{3/2}}+3\\sqrt{\\frac{\\pi}{2b}}\\Big) \\\\\n",
    "& = 3b^{2}\\hbar^{4}.\n",
    "\\end{align}"
   ]
  },
  {
   "cell_type": "code",
   "execution_count": 53,
   "id": "e5d3f9f4",
   "metadata": {},
   "outputs": [
    {
     "data": {
      "image/png": "[encoded data removed]",
      "text/latex": [
       "$\\displaystyle 4 b^{2} \\left(4 b^{2} x^{4} - 12 b x^{2} + 3\\right) e^{- b x^{2}}$"
      ],
      "text/plain": [
       "                                  2\n",
       "   2 ⎛   2  4         2    ⎞  -b⋅x \n",
       "4⋅b ⋅⎝4⋅b ⋅x  - 12⋅b⋅x  + 3⎠⋅ℯ     "
      ]
     },
     "execution_count": 53,
     "metadata": {},
     "output_type": "execute_result"
    }
   ],
   "source": [
    "diff(exp(-b*x**2),x,4)"
   ]
  },
  {
   "cell_type": "code",
   "execution_count": 54,
   "id": "e25a24c8",
   "metadata": {},
   "outputs": [
    {
     "data": {
      "image/png": "[encoded data removed]",
      "text/latex": [
       "$\\displaystyle 3 b^{2.0} \\hbar^{4}$"
      ],
      "text/plain": [
       "   2.0  4\n",
       "3⋅b   ⋅h̅ "
      ]
     },
     "execution_count": 54,
     "metadata": {},
     "output_type": "execute_result"
    }
   ],
   "source": [
    "hb = symbols('hbar')\n",
    "simplify(hb**4*sqrt(2*b/pi)*4*b**2*( (4*b**2*3*sqrt(2*pi))/(32*b**(5/2))  \n",
    "         - (12*b*sqrt(2*pi))/(8*b**(3/2)) + (3*sqrt(pi))/(sqrt(2*b))))"
   ]
  },
  {
   "cell_type": "markdown",
   "id": "6c2a2a4c",
   "metadata": {},
   "source": [
    "Seguindo, consideramos\n",
    "\\begin{align}\n",
    "\\langle\\phi|X^{4}|\\phi\\rangle & = \\int_{-\\infty}^{+\\infty}x^{4}|\\phi|^{2}dx = \\sqrt{\\frac{2b}{\\pi}}\\int_{-\\infty}^{+\\infty}x^{4}e^{-2bx^{2}}dx \\\\\n",
    "& = \\sqrt{\\frac{2b}{\\pi}}\\frac{3\\sqrt{2\\pi}}{32b^{5/2}} = \\frac{3}{16b^{3/2}}.\n",
    "\\end{align}"
   ]
  },
  {
   "cell_type": "markdown",
   "id": "4a003411",
   "metadata": {},
   "source": [
    "Já\n",
    "\\begin{align}\n",
    "\\langle\\phi|X^{2}P^{2}|\\phi\\rangle & = \\int_{-\\infty}^{+\\infty}\\langle\\phi|X^{2}P|x\\rangle\\langle x|P|\\phi\\rangle = \\int_{-\\infty}^{+\\infty}dx\\langle\\phi|X^{2}P|x\\rangle\\frac{\\hbar}{i}\\partial_{x}\\langle x|\\phi\\rangle \\\\\n",
    "& = \\int_{-\\infty}^{+\\infty}dx\\int_{-\\infty}^{+\\infty}dx'\\langle\\phi|X^{2}|x'\\rangle\\langle x'|P\\big(\\big(-i\\hbar\\partial_{x}\\phi(x)\\big)|x\\rangle\\big) \\\\\n",
    "& = \\int_{-\\infty}^{+\\infty}dx\\int_{-\\infty}^{+\\infty}dx'\\langle\\phi|x'^{2}|x'\\rangle\\frac{\\hbar}{i}\\partial_{x'}\\big(\\big(-i\\hbar\\partial_{x}\\phi(x)\\big)\\langle x'|x\\rangle\\big) \\\\\n",
    "& = \\int_{-\\infty}^{+\\infty}dx\\int_{-\\infty}^{+\\infty}dx'\\phi(x')^{*}x'^{2}\\frac{\\hbar}{i}\\partial_{x'}\\big(\\big(-i\\hbar\\partial_{x}\\phi(x)\\big)\\delta(x'-x)\\big) \\\\\n",
    "& = \\int_{-\\infty}^{+\\infty}dx\\phi(x)^{*}x^{2}\\big(-i\\hbar\\partial_{x}\\big)^{2}\\phi(x) \\\\\n",
    "& = -\\hbar^{2}\\int_{-\\infty}^{+\\infty}dx\\phi(x)^{*}x^{2}\\partial_{xx}\\phi(x) \\\\\n",
    "& = -\\hbar^{2}\\sqrt{\\frac{2b}{\\pi}}\\int_{-\\infty}^{+\\infty} x^{2}2bx\\big(2bx^{2}-3\\big)e^{-2bx^{2}}dx \\\\\n",
    "& = 0.\n",
    "\\end{align}"
   ]
  },
  {
   "cell_type": "markdown",
   "id": "fe44de70",
   "metadata": {},
   "source": [
    "Pode-se mostrar também que\n",
    "\\begin{align}\n",
    "\\langle\\phi|P^{2}X^{2}|\\phi\\rangle & = \\int_{-\\infty}^{\\infty} dx\\phi(x)^{*}\\big(-i\\hbar\\partial_{x}\\big)^{2}\\big(x^{2}\\phi(x)\\big) \\\\\n",
    "& = -\\hbar^{2}\\int_{-\\infty}^{\\infty} dx\\phi(x)^{*}\\partial_{xx}\\big(x^{2}\\phi(x)\\big) \\\\\n",
    "& = -\\hbar^{2}\\sqrt{\\frac{2b}{\\pi}}\\int_{-\\infty}^{\\infty} dxe^{-bx^{2}}\\partial_{xx}\\big(x^{2}e^{-bx^{2}}\\big) \\\\\n",
    "& = -\\hbar^{2}\\sqrt{\\frac{2b}{\\pi}}\\Big(4b^{2}\\int_{-\\infty}^{\\infty}dxx^{4}e^{-2bx^{2}} - 10b\\int_{-\\infty}^{\\infty}dxx^{2}e^{-2bx^{2}}+2\\int_{-\\infty}^{\\infty}dxe^{-2bx^{2}} \\Big) \\\\\n",
    "& = -\\frac{9\\hbar^{2}}{4}.\n",
    "\\end{align}"
   ]
  },
  {
   "cell_type": "code",
   "execution_count": 57,
   "id": "5b6d992a",
   "metadata": {},
   "outputs": [
    {
     "data": {
      "image/png": "[encoded data removed]",
      "text/latex": [
       "$\\displaystyle 2 \\left(2 b^{2} x^{4} - 5 b x^{2} + 1\\right) e^{- b x^{2}}$"
      ],
      "text/plain": [
       "                              2\n",
       "  ⎛   2  4        2    ⎞  -b⋅x \n",
       "2⋅⎝2⋅b ⋅x  - 5⋅b⋅x  + 1⎠⋅ℯ     "
      ]
     },
     "execution_count": 57,
     "metadata": {},
     "output_type": "execute_result"
    }
   ],
   "source": [
    "simplify(diff(x**2*exp(-b*x**2),x,2))"
   ]
  },
  {
   "cell_type": "code",
   "execution_count": 59,
   "id": "b40fd876",
   "metadata": {},
   "outputs": [
    {
     "data": {
      "image/png": "[encoded data removed]",
      "text/latex": [
       "$\\displaystyle - \\frac{9 \\hbar^{2}}{4}$"
      ],
      "text/plain": [
       "    2 \n",
       "-9⋅h̅  \n",
       "──────\n",
       "  4   "
      ]
     },
     "execution_count": 59,
     "metadata": {},
     "output_type": "execute_result"
    }
   ],
   "source": [
    "simplify( -hb**2*sqrt(2*b/pi)*(4*b**2*integrate(x**4*exp(-2*b*x**2),(x,-oo,oo)) \n",
    "                              -10*b*integrate(x**2*exp(-2*b*x**2),(x,-oo,oo))\n",
    "                              +4*integrate(exp(-2*b*x**2),(x,-oo,oo))) )"
   ]
  },
  {
   "cell_type": "markdown",
   "id": "55624f5a",
   "metadata": {},
   "source": [
    "Obtemos assim\n",
    "\\begin{align}\n",
    "\\langle H^{2}\\rangle_{\\phi} & = \\frac{1}{4m^{2}}3b^{2}\\hbar^{4} + \\frac{m^{2}\\omega^{4}}{4}\\frac{3}{16b^{3/2}} + \\frac{\\omega^{2}}{4}\\Big(-\\frac{9\\hbar^{2}}{4}+0\\Big).\n",
    "\\end{align}\n",
    "Com isso podemos calcular a variância e os limites inferior e superior, que estão mostrados na figura abaixo."
   ]
  },
  {
   "cell_type": "code",
   "execution_count": 76,
   "id": "d433f476",
   "metadata": {},
   "outputs": [
    {
     "data": {
      "image/png": "[encoded data removed]",
      "text/plain": [
       "<Figure size 432x288 with 1 Axes>"
      ]
     },
     "metadata": {
      "needs_background": "light"
     },
     "output_type": "display_data"
    }
   ],
   "source": [
    "m = 1; w = 1; hbb = 1\n",
    "b = np.arange(0.1,2,0.03); \n",
    "H2m = (3*b**2*hbb**4)/(4*m**2) + (3*m**2*w**4)/(64*b*(3/2)) - (9*w**2*hbb**2)/(16)\n",
    "Hm = (b*hbb**2)/(2*m) + (m*w**2)/(8*b)\n",
    "Var = abs(H2m - Hm**2)#; print(Var)\n",
    "ub = Hm + np.sqrt(Var); lb = Hm - np.sqrt(Var)\n",
    "plt.plot(b, ub,'-o',label='ub'); plt.plot(b, lb,'-*',label='lb'); plt.plot(b, Var,'-.',label='Var')\n",
    "plt.legend()\n",
    "plt.xlabel(r'$b$'); plt.title('Limite superior e inferior')\n",
    "plt.show()"
   ]
  },
  {
   "cell_type": "markdown",
   "id": "a5fd24a0",
   "metadata": {},
   "source": [
    "## O átomo de Hélio\n",
    "O átomo de Hélio é constituído por 2 elétrons, 2 prótons e 2 nêutrons. Considerando somente energia cinética não relativística e energia potencial devido à interação coulombiana, e considerando o núcleo parado, o hamiltoniano deste átomo pode ser escrito como segue:\n",
    "$$H = -\\frac{\\hbar^{2}}{2m_{e}}\\big(\\nabla_{1}^{2}+\\nabla_{2}^{2}\\big)-ke^{2}\\Big(\\frac{2}{r_{1}}+\\frac{2}{r_{2}}-\\frac{1}{||\\vec{r}_{1}-\\vec{r}_{2}||}\\Big). $$\n",
    "Nesta equação o índice $s=1,2$ refere-se ao elétron $1,2$.\n",
    "\n",
    "Nosso problema é calcular teoricamente a energia do estado fundamental deste átomo. Essa energia é igual à energia necessária para arrancar os 2 elétrons do átomo, e o valor dessa energia é conhecido experimentalmente:\n",
    "$$E_{0}^{exp} \\approx -78.935\\text{ eV}.$$"
   ]
  },
  {
   "cell_type": "markdown",
   "id": "7ca73989",
   "metadata": {},
   "source": [
    "A dificuldade em se resolver este problema se deve ao termo de repulsão elétron-elétron:\n",
    "$$U_{ee} = \\frac{ke^{2}}{||\\vec{r}_{1}-\\vec{r}_{2}||}.$$\n",
    "Se ignoramos esse termo, o hamiltoniano fica escrito como\n",
    "$$H_{i} = -\\frac{\\hbar^{2}}{2m_{e}}\\nabla_{1}^{2}-\\frac{2ke^{2}}{r_{1}}-\\frac{\\hbar^{2}}{2m_{e}}\\nabla_{2}^{2}-\\frac{2ke^{2}}{r_{2}} = H_{1}^{h}+H_{2}^{h},$$\n",
    "que equivale à soma dos hamiltonianos de 2 átomos hidrogenóides independentes com número atômico $Z=2$. Seja $\\psi_{nlm_{l}}^{(j)}$ a autofunção de $H_{j}^{h}$. Teremos assim que\n",
    "$$H_{i}\\psi_{nlm_{l}}^{(1)}\\psi_{n'l'm_{l}'}^{(2)} = \\big(E_{n}^{(0)}+E_{n'}^{(0)}\\big)\\psi_{nlm_{l}}^{(1)}\\psi_{n'l'm_{l}'}^{(2)},$$\n",
    "com\n",
    "$$E_{n}^{(0)} = -\\frac{m_{e} Z^{2}k^{2}e^{4}}{2\\hbar^{2}}\\frac{1}{n^{2}} = Z^{2}\\Big(-\\frac{m_{e}k^{2}e^{4}}{2\\hbar^{2}}\\Big)\\frac{1}{n^{2}} = Z^{2}\\frac{E_{1}^{(0)}}{n^{2}},$$\n",
    "em que usamos $E_{1}^{(0)} = -m_{e}k^{2}e^{4}/2\\hbar^{2} = -ke^{2}/2a_{0}$. \n",
    "Com isso, para o estado fundamental teremos a seguinte aproximação para a energia (hamiltoniano de elétrons independentes):\n",
    "$$E_{0}^{ei} = 2(2^{2})E_{1}^{(0)} \\approx -108.85\\text{ eV}.$$\n",
    "Note, essa é só uma 1ª aproximação, sem uso do método variacional."
   ]
  },
  {
   "cell_type": "code",
   "execution_count": 43,
   "id": "339e137b",
   "metadata": {},
   "outputs": [
    {
     "data": {
      "image/png": "[encoded data removed]",
      "text/latex": [
       "$\\displaystyle \\left( -13.6056949477175, \\  -108.84555958174\\right)$"
      ],
      "text/plain": [
       "(-13.605694947717485, -108.84555958173988)"
      ]
     },
     "execution_count": 43,
     "metadata": {},
     "output_type": "execute_result"
    }
   ],
   "source": [
    "E10 = (-(me*k**2*e**4)/(2*hb**2))/e; E10, 2*2**2*(-(me*k**2*e**4)/(2*hb**2))/e"
   ]
  },
  {
   "cell_type": "markdown",
   "id": "bf7beb2c",
   "metadata": {},
   "source": [
    "Para melhorar essa aproximação, ainda sem usar o método variacional, vamos usar como função de onda teste a autofunção de elétrons independentes:\n",
    "$$\\phi = \\psi_{100}^{(1)}\\psi_{100}^{(2)} = \\frac{8}{\\pi a_{0}^{3}}e^{-2(r_{1}+r_{2})/a_{0}},$$\n",
    "em que usamos (https://github.com/jonasmaziero/mecanica_quantica_1900-1925/blob/master/16_hidrogenio.ipynb) $$\\psi_{1,0,0}(r,\\theta,\\phi) = \\left(\\frac{Z}{\\pi a_{0}}\\right)^{3/2}e^{-Zr/a_{0}}.$$\n",
    "Teremos assim que que \n",
    "$$\\langle H\\rangle_{\\phi} = -108.85\\text{ eV} + \\langle U_{ee}\\rangle,$$\n",
    "em que\n",
    "\\begin{align}\n",
    "\\langle U_{ee}\\rangle & = \\iint d^{3}r_{1}d^{3}r_{2} U_{ee}|\\phi|^{2} = ke^{2}\\Big(\\frac{8}{\\pi a_{0}^{3}}\\Big)^{2}\\iint d^{3}r_{1}d^{3}r_{2} \\frac{e^{-4(r_{1}+r_{2})/a_{0}}}{||\\vec{r}_{1}-\\vec{r}_{2}||} \\\\\n",
    "&  = ke^{2}\\Big(\\frac{8}{\\pi a_{0}^{3}}\\Big)^{2}\\int d^{3}r_{1}e^{-4r_{1}/a_{0}}\\int d^{3}r_{2} \\frac{e^{-4r_{2}/a_{0}}}{||\\vec{r}_{1}-\\vec{r}_{2}||}.\n",
    "\\end{align}"
   ]
  },
  {
   "cell_type": "markdown",
   "id": "1e8dda51",
   "metadata": {},
   "source": [
    "Usemos \n",
    "\\begin{align}\n",
    "||\\vec{r}_{1}-\\vec{r}_{2}|| & = \\sqrt{(\\vec{r}_{1}-\\vec{r}_{2})\\cdot(\\vec{r}_{1}-\\vec{r}_{2})} = \\sqrt{r_{1}^{2}+r_{2}^{2}-2\\vec{r}_{1}\\cdot\\vec{r}_{2}} \\\\\n",
    "& = \\sqrt{r_{1}^{2}+r_{2}^{2}-2r_{1}r_{2}\\cos\\theta_{2}},\n",
    "\\end{align}\n",
    "em que $\\theta_{2}$ é o ângulo entre $\\vec{r}_{1}$ e $\\vec{r}_{2}$, para fazer primeiro a integral sobre o elétron 2:\n",
    "\\begin{align}\n",
    "\\int d^{3}r_{2} \\frac{e^{-4r_{2}/a_{0}}}{||\\vec{r}_{1}-\\vec{r}_{2}||} & = \\int_{0}^{\\infty}\\int_{0}^{\\pi}\\int_{0}^{2\\pi} r_{2}^{2}\\sin\\theta_{2}dr_{2}d\\theta_{2}d\\phi_{2} \\frac{e^{-4r_{2}/a_{0}}}{\\sqrt{r_{1}^{2}+r_{2}^{2}-2r_{1}r_{2}\\cos\\theta_{2}}} \\\\\n",
    "& = 2\\pi\\int_{0}^{\\infty}dr_{2}r_{2}^{2}e^{-4r_{2}/a_{0}}\\int_{0}^{\\pi}\\frac{d\\theta_{2}\\sin\\theta_{2}}{\\sqrt{r_{1}^{2}+r_{2}^{2}-2r_{1}r_{2}\\cos\\theta_{2}}} \\\\\n",
    "& = 2\\pi\\int_{0}^{\\infty}dr_{2}r_{2}^{2}e^{-4r_{2}/a_{0}}\\int u^{-1/2}\\frac{du}{2r_{1}r_{2}} \\\\\n",
    "& = \\frac{\\pi}{r_{1}}\\int_{0}^{\\infty}dr_{2}r_{2}e^{-4r_{2}/a_{0}}\\Big(\\frac{u^{1/2}}{1/2}\\Big) \\\\\n",
    "& = \\frac{2\\pi}{r_{1}}\\int_{0}^{\\infty}dr_{2}r_{2}e^{-4r_{2}/a_{0}}\\Big[\\sqrt{r_{1}^{2}+r_{2}^{2}-2r_{1}r_{2}\\cos\\theta_{2}}\\Big]_{0}^{\\pi} \\\\\n",
    "& = \\frac{2\\pi}{r_{1}}\\int_{0}^{\\infty}dr_{2}r_{2}e^{-4r_{2}/a_{0}}\\Big(\\sqrt{r_{1}^{2}+r_{2}^{2}+2r_{1}r_{2}} - \\sqrt{r_{1}^{2}+r_{2}^{2}-2r_{1}r_{2}}\\Big) \\\\\n",
    "& = \\frac{2\\pi}{r_{1}}\\int_{0}^{\\infty}dr_{2}r_{2}e^{-4r_{2}/a_{0}}\\Big(\\sqrt{(r_{1}+r_{2})^{2}} - \\sqrt{(r_{1}-r_{2})^{2}}\\Big) \\\\\n",
    "& = \\frac{2\\pi}{r_{1}}\\int_{0}^{\\infty}dr_{2}r_{2}e^{-4r_{2}/a_{0}}\\big(r_{1}+r_{2} - |r_{1}-r_{2}|\\big) \\\\\n",
    "& = \\frac{2\\pi}{r_{1}}\\int_{0}^{\\infty}dr_{2}r_{2}e^{-4r_{2}/a_{0}}\\times\\begin{cases} \\big(2r_{2}\\big) \\text{ se } r_{1}\\ge r_{2}, \\\\\n",
    "\\big(2r_{1}\\big) \\text{ se } r_{1}<r_{2},\\end{cases} \\\\\n",
    "& = \\frac{4\\pi}{r_{1}}\\Big( \\int_{0}^{r_{1}}dr_{2}r_{2}^{2}e^{-4r_{2}/a_{0}} + r_{1}\\int_{r_{1}}^{\\infty}dr_{2}r_{2}e^{-4r_{2}/a_{0}} \\Big),\n",
    "\\end{align}\n",
    "em que fizemos a mudança de variável $u = r_{1}^{2}+r_{2}^{2}-2r_{1}r_{2}\\cos\\theta_{2}\\ \\therefore\\ du = 2r_{1}r_{2}\\sin\\theta_{2}d\\theta_{2}$."
   ]
  },
  {
   "cell_type": "markdown",
   "id": "3ab1c288",
   "metadata": {},
   "source": [
    "Faremos uso de integração por partes:\n",
    "\\begin{align}\n",
    "\\int xe^{-ax}dx = x\\frac{e^{-ax}}{-a} - \\int \\frac{e^{-ax}}{-a}dx = -\\frac{1}{a}\\Big(x+\\frac{1}{a}\\Big)e^{-ax},\n",
    "\\end{align}\n",
    "em que usamos $u=x\\ \\therefore\\ du=dx$ e $dv = e^{-ax}dx\\ \\therefore\\ v = \\frac{e^{-ax}}{-a}$.\n",
    "\n",
    "Também precisamos de\n",
    "\\begin{align}\n",
    "\\int x^{2}e^{-ax}dx & = x^{2}\\frac{e^{-ax}}{-a} - \\int \\frac{e^{-ax}}{-a}2xdx = -\\frac{1}{a}\\Big(x^{2}e^{-ax} - 2\\int xe^{-ax}dx\\Big) \\\\\n",
    "& = -\\frac{1}{a}\\Big(x^{2}e^{-ax} - 2(-1)\\frac{1}{a}\\Big(x+\\frac{1}{a}\\Big)e^{-ax}\\Big) \\\\\n",
    "& = -\\frac{1}{a}\\Big(x^{2} +\\frac{2}{a}\\Big(x+\\frac{1}{a}\\Big)\\Big)e^{-ax},\n",
    "\\end{align}\n",
    "em que usamos $u=x^{2}\\ \\therefore\\ du=2xdx$ e $dv = e^{-ax}dx\\ \\therefore\\ v = \\frac{e^{-ax}}{-a}$."
   ]
  },
  {
   "cell_type": "code",
   "execution_count": 23,
   "id": "5079c7d2",
   "metadata": {},
   "outputs": [
    {
     "data": {
      "image/png": "[encoded data removed]",
      "text/latex": [
       "$\\displaystyle \\left( \\frac{\\left(- a x - 1\\right) e^{- a x}}{a^{2}}, \\  \\frac{\\left(- a^{2} x^{2} - 2 a x - 2\\right) e^{- a x}}{a^{3}}\\right)$"
      ],
      "text/plain": [
       "⎛            -a⋅x  ⎛   2  2            ⎞  -a⋅x⎞\n",
       "⎜(-a⋅x - 1)⋅ℯ      ⎝- a ⋅x  - 2⋅a⋅x - 2⎠⋅ℯ    ⎟\n",
       "⎜────────────────, ───────────────────────────⎟\n",
       "⎜        2                       3            ⎟\n",
       "⎝       a                       a             ⎠"
      ]
     },
     "execution_count": 23,
     "metadata": {},
     "output_type": "execute_result"
    }
   ],
   "source": [
    "x = symbols('x'); a = symbols('a', positive=True)\n",
    "integrate(x*exp(-a*x), x), integrate(x**2*exp(-a*x), x)"
   ]
  },
  {
   "cell_type": "markdown",
   "id": "1092ad88",
   "metadata": {},
   "source": [
    "Assim \n",
    "\\begin{align}\n",
    "\\int_{0}^{r_{1}}dr_{2}r_{2}^{2}e^{-4r_{2}/a_{0}} & = \\Big[-\\frac{a_{0}}{4}\\Big(r_{2}^{2} +\\frac{2a_{0}}{4}\\Big(r_{2}+\\frac{a_{0}}{4}\\Big)\\Big)e^{-4r_{2}/a_{0}}\\Big]_{0}^{r_{1}} \\\\\n",
    "& = -\\frac{a_{0}}{4}\\Big(r_{1}^{2} +\\frac{2a_{0}}{4}\\Big(r_{1}+\\frac{a_{0}}{4}\\Big)\\Big)e^{-4r_{1}/a_{0}} + \\frac{a_{0}}{4}\\Big(0^{2} +\\frac{2a_{0}}{4}\\Big(0+\\frac{a_{0}}{4}\\Big)\\Big)e^{-40/a_{0}} \\\\\n",
    "& = -\\frac{a_{0}}{4}\\Big(r_{1}^{2} +\\frac{a_{0}}{2}\\Big(r_{1}+\\frac{a_{0}}{4}\\Big)\\Big)e^{-4r_{1}/a_{0}} + \\frac{a_{0}^{3}}{32}\n",
    "\\end{align}\n",
    "e \n",
    "\\begin{align}\n",
    "\\int_{r_{1}}^{\\infty}dr_{2}r_{2}e^{-4r_{2}/a_{0}} & = \\Big[ -\\frac{a_{0}}{4}\\Big(r_{2}+\\frac{a_{0}}{4}\\Big)e^{-4r_{2}/a_{0}}\\Big]_{r_{1}}^{\\infty} \\\\\n",
    "& = 0 + \\frac{a_{0}}{4}\\Big(r_{1}+\\frac{a_{0}}{4}\\Big)e^{-4r_{1}/a_{0}}.\n",
    "\\end{align}\n",
    "Por conseguinte\n",
    "\\begin{align}\n",
    "\\int d^{3}r_{2} \\frac{e^{-4r_{2}/a_{0}}}{||\\vec{r}_{1}-\\vec{r}_{2}||} & = \\frac{4\\pi}{r_{1}}\\Big( -\\frac{a_{0}}{4}\\Big(r_{1}^{2} +\\frac{a_{0}}{2}\\Big(r_{1}+\\frac{a_{0}}{4}\\Big)\\Big)e^{-4r_{1}/a_{0}} + \\frac{a_{0}^{3}}{32} + r_{1}\\frac{a_{0}}{4}\\Big(r_{1}+\\frac{a_{0}}{4}\\Big)e^{-4r_{1}/a_{0}} \\Big) \\\\\n",
    "& = \\frac{\\pi a_{0}^{3}}{8r_{1}}\\Big(1 -\\frac{32}{a_{0}^{3}}\\frac{a_{0}}{4}\\Big(r_{1}^{2} +\\frac{a_{0}}{2}\\Big(r_{1}+\\frac{a_{0}}{4}\\Big)-r_{1}^{2} - \\frac{a_{0}r_{1}}{4}\\Big)e^{-4r_{1}/a_{0}} \\Big) \\\\\n",
    "& = \\frac{\\pi a_{0}^{3}}{8r_{1}}\\Big(1 -\\frac{8}{a_{0}^{2}}\\frac{a_{0}}{2}\\Big(\\frac{r_{1}}{2}+\\frac{a_{0}}{4}\\Big)e^{-4r_{1}/a_{0}} \\Big) \\\\\n",
    "& = \\frac{\\pi a_{0}^{3}}{8r_{1}}\\Big(1 -\\Big(\\frac{2r_{1}}{a_{0}}+1\\Big)e^{-4r_{1}/a_{0}} \\Big).\n",
    "\\end{align}"
   ]
  },
  {
   "cell_type": "markdown",
   "id": "55e88b5e",
   "metadata": {},
   "source": [
    "Com isso, podemos voltar ao cálculo do valor médio da interação elétron-elétron\n",
    "\\begin{align}\n",
    "\\langle U_{ee}\\rangle & = ke^{2}\\Big(\\frac{8}{\\pi a_{0}^{3}}\\Big)^{2}\\int d^{3}r_{1}e^{-4r_{1}/a_{0}}\\frac{\\pi a_{0}^{3}}{8r_{1}}\\Big(1 -\\Big(\\frac{2r_{1}}{a_{0}}+1\\Big)e^{-4r_{1}/a_{0}} \\Big) \\\\\n",
    "& = ke^{2}\\frac{8}{\\pi a_{0}^{3}}\\int_{0}^{2\\pi}d\\phi_{1}\\int_{0}^{\\pi}\\sin\\theta_{1}d\\theta_{1}\\int_{0}^{\\infty}r_{1}^{2}dr_{1}e^{-4r_{1}/a_{0}}\\frac{1}{r_{1}}\\Big(1 -\\Big(\\frac{2r_{1}}{a_{0}}+1\\Big)e^{-4r_{1}/a_{0}} \\Big) \\\\\n",
    "& = ke^{2}\\frac{8}{\\pi a_{0}^{3}}4\\pi\\int_{0}^{\\infty}dr_{1}\\Big(r_{1}e^{-4r_{1}/a_{0}} -\\Big(\\frac{2r_{1}^{2}}{a_{0}}+r_{1}\\Big)e^{-8r_{1}/a_{0}} \\Big) \\\\\n",
    "& = \\frac{32ke^{2}}{a_{0}^{3}}\\Big(\\Big[-\\frac{a_{0}}{4}\\Big(r_{1}+\\frac{a_{0}}{4}\\Big)e^{-4r_{1}/a_{0}}\\Big]_{0}^{\\infty} -\\frac{2}{a_{0}}\\Big[-\\frac{a_{0}}{8}\\Big(r_{1}^{2} +\\frac{2a_{0}}{8}\\Big(r_{1}+\\frac{a_{0}}{8}\\Big)\\Big)e^{-8r_{1}/a_{0}}\\Big]_{0}^{\\infty} \\\\\n",
    "& \\hspace{2.2cm} - \\Big[-\\frac{a_{0}}{8}\\Big(r_{1}+\\frac{a_{0}}{8}\\Big)e^{-8r_{1}/a_{0}}\\Big]_{0}^{\\infty}\\Big) \\\\\n",
    "& = \\frac{2^{5}ke^{2}}{a_{0}^{3}}\\Big(0+\\frac{a_{0}^{2}}{2^{4}} -\\frac{2}{a_{0}}\\Big(0+\\frac{a_{0}^{3}}{2^{8}}\\Big) - \\Big(0+\\frac{a_{0}^{2}}{2^{6}}\\Big)\\Big) \\\\\n",
    "& = \\frac{2^{5}ke^{2}}{a_{0}}\\frac{2^{3}-1-2^{1}}{2^{7}}  = \\frac{5ke^{2}}{4a_{0}} \\\\\n",
    "& \\approx 34.01 \\text{ eV}.\n",
    "\\end{align}"
   ]
  },
  {
   "cell_type": "code",
   "execution_count": 28,
   "id": "e5deea08",
   "metadata": {},
   "outputs": [
    {
     "data": {
      "image/png": "[encoded data removed]",
      "text/latex": [
       "$\\displaystyle \\left( 34.0142373692937, \\  -74.84\\right)$"
      ],
      "text/plain": [
       "(34.01423736929372, -74.84)"
      ]
     },
     "execution_count": 28,
     "metadata": {},
     "output_type": "execute_result"
    }
   ],
   "source": [
    "((5*k*e**2)/(4*a0))/e, -108.85+34.01"
   ]
  },
  {
   "cell_type": "markdown",
   "id": "a5eaba93",
   "metadata": {},
   "source": [
    "Com isso, temos que o limite superior para a energia do estado fundamental do átomo de Hélio estimada usando como função de onda teste o produto das funções de onda dos elétrons independentes:\n",
    "$$\\langle H\\rangle_{\\phi} \\approx -108.85\\text{ eV} + 34.01 \\text{ eV} = -74.84\\text{ eV},$$\n",
    "que está razoavelmente próximo do valor experimental, que é $E_{0}^{exp} \\approx -78.935\\text{ eV}.$\n",
    "\n",
    "Podemos, claro, melhorar este resultado. Notemos que ainda não fizemos nenhuma optimização sobre parâmetros variacionais. Uma dica sobre que parâmetro é esse pode ser obtida notando-se que estamos usando uma \"imagem\" clássica de elétrons pontuais, quando na verdade eles são objetos quânticos espalhados no espaço. Esse espraiamento faz com que um elétron blinde o núcleo, fazendo com que o outro elétron interaja efetivamente com menos que $Z$ prótons. Para incluir esse efeito, vamos usar a função de onda teste\n",
    "\\begin{align}\n",
    "\\phi & = \\psi_{1,0,0}(r_{1},\\theta_{1},\\phi_{1})\\psi_{1,0,0}(r_{2},\\theta_{2},\\phi_{2}) \\\\\n",
    "& = \\left(\\frac{Z}{\\pi a_{0}}\\right)^{3}e^{-Z(r_{1}+r_{2})/a_{0}} = \\phi(r_{1},r_{2},Z).\n",
    "\\end{align}\n",
    "Como no método variacional não modificamos o Hamiltoniano do sistema, para utilizar os resultados conhecidos, vamos reescrever o Hamiltoniano do átomo de Hélio como segue\n",
    "$$H = -\\frac{\\hbar^{2}}{2m_{e}}\\big(\\nabla_{1}^{2}+\\nabla_{2}^{2}\\big)-ke^{2}\\Big(\\frac{Z}{r_{1}}+\\frac{Z}{r_{2}}\\Big) + ke^{2}\\Big(\\frac{Z-2}{r_{1}}+\\frac{Z-2}{r_{2}}+\\frac{1}{||\\vec{r}_{1}-\\vec{r}_{2}||}\\Big). \\hspace{1cm} (\\star)$$"
   ]
  },
  {
   "cell_type": "markdown",
   "id": "a5c0aa10",
   "metadata": {},
   "source": [
    "Os 2 primeiros termos correspondem à soma de Hamiltonianos de 2 átomos hidrogenóides com nº atômico $Z$. Assim, pela forma da função de onda teste, pode-se verificar que\n",
    "\\begin{align}\n",
    "\\langle H\\rangle_{\\phi} & = 2E_{1}^{(0)} + 2ke^{2}(Z-2)\\Big\\langle\\frac{1}{r}\\Big\\rangle_{\\psi_{100}} + \\langle U_{ee}\\rangle_{\\phi} \\\\\n",
    "& = 2Z^{2}E_{1}^{(0)} + 2ke^{2}(Z-2)\\frac{Z}{a_{0}} + \\frac{Z}{2}\\frac{5ke^{2}}{4a_{0}} \\\\\n",
    "& = 2Z^{2}E_{1}^{(0)} + 4(Z^{2}-2Z)\\frac{ke^{2}}{2a_{0}} + \\frac{5Z}{4}\\frac{ke^{2}}{2a_{0}} \\\\\n",
    "& = \\Big(2Z^{2} - 4(Z^{2}-2Z) - \\frac{5Z}{4}\\Big)E_{1}^{(0)} \\\\\n",
    "& = \\Big(-2Z^{2} + (8-5/4)Z\\Big)E_{1}^{(0)}.\n",
    "\\end{align}\n",
    "\n",
    "Obtemos o parâmetro variacional ótimo de\n",
    "\\begin{align}\n",
    "& \\partial_{Z}\\langle H\\rangle_{\\phi} = 0 \\ \\therefore\\ -4Z+(8-5/4)=0 \\\\\n",
    "& \\therefore\\ Z = \\frac{8-5/4}{4} = 1.6875.\n",
    "\\end{align}\n",
    "\n",
    "Usando este valor de $Z$, teremos a seguinte estimativa variacional para a energia do estado fundamental do átomo de Hélio:\n",
    "$$\\langle H\\rangle_{\\phi} \\approx -77.49\\text{ eV},$$\n",
    "que está ainda mais próxima do valor experimental $E_{0}^{exp} \\approx -78.935\\text{ eV}.$"
   ]
  },
  {
   "cell_type": "code",
   "execution_count": 41,
   "id": "80f4f44d",
   "metadata": {},
   "outputs": [
    {
     "data": {
      "image/png": "[encoded data removed]",
      "text/latex": [
       "$\\displaystyle 1.6875$"
      ],
      "text/plain": [
       "1.6875"
      ]
     },
     "execution_count": 41,
     "metadata": {},
     "output_type": "execute_result"
    }
   ],
   "source": [
    "Z = (8-5/4)/4; Z"
   ]
  },
  {
   "cell_type": "code",
   "execution_count": 44,
   "id": "2a225cd8",
   "metadata": {},
   "outputs": [
    {
     "data": {
      "image/png": "[encoded data removed]",
      "text/latex": [
       "$\\displaystyle -77.4886845069222$"
      ],
      "text/plain": [
       "-77.48868450692224"
      ]
     },
     "execution_count": 44,
     "metadata": {},
     "output_type": "execute_result"
    }
   ],
   "source": [
    "(-2*Z**2 + (8-5/4)*Z)*E10"
   ]
  },
  {
   "cell_type": "markdown",
   "id": "3c2169b8",
   "metadata": {},
   "source": [
    "# Exercícios\n",
    "\n",
    "1. Utilize o método variacional para estimar a energia do estado fundamental do oscilador harmônico quântico unidimensional usando como função de onda teste\n",
    "$$\\phi(x,b) = \\frac{A}{x^{2}+b^{2}}.$$\n",
    "\n",
    "1. Normalize a função de onda $$\\phi_{1}(x) = Axe^{-bx^{2}}$$ para obter $$A = \\sqrt{\\frac{2^{3}b^{3/2}}{\\sqrt{2\\pi}}}.$$\n",
    "\n",
    "1. Use o método variacional para obter um limite superior para $E_{2}$, a energia do 2º estado excitado. Especifique que propriedades a função de onda deve ter.\n",
    "\n",
    "1. Verifique que\n",
    "$$\\langle\\phi|P^{2}X^{2}|\\phi\\rangle = \\int dx\\phi(x)^{*}\\big(-i\\hbar\\partial_{x}\\big)^{2}\\big(x^{2}\\phi(x)\\big).$$"
   ]
  },
  {
   "cell_type": "code",
   "execution_count": null,
   "id": "e22b8b1c",
   "metadata": {},
   "outputs": [],
   "source": []
  }
 ],
 "metadata": {
  "kernelspec": {
   "display_name": "Python 3 (ipykernel)",
   "language": "python",
   "name": "python3"
  },
  "language_info": {
   "codemirror_mode": {
    "name": "ipython",
    "version": 3
   },
   "file_extension": ".py",
   "mimetype": "text/x-python",
   "name": "python",
   "nbconvert_exporter": "python",
   "pygments_lexer": "ipython3",
   "version": "3.8.8"
  }
 },
 "nbformat": 4,
 "nbformat_minor": 5
}
