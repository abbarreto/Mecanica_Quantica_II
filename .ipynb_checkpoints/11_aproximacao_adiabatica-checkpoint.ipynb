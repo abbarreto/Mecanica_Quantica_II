{
 "cells": [
  {
   "cell_type": "markdown",
   "id": "21b643a5",
   "metadata": {},
   "source": [
    "### Notas de aula de Mecânica Quântica <br> Autor: Jonas Maziero"
   ]
  },
  {
   "cell_type": "code",
   "execution_count": 2,
   "id": "1791fae4",
   "metadata": {},
   "outputs": [],
   "source": [
    "%run init.ipynb"
   ]
  },
  {
   "cell_type": "markdown",
   "id": "39b25a13",
   "metadata": {},
   "source": [
    "# Aproximação adiabática, fase de Berry e efeito Aharonov-Bohm\n",
    "\n",
    "## Teorema adiabático (caso particular)\n",
    "Considere um hamiltoniano dependente do tempo mas que comuta em tempos diferentes, i.e., $[H_{t},H_{t'}]=\\mathbb{O}\\ \\forall\\ t,t'$. Se o hamiltoniano muda lentamente com o tempo, mais precisamente, se para $H_{t}|E_{n}(t)\\rangle=E_{n}(t)|E_{n}(t)\\rangle$ temos que $|\\langle E_{m}(t)|\\dot{H}_{t}|E_{n}(t)\\rangle| \\ll |E_{n}(t)-E_{m}(t)|$, com $\\dot{H}_{t}=\\partial_{t}H_{t}$, e se inicialmente o estado do sistema é autovetor de $H_{0}$ com índice $n$, i.e., se $|\\psi_{0}\\rangle=|E_{n}(0)\\rangle$, então o estado evoluído no tempo desse sistema será autovetor de $H_{t}$ com o mesmo índice $n$, i.e., $|\\psi_{t}\\rangle\\propto |E_{n}(t)\\rangle$.\n",
    "\n",
    "\n",
    "### Prova\n",
    "Vamos lembrar de alguns resultados. Se o Hamiltoniano é independente do tempo, \n",
    "$$H_{t}=H,$$\n",
    "o operador de evolução temporal toma a forma $U_{t}=e^{-iHt/\\hbar}$. Assim, para $H|E_{n}(0)\\rangle=E_{n}(0)|E_{n}(0)\\rangle$, escrendo o estado inicial como $|\\psi_{0}\\rangle = \\sum_{n}c_{n}(0)|E_{n}(0)\\rangle$ teremos o estado evoluído\n",
    "\\begin{align}\n",
    "|\\psi_{t}\\rangle & = U_{t}|\\psi_{0}\\rangle = \\sum_{n}c_{n}(0)U_{t}|E_{n}(0)\\rangle = \\sum_{n}c_{n}(0)e^{-iHt/\\hbar}|E_{n}(0)\\rangle \\\\\n",
    "& = \\sum_{n}c_{n}(0)e^{-iE_{n}t/\\hbar}|E_{n}(0)\\rangle.\n",
    "\\end{align}"
   ]
  },
  {
   "cell_type": "markdown",
   "id": "c73471e8",
   "metadata": {},
   "source": [
    "Se o hamiltoniano é dependente do tempo mas $[H_{t},H_{t'}]=\\mathbb{O}\\ \\forall\\ t,t'$ temos que $U_{t}=e^{-\\frac{i}{\\hbar}\\int_{0}^{t}H_{t'}dt'}$. Assim, se escrevemos o estado inicial como $|\\psi_{0}\\rangle=\\sum_{n}c_{n}(t)|E_{n}(t)\\rangle$, com $H_{t}|E_{n}(t)\\rangle=E_{n}(t)|E_{n}(t)\\rangle$, e assumimos que\n",
    "$$H_{t'}|E_{n}(t)\\rangle=E_{n}(t')|E_{n}(t)\\rangle\\ \\forall\\ t,t',$$\n",
    "o estado evoluído pode ser escrito como\n",
    "\\begin{align}\n",
    "|\\psi_{t}\\rangle & = U_{t}|\\psi_{0}\\rangle = \\sum_{n}c_{n}(t)e^{-\\frac{i}{\\hbar}\\int_{0}^{t}H_{t'}dt'}|E_{n}(t)\\rangle \\\\\n",
    "& = \\sum_{n}c_{n}(t)\\Big(\\mathbb{I} + \\Big(-\\frac{i}{\\hbar}\\int_{0}^{t}H_{t'}dt'\\Big) + \\frac{1}{2!}\\Big(-\\frac{i}{\\hbar}\\int_{0}^{t}H_{t'}dt'\\Big)^{2} + \\cdots \\Big)|E_{n}(t)\\rangle \\\\\n",
    "& = \\sum_{n}c_{n}(t)\\Big(1 + \\Big(-\\frac{i}{\\hbar}\\int_{0}^{t}E_{n}(t')dt'\\Big) + \\frac{1}{2!}\\Big(-\\frac{i}{\\hbar}\\int_{0}^{t}E_{n}(t')dt'\\Big)^{2} + \\cdots \\Big)|E_{n}(t)\\rangle \\\\\n",
    "& = \\sum_{n}c_{n}(t)e^{-\\frac{i}{\\hbar}\\int_{0}^{t}E_{n}(t')dt'}|E_{n}(t)\\rangle \\\\\n",
    "& = \\sum_{n}c_{n}(t)e^{i\\theta_{n}(t)}|E_{n}(t)\\rangle,\n",
    "\\end{align}\n",
    "em que definimos a chamada __fase dinâmica__: \n",
    "$$\\theta_{n}(t)=-\\frac{1}{\\hbar}\\int_{0}^{t}E_{n}(t')dt'.$$\n",
    "\n",
    "Substituindo essa expressão na equação de Schrödinger, $$i\\hbar\\partial_{t}|\\psi_{t}\\rangle=H_{t}|\\psi_{t}\\rangle = \\sum_{n}c_{n}(t)e^{i\\theta(t)}E_{n}(t)|E_{n}(t)\\rangle,$$"
   ]
  },
  {
   "cell_type": "markdown",
   "id": "892435df",
   "metadata": {},
   "source": [
    "obteremos (denotamos $\\dot{x}=\\partial_{t}x$)\n",
    "\\begin{align}\n",
    "& i\\hbar \\sum_{n}\\big(\\dot{c}_{n}(t)e^{i\\theta_{n}(t)}|E_{n}(t)\\rangle + c_{n}(t)i\\dot{\\theta}_{n}(t)e^{i\\theta_{n}(t)}|E_{n}(t)\\rangle + c_{n}(t)e^{i\\theta_{n}(t)}|\\dot{E}_{n}(t)\\rangle\\big) \\\\\n",
    "& = i\\hbar \\sum_{n}\\big(\\dot{c}_{n}(t)e^{i\\theta_{n}(t)}|E_{n}(t)\\rangle + c_{n}(t)i\\frac{-E_{n}(t)}{\\hbar}e^{i\\theta_{n}(t)}|E_{n}(t)\\rangle + c_{n}(t)e^{i\\theta_{n}(t)}|\\dot{E}_{n}(t)\\rangle\\big) \\\\\n",
    "&  = \\sum_{n}c_{n}(t)e^{i\\theta(t)}E_{n}(t)|E_{n}(t)\\rangle \\\\\n",
    "& \\therefore\\ \\sum_{n}\\big(\\dot{c}_{n}(t)|E_{n}(t)\\rangle + c_{n}(t)|\\dot{E}_{n}(t)\\rangle\\big)e^{i\\theta_{n}(t)}=0,\n",
    "\\end{align}\n",
    "em que usamos\n",
    "$$\\dot{\\theta}(t) = -\\frac{1}{\\hbar}\\partial_{t}\\int_{0}^{t}E_{n}(t')dt' = -\\frac{E_{n}(t)}{\\hbar}.$$\n",
    "Por conseguinte\n",
    "$$\\sum_{n}\\dot{c}_{n}(t)|E_{n}(t)\\rangle e^{i\\theta_{n}(t)} =- \\sum_{n}c_{n}(t)|\\dot{E}_{n}(t)\\rangle e^{i\\theta_{n}(t)}.$$"
   ]
  },
  {
   "cell_type": "markdown",
   "id": "670a948f",
   "metadata": {},
   "source": [
    "Tomando o produto interno com $|E_{m}(t)\\rangle$ vem que\n",
    "\\begin{align}\n",
    "& \\sum_{n}\\dot{c}_{n}(t)\\langle E_{m}(t)|E_{n}(t)\\rangle e^{i\\theta_{n}(t)} = \\sum_{n}\\dot{c}_{n}(t)\\delta_{m,n}e^{i\\theta_{n}(t)} = \\dot{c}_{m}(t)e^{i\\theta_{m}(t)} \\\\\n",
    "& = - \\sum_{n}c_{n}(t)\\langle E_{m}(t)|\\dot{E}_{n}(t)\\rangle e^{i\\theta_{n}(t)} \\\\\n",
    "& \\therefore\\ \\dot{c}_{m}(t) = - \\sum_{n}c_{n}(t)\\langle E_{m}(t)|\\dot{E}_{n}(t)\\rangle e^{i(\\theta_{n}(t)-\\theta_{m}(t))}. \\hspace{2cm} (\\star)\n",
    "\\end{align}\n",
    "\n",
    "Seguindo, vamos diferenciar a equação de autvalores e autovetores, $H_{t}|E_{n}(t)\\rangle=E_{n}(t)|E_{n}(t)\\rangle$ e tomar o produto interno com $|E_{m}(t)\\rangle$:\n",
    "\\begin{align}\n",
    "& \\dot{H}_{t}|E_{n}(t)\\rangle +  H_{t}|\\dot{E}_{n}(t)\\rangle = \\dot{E}_{n}(t)|E_{n}(t)\\rangle + E_{n}(t)|\\dot{E}_{n}(t)\\rangle \\\\\n",
    "& \\therefore\\ \\langle E_{m}(t)|\\dot{H}_{t}|E_{n}(t)\\rangle +  \\langle E_{m}(t)|H_{t}|\\dot{E}_{n}(t)\\rangle = \\dot{E}_{n}(t)\\langle E_{m}(t)|E_{n}(t)\\rangle + E_{n}(t)\\langle E_{m}(t)|\\dot{E}_{n}(t)\\rangle \\\\\n",
    "& \\therefore\\ \\langle E_{m}(t)|\\dot{H}_{t}|E_{n}(t)\\rangle +  E_{m}(t)\\langle E_{m}(t)|\\dot{E}_{n}(t)\\rangle = \\dot{E}_{n}(t)\\delta_{m,n} + E_{n}(t)\\langle E_{m}(t)|\\dot{E}_{n}(t)\\rangle \\\\\n",
    "& \\therefore\\ \\langle E_{m}(t)|\\dot{H}_{t}|E_{n}(t)\\rangle = \\dot{E}_{n}(t)\\delta_{m,n} + (E_{n}(t)-E_{m}(t))\\langle E_{m}(t)|\\dot{E}_{n}(t)\\rangle \\\\\n",
    "& \\therefore\\ \\langle E_{m}(t)|\\dot{E}_{n}(t)\\rangle = \\frac{\\langle E_{m}(t)|\\dot{H}_{t}|E_{n}(t)\\rangle}{E_{n}(t)-E_{m}(t)} - \\frac{\\dot{E}_{n}(t)\\delta_{m,n}}{E_{n}(t)-E_{m}(t)}.\n",
    "\\end{align}\n",
    "Note que para estas contas estamos supondo a inexistência de degenerescência, i.e., $E_{n}(t)\\ne E_{m}(t)\\ \\forall\\ m\\ne n$."
   ]
  },
  {
   "cell_type": "markdown",
   "id": "c939f71d",
   "metadata": {},
   "source": [
    "Fazendo $m\\ne n$ e substituindo esse último resultado na eq. $(\\star)$, obteremos\n",
    "\\begin{align}\n",
    "\\dot{c}_{m}(t) & = - c_{m}(t)\\langle E_{m}(t)|\\dot{E}_{m}(t)\\rangle - \\sum_{n\\ne m}c_{n}(t)\\langle E_{m}(t)|\\dot{E}_{n}(t)\\rangle e^{i(\\theta_{n}(t)-\\theta_{m}(t))} \\\\\n",
    "& = - c_{m}(t)\\langle E_{m}(t)|\\dot{E}_{m}(t)\\rangle - \\sum_{n}c_{n}(t)\\frac{\\langle E_{m}(t)|\\dot{H}_{t}|E_{n}(t)\\rangle}{E_{n}(t)-E_{m}(t)} e^{i(\\theta_{n}(t)-\\theta_{m}(t))}\n",
    "\\end{align}\n",
    "Agora vamos fazer a __aproximação adiabática__, que é supor que o hamiltoniano varia muito lentamente com o tempo. Mais precisamente, vamos supor que para $m\\ne n$ teremos\n",
    "$$|\\langle E_{m}(t)|\\dot{H}_{t}|E_{n}(t)\\rangle| \\ll |E_{n}(t)-E_{m}(t)|.$$\n",
    "Nesta situação podemos desprezar o 2º termo da equação acima para obter\n",
    "\\begin{align}\n",
    "& \\dot{c}_{m}(t) \\approx - c_{m}(t)\\langle E_{m}(t)|\\dot{E}_{m}(t)\\rangle \\\\\n",
    "& \\therefore\\ c_{m}(t) = c_{m}(0)e^{i\\gamma_{m}(t)},\n",
    "\\end{align}\n",
    "em que definimos a chamada __fase geométrica__:\n",
    "$$\\gamma_{m}(t) = i\\int_{0}^{t}\\langle E_{m}(t')|\\dot{E}_{m}(t')\\rangle dt'.$$"
   ]
  },
  {
   "cell_type": "markdown",
   "id": "67a8c2cf",
   "metadata": {},
   "source": [
    "Podemos verificar que $\\gamma_{m}(t)$ é um número real. Usamos\n",
    "\\begin{align}\n",
    "& 0 = \\partial_{t}(1) = \\partial_{t}\\langle E_{m}(t)|E_{m}(t)\\rangle \\\\\n",
    "& = \\big(\\partial_{t}\\langle E_{m}(t)|\\big)|E_{m}(t)\\rangle + \\langle E_{m}(t)|\\partial_{t}|E_{m}(t)\\rangle \\\\\n",
    "& \\therefore\\ \\big(\\langle E_{m}(t)|\\partial_{t}|E_{m}(t)\\rangle\\big)^{*} = \\big(\\big(\\partial_{t}\\langle E_{m}(t)|\\big)|E_{m}(t)\\rangle\\big) = - \\langle E_{m}(t)|\\partial_{t}|E_{m}(t)\\rangle.\n",
    "\\end{align}\n",
    "Portando $\\langle E_{m}(t')|\\dot{E}_{m}(t')\\rangle$ é um número imaginário puro, o que implica que $\\gamma_{m}(t)$ é um número real.\n",
    "\n",
    "Em particular, se o sistema começa em um certo auto-estado do Hamiltoniano, i.e., se\n",
    "$$|\\psi_{0}\\rangle=|E_{n}(0)\\rangle\\ \\therefore\\ c_{n}(0)=1\\ \\text{e}\\ c_{m\\ne n}=0,$$\n",
    "teremos que\n",
    "$$c_{n}(t)=e^{i\\gamma_{n}(t)}\\ \\text{e}\\ c_{m\\ne n}(t)=0.$$\n",
    "Portanto o estado permanece sendo o autovetor do hamiltoniano com mesmo índice, ganhando somente fases globais:\n",
    "$$|\\psi_{t}\\rangle = e^{i\\gamma_{n}(t)}e^{i\\theta_{n}(t)}|E_{n}(t)\\rangle.$$\n",
    "Com isso, completamos a prova do terorema adiabático, neste caso particular.\n",
    "\n",
    "$\\square$"
   ]
  },
  {
   "cell_type": "markdown",
   "id": "c8e0985c",
   "metadata": {},
   "source": [
    "## Teorema adiabático (caso geral)\n",
    "Messiah pg 745\n",
    "**\n",
    "\n",
    "### Prova\n",
    "**"
   ]
  },
  {
   "cell_type": "markdown",
   "id": "5176463c",
   "metadata": {},
   "source": [
    "### Exemplo\n",
    "Vamos considerar um elétron na origem do referencial sujeito a um campo de amplitude constante $B_{0}$ mas cuja direção gira em um cone com eixo na direção $z$ e frequência angular $\\omega$:\n",
    "$$\\vec{B}_{t} = B_{0}\\big(\\hat{i}\\sin\\alpha\\cos(\\omega t) + \\hat{j}\\sin\\alpha\\sin(\\omega t) + \\hat{k}\\cos\\alpha\\big).$$\n",
    "Para este sistema, o hamiltoniano é\n",
    "\\begin{align}\n",
    "H_{t} & = -\\vec{\\mu}\\cdot\\vec{B}_{t} = \\frac{e}{m_{e}}\\vec{S}\\cdot \\vec{B}_{t} = \\frac{e}{m_{e}}\\frac{\\hbar}{2}\\vec{\\sigma}\\cdot \\vec{B}_{t} \\\\\n",
    "& = \\frac{e\\hbar B_{0}}{2m_{e}}\\big(\\sigma_{x}\\sin\\alpha\\cos(\\omega t) + \\sigma_{y}\\sin\\alpha\\sin(\\omega t) + \\sigma_{z}\\cos\\alpha\\big) \\\\\n",
    "& = \\frac{\\hbar\\omega_{1}}{2}\\begin{bmatrix}\\cos\\alpha & e^{-i\\omega t}\\sin\\alpha \\\\ e^{i\\omega t}\\sin\\alpha& -\\cos\\alpha\\end{bmatrix},\n",
    "\\end{align}\n",
    "em que definimos a frequência de Larmor \n",
    "$$\\omega_{1} := \\frac{eB_{0}}{m_{e}}.$$"
   ]
  },
  {
   "cell_type": "code",
   "execution_count": 12,
   "id": "4e888eec",
   "metadata": {},
   "outputs": [
    {
     "data": {
      "image/png": "[encoded data removed]",
      "text/latex": [
       "$\\displaystyle \\left[\\begin{matrix}\\cos{\\left(\\alpha \\right)} & 1.0 e^{- i \\omega t} \\sin{\\left(\\alpha \\right)}\\\\1.0 e^{i \\omega t} \\sin{\\left(\\alpha \\right)} & - \\cos{\\left(\\alpha \\right)}\\end{matrix}\\right]$"
      ],
      "text/plain": [
       "⎡                        -ⅈ⋅ω⋅t       ⎤\n",
       "⎢     cos(α)        1.0⋅ℯ      ⋅sin(α)⎥\n",
       "⎢                                     ⎥\n",
       "⎢     ⅈ⋅ω⋅t                           ⎥\n",
       "⎣1.0⋅ℯ     ⋅sin(α)       -cos(α)      ⎦"
      ]
     },
     "execution_count": 12,
     "metadata": {},
     "output_type": "execute_result"
    }
   ],
   "source": [
    "al,om,t = symbols('alpha omega t')\n",
    "def H(t):\n",
    "    return pauli(1)*sin(al)*cos(om*t) + pauli(2)*sin(al)*sin(om*t) + pauli(3)*cos(al)\n",
    "simplify(H(t))"
   ]
  },
  {
   "cell_type": "code",
   "execution_count": 17,
   "id": "3f573516",
   "metadata": {},
   "outputs": [
    {
     "data": {
      "image/png": "[encoded data removed]",
      "text/latex": [
       "$\\displaystyle \\left[\\begin{matrix}- 2.0 i \\sin^{2}{\\left(\\alpha \\right)} \\sin{\\left(\\omega \\left(t - t_{1}\\right) \\right)} & 2.0 \\left(e^{- i \\omega t_{1}} - e^{- i \\omega t}\\right) \\sin{\\left(\\alpha \\right)} \\cos{\\left(\\alpha \\right)}\\\\2.0 \\left(e^{i \\omega t} - e^{i \\omega t_{1}}\\right) \\sin{\\left(\\alpha \\right)} \\cos{\\left(\\alpha \\right)} & 2.0 i \\sin^{2}{\\left(\\alpha \\right)} \\sin{\\left(\\omega \\left(t - t_{1}\\right) \\right)}\\end{matrix}\\right]$"
      ],
      "text/plain": [
       "⎡             2                            ⎛ -ⅈ⋅ω⋅t₁    -ⅈ⋅ω⋅t⎞              ⎤\n",
       "⎢   -2.0⋅ⅈ⋅sin (α)⋅sin(ω⋅(t - t₁))     2.0⋅⎝ℯ        - ℯ      ⎠⋅sin(α)⋅cos(α)⎥\n",
       "⎢                                                                            ⎥\n",
       "⎢    ⎛ ⅈ⋅ω⋅t    ⅈ⋅ω⋅t₁⎞                             2                        ⎥\n",
       "⎣2.0⋅⎝ℯ      - ℯ      ⎠⋅sin(α)⋅cos(α)      2.0⋅ⅈ⋅sin (α)⋅sin(ω⋅(t - t₁))     ⎦"
      ]
     },
     "execution_count": 17,
     "metadata": {},
     "output_type": "execute_result"
    }
   ],
   "source": [
    "t1 = symbols('t_1'); simplify(comm(H(t),H(t1)))"
   ]
  },
  {
   "cell_type": "markdown",
   "id": "c80a9d86",
   "metadata": {},
   "source": [
    "Os autovetores deste hamiltoniano são\n",
    "\\begin{align}\n",
    "& |\\chi_{+}(t)\\rangle = \\cos(\\alpha/2)|z_{+}\\rangle + e^{i\\omega t}\\sin(\\alpha/2)|z_{-}\\rangle, \\\\\n",
    "& |\\chi_{-}(t)\\rangle = e^{-i\\omega t}\\sin(\\alpha/2)|z_{+}\\rangle - \\cos(\\alpha/2)|z_{-}\\rangle, \\hspace{1cm} (\\square)\n",
    "\\end{align}\n",
    "e correspondem, respectivamente, aos autovalores\n",
    "$$E_{\\pm}(t)=E_{\\pm} = \\pm \\hbar\\omega_{1}/2.$$\n",
    "\n",
    "Vamos supor que o elétron inicie no estado (spin pra cima na direção de $\\vec{B}(0)$), i.e.,\n",
    "$$|\\psi_{0}\\rangle = |\\chi_{+}(0)\\rangle = \\cos(\\alpha/2)|z_{+}\\rangle + \\sin(\\alpha/2)|z_{-}\\rangle.$$\n",
    "Neste caso, o estado evoluído no tempo é\n",
    "\\begin{align}\n",
    "|\\psi_{t}\\rangle = & \\big(\\cos(\\lambda t/2)-i((\\omega_{1}-\\omega)/\\lambda)\\sin(\\lambda t/2)\\big)\\cos(\\alpha/2)e^{-i\\omega t/2}|z_{+}\\rangle \\\\\n",
    "& + \\big(\\cos(\\lambda t/2)-i((\\omega_{1}+\\omega)/\\lambda)\\sin(\\lambda t/2)\\big)\\sin(\\alpha/2)e^{+i\\omega t/2}|z_{+}\\rangle. \\hspace{1cm} (\\triangle)\n",
    "\\end{align}"
   ]
  },
  {
   "cell_type": "markdown",
   "id": "07b6413d",
   "metadata": {},
   "source": [
    "A probabilidade de transição para o estado \"spin para baixo\" na direção do campo magnético no tempo $t$ é\n",
    "\\begin{align}\n",
    "Pr\\big(\\chi_{+}(0)\\rightarrow \\chi_{-}(t)\\big) = & \\big|\\langle\\chi_{-}(t)|\\psi_{t}\\rangle\\big|^{2} \\\\\n",
    "& \\vdots \\\\\n",
    "& = \\big((\\omega/\\lambda)\\sin\\alpha\\sin(\\lambda t/2)\\big)^{2}, \\hspace{2cm} (\\diamond)\n",
    "\\end{align}\n",
    "em que $\\lambda=\\sqrt{\\omega^{2}+\\omega_{1}^{2}-2\\omega\\omega_{1}\\cos\\alpha}$. A escala de tempo para mudanças do hamiltoniano (tempo externo) é \n",
    "$$T_{e}\\propto \\frac{1}{\\omega}.$$\n",
    "A escala de tempo para mudanças do estado (tempo interno) é \n",
    "$$T_{i}\\propto \\frac{1}{\\omega_{1}}.$$\n",
    "\n",
    "A aproximação adiabática pode ser considerada a grosso modo como \n",
    "$$T_{e}\\gg T_{i}\\ \\therefore\\ \\omega\\ll\\omega_{1}.$$\n",
    "Nesse limite temos que\n",
    "$$\\lambda \\approx \\omega_{1}.$$\n",
    "Assim\n",
    "$$Pr\\big(\\chi_{+}(0)\\rightarrow \\chi_{-}(t)\\big) \\propto (\\omega/\\lambda)^{2} \\approx 0.$$\n",
    "\n",
    "Por outro lado, se $\\omega \\gg \\omega_{1}$, a aproximação adiabática não vale e o sistema oscila/pula entre os estados $|\\chi_{+}(t)\\rangle$ e $|\\chi_{-}(t)\\rangle$."
   ]
  },
  {
   "cell_type": "markdown",
   "id": "47f0ed53",
   "metadata": {},
   "source": [
    "## Fase de Berry\n",
    "A fase geométrica \n",
    "$$\\gamma_{n}(t)=i\\int_{0}^{t}\\langle E_{n}(t')|\\dot{E}_{n}(t')\\rangle dt'$$\n",
    "ganhou importância com o trabalho de Michael Berry (https://doi.org/10.1098/rspa.1984.0023), e hoje também é chamada de fase de Berry. \n",
    "\n",
    "Para estudar mais a fundo esta fase, vamos considerar que a dependência temporal do hamiltoniano pode ser escrita em termos de um vetor de parâmetros $\\vec{R}_{t}$. Aqui consideraremos somente o caso em que $\\vec{R}$ é um vetor de $\\mathbb{R}^{3}$, para evitar complicações com o teorema de Stokes. Teremos então que \n",
    "$$H_{t} = H(\\vec{R}_{t}) \\text{, } E_{n}(t)=E_{n}(\\vec{R}_{t})\\text{ e } |E_{n}(t)\\rangle=|E_{n}(\\vec{R}_{t})\\rangle.$$\n",
    "Assim\n",
    "\\begin{align}\n",
    "|\\dot{E}_{m}(t')\\rangle & = \\partial_{t'}|E_{n}(\\vec{R}_{t'})\\rangle  \\equiv \\frac{d}{dt'}|E_{n}(\\vec{R}_{t'})\\rangle \\\\\n",
    "& = \\sum_{j=1}^{3}\\partial_{X_{j}}|E_{n}(\\vec{R}_{t'})\\rangle\\frac{d X_{j}}{d t'} \\\\\n",
    "& = \\vec{\\nabla}_{\\vec{R}}|E_{n}(\\vec{R}_{t'})\\rangle\\cdot \\frac{d\\vec{R}_{t'}}{dt'},\n",
    "\\end{align}\n",
    "em que usamos $\\vec{R}_{t'}=\\big(X_{1}(t'),X_{2}(t'),X_{3}(t')\\big)$. Note que os operadores diferenciais são aplicados componente a componente em um ket."
   ]
  },
  {
   "cell_type": "markdown",
   "id": "5c9c27d3",
   "metadata": {},
   "source": [
    "Com isso, podemos escrever\n",
    "\\begin{align}\n",
    "\\gamma_{n}(t) & = i\\int_{0}^{t}\\langle E_{n}(\\vec{R}_{t'})|\\vec{\\nabla}_{\\vec{R}}|E_{n}(\\vec{R}_{t'})\\rangle\\cdot \\frac{d\\vec{R}_{t'}}{dt'} dt' \\\\\n",
    "& = i\\int_{\\vec{R}_{0}}^{\\vec{R}_{t}}\\langle E_{n}(\\vec{R}_{t'})|\\vec{\\nabla}_{\\vec{R}}|E_{n}(\\vec{R}_{t'})\\rangle\\cdot d\\vec{R}_{t'}.\n",
    "\\end{align}\n",
    "Se o intervalo de tempo $t$ é tal que o parâmetro volta ao seu valor inicial, i.e., se\n",
    "$$\\vec{R}_{t}:=\\vec{R}_{0},$$\n",
    "e definimos um __potencial vetor generalizado__\n",
    "$$\\vec{\\mathcal{A}}_{n}(\\vec{R}_{t'}) := i\\langle E_{n}(\\vec{R}_{t'})|\\vec{\\nabla}_{\\vec{R}}|E_{n}(\\vec{R}_{t'})\\rangle,$$"
   ]
  },
  {
   "cell_type": "markdown",
   "id": "f3395917",
   "metadata": {},
   "source": [
    "teremos que a fase de Berry para um caminho fechado $C$ no espaço de parâmetros $\\vec{R}_{t'}$ é\n",
    "\\begin{align}\n",
    "\\gamma_{n}(C) & = \\oint_{C}i\\langle E_{n}(\\vec{R}_{t'})|\\vec{\\nabla}_{\\vec{R}}|E_{n}(\\vec{R}_{t'})\\rangle\\cdot d\\vec{R}_{t'} \\\\\n",
    "& =: \\oint_{C} \\vec{\\mathcal{A}}_{n}(\\vec{R}_{t'})\\cdot d\\vec{R}_{t'} \\\\\n",
    "& = \\int_{S}\\vec{\\nabla}_{\\vec{R}}\\times \\vec{\\mathcal{A}}_{n}(\\vec{R}_{t'})\\cdot d\\vec{a} \\\\\n",
    "& =: \\int_{S}\\vec{\\mathcal{B}}_{n}(\\vec{R}_{t'})\\cdot d\\vec{a},\n",
    "\\end{align}\n",
    "que pode ser identificada como o fluxo através da superfície $S$, delimitada pelo caminho $C$, no espaço de parâmetros $\\vec{R}$, de um __campo vetorial generalizado__\n",
    "$$\\vec{\\mathcal{B}}_{n}(\\vec{R}) := \\vec{\\nabla}_{\\vec{R}}\\times \\vec{\\mathcal{A}}_{n}(\\vec{R}).$$\n",
    "Acima, na passagem da 2ª para a 3ª igualdade, usamos o teorema de Stokes. Vale observar que, assim como fizemos para $\\gamma_{n}(t)$, podemos verificar que $\\vec{\\mathcal{A}}_{n}(\\vec{R})$ e $\\vec{\\mathcal{B}}_{n}(\\vec{R})$ são vetores com componentes reais."
   ]
  },
  {
   "cell_type": "markdown",
   "id": "7148bf7e",
   "metadata": {},
   "source": [
    "Podemos verificar que __$\\gamma_{n}(t)$ depende somente da geometria do caminho $C$__ percorrido pelo vetor de parâmetros $\\vec{R}(t)$ (por isso o nome fase geométrica). Consideremos que ao percorrer o caminho $C$ os autovetores do hamiltoniano recebam um fator de fase que depende do caminho, i.e.,\n",
    "$$|E_{n}(\\vec{R}_{t})\\rangle \\rightarrow e^{i\\chi(\\vec{R})}|E_{n}(\\vec{R}_{t})\\rangle,$$\n",
    "com $\\chi(\\vec{R})$ sendo uma função escalar qualquer. Temos assim que\n",
    "\\begin{align}\n",
    "\\vec{\\nabla}_{\\vec{R}}|E_{n}(\\vec{R}_{t'})\\rangle & \\rightarrow \\vec{\\nabla}_{\\vec{R}}\\big(e^{i\\chi(\\vec{R})}|E_{n}(\\vec{R}_{t'})\\rangle\\big) \\\\\n",
    "& = i\\big(\\vec{\\nabla}_{\\vec{R}}\\chi(\\vec{R})\\big)e^{i\\chi(\\vec{R})}|E_{n}(\\vec{R}_{t'})\\rangle + e^{i\\chi(\\vec{R})}\\vec{\\nabla}_{\\vec{R}}|E_{n}(\\vec{R}_{t'})\\rangle.\n",
    "\\end{align}\n",
    "Com isso, o novo potencial vetor generalizado será\n",
    "\\begin{align}\n",
    "\\vec{\\mathcal{A}}_{n}(\\vec{R}) & \\rightarrow i\\langle E_{n}(\\vec{R}_{t'})|e^{-i\\chi(\\vec{R})}\\vec{\\nabla}_{\\vec{R}}\\big(e^{i\\chi(\\vec{R})}|E_{n}(\\vec{R}_{t'})\\rangle\\big) \\\\\n",
    "& = i\\langle E_{n}(\\vec{R}_{t'})|e^{-i\\chi(\\vec{R})}\\Big(i\\big(\\vec{\\nabla}_{\\vec{R}}\\chi(\\vec{R})\\big)e^{i\\chi(\\vec{R})}|E_{n}(\\vec{R}_{t'})\\rangle + e^{i\\chi(\\vec{R})}\\vec{\\nabla}_{\\vec{R}}|E_{n}(\\vec{R}_{t'})\\rangle\\Big) \\\\\n",
    "& = - \\vec{\\nabla}_{\\vec{R}}\\chi(\\vec{R}) + i\\langle E_{n}(\\vec{R}_{t'})|\\vec{\\nabla}_{\\vec{R}}|E_{n}(\\vec{R}_{t'})\\rangle \\\\\n",
    "& = \\vec{\\mathcal{A}}_{n}(\\vec{R}) - \\vec{\\nabla}_{\\vec{R}}\\chi(\\vec{R}).\n",
    "\\end{align}"
   ]
  },
  {
   "cell_type": "markdown",
   "id": "368ac166",
   "metadata": {},
   "source": [
    "Por conseguinte, o campo vetorial generalizado passa a ser\n",
    "\\begin{align}\n",
    "\\vec{\\mathcal{B}}_{n}(\\vec{R}) & \\rightarrow \\vec{\\nabla}_{\\vec{R}}\\times\\big(\\vec{\\mathcal{A}}_{n}(\\vec{R}) - \\vec{\\nabla}_{\\vec{R}}\\chi(\\vec{R})\\big) \\\\\n",
    "& = \\vec{\\nabla}_{\\vec{R}}\\times\\vec{\\mathcal{A}}_{n}(\\vec{R}) - \\vec{\\nabla}_{\\vec{R}}\\times\\vec{\\nabla}_{\\vec{R}}\\chi(\\vec{R})\\big) \\\\\n",
    "& = \\vec{\\nabla}_{\\vec{R}}\\times\\vec{\\mathcal{A}}_{n}(\\vec{R}) - 0 \\\\\n",
    "& = \\vec{\\mathcal{B}}_{n}(\\vec{R}).\n",
    "\\end{align}\n",
    "Isto implica que a fase geométrica não muda com a mudança de fase $e^{i\\chi(\\vec{R})}$ dos autovetores de energia:\n",
    "$$\\gamma_{n}(C) \\xrightarrow[]{|E_{n}(\\vec{R}_{t})\\rangle \\rightarrow e^{i\\chi(\\vec{R})}|E_{n}(\\vec{R}_{t})\\rangle} \\gamma_{n}(C),$$\n",
    "como queríamos demonstrar."
   ]
  },
  {
   "cell_type": "markdown",
   "id": "04956f85",
   "metadata": {},
   "source": [
    "__Equação fundamental para $\\gamma_{n}(C)$__ <br>\n",
    "Para duas funções arbitrárias $f$ e $g$ de $\\mathbb{R}^{3}$, pode-se verificar que $\\vec{\\nabla}\\times(f\\vec{\\nabla}g) = (\\vec{\\nabla}f)\\times(\\vec{\\nabla}g)$. Usando este resultado, podemos escrever\n",
    "\\begin{align}\n",
    "\\vec{\\mathcal{B}}_{n}(\\vec{R}) &= \\vec{\\nabla}_{\\vec{R}}\\times \\vec{\\mathcal{A}}_{n}(\\vec{R}) = \\vec{\\nabla}_{\\vec{R}}\\times i\\langle E_{n}(\\vec{R}_{t'})|\\vec{\\nabla}_{\\vec{R}}|E_{n}(\\vec{R}_{t'})\\rangle \\\\\n",
    "& = i\\big(\\vec{\\nabla}_{\\vec{R}}\\langle E_{n}(\\vec{R}_{t'})|\\big)\\times\\big(\\vec{\\nabla}_{\\vec{R}}|E_{n}(\\vec{R}_{t'})\\rangle\\big) \\\\\n",
    "& = i\\big(\\vec{\\nabla}_{\\vec{R}}\\langle E_{n}(\\vec{R}_{t'})|\\big)\\sum_{m}|E_{m}(\\vec{R}_{t'})\\rangle\\langle E_{m}(\\vec{R}_{t'})|\\times\\big(\\vec{\\nabla}_{\\vec{R}}|E_{n}(\\vec{R}_{t'})\\rangle\\big) \\\\\n",
    "& = i\\sum_{m}\\big(\\vec{\\nabla}_{\\vec{R}}\\langle E_{n}(\\vec{R}_{t'})|\\big)|E_{m}(\\vec{R}_{t'})\\rangle\\times\\langle E_{m}(\\vec{R}_{t'})|\\vec{\\nabla}_{\\vec{R}}|E_{n}(\\vec{R}_{t'})\\rangle \\\\\n",
    "& = i\\sum_{m\\ne n}\\big(\\vec{\\nabla}_{\\vec{R}}\\langle E_{n}(\\vec{R}_{t'})|\\big)|E_{m}(\\vec{R}_{t'})\\rangle\\times\\langle E_{m}(\\vec{R}_{t'})|\\vec{\\nabla}_{\\vec{R}}|E_{n}(\\vec{R}_{t'})\\rangle,\n",
    "\\end{align}\n",
    "pois\n",
    "\\begin{align}\n",
    "& \\vec{\\nabla}_{\\vec{R}}\\big(\\langle E_{n}(\\vec{R}_{t'})|E_{n}(\\vec{R}_{t'})\\rangle\\big) = \\vec{\\nabla}_{\\vec{R}}(1) = 0 \\\\\n",
    "& = \\big(\\vec{\\nabla}_{\\vec{R}}\\langle E_{n}(\\vec{R}_{t'})|\\big)|E_{n}(\\vec{R}_{t'})\\rangle + \\langle E_{n}(\\vec{R}_{t'})|\\big(\\vec{\\nabla}_{\\vec{R}}|E_{n}(\\vec{R}_{t'})\\rangle\\big) \\\\\n",
    "& \\therefore \\big(\\vec{\\nabla}_{\\vec{R}}\\langle E_{n}(\\vec{R}_{t'})|\\big)|E_{n}(\\vec{R}_{t'})\\rangle = - \\langle E_{n}(\\vec{R}_{t'})|\\big(\\vec{\\nabla}_{\\vec{R}}|E_{n}(\\vec{R}_{t'})\\rangle\\big) \\\\\n",
    "& \\therefore \\big(\\vec{\\nabla}_{\\vec{R}}\\langle E_{n}(\\vec{R}_{t'})|\\big)|E_{n}(\\vec{R}_{t'})\\rangle\\times\\langle E_{n}(\\vec{R}_{t'})|\\vec{\\nabla}_{\\vec{R}}|E_{n}(\\vec{R}_{t'})\\rangle \\\\\n",
    "& = -\\langle E_{n}(\\vec{R}_{t'})|\\vec{\\nabla}_{\\vec{R}}|E_{n}(\\vec{R}_{t'})\\rangle\\times\\langle E_{n}(\\vec{R}_{t'})|\\vec{\\nabla}_{\\vec{R}}|E_{n}(\\vec{R}_{t'})\\rangle = 0.\n",
    "\\end{align}"
   ]
  },
  {
   "cell_type": "markdown",
   "id": "9665a0ee",
   "metadata": {},
   "source": [
    "Tomando o gradiente de $H(\\vec{R}_{t'})|E_{n}(\\vec{R}_{t'})\\rangle=E_{n}(\\vec{R}_{t'})|E_{n}(\\vec{R}_{t'})\\rangle$, obtemos\n",
    "\\begin{align}\n",
    "& \\big(\\vec{\\nabla}_{\\vec{R}}H(\\vec{R}_{t'})\\big)|E_{n}(\\vec{R}_{t'})\\rangle + H(\\vec{R}_{t'})\\big(\\vec{\\nabla}_{\\vec{R}}|E_{n}(\\vec{R}_{t'})\\rangle\\big) \\\\\n",
    "& = \\big(\\vec{\\nabla}_{\\vec{R}}E_{n}(\\vec{R}_{t'})\\big)|E_{n}(\\vec{R}_{t'})\\rangle + E_{n}(\\vec{R}_{t'})\\big(\\vec{\\nabla}_{\\vec{R}}|E_{n}(\\vec{R}_{t'})\\rangle\\big).\n",
    "\\end{align}\n",
    "Agora, para $m\\ne n$, tomamos o produto interno de $|E_{m}(\\vec{R}_{t'})\\rangle$ com esta última equação:\n",
    "\\begin{align}\n",
    "& \\langle E_{m}(\\vec{R}_{t'})|\\big(\\vec{\\nabla}_{\\vec{R}}H(\\vec{R}_{t'})\\big)|E_{n}(\\vec{R}_{t'})\\rangle + \\langle E_{m}(\\vec{R}_{t'})|H(\\vec{R}_{t'})\\big(\\vec{\\nabla}_{\\vec{R}}|E_{n}(\\vec{R}_{t'})\\rangle\\big) \\\\\n",
    "& = \\langle E_{m}(\\vec{R}_{t'})|\\big(\\vec{\\nabla}_{\\vec{R}}E_{n}(\\vec{R}_{t'})\\big)|E_{n}(\\vec{R}_{t'})\\rangle + \\langle E_{m}(\\vec{R}_{t'})|E_{n}(\\vec{R}_{t'})\\big(\\vec{\\nabla}_{\\vec{R}}|E_{n}(\\vec{R}_{t'})\\rangle\\big) \\\\\n",
    "& \\therefore \\langle E_{m}(\\vec{R}_{t'})|\\big(\\vec{\\nabla}_{\\vec{R}}H(\\vec{R}_{t'})\\big)|E_{n}(\\vec{R}_{t'})\\rangle + E_{m}(\\vec{R}_{t'})\\langle E_{m}(\\vec{R}_{t'})|\\big(\\vec{\\nabla}_{\\vec{R}}|E_{n}(\\vec{R}_{t'})\\rangle\\big) \\\\\n",
    "& = \\big(\\vec{\\nabla}_{\\vec{R}}E_{n}(\\vec{R}_{t'})\\big)\\langle E_{m}(\\vec{R}_{t'})|E_{n}(\\vec{R}_{t'})\\rangle + E_{n}(\\vec{R}_{t'})\\langle E_{m}(\\vec{R}_{t'})|\\big(\\vec{\\nabla}_{\\vec{R}}|E_{n}(\\vec{R}_{t'})\\rangle\\big) \\\\\n",
    "& \\therefore \\langle E_{m}(\\vec{R}_{t'})|\\big(\\vec{\\nabla}_{\\vec{R}}|E_{n}(\\vec{R}_{t'})\\rangle\\big) = \\frac{\\langle E_{m}(\\vec{R}_{t'})|\\big(\\vec{\\nabla}_{\\vec{R}}H(\\vec{R}_{t'})\\big)|E_{n}(\\vec{R}_{t'})\\rangle}{E_{n}(\\vec{R}_{t'})-E_{m}(\\vec{R}_{t'})}.\n",
    "\\end{align}"
   ]
  },
  {
   "cell_type": "markdown",
   "id": "197f2639",
   "metadata": {},
   "source": [
    "Vem assim que\n",
    "\\begin{align}\n",
    "\\vec{\\mathcal{B}}_{n}(\\vec{R}) & = i\\sum_{m\\ne n}\\big(\\langle E_{m}(\\vec{R}_{t'})|\\vec{\\nabla}_{\\vec{R}}|E_{n}(\\vec{R}_{t'})\\rangle\\big)^{*}\\times\\langle E_{m}(\\vec{R}_{t'})|\\vec{\\nabla}_{\\vec{R}}|E_{n}(\\vec{R}_{t'})\\rangle \\\\\n",
    "& = i\\sum_{m\\ne n}\\frac{\\big(\\langle E_{m}(\\vec{R}_{t'})|\\big(\\vec{\\nabla}_{\\vec{R}}H(\\vec{R}_{t'})\\big)|E_{n}(\\vec{R}_{t'})\\rangle\\big)^{*}}{\\big(E_{n}(\\vec{R}_{t'})-E_{m}(\\vec{R}_{t'})\\big)^{*}}\\times\\frac{\\langle E_{m}(\\vec{R}_{t'})|\\big(\\vec{\\nabla}_{\\vec{R}}H(\\vec{R}_{t'})\\big)|E_{n}(\\vec{R}_{t'})\\rangle}{E_{n}(\\vec{R}_{t'})-E_{m}(\\vec{R}_{t'})} \\\\\n",
    "& = i\\sum_{m\\ne n}\\frac{\\langle E_{n}(\\vec{R}_{t'})|\\big(\\vec{\\nabla}_{\\vec{R}}H(\\vec{R}_{t'})\\big)|E_{m}(\\vec{R}_{t'})\\rangle\\times\\langle E_{m}(\\vec{R}_{t'})|\\big(\\vec{\\nabla}_{\\vec{R}}H(\\vec{R}_{t'})\\big)|E_{n}(\\vec{R}_{t'})\\rangle}{\\big(E_{n}(\\vec{R}_{t'})-E_{m}(\\vec{R}_{t'})\\big)^{2}}\n",
    "\\end{align}\n",
    "Com isso a fase de Berry fica escrita como\n",
    "$$\\gamma_{n}(C) = \\int_{S}i\\sum_{m\\ne n}\\frac{\\langle E_{n}(\\vec{R}_{t'})|\\big(\\vec{\\nabla}_{\\vec{R}}H(\\vec{R}_{t'})\\big)|E_{m}(\\vec{R}_{t'})\\rangle\\times\\langle E_{m}(\\vec{R}_{t'})|\\big(\\vec{\\nabla}_{\\vec{R}}H(\\vec{R}_{t'})\\big)|E_{n}(\\vec{R}_{t'})\\rangle}{\\big(E_{n}(\\vec{R}_{t'})-E_{m}(\\vec{R}_{t'})\\big)^{2}}\\cdot d\\vec{a}.$$\n",
    "Segundo Berry, essa equação contém o seu principal resultado."
   ]
  },
  {
   "cell_type": "markdown",
   "id": "b4aa203e",
   "metadata": {},
   "source": [
    "### Exemplo: Fase de Berry para spin 1/2\n",
    "Consideremos novamente uma partícula de spin 1/2 sujeita a um campo magnético que varia lentamente com o tempo, como no último exemplo. No regime adiabático, $\\omega\\ll \\omega_{1}$, temos que\n",
    "\\begin{align}\n",
    "\\lambda & = \\sqrt{\\omega^{2}+\\omega_{1}^{2}-2\\omega\\omega_{1}\\cos\\alpha} = \\omega_{1}\\sqrt{1-2(\\omega/\\omega_{1})\\cos\\alpha} \\\\\n",
    "& \\approx \\omega_{1}\\big(1-(1/2)2(\\omega/\\omega_{1})\\cos\\alpha\\big) = \\omega_{1} - \\omega\\cos\\alpha.\n",
    "\\end{align}"
   ]
  },
  {
   "cell_type": "code",
   "execution_count": 9,
   "id": "13b973a5",
   "metadata": {},
   "outputs": [
    {
     "data": {
      "image/png": "[encoded data removed]",
      "text/latex": [
       "$\\displaystyle 1 - \\frac{x}{2} - \\frac{x^{2}}{8} - \\frac{x^{3}}{16} - \\frac{5 x^{4}}{128} - \\frac{7 x^{5}}{256} + O\\left(x^{6}\\right)$"
      ],
      "text/plain": [
       "         2    3      4      5        \n",
       "    x   x    x    5⋅x    7⋅x     ⎛ 6⎞\n",
       "1 - ─ - ── - ── - ──── - ──── + O⎝x ⎠\n",
       "    2   8    16   128    256         "
      ]
     },
     "execution_count": 9,
     "metadata": {},
     "output_type": "execute_result"
    }
   ],
   "source": [
    "x = symbols('x'); series(sqrt(1-x))"
   ]
  },
  {
   "cell_type": "markdown",
   "id": "0376086b",
   "metadata": {},
   "source": [
    "Das eqs. $(\\square)$, pode-se escrever\n",
    "\\begin{align}\n",
    "& |z_{+}\\rangle = \\cos(\\alpha/2)|\\chi_{+}(t)\\rangle + e^{i\\omega t}\\sin(\\alpha/2)|\\chi_{-}(t)\\rangle, \\\\\n",
    "& |z_{-}\\rangle = e^{-i\\omega t}\\sin(\\alpha/2)|\\chi_{+}(t)\\rangle - \\cos(\\alpha/2)|\\chi_{-}(t)\\rangle.\n",
    "\\end{align}\n",
    "Com isso, o estado evoluído da eq. $(\\triangle)$ pode ser escrito como\n",
    "\\begin{align}\n",
    "|\\psi_{t}\\rangle = & \\big(\\cos(\\lambda t/2)-i((\\omega_{1}-\\omega)/\\lambda)\\sin(\\lambda t/2)\\big)\\cos(\\alpha/2)e^{-i\\omega t/2}\\big(\\cos(\\alpha/2)|\\chi_{+}(t)\\rangle + e^{i\\omega t}\\sin(\\alpha/2)|\\chi_{-}(t)\\rangle\\big) \\\\\n",
    "& + \\big(\\cos(\\lambda t/2)-i((\\omega_{1}+\\omega)/\\lambda)\\sin(\\lambda t/2)\\big)\\sin(\\alpha/2)e^{+i\\omega t/2}\\big(e^{-i\\omega t}\\sin(\\alpha/2)|\\chi_{+}(t)\\rangle - \\cos(\\alpha/2)|\\chi_{-}(t)\\rangle\\big) \\\\\n",
    " = & \\big(\\cos(\\lambda t/2)-i((\\omega_{1}-\\omega\\cos\\alpha)/\\lambda)\\sin(\\lambda t/2)\\big)e^{-i\\omega t/2}|\\chi_{+}(t)\\rangle \\\\\n",
    " & + \\big(0-i((0-\\omega\\sin\\alpha)/\\lambda)\\sin(\\lambda t/2)\\big)e^{i\\omega t/2}|\\chi_{-}(t)\\rangle \\\\\n",
    " \\approx & e^{-i(\\omega_{1} - \\omega\\cos\\alpha)t/2}e^{-i\\omega t/2}|\\chi_{+}(t)\\rangle + i\\frac{\\omega}{\\omega_{1}}\\sin\\alpha\\sin(\\omega_{1} t/2)\\big)e^{i\\omega t/2}|\\chi_{-}(t)\\rangle \\\\\n",
    " \\approx & e^{-i(\\omega_{1} - \\omega\\cos\\alpha)t/2}e^{-i\\omega t/2}|\\chi_{+}(t)\\rangle + 0\\\\\n",
    " =& e^{i\\gamma_{+}(t)}e^{i\\theta_{+}(t)}|\\chi_{+}(t)\\rangle.\n",
    "\\end{align}"
   ]
  },
  {
   "cell_type": "markdown",
   "id": "bb57925b",
   "metadata": {},
   "source": [
    "Como $E_{+}(t)=\\hbar\\omega_{1}/2$, a fase dinâmica é\n",
    "$$\\theta_{+}(t) = -\\frac{1}{\\hbar}\\int_{0}^{t}E_{+}(t')dt' = -\\omega_{1}t/2.$$\n",
    "Assim, a fase geométrica é identificada com\n",
    "$$\\gamma_{+}(t) = (\\cos\\alpha-1)\\omega t/2.$$\n",
    "Para uma precessão completa do campo magnético, $t=2\\pi/\\omega$, a fase de Berry tem o seguinte valor\n",
    "$$\\gamma_{+}(t=2\\pi/\\omega) = \\gamma(C) = (\\cos\\alpha-1)\\pi.$$\n",
    "\n",
    "Vamos considerar o mesmo exemplo, mas agora com um campo magnético que percorre uma __curva arbitrária__. O estado para qualquer tempo pode ser escrito na forma geral\n",
    "$$|\\chi_{+}\\rangle = \\cos(\\theta/2)|z_{+}\\rangle + e^{i\\phi}\\sin(\\theta/2)|z_{-}\\rangle.$$\n",
    "Usando o operador nabla em coordenadas esféricas, \n",
    "$$\\vec{\\nabla} = \\hat{r}\\partial_{r}+\\hat{\\theta}r^{-1}\\partial_{\\theta} + \\hat{\\phi}r^{-1}\\sin^{-1}\\theta\\partial_{\\phi},$$\n",
    "teremos que\n",
    "\\begin{align}\n",
    "\\vec{\\nabla}|\\chi_{+}\\rangle & = \\vec{\\nabla}\\big(\\cos(\\theta/2)\\big)|z_{+}\\rangle + \\vec{\\nabla}\\big(e^{i\\phi}\\sin(\\theta/2)\\big)|z_{-}\\rangle \\\\\n",
    "& = \\big(0-\\hat{\\theta}r^{-1}\\sin(\\theta/2)(1/2) + 0\\big)|z_{+}\\rangle + \\big(0 + \\hat{\\theta}r^{-1}e^{i\\phi}\\cos(\\theta/2)(1/2) + \\hat{\\phi}r^{-1}\\sin^{-1}\\theta e^{i\\phi}i\\sin(\\theta/2)\\big)|z_{-}\\rangle \\\\\n",
    "& = -\\hat{\\theta}\\frac{\\sin(\\theta/2)}{2r}|z_{+}\\rangle + \\frac{e^{i\\phi}}{r}\\Big(\\hat{\\theta}\\cos(\\theta/2)/2 + \\hat{\\phi}i\\sin^{-1}(\\theta)\\sin(\\theta/2)\\big)|z_{-}\\rangle.\n",
    "\\end{align}"
   ]
  },
  {
   "cell_type": "markdown",
   "id": "1c6d8977",
   "metadata": {},
   "source": [
    "Assim \n",
    "\\begin{align}\n",
    "\\vec{\\mathcal{A}} & = i\\langle\\chi_{+}|\\vec{\\nabla}|\\chi_{+}\\rangle \\\\\n",
    "& = -i\\hat{\\theta}\\frac{\\sin(\\theta/2)\\cos(\\theta/2)}{2r} + i\\frac{1}{r}\\Big(\\hat{\\theta}\\sin(\\theta/2)\\cos(\\theta/2)/2 + \\hat{\\phi}i\\sin^{-1}(\\theta)\\sin^{2}(\\theta/2)\\big) \\\\\n",
    " & = -i\\hat{\\theta}\\frac{\\sin(\\theta)}{4r} + i\\frac{1}{r}\\Big(\\hat{\\theta}\\sin(\\theta)/4 + \\hat{\\phi}i\\sin^{-1}(\\theta)\\sin^{2}(\\theta/2)\\big) \\\\\n",
    "& = -\\hat{\\phi}\\frac{\\sin^{2}(\\theta/2)}{r\\sin\\theta}.\n",
    "\\end{align}\n",
    "Usando o rotacional em coordenadas esféricas, \n",
    "\\begin{align}\n",
    "\\vec{\\nabla}\\times\\vec{A} = & r^{-1}\\sin^{-1}\\theta\\big(\\partial_{\\theta}(A_{\\phi}\\sin\\theta)-\\partial_{\\phi}A_{\\theta}\\big)\\hat{r} + r^{-1}\\big(\\sin^{-1}\\theta\\partial_{\\phi}A_{r}-\\partial_{r}(rA_{\\phi})\\big)\\hat{\\theta} \\\\\n",
    "& + r^{-1}\\big(\\partial_{r}(rA_{\\theta})-\\partial_{\\theta}A_{r}\\big)\\hat{\\phi},\n",
    "\\end{align}\n",
    "teremos que\n",
    "\\begin{align}\n",
    "\\vec{\\mathcal{B}} & = \\vec{\\nabla}\\times\\vec{\\mathcal{A}} \\\\\n",
    "& = -\\frac{1}{r\\sin\\theta}\\frac{\\partial}{\\partial \\theta}\\Big(\\sin\\theta  \\frac{\\sin^{2}(\\theta/2)}{r\\sin\\theta}\\Big)\\hat{r}  + 0\\hat{\\theta} + 0\\hat{\\phi} \\\\\n",
    " & = -\\frac{1}{\\sin\\theta}\\Big(2\\sin(\\theta/2)\\cos(\\theta/2)(1/2)\\Big)\\frac{1}{r^{2}}\\hat{r}  \\\\\n",
    " & = -\\frac{1}{2r^{2}}\\hat{r}.\n",
    "\\end{align}"
   ]
  },
  {
   "cell_type": "markdown",
   "id": "ec68bc82",
   "metadata": {},
   "source": [
    "Com isso, vem que\n",
    "\\begin{align}\n",
    "\\gamma_{+}(C) & = \\int_{S}\\vec{\\mathcal{B}}\\cdot d\\vec{a} = -\\int_{S}\\frac{1}{2r^{2}}\\hat{r}\\cdot r^{2}d\\Omega\\hat{r} \\\\\n",
    "& = -\\frac{\\Omega}{2},\n",
    "\\end{align}\n",
    "em que $\\Omega$ é o ângulo sólido subentendido pelo vetor campo magnético em torno da origem. Portanto a fase de Barry é proporcional ao ângulo sólido transcorrido pelo vetor de parâmetros.\n",
    "\n",
    "Deste resultado geral, podemos obter o resultado particular acima, pois\n",
    "\\begin{align}\n",
    "\\int d\\Omega & = \\int_{0}^{2\\pi}\\int_{0}^{\\alpha}\\sin\\theta d\\theta d\\phi = 2\\pi\\big(-\\cos\\theta\\big)_{0}^{\\alpha} \\\\\n",
    "& = 2\\pi(-\\cos\\alpha+1).\n",
    "\\end{align}\n",
    "Assim\n",
    "$$\\gamma_{+}(C) = -\\frac{2\\pi(-\\cos\\alpha+1)}{2} = \\pi(\\cos\\alpha-1).$$"
   ]
  },
  {
   "cell_type": "markdown",
   "id": "d20d33b9",
   "metadata": {},
   "source": [
    "## Efeito Aharonov-Bohm\n",
    "\n",
    "Campos elétrico e magnético,\n",
    "$$\\vec{E}=-\\vec{\\nabla}\\Phi-\\partial_{t}\\vec{A} \\text{ e } \\vec{B}=\\vec{\\nabla}\\times\\vec{A},$$\n",
    "não mudam por transformações de calibre (TC),\n",
    "$$\\Phi\\rightarrow\\Phi'=\\Phi-\\partial_{t}\\chi \\text{ e } \\vec{A}\\rightarrow\\vec{A}'=\\vec{A}+\\vec{\\nabla}\\chi,$$\n",
    "com $\\chi=\\chi(\\vec{r},t)$ sendo uma função escalar qualquer. Isso implica na invariância das leis físicas (equações de Maxwell mais força de Lorentz) sob TC, o que indica que trabalhar com os potenciais $\\Phi$ e $\\vec{A}$ pode ser matematicamente conveniente, mas não tem importância do ponto de vista Físico.\n",
    "\n",
    "No caso quântico, vimos, ao estudar o Efeito Stark, que a equação de Schrödinger para um quanton de carga elétrica $q$ e massa $m$ é invariante por TC, i.e., \n",
    "$$\\Big(\\frac{1}{2m}\\big(-i\\hbar\\vec{\\nabla} -q\\vec{A}\\big)^{2} + q\\Phi\\Big)\\Psi = i\\hbar\\partial_{t}\\Psi \\rightarrow \\Big(\\frac{1}{2m}\\big(-i\\hbar\\vec{\\nabla} -q\\vec{A}'\\big)^{2} + q\\Phi'\\Big)\\Psi' = i\\hbar\\partial_{t}\\Psi',$$\n",
    "com a função de onda ganhando apenas uma fase global \n",
    "$$\\Psi \\rightarrow \\Psi' = e^{iq\\chi/\\hbar}\\Psi.$$\n",
    "Embora a equação de Schrödinger (EqS) seja invariante por TC e essa mudança não mude probabilidades, Yakir Aharonov e David Bohm mostraram que TC podem afetar o comportamento quântico de um sistema mesmo em regiões do espaço com campos elétrico e magnético nulos."
   ]
  },
  {
   "cell_type": "markdown",
   "id": "fcb90611",
   "metadata": {},
   "source": [
    "#### Energia dependente de potencias onde os campos são nulos\n",
    "Primeiramente, vamos considerar um exemplo para o qual as energias podem depender dos potenciais em uma região de campo nulo. Consideremos um quanton de massa $m$ e carga elétrica $q$ restrito a se mover em um círculo de raio $b$. Concêntrico a este círculo está um solenóide de raio $a<b$. Por este solenóide passa uma corrente elétrica $I$. O solenóide é muito longo, assim o campo magnético interno é uniforme, $B$, e o campo magnético externo é nulo. Como o solenóide é neutro, e $I$ é constante, o campo elétrico é nulo tanto no interior quanto fora do solenóide. Se adotamos a condição de calibre \n",
    "$$\\vec{\\nabla}\\cdot\\vec{A}=0,$$\n",
    "o potencial vetor magnético fora do solenóide pode ser escrito como\n",
    "$$\\vec{A}(r>a) = \\frac{\\varphi}{2\\pi r}\\hat{\\phi},$$\n",
    "em que \n",
    "$$\\varphi=\\pi a^{2}B$$\n",
    "é o fluxo magnético no interior do solenóide. Pela restrição no movimeto do quanton, \n",
    "$$r=b \\text{ e } \\theta=\\pi/2,$$ \n",
    "a função de onda depende somente da variável $\\phi$. Neste caso \n",
    "$$\\vec{\\nabla} \\rightarrow \\hat{\\phi}r^{-1}\\sin^{-1}\\theta\\partial_\\phi.$$ "
   ]
  },
  {
   "cell_type": "markdown",
   "id": "e4ffab62",
   "metadata": {},
   "source": [
    "Com isso, a equação de Schrödinger independente do tempo fica escrita como\n",
    "\\begin{align}\n",
    "& \\frac{1}{2m}\\big(-i\\hbar\\vec{\\nabla} -q\\vec{A}\\big)^{2}\\psi = E\\psi, \\\\\n",
    "& \\therefore\\ \\frac{1}{2m}\\big(-\\hbar^{2}\\nabla^{2} + 2i\\hbar q\\vec{A}\\cdot\\vec{\\nabla}+q^{2}A^{2}\\big)\\psi = E\\psi, \\\\\n",
    "& \\therefore\\ \\frac{1}{2m}\\Big(-\\frac{\\hbar^{2}}{r^{2}\\sin^{2}\\theta}\\partial_{\\phi\\phi} + 2i\\hbar q\\frac{\\varphi}{2\\pi r^{2}\\sin\\theta}\\partial_{\\phi} + q^{2}\\frac{\\varphi^{2}}{4\\pi^{2}r^{2}}\\Big)\\psi = E\\psi, \\\\\n",
    "& \\therefore\\ \\Big(-\\frac{\\hbar^{2}}{b^{2}}\\partial_{\\phi\\phi} + \\frac{i\\hbar q\\varphi}{\\pi b^{2}}\\partial_{\\phi} + \\frac{q^{2}\\varphi^{2}}{4\\pi^{2}b^{2}}\\Big)\\psi = 2mE\\psi, \\\\\n",
    "& \\therefore\\ \\Big(\\partial_{\\phi\\phi} - \\frac{iq\\varphi}{\\hbar\\pi}\\partial_{\\phi} + \\frac{2mEb^{2}}{\\hbar^{2}} - \\frac{q^{2}\\varphi^{2}}{4\\pi^{2}\\hbar^{2}} \\Big)\\psi=0 \\\\\n",
    "&\\therefore\\ \\big(\\partial_{\\phi\\phi} - 2i\\beta\\partial_{\\phi} + \\varepsilon \\Big)\\psi=0,\n",
    "\\end{align}\n",
    "em que definimos\n",
    "$$\\beta = \\frac{q\\varphi}{2\\hbar\\pi} \\text{ e } \\varepsilon=\\frac{2mEb^{2}}{\\hbar^{2}}-\\beta^{2}.$$"
   ]
  },
  {
   "cell_type": "code",
   "execution_count": 7,
   "id": "fe1cc156",
   "metadata": {},
   "outputs": [
    {
     "data": {
      "image/png": "[encoded data removed]",
      "text/latex": [
       "$\\displaystyle \\psi{\\left(\\phi \\right)} = C_{1} e^{\\phi \\left(1.0 i \\beta - 1.0 \\sqrt{- \\beta^{2} - \\varepsilon}\\right)} + C_{2} e^{\\phi \\left(1.0 i \\beta + 1.0 \\sqrt{- \\beta^{2} - \\varepsilon}\\right)}$"
      ],
      "text/plain": [
       "             ⎛             ___________________⎞         ⎛                 ____\n",
       "             ⎜            ╱    2              ⎟         ⎜                ╱    \n",
       "           φ⋅⎝1.0⋅ⅈ⋅β - ╲╱  - β  - varepsilon ⎠       φ⋅⎝1.0⋅ⅈ⋅β + 1.0⋅╲╱  - β\n",
       "ψ(φ) = C₁⋅ℯ                                     + C₂⋅ℯ                        \n",
       "\n",
       "_______________⎞\n",
       "2              ⎟\n",
       "  - varepsilon ⎠\n",
       "                "
      ]
     },
     "execution_count": 7,
     "metadata": {},
     "output_type": "execute_result"
    }
   ],
   "source": [
    "be, ep, ph = symbols('beta varepsilon phi')\n",
    "ps = Function('psi')\n",
    "dsolve(Derivative(ps(ph),ph,ph) - 2*1j*be*Derivative(ps(ph),ph) + ep*ps(ph), ps(ph))"
   ]
  },
  {
   "cell_type": "markdown",
   "id": "6d2e42e7",
   "metadata": {},
   "source": [
    "Então, as soluções da eq. de Schrödinger tem a forma geral\n",
    "$$\\psi(\\phi) = c_{+}e^{i\\lambda_{+}\\phi} + c_{-}e^{i\\lambda_{-}\\phi}$$\n",
    "com\n",
    "$$\\lambda_{\\pm} = \\beta \\pm\\sqrt{\\beta^{2}+\\varepsilon}.$$\n",
    "Usaremos a forma particular\n",
    "$$\\psi(\\phi) = c_{\\pm}e^{i\\lambda_{\\pm}\\phi}.$$\n",
    "Se impomos a condição de contorno\n",
    "$$\\psi(\\phi)=\\psi(\\phi+2\\pi),$$\n",
    "vemos que $\\lambda_{\\pm}$ deve ser um número inteiro, que chamaremos de \n",
    "$$n=\\cdots,-2,-1,0,1,2,\\cdots.$$\n",
    "Assim\n",
    "\\begin{align}\n",
    "& \\lambda_{\\pm} = \\beta \\pm\\sqrt{\\beta^{2}+\\varepsilon} = n\\ \\therefore\\ \\beta^{2}+\\varepsilon = \\big(n-\\beta\\big)^{2} \\\\\n",
    "& \\therefore\\ \\varepsilon = \\frac{2mEb^{2}}{\\hbar^{2}}-\\beta^{2} = \\big(n-\\beta\\big)^{2} -\\beta^{2} \\\\\n",
    "& \\therefore\\ E = E_{n} = \\frac{\\hbar^{2}}{2mb^{2}}\\big(n-\\beta\\big)^{2} =  \\frac{\\hbar^{2}}{2mb^{2}}\\Big(n-\\frac{q\\varphi}{2\\hbar\\pi}\\Big)^{2}.\n",
    "\\end{align}\n",
    "Ou seja, a energia do quanton fora do solenóide, onde o campo magnético é nulo, depende do fluxo de campo magnético dentro do solenóide. Esse fato pode ser chamado de __efeito Aharonov-Bohm__."
   ]
  },
  {
   "cell_type": "markdown",
   "id": "76b2c9fa",
   "metadata": {},
   "source": [
    "O operador momento linear em coordenadas esféricas fica escrito como\n",
    "\\begin{align}\n",
    "\\vec{P} = & -i\\hbar\\vec{\\nabla} \\\\\n",
    "& = -i\\hbar\\hat{r}\\partial_{r} -i\\hbar\\hat{\\theta}r^{-1}\\partial_{\\theta} -i\\hbar\\hat{\\phi}r^{-1}\\sin^{-1}\\theta\\partial_{\\phi} \\\\\n",
    "& = \\hat{r}P_{r} + \\hat{\\theta}P_{\\theta} + \\hat{\\phi}P_{\\phi}.\n",
    "\\end{align}\n",
    "Como o quanton está restrito a se movimentar no círculo, $P_{r}=P_{\\theta}=0$. Vemos assim que\n",
    "\\begin{align}\n",
    "P_{\\phi}\\psi(\\phi) = & -i\\hbar r^{-1}\\sin^{-1}\\theta i\\lambda_{\\pm}\\psi(\\phi) \\\\\n",
    "& = \\hbar b^{-1} n\\psi(\\phi) = p_\\phi\\psi(\\phi).\n",
    "\\end{align}\n",
    "Portanto, estados com $n$ positivo correspondem ao movimento do quanton no mesmo sentido da corrente elétrica, que por sua vez estão associados a um menor valor de energia. Estados com $n$ negativo correspondem a movimento do quanton no sentido contrário ao da corrente elétrica e tem maior energia."
   ]
  },
  {
   "cell_type": "markdown",
   "id": "accc0098",
   "metadata": {},
   "source": [
    "#### Experimento de Aharonov e Bohm\n",
    "Vamos supor que o quanton se move em uma região de campo magnético nulo,\n",
    "$$\\vec{B}=\\vec{\\nabla}\\times\\vec{A}=\\vec{0},$$\n",
    "mas com potencial vetor diferente de zero, $$\\vec{A}\\ne\\vec{0}.$$\n",
    "A equação de Schrödinger (EqS),\n",
    "$$\\Big(\\frac{1}{2m}\\big(-i\\hbar\\vec{\\nabla} -q\\vec{A}\\big)^{2} + q\\Phi\\Big)\\Psi = i\\hbar\\partial_{t}\\Psi,$$\n",
    "pode ser simplificada se definimos\n",
    "$$\\Psi:=e^{ig}\\Xi$$\n",
    "com \n",
    "$$g=\\frac{q}{\\hbar}\\int_{\\vec{\\mathcal{O}}}^{\\vec{r}}\\vec{A}(\\vec{r}')\\cdot d\\vec{r}',$$\n",
    "que é independente do caminho, uma vez que $\\vec{\\nabla}\\times\\vec{A}=\\vec{0}$. O ponto $\\vec{\\mathcal{O}}$ é um ponto de referência qualquer."
   ]
  },
  {
   "cell_type": "markdown",
   "id": "88c085c0",
   "metadata": {},
   "source": [
    "Pode-se verificar que \n",
    "$$\\vec{\\nabla}g=q\\vec{A}(\\vec{r})/\\hbar.$$\n",
    "Com isso, usando\n",
    "\\begin{align}\n",
    "\\vec{\\nabla}\\Psi & = \\vec{\\nabla}\\big(e^{ig}\\Xi\\big) = i(\\vec{\\nabla}g)e^{ig}\\Xi + e^{ig}\\vec{\\nabla}\\Xi \\\\\n",
    "& = iq\\hbar^{-1}\\vec{A}e^{ig}\\Xi + e^{ig}\\vec{\\nabla}\\Xi,\n",
    "\\end{align}\n",
    "podemos escrever\n",
    "\\begin{align}\n",
    "\\big(-i\\hbar\\vec{\\nabla}-q\\vec{A}\\big)\\Psi =& -i\\hbar iq\\hbar^{-1}\\vec{A}e^{ig}\\Xi -i\\hbar e^{ig}\\vec{\\nabla}\\Xi -q\\vec{A}e^{ig}\\Xi \\\\\n",
    "& = -i\\hbar e^{ig}\\vec{\\nabla}\\Xi.\n",
    "\\end{align}\n",
    "Ou seja, usando $\\vec{\\nabla}\\cdot(f\\vec{\\nabla}g) = (\\vec{\\nabla}f)\\cdot(\\vec{\\nabla}g)+f\\nabla^{2}g$, teremos que\n",
    "\\begin{align}\n",
    "& \\big(-i\\hbar\\vec{\\nabla}-q\\vec{A}\\big)^{2}\\Psi = \\big(-i\\hbar\\vec{\\nabla}-q\\vec{A}\\big)\\cdot\\big(-i\\hbar\\vec{\\nabla}-q\\vec{A}\\big)\\Psi \\\\\n",
    "& = \\big(-i\\hbar\\vec{\\nabla}-q\\vec{A}\\big)\\cdot\\big(-i\\hbar e^{ig}\\vec{\\nabla}\\Xi\\big) \\\\\n",
    "& = -\\hbar^{2}\\vec{\\nabla}\\cdot\\big(e^{ig}\\vec{\\nabla}\\Xi\\big) + iq\\hbar e^{ig}\\vec{A}\\cdot\\vec{\\nabla}\\Xi \\\\\n",
    "& = -\\hbar^{2}\\big(\\vec{\\nabla}e^{ig}\\big)\\cdot\\big(\\vec{\\nabla}\\Xi\\big) -\\hbar^{2}e^{ig}\\nabla^{2}\\Xi + iq\\hbar e^{ig}\\vec{A}\\cdot\\vec{\\nabla}\\Xi \\\\\n",
    "& = -\\hbar^{2}i(\\vec{\\nabla}g)e^{ig}\\cdot\\vec{\\nabla}\\Xi -\\hbar^{2}e^{ig}\\nabla^{2}\\Xi + iq\\hbar e^{ig}\\vec{A}\\cdot\\vec{\\nabla}\\Xi \\\\\n",
    "& = -\\hbar^{2}iq\\hbar^{-1}\\vec{A}e^{ig}\\cdot\\vec{\\nabla}\\Xi -\\hbar^{2}e^{ig}\\nabla^{2}\\Xi + iq\\hbar e^{ig}\\vec{A}\\cdot\\vec{\\nabla}\\Xi \\\\\n",
    "& =-\\hbar^{2}e^{ig}\\nabla^{2}\\Xi.\n",
    "\\end{align}"
   ]
  },
  {
   "cell_type": "markdown",
   "id": "4049368c",
   "metadata": {},
   "source": [
    "Com isso, a eq. de Schrödinger fica escrita como segue\n",
    "\\begin{align}\n",
    "& -\\frac{\\hbar^{2}}{2m}e^{ig}\\nabla^{2}\\Xi + q\\Phi e^{ig}\\Xi = i\\hbar\\partial_{t}(e^{ig}\\Xi)  = e^{ig}i\\hbar\\partial_{t}\\Xi \\\\\n",
    "& \\therefore\\ -\\frac{\\hbar^{2}}{2m}\\nabla^{2}\\Xi + q\\Phi \\Xi = i\\hbar\\partial_{t}\\Xi.\n",
    "\\end{align}\n",
    "Vemos assim que $\\Xi$ satisfaz a EqS sem $\\vec{A}$. Se resolvemos essa equação, podemos obter a função de onda na presença de $A$: $\\Psi=e^{ig}\\Xi$.  \n",
    "\n",
    "Feitas essas considerações, passamos para o experimento de pensamento de Aharonov-Bohm (AB). Eles consideraram um elétron que é preparado em um estado de superposição de caminhos:\n",
    "$$\\Psi = 2^{-1/2}(\\Psi_{+}+\\Psi_{-}).$$\n",
    "Esses dois caminhos são aqueles em que o elétron passa em \"lados\" opostos na parte exterior de um solenóide, como aquele que vimos no último exemplo. O potencial vetor é um campo vetorial com sentido acompanhando aquele da corrente elétrica no solenóide. Com isso teremos \n",
    "\\begin{align}\n",
    "g_{\\pm} & = \\frac{q}{\\hbar}\\int_{\\mathcal{O}}^{r}\\vec{A}(\\vec{r}')\\cdot d\\vec{r}' \\\\\n",
    "& = \\frac{q}{\\hbar}\\int_{\\mathcal{O}}^{r}\\frac{\\varphi}{2\\pi r'}\\hat{\\phi}'\\cdot r'd\\phi'(\\pm\\hat{\\phi}') \\\\\n",
    "& = \\pm\\frac{q\\varphi}{\\hbar 2\\pi}\\int_{\\mathcal{O}}^{r}d\\phi' = \\pm\\frac{q\\varphi}{\\hbar 2\\pi}\\pi \\\\\n",
    "& = \\pm\\frac{q\\varphi}{2\\hbar},\n",
    "\\end{align}\n",
    "em que usamos $\\vec{A}(r>a) = \\frac{\\varphi}{2\\pi r}\\hat{\\phi}$."
   ]
  },
  {
   "cell_type": "markdown",
   "id": "40b3488c",
   "metadata": {},
   "source": [
    "Então, fazendo os caminhos se cruzarem depois de passar pelo solenóide, o estado do elétron será\n",
    "$$\\Psi = 2^{-1/2}(e^{ig_{+}}\\Psi_{+}+e^{ig_{-}}\\Psi_{-}),$$\n",
    "com os estados dos diferentes caminhos ganhando uma diferença de fase\n",
    "$$\\delta g=g_{+}-g_{-}=\\frac{q\\varphi}{\\hbar},$$\n",
    "que pode ser controlada variando-se a corrente elétrica no solenóide. Essa diferença de fase pode causar interferência destrutiva, mudando as probabilidades de detecção do elétron. Esse efeito foi medido experimentalmente em (https://doi.org/10.1103/PhysRevLett.5.3) e em (https://doi.org/10.1103/PhysRevA.34.815).\n",
    "\n",
    "_OBS. pra mim_ Considerar o EAB com Mach-Zehnder. Ver os detalhes do cálculo."
   ]
  },
  {
   "cell_type": "markdown",
   "id": "5b7185e0",
   "metadata": {},
   "source": [
    "#### Efeito Aharonov-Bohm como exemplo de fase de Berry\n",
    "Consideremos que uma partícula de carga elétrica $q$ e massa $m$ está confinada a se mover em uma pequena caixa com posição $\\vec{R}$ em relação a um ponto $O$ no mesmo solenóide considerado acima. A posição da partícula em relação a $O$ é $\\vec{r}$. A equação de Schrödinger independente do tempo fica escrita, neste caso, como segue\n",
    "$$\\Big(\\frac{1}{2m}\\big(-i\\hbar\\vec{\\nabla}-q\\vec{A}(\\vec{r})\\big)^{2}+q\\Phi(\\vec{r}-\\vec{R})\\Big)\\psi=E\\psi.$$\n",
    "Como acima, fazemos\n",
    "$$\\psi = e^{ig}\\xi$$\n",
    "com $\\psi=\\psi(\\vec{r}-\\vec{R})$, $\\xi=\\xi(\\vec{r}-\\vec{R})$ e\n",
    "$$g=\\frac{q}{\\hbar}\\int_{\\vec{R}}^{\\vec{r}}\\vec{A}(\\vec{r}')\\cdot d\\vec{r}'$$\n",
    "com $\\xi$ satisfazendo a EqS:\n",
    "$$\\Big(-\\frac{\\hbar^{2}}{2m}\\nabla^{2}+q\\Phi(\\vec{r}-\\vec{R})\\Big)\\xi=E\\xi.$$"
   ]
  },
  {
   "cell_type": "markdown",
   "id": "7a5d59ac",
   "metadata": {},
   "source": [
    "Seguindo, consideramos que a caixa é carregada em torno do solenóide de forma a satisfazer a aproximação adiabática. Teremos que\n",
    "\\begin{align}\n",
    "\\vec{\\mathcal{A}} & = i\\langle\\psi|\\vec{\\nabla}_{\\vec{R}}|\\psi\\rangle = i\\int \\psi^{*}\\vec{\\nabla}_{\\vec{R}}\\psi d^{3}r\\\\\n",
    "& = i\\int e^{-ig}\\xi^{*}\\vec{\\nabla}_{\\vec{R}}(e^{ig}\\xi) d^{3}r = -i\\int e^{-ig}\\xi^{*}\\vec{\\nabla}_{\\vec{r}}(e^{ig}\\xi) d^{3}r \\\\\n",
    "& = -i\\int e^{-ig}\\xi^{*}\\big(e^{ig}i(\\vec{\\nabla}_{\\vec{r}}g)\\xi + e^{ig}\\vec{\\nabla}_{\\vec{r}}\\xi\\big) d^{3}r \\\\\n",
    "& = -i\\int e^{-ig}\\xi^{*}\\big(e^{ig}iq\\vec{A}(\\vec{R})\\hbar^{-1}\\xi + e^{ig}(i\\hbar^{-1})(-i\\hbar\\vec{\\nabla}_{\\vec{r}})\\xi\\big) d^{3}r \\\\\n",
    "& = q\\hbar^{-1}\\vec{A}\\int \\xi^{*}\\xi d^{3}r +\\hbar^{-1}\\int\\xi^{*}\\vec{P}\\xi d^{3}r \\\\\n",
    "& = q\\hbar^{-1}\\vec{A} + \\vec{0},\n",
    "\\end{align}\n",
    "em usamos $\\vec{\\nabla}_{\\vec{R}}=-\\vec{\\nabla}_{\\vec{r}}$ ao atuar em $\\xi(\\vec{r}-\\vec{R})$ que o valor médio do momento linear para um estado estacionário é nulo. Assim a fase de Berry fica escrita como\n",
    "\\begin{align}\n",
    "\\gamma & = \\oint \\vec{\\mathcal{A}}(\\vec{R})\\cdot d\\vec{R} = \\frac{q}{\\hbar}\\oint \\vec{A}(\\vec{R})\\cdot d\\vec{R} \\\\\n",
    "& = \\frac{q}{\\hbar}\\int_{S}\\vec{\\nabla}\\times\\vec{A}\\cdot d\\vec{a}  = \\frac{q}{\\hbar}\\int_{S}\\vec{B}\\cdot d\\vec{a} \\\\\n",
    "& = \\frac{q\\varphi}{\\hbar}.\n",
    "\\end{align}\n",
    "Ou seja, o efeito Aharonov-Bohm é um caso particular da fase de Berry."
   ]
  },
  {
   "cell_type": "markdown",
   "id": "72114708",
   "metadata": {},
   "source": [
    "# Exercícios\n",
    "\n",
    "1. Para duas funções arbitrárias $f$ e $g$ de $\\mathbb{R}^{n}$, verifique que\n",
    "$$\\vec{\\nabla}\\times(f\\vec{\\nabla}g) = (\\vec{\\nabla}f)\\times(\\vec{\\nabla}g).$$\n",
    "\n",
    "1. Verifique a igualdade na eq. $(\\diamond)$.\n",
    "\n",
    "1. No contexto da fase de Berry, verifique que $\\vec{A}_{n}(\\vec{R})$ e $\\vec{B}_{n}(\\vec{R})$ são vetores reais (de $\\mathbb{R}^{3}$).\n",
    "\n",
    "1. Obtenha o potencial vetor magnético gerado por um solenóide infinito de raio $a$, com $n$ voltas por unidade de comprimento, pelo qual passa uma corrente elétrica $I$. Use a condição de calibre $\\vec{\\nabla}\\cdot\\vec{A}=0$.\n",
    "\n",
    "1. Impondo a condição de calibre $\\vec{\\nabla}\\cdot\\vec{A}=0$, verifique que\n",
    "$$\\big(-i\\hbar\\vec{\\nabla} -q\\vec{A}\\big)^{2} = -\\hbar^{2}\\nabla^{2} + 2i\\hbar q\\vec{A}\\cdot\\vec{\\nabla}+q^{2}A^{2}.$$\n",
    "\n",
    "1. Para $g=\\frac{q}{\\hbar}\\int_{\\mathcal{O}}^{r}\\vec{A}(\\vec{r}')\\cdot d\\vec{r}'$, verifique que $\\vec{\\nabla}g=q\\hbar^{-1}\\vec{A}$.\n",
    "\n",
    "1. Para funções $f$ e $g$ quaisquer, verifique que $\\vec{\\nabla}\\cdot(f\\vec{\\nabla}g) = (\\vec{\\nabla}f)\\cdot(\\vec{\\nabla}g)+f\\nabla^{2}g$."
   ]
  },
  {
   "cell_type": "code",
   "execution_count": null,
   "id": "ec5844c2",
   "metadata": {},
   "outputs": [],
   "source": []
  }
 ],
 "metadata": {
  "kernelspec": {
   "display_name": "Python 3 (ipykernel)",
   "language": "python",
   "name": "python3"
  },
  "language_info": {
   "codemirror_mode": {
    "name": "ipython",
    "version": 3
   },
   "file_extension": ".py",
   "mimetype": "text/x-python",
   "name": "python",
   "nbconvert_exporter": "python",
   "pygments_lexer": "ipython3",
   "version": "3.8.11"
  }
 },
 "nbformat": 4,
 "nbformat_minor": 5
}
