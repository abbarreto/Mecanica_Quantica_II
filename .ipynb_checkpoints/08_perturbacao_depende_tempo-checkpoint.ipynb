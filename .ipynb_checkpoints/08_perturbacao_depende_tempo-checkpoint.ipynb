{
 "cells": [
  {
   "cell_type": "markdown",
   "metadata": {},
   "source": [
    "### Notas de aula de Mecânica Quântica <br> Autor: Jonas Maziero"
   ]
  },
  {
   "cell_type": "code",
   "execution_count": 1,
   "metadata": {},
   "outputs": [],
   "source": [
    "%run init.ipynb"
   ]
  },
  {
   "cell_type": "markdown",
   "metadata": {},
   "source": [
    "# Teoria de perturbação\n",
    "O objetivo da teoria de perturbação é construir soluções aproximadas (estáticas ou dinâmicas) a partir das soluções analíticas obtidas em casos particulares, que geralmente estão relacionados com intensidades de interação maiores em relação às correções que queremos incluir."
   ]
  },
  {
   "cell_type": "markdown",
   "metadata": {},
   "source": [
    "# Teoria de perturbação dependente do tempo\n",
    "Aqui queremos obter correções perturbativas para a equação de Schrödinger\n",
    "\\begin{equation}\n",
    "i\\hbar\\partial_{t}|\\psi_{t}\\rangle = H|\\psi_{t}\\rangle,\n",
    "\\end{equation}\n",
    "para $H=H_{0}+H_{1}$. \n",
    "\n",
    "Como um prelúdio, consideremos que $H_{0}$ é independente do tempo e que conhecemos a solução de \n",
    "$$H_{0}|\\psi_{n}^{(0)}\\rangle=E_{n}^{(0)}|\\psi_{t}^{(0)}\\rangle.$$\n",
    "Como nesse caso o operador de evolução temporal é \n",
    "$$W_{t}=e^{-iH_{0}t/\\hbar},$$ \n",
    "se o estado inicial for \n",
    "$$|\\psi'\\rangle=\\sum_{n}c_{n}|\\psi_{n}^{(0)}\\rangle$$\n",
    "com $c_{n}=\\langle\\psi_{n}^{(0)}|\\psi'\\rangle$, o estado evoluído pode ser escrito como\n",
    "\\begin{align}\n",
    "|\\psi_{t}'\\rangle &= W_{t}|\\psi'\\rangle \\\\\n",
    "& = \\sum_{n}c_{n}e^{-iH_{0}t/\\hbar}|\\psi_{n}^{(0)}\\rangle = \\sum_{n}c_{n}e^{-iE_{n}^{(0)}t/\\hbar}|\\psi_{n}^{(0)}\\rangle \\\\ \n",
    "& =: \\sum_{n}c_{n}(t)|\\psi_{n}^{(0)}\\rangle,\n",
    "\\end{align}\n",
    "com\n",
    "$$c_{n}(t)=c_{n}e^{-iE_{n}^{(0)}t/\\hbar}.$$\n",
    "\n",
    "Sem perda de generalidade, o estado evoluído no tempo pelo Hamiltoniano geral pode ser escrito como\n",
    "\\begin{equation}\n",
    "|\\psi_{t}\\rangle = \\sum_{n}A_{n}(t)|\\psi_{n}^{(0)}\\rangle =: \\sum_{n}a_{n}(t)e^{-iE_{n}^{(0)}t/\\hbar}|\\psi_{n}^{(0)}\\rangle,\n",
    "\\end{equation}\n",
    "i.e.,\n",
    "$$A_{n}(t):=a_{n}(t)e^{-iE_{n}^{(0)}t/\\hbar}.$$"
   ]
  },
  {
   "cell_type": "markdown",
   "metadata": {},
   "source": [
    "Assim, se $H_{1}=\\mathbb{0}$ teremos o caso particular $a_{n}(t)=c_{n}$. Nosso objetivo será obter os $a_{n}(t)$ via correções perturbativas. Usamos novamente \n",
    "$$H\\rightarrow H_{0}+\\xi H_{1}.$$ Assim teremos\n",
    "\\begin{align}\n",
    "& i\\hbar\\partial_{t}|\\psi_{t}\\rangle  = H|\\psi_{t}\\rangle \\\\\n",
    "& \\therefore i\\hbar\\partial_{t}\\sum_{n}a_{n}(t)e^{-iE_{n}^{(0)}t/\\hbar}|\\psi_{n}^{(0)}\\rangle = (H_{0}+\\xi H_{1})\\sum_{n}a_{n}(t)e^{-iE_{n}^{(0)}t/\\hbar}|\\psi_{n}^{(0)}\\rangle \\\\\n",
    "& \\therefore i\\hbar\\sum_{n}\\left(\\partial_{t}a_{n}(t) -i\\hbar^{-1}E_{n}^{(0)}a_{n}(t)\\right)e^{-iE_{n}^{(0)}t/\\hbar}|\\psi_{n}^{(0)}\\rangle = \\sum_{n}a_{n}(t)e^{-iE_{n}^{(0)}t/\\hbar}(E_{n}^{(0)}\\mathbb{I}+\\xi H_{1})|\\psi_{n}^{(0)}\\rangle.\n",
    "\\end{align}\n",
    "\n",
    "Seguindo, tomamos o produto interno de $|\\psi_{m}^{(0)}\\rangle$ com essa última equação:\n",
    "\\begin{align}\n",
    "& i\\hbar\\sum_{n}\\left(\\partial_{t}a_{n}(t) -i\\hbar^{-1}E_{n}^{(0)}a_{n}(t)\\right)e^{-iE_{n}^{(0)}t/\\hbar}\\langle \\psi_{m}^{(0)}|\\psi_{n}^{(0)}\\rangle = \\sum_{n}a_{n}(t)e^{-iE_{n}^{(0)}t/\\hbar}\\left( E_{n}^{(0)}\\langle \\psi_{m}^{(0)}|\\psi_{n}^{(0)}\\rangle + \\xi\\langle \\psi_{m}^{(0)}|H_{1}|\\psi_{n}^{(0)}\\rangle\\right) \\\\\n",
    "& \\therefore i\\hbar\\left(\\partial_{t}a_{m}(t) -i\\hbar^{-1}E_{m}^{(0)}a_{m}(t)\\right)e^{-iE_{m}^{(0)}t/\\hbar} = a_{m}(t)e^{-iE_{m}^{(0)}t/\\hbar}E_{m}^{(0)} + \\xi\\sum_{n}a_{n}(t)e^{-iE_{n}^{(0)}t/\\hbar}\\langle\\psi_{m}^{(0)}|H_{1}|\\psi_{n}^{(0)}\\rangle \\\\\n",
    "& \\therefore i\\hbar\\partial_{t}a_{m}(t) + E_{m}^{(0)}a_{m}(t) = a_{m}(t)E_{m}^{(0)} + \\xi\\sum_{n}a_{n}(t)e^{-i(E_{n}^{(0)}-E_{m}^{(0)})t/\\hbar}\\langle\\psi_{m}^{(0)}|H_{1}|\\psi_{n}^{(0)}\\rangle \\\\\n",
    "& \\therefore i\\hbar\\partial_{t}a_{m}(t) = \\xi\\sum_{n}a_{n}(t)e^{i\\omega_{mn}t}\\langle\\psi_{m}^{(0)}|H_{1}|\\psi_{n}^{(0)}\\rangle.\n",
    "\\end{align}\n",
    "onde usamos as frequências de Bohr \n",
    "$$\\omega_{mn}=(E_{m}^{(0)}-E_{n}^{(0)})/\\hbar.$$"
   ]
  },
  {
   "cell_type": "markdown",
   "metadata": {},
   "source": [
    "Aplicamos agora a _expansão de Raileigh-Schrödinger_ para os coeficientes:\n",
    "\\begin{equation}\n",
    "a_{n}(t) = \\sum_{k=0}^{\\infty}a_{n}^{(k)}(t)\\xi^{k}.\n",
    "\\end{equation}\n",
    "Assim segue que\n",
    "\\begin{align}\n",
    "& i\\hbar\\partial_{t}\\sum_{k=0}^{\\infty}a_{m}^{(k)}(t)\\xi^{k} = \\xi\\sum_{n}\\sum_{k=0}^{\\infty}a_{n}^{(k)}(t)\\xi^{k}e^{i\\omega_{mn}t}\\langle\\psi_{m}^{(0)}|H_{1}|\\psi_{n}^{(0)}\\rangle \\\\\n",
    "& \\therefore \\sum_{k=0}^{\\infty}\\left(i\\hbar\\partial_{t}a_{m}^{(k)}(t)\\right)\\xi^{k} = 0\\xi^{0} + \\sum_{k=0}^{\\infty}\\left(\\sum_{n}a_{n}^{(k)}(t)e^{i\\omega_{mn}t}\\langle\\psi_{m}^{(0)}|H_{1}|\\psi_{n}^{(0)}\\rangle\\right)\\xi^{k+1}.\n",
    "\\end{align}"
   ]
  },
  {
   "cell_type": "markdown",
   "metadata": {},
   "source": [
    "A correção de _ordem zero_ é obtida de\n",
    "\\begin{equation}\n",
    "i\\hbar\\partial_{t}a_{m}^{(0)}(t) = 0 \\Rightarrow a_{m}^{(0)}(t)=a_{m}^{(0)}(0)=c_{m}.\n",
    "\\end{equation}\n",
    "\n",
    "A correção de _primeira ordem_ é obtida de\n",
    "\\begin{equation}\n",
    "i\\hbar\\partial_{t}a_{m}^{(1)}(t) = \\sum_{n}a_{n}^{(0)}(t)e^{i\\omega_{mn}t}\\langle\\psi_{m}^{(0)}|H_{1}|\\psi_{n}^{(0)}\\rangle.\n",
    "\\end{equation}\n",
    "\n",
    "E similarmente para uma ordem qualquer $j=1,2,3,\\cdots$:\n",
    "\\begin{equation}\n",
    "i\\hbar\\partial_{t}a_{m}^{(j)}(t) = \\sum_{n}a_{n}^{(j-1)}(t)e^{i\\omega_{mn}t}\\langle\\psi_{m}^{(0)}|H_{1}|\\psi_{n}^{(0)}\\rangle.\n",
    "\\end{equation}\n",
    "Aplicando o teorema fundamental do cálculo, obtemos uma equação integral que pode ser usada sucessivamente para o cálculo de correções de ordem mais alta a partir da anterior:\n",
    "\\begin{equation}\n",
    "a_{m}^{(j)}(t) = \\frac{1}{i\\hbar}\\int_{0}^{t}dt'\\sum_{n}a_{n}^{(j-1)}(t')e^{i\\omega_{mn}t'}\\langle\\psi_{m}^{(0)}|H_{1}|\\psi_{n}^{(0)}\\rangle.\n",
    "\\end{equation}"
   ]
  },
  {
   "cell_type": "markdown",
   "metadata": {},
   "source": [
    "### Exemplo <br> Oscilador harmônico com força externa constante\n",
    "Nesse caso $$H_{0}=\\hbar\\omega(a^{\\dagger}a+\\mathbb{I}/2),$$ $$E_{n}^{(0)}=\\hbar\\omega(n+1/2)$$ e $$|\\psi_{n}^{(0)}\\rangle=|n\\rangle$$ com $n\\in\\mathbb{N}$. Para ter força, $F_{x}=-\\partial_{X}U$, constante, devemos ter $U\\propto X$. Nesse caso\n",
    "\\begin{equation}\n",
    "H_{1} = -g(a^{\\dagger}+a).\n",
    "\\end{equation}\n",
    "Consideramos nesse exemplo o OH preparado inicialmente no estado fundamental \n",
    "$$|\\psi_{0}\\rangle:=|0\\rangle=\\sum_{n=0}^{\\infty}c_{n}|n\\rangle \\Rightarrow c_{n}=\\delta_{n0}.$$\n",
    "Lembrando, \n",
    "$$|\\psi_{t}\\rangle = \\sum_{n=0}^{\\infty}a_{n}(t)e^{i\\omega_{mn}t}|n\\rangle$$ e $$a_{n}(t)=\\sum_{k=0}^{\\infty}a_{n}^{(k)}(t),$$ já com o limite $\\xi\\rightarrow 1$ tomado."
   ]
  },
  {
   "cell_type": "markdown",
   "metadata": {},
   "source": [
    "Correção de primeira ordem:\n",
    "\\begin{equation}\n",
    "a_{m}^{(1)}(t) = \\frac{1}{i\\hbar}\\int_{0}^{t}dt'\\sum_{n}c_{n}e^{i\\omega_{mn}t'}\\langle m|H_{1}|n\\rangle.\n",
    "\\end{equation}\n",
    "Agora\n",
    "\\begin{align}\n",
    "\\langle m|H_{1}|n\\rangle & = -g(\\langle m|a^{\\dagger}|n\\rangle + \\langle m|a|n\\rangle) = -g(\\sqrt{n+1}\\langle m|n+1\\rangle + \\sqrt{n}\\langle m|n-1\\rangle) \\\\\n",
    "& = -g(\\sqrt{n+1}\\delta_{m,n+1} + \\sqrt{n}\\delta_{m,n-1}).\n",
    "\\end{align}\n",
    "Assim\n",
    "\\begin{align}\n",
    "a_{m}^{(1)}(t) & = \\frac{-g}{i\\hbar}\\int_{0}^{t}dt'\\sum_{n}c_{n}e^{i\\omega_{mn}t'}\\left(\\sqrt{n+1}\\delta_{m,n+1} + \\sqrt{n}\\delta_{m,n-1}\\right) \\\\\n",
    "& =  \\frac{-g}{i\\hbar}\\int_{0}^{t}dt'\\left(c_{m-1}e^{i\\omega_{m,m-1}t'}\\sqrt{m} + c_{m+1}e^{i\\omega_{m,m+1}t'}\\sqrt{m+1}\\right) \\\\\n",
    "& =  \\frac{-g}{i\\hbar}\\left(\\frac{\\delta_{m-1,0}\\sqrt{m}}{i\\omega_{m,m-1}}\\left[e^{i\\omega_{m,m-1}t'}\\right]_{0}^{t} + \\frac{\\delta_{m+1,0}\\sqrt{m+1}}{i\\omega_{m,m+1}}\\left[e^{i\\omega_{m,m+1}t'}\\right]_{0}^{t}\\right) \\\\\n",
    "& =  \\frac{-g}{i\\hbar}\\left(\\frac{\\delta_{m,1}\\sqrt{1}}{i\\omega_{1,1-1}}\\left[e^{i\\omega_{1,1-1}t}-1\\right] + \\frac{0\\sqrt{m+1}}{i\\omega_{m,m+1}}\\left[e^{i\\omega_{m,m+1}t}-1\\right]\\right) \\\\\n",
    "& = \\frac{g}{\\hbar\\omega_{1,0}}\\left(e^{i\\omega_{1,0}t}-1\\right)\\delta_{m,1}.\n",
    "\\end{align}\n",
    "Se notamos que\n",
    "\\begin{align}\n",
    "\\omega_{n,m} &=(E_{n}^{(0)}-E_{m}^{(0)})/\\hbar=(\\hbar\\omega(n+1/2)-\\hbar\\omega(m+1/2))/\\hbar \\\\\n",
    "& =(n-m)\\omega,\n",
    "\\end{align}\n",
    "a correção de primeira ordem, que é não nula somente para $m=1$, fica escrita como\n",
    "\\begin{equation}\n",
    "a_{m}^{(1)}(t) = \\frac{g}{\\hbar\\omega}\\left(e^{i\\omega t}-1\\right)\\delta_{m,1}.\n",
    "\\end{equation}"
   ]
  },
  {
   "cell_type": "markdown",
   "metadata": {},
   "source": [
    "Correção de segunda ordem:\n",
    "\\begin{align}\n",
    "a_{m}^{(2)}(t) & = \\frac{1}{i\\hbar}\\int_{0}^{t}dt'\\sum_{n}a_{n}^{(1)}(t')e^{i\\omega_{mn}t'}\\langle m|H_{1}|n\\rangle \\\\\n",
    "& = \\frac{1}{i\\hbar}\\int_{0}^{t}dt'\\sum_{n}\\frac{g}{\\hbar\\omega}\\left(e^{i\\omega t'}-1\\right)\\delta_{n,1}e^{i\\omega_{mn}t'}(-g)(\\sqrt{n+1}\\delta_{m,n+1} + \\sqrt{n}\\delta_{m,n-1}) \\\\\n",
    "& = \\frac{-g^{2}}{i\\hbar^{2}\\omega}\\int_{0}^{t}dt'\\left(e^{i\\omega t'}-1\\right)e^{i\\omega_{m,1}t'}(\\sqrt{1+1}\\delta_{m,1+1} + \\sqrt{1}\\delta_{m,1-1}) \\\\\n",
    "& = \\frac{-g^{2}}{i\\hbar^{2}\\omega}\\left(\\sqrt{2}\\delta_{m,2}\\int_{0}^{t}dt'\\left(e^{i\\omega t'}-1\\right)e^{i\\omega_{2,1}t'} + \\delta_{m,0}\\int_{0}^{t}dt'\\left(e^{i\\omega t'}-1\\right)e^{i\\omega_{0,1}t'} \\right) \\\\\n",
    "& = \\frac{-g^{2}}{i\\hbar^{2}\\omega}\\left(\\sqrt{2}\\delta_{m,2}\\int_{0}^{t}dt'\\left(e^{i\\omega t'}-1\\right)e^{i\\omega t'} + \\delta_{m,0}\\int_{0}^{t}dt'\\left(e^{i\\omega t'}-1\\right)e^{-i\\omega t'} \\right) \\\\\n",
    "& = \\frac{-g^{2}}{i\\hbar^{2}\\omega}\\left(\\sqrt{2}\\delta_{m,2}\\left(\\int_{0}^{t}dt'e^{2i\\omega t'} - \\int_{0}^{t}dt'e^{i\\omega t'}\\right) + \\delta_{m,0}\\left(\\int_{0}^{t}dt' -\\int_{0}^{t}dt'e^{-i\\omega t'} \\right)\\right) \\\\\n",
    "& = \\frac{-g^{2}}{i\\hbar^{2}\\omega}\\left(\\sqrt{2}\\delta_{m,2}\\left(\\frac{e^{2i\\omega t}-1}{2i\\omega} - \\frac{e^{i\\omega t}-1}{i\\omega}\\right) + \\delta_{m,0}\\left(t - \\frac{e^{-i\\omega t}-1}{-i\\omega} \\right)\\right) \\\\\n",
    "& = \\frac{g^{2}}{\\hbar^{2}\\omega^{2}}\\left(\\sqrt{2}\\delta_{m,2}2^{-1}\\left(e^{2i\\omega t}-1 - 2e^{i\\omega t}+2\\right) + \\delta_{m,0}\\left(i\\omega t + e^{-i\\omega t}-1 \\right)\\right) \\\\\n",
    "& = \\left(\\frac{g}{\\hbar\\omega}\\right)^{2}\\left(\\delta_{m,2}2^{-1/2}\\left(e^{2i\\omega t}-1\\right)^{2} + \\delta_{m,0}\\left(i\\omega t + e^{-i\\omega t}-1 \\right)\\right).\n",
    "\\end{align}\n",
    "Note que haverá correção de segunda ordem somente para $m=0$ e para $m=2$."
   ]
  },
  {
   "cell_type": "markdown",
   "metadata": {},
   "source": [
    "Considerando forças pequenas ($g\\ll \\hbar\\omega$), e contando que as correções de ordem maior terão magnitude proporcional a $(g/\\hbar\\omega)^{j}$, desprezamos correções de ordem maior que 2. Assim o estado corrigido (não normalizado) lê-se\n",
    "\\begin{align}\n",
    "|\\psi_{t}\\rangle & = \\sum_{n=0}^{\\infty}a_{n}(t)e^{-iE_{n}^{(0)}t/\\hbar}|n\\rangle \\\\\n",
    "& \\propto  a_{0}(t)e^{-iE_{0}^{(0)}t/\\hbar}|0\\rangle + a_{1}(t)e^{-iE_{1}^{(0)}t/\\hbar}|1\\rangle + a_{2}(t)e^{-iE_{2}^{(0)}t/\\hbar}|2\\rangle \\\\\n",
    "& \\approx \\left(c_{0}+a_{0}^{(1)}(t)+a_{0}^{(2)}(t)\\right)e^{-i\\omega t/2}|0\\rangle + \\left(c_{1}+a_{1}^{(1)}(t)+a_{1}^{(2)}(t)\\right)e^{-3i\\omega t/2}|1\\rangle + \\left(c_{2}+a_{2}^{(1)}(t)+a_{2}^{(2)}(t)\\right)e^{-5i\\omega t/2}|2\\rangle \\\\\n",
    "& = \\left(1+0+\\left(\\frac{g}{\\hbar\\omega}\\right)^{2}\\left(i\\omega t + e^{-i\\omega t}-1 \\right)\\right)e^{-i\\omega t/2}|0\\rangle + \\left(0+\\frac{g}{\\hbar\\omega}\\left(e^{i\\omega t}-1\\right)+0\\right)e^{-3i\\omega t/2}|1\\rangle \\\\\n",
    "& \\hspace{0.5cm} + \\left(0+0+\\left(\\frac{g}{\\hbar\\omega}\\right)^{2}2^{-1/2}\\left(e^{2i\\omega t}-1\\right)^{2}\\right)e^{-5i\\omega t/2}|2\\rangle \\\\\n",
    "& = \\left(1+\\left(\\frac{g}{\\hbar\\omega}\\right)^{2}\\left(i\\omega t + e^{-i\\omega t}-1 \\right)\\right)e^{-i\\omega t/2}|0\\rangle + \\frac{g}{\\hbar\\omega}\\left(e^{i\\omega t}-1\\right)e^{-3i\\omega t/2}|1\\rangle + \\left(\\frac{g}{\\hbar\\omega}\\right)^{2}2^{-1/2}\\left(e^{2i\\omega t}-1\\right)^{2}e^{-5i\\omega t/2}|2\\rangle.\n",
    "\\end{align}"
   ]
  },
  {
   "cell_type": "markdown",
   "metadata": {},
   "source": [
    "## Relação com a representação de interação\n"
   ]
  },
  {
   "cell_type": "markdown",
   "metadata": {},
   "source": [
    "---\n",
    "# Exercícios\n",
    "\n",
    "1. Para o exemplo do oscilador harmônico com força constante, no contexto da teoria de perturbação dependente do tempo, dado que a probabilidade de transição de um estado inicial $|\\psi_{i}\\rangle$ para um estado final $|\\psi_{f}\\rangle$ é dada por $Pr(|\\psi_{i}\\rangle\\rightarrow|\\psi_{f}\\rangle) = |\\langle\\psi_{i}|\\psi_{f}\\rangle|^{2}$, obtenha $Pr(|0\\rangle\\rightarrow|1\\rangle)$."
   ]
  },
  {
   "cell_type": "code",
   "execution_count": null,
   "metadata": {},
   "outputs": [],
   "source": []
  }
 ],
 "metadata": {
  "kernelspec": {
   "display_name": "Python 3 (ipykernel)",
   "language": "python",
   "name": "python3"
  },
  "language_info": {
   "codemirror_mode": {
    "name": "ipython",
    "version": 3
   },
   "file_extension": ".py",
   "mimetype": "text/x-python",
   "name": "python",
   "nbconvert_exporter": "python",
   "pygments_lexer": "ipython3",
   "version": "3.8.8"
  }
 },
 "nbformat": 4,
 "nbformat_minor": 2
}
