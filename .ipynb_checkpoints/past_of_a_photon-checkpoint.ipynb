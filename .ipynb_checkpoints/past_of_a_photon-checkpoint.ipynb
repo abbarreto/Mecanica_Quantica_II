{
 "cells": [
  {
   "cell_type": "markdown",
   "id": "eb1e4b60",
   "metadata": {},
   "source": [
    "# Interpretação de 2 estados da MQ\n",
    "\n",
    "* Lundeen, J. What Can we Say about a Photon’s Past? Physics 6, 133 (2013).\n",
    "* Danan, A., Farfurnik, D., Bar-Ad, S. & Vaidman, L. Asking Photons Where They Have Been. Phys. Rev. Lett. 111, 240402 (2013).\n"
   ]
  },
  {
   "cell_type": "code",
   "execution_count": null,
   "id": "ba092416",
   "metadata": {},
   "outputs": [],
   "source": []
  }
 ],
 "metadata": {
  "kernelspec": {
   "display_name": "Python 3 (ipykernel)",
   "language": "python",
   "name": "python3"
  },
  "language_info": {
   "codemirror_mode": {
    "name": "ipython",
    "version": 3
   },
   "file_extension": ".py",
   "mimetype": "text/x-python",
   "name": "python",
   "nbconvert_exporter": "python",
   "pygments_lexer": "ipython3",
   "version": "3.8.11"
  }
 },
 "nbformat": 4,
 "nbformat_minor": 5
}
