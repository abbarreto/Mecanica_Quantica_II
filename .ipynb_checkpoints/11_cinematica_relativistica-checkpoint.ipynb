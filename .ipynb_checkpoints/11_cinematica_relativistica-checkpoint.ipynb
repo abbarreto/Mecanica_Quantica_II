{
 "cells": [
  {
   "cell_type": "code",
   "execution_count": 2,
   "id": "399f8beb",
   "metadata": {},
   "outputs": [],
   "source": [
    "%run init.ipynb"
   ]
  },
  {
   "cell_type": "markdown",
   "id": "933bb4f9",
   "metadata": {},
   "source": [
    "# Cinemática Relativística\n",
    "\n",
    "## Sistemas de coordenadas no espaço euclidiano\n",
    "Consideremos coordenadas cartesianas $(x,y,z)$ de $\\mathbb{R}^{3}$ associada a um conjunto de versores $(\\hat{i},\\hat{j},\\hat{k})$ ortogonais. Consideremos também coordenadas não cartesianas $(u,v,w)$. Podemos escrever\n",
    "$$x=x(u,v,w),y=y(u,v,w),z=z(u,v,w).$$\n",
    "A princípio, podemos inverter essas relações para obter\n",
    "$$u=u(x,y,z),v=v(x,y,z),w=w(x,y,z).$$\n",
    "Em cada ponto $P$ deste espaço com coordenadas $(u_{0},v_{0},w_{0})$ passam três __superfíficies coordenadas__ definidas por\n",
    "$$u=u_{0},\\ v=v_{0},\\ w=w_{0}.$$\n",
    "As linhas onde essas superfícies se cruzam são chamadas de __curvas coordenadas__.\n",
    "\n",
    "##### Exemplo 1\n",
    "Coordenadas esféricas\n",
    "$$x=r\\sin\\theta\\cos\\phi,\\ y=r\\sin\\theta\\sin\\phi,\\ z=r\\cos\\theta,$$\n",
    "com $r\\ge 0$, $0\\le\\theta\\le\\pi$ e $0\\le\\phi<2\\pi$. Neste caso as superfícies coordenadas são: \n",
    "* $r=r_{0}\\rightarrow$ esfera de raio $r_{0}$, \n",
    "* $\\theta=theta_{0}\\rightarrow$ cone de abertura $\\theta_{0}$, \n",
    "* $\\phi=\\phi_{0}\\rightarrow$ plano semi-infinito. \n",
    "As superfícies coordenadas são:\n",
    "* $r=r_{0},\\phi=\\phi_{0}\\rightarrow$ linha reta que vai de $\\mathcal{O}$ (ponto de encontro dos eixos cartesianos $x$, $y$ e $z$) a $P$,\n",
    "* $r=r_{0},\\phi=\\phi_{0}\\rightarrow$ semi-círculo que passa por $P$ e tem extreminades no eixo $z$,\n",
    "* $\\theta=\\theta_{0},\\phi=\\phi_{0}\\rightarrow$ círculo no plano $xy$ passando por $P$ e com centro no eixo $z$.\n",
    "<br> $\\diamond$"
   ]
  },
  {
   "cell_type": "markdown",
   "id": "86960811",
   "metadata": {},
   "source": [
    "Vamos considerar um vetor posição neste espaço:\n",
    "$$\\vec{r} = x(u,v,w)\\hat{i} + y(u,v,w)\\hat{j} + z(u,v,w)\\hat{k}.$$\n",
    "\n",
    "A __equação paramétrica__ para um superfície coordenada $w=w_{0}$ pode ser escrita como\n",
    "$$\\vec{r}(u,v) = x(u,v,w_{0})\\hat{i} + y(u,v,w_{0})\\hat{j} + z(u,v,w_{0})\\hat{k}.$$\n",
    "De forma análoga, pode-se escrever as equações paramétricas $\\vec{r}(u,w)$ e $\\vec{r}(v,w)$ para as superfícies coordenadas $r=r_{0}$ e $v=v_{0}$, respectivamente.\n",
    "\n",
    "A equação paramétrica para a curva coordenada $v=v_{0}$ e $w=w_{0}$ é\n",
    "$$\\vec{r}(u) = x(u,v_{0},w_{0})\\hat{i} + y(u,v_{0},w_{0})\\hat{j} + z(u,v_{0},w_{0})\\hat{k}.$$\n",
    "Equações paramétricas para as outras duas curvas coordenadas são definidas de forma análoga.\n",
    "\n",
    "Consideremos os vetores tangente às curvas coordenadas\n",
    "$$e_{u} = \\frac{\\partial\\vec{r}}{\\partial u},\\ e_{v} = \\frac{\\partial\\vec{r}}{\\partial v},\\ e_{w} = \\frac{\\partial\\vec{r}}{\\partial w}.$$\n",
    "Quando calculados em $(u_{0},v_{0},w_{0})$, esses vetores nos fornecem as tangentes às curvas coordenadas no ponto $P$."
   ]
  },
  {
   "cell_type": "markdown",
   "id": "3c7c6f41",
   "metadata": {},
   "source": [
    "Comumente se considera coordenadas ortogonais e normaliza esses vetores,\n",
    "$$h_{1}=|e_{u}|,\\ h_{2}=|e_{v}|,\\ h_{3}=|e_{w}|,$$\n",
    "para obter uma base ortonormal\n",
    "$$\\hat{e}_{u}=\\frac{1}{h_{1}}e_{u},\\ \\hat{e}_{v}=\\frac{1}{h_{1}}e_{v},\\ \\hat{e}_{w}=\\frac{1}{h_{1}}e_{w}.$$\n",
    "Com isso, qualquer vetor pode ser escrito, no ponto $P$, em termos desta base. Por exemplo\n",
    "$$\\vec{\\lambda} = \\alpha\\hat{e}_{u} + \\beta\\hat{e}_{v} + \\gamma\\hat{e}_{w}.$$\n",
    "$(\\alpha,\\beta,\\gamma)$ são as componentes do vetor $\\vec{\\lambda}$, no ponto $P$, em relação à base $\\{\\hat{e}_{u},\\hat{e}_{v},\\hat{e}_{w}\\}$.\n",
    "\n",
    "OBS. Depois usaremos a __base natural__ \n",
    "$$e_{u},e_{v},e_{w}$$\n",
    "e não assumiremos ortogonalidade.\n",
    "\n",
    "##### Exemplo 2\n",
    "Para as coordenadas esféricas do Exemplo 1, os vetores da base natural são \n",
    "\\begin{align}\n",
    "e_{r} =& \\frac{\\partial \\vec{r}}{\\partial r} = \\sin\\theta\\cos\\phi\\hat{i} + \\sin\\theta\\sin\\phi\\hat{j} + \\cos\\theta\\hat{z}, \\\\\n",
    "e_{\\theta} =& \\frac{\\partial \\vec{r}}{\\partial \\theta} = r\\cos\\theta\\cos\\phi\\hat{i} + r\\cos\\theta\\sin\\phi\\hat{j} - r\\sin\\theta\\hat{z}, \\\\\n",
    "e_{r} =& \\frac{\\partial \\vec{r}}{\\partial \\phi} = -r\\sin\\theta\\sin\\phi\\hat{i} + r\\sin\\theta\\cos\\phi\\hat{j}.\n",
    "\\end{align}\n",
    "Esses vetores podem ser normalizados usando\n",
    "\\begin{align}\n",
    "h_{1} = |e_{r}| = \\sqrt{e_{r}\\cdot e_{e}} = \\sqrt{\\sin^{2}\\theta\\cos^{2}\\phi + \\sin^{2}\\theta\\sin^{2}\\phi + \\cos^{2}\\theta} = 1, \\\\\n",
    "h_{2} = |e_{\\theta}| = \\sqrt{e_{\\theta}\\cdot e_{\\theta}} = \\sqrt{r^{2}\\cos^{2}\\theta\\cos^{2}\\phi + r^{2}\\cos^{2}\\theta\\sin^{2}\\phi + r^{2}\\sin^{2}\\theta} = r, \\\\\n",
    "h_{3} = |e_{\\phi}| = \\sqrt{e_{\\phi}\\cdot e_{\\phi}} = \\sqrt{r^{2}\\sin^{2}\\theta\\sin^{2}\\phi + r^{2}\\sin^{2}\\theta\\cos^{2}\\phi} = r\\sin\\theta.\n",
    "\\end{align}\n",
    "Obtemos assim\n",
    "\\begin{align}\n",
    "\\hat{e}_{r} =& \\sin\\theta\\cos\\phi\\hat{i} + \\sin\\theta\\sin\\phi\\hat{j} + \\cos\\theta\\hat{z}, \\\\\n",
    "\\hat{e}_{\\theta} =& \\cos\\theta\\cos\\phi\\hat{i} + \\cos\\theta\\sin\\phi\\hat{j} - \\sin\\theta\\hat{z}, \\\\\n",
    "\\hat{e}_{r} =& = -\\sin\\phi\\hat{i} + \\cos\\phi\\hat{j}.\n",
    "\\end{align}\n",
    "Pode-se verificar que esses vetores são normalizados e mutuamente ortogonais.\n",
    "<br> $\\diamond$"
   ]
  },
  {
   "cell_type": "markdown",
   "id": "feadf2da",
   "metadata": {},
   "source": [
    "Além da base natural, podemos usar outras bases para representar um vetor em um certo espaço. Consideremos os campos escalares $u=u(x,y,z),v=v(x,y,z),w=w(x,y,z)$. Podemos escrever os vetores gradiente\n",
    "$$ \\nabla u = \\frac{\\partial u}{\\partial x}\\hat{i} + \\frac{\\partial u}{\\partial y}\\hat{j} + \\frac{\\partial u}{\\partial k}\\hat{k}.$$\n",
    "Expressões análogas segue para $\\nabla v$ e $\\nabla w$. Para cada ponto $P$, o gradiente é ortogonal à superfície coordenada neste ponto. Então $(\\nabla u,\\nabla v,\\nabla w)$ pode ser usada como uma base alternativa em $P$. Essa base é chamada de __base dual__:\n",
    "$$e^{u}=\\nabla u, e^{v}=\\nabla v, e^{w}=\\nabla w.$$\n",
    "OBS. Se o sistema de coordenadas é ortogonal, então $\\hat{e}_{i}=\\hat{e}^{i}$ para $i=u,v,w$.\n",
    "\n",
    "##### Exemplo 3\n",
    "Consideremos \n",
    "$$x=u+v,\\ y=u-v,\\ z=2uv+w$$\n",
    "com $-\\infty<u,v,w<\\infty$. Invertendo, teremos \n",
    "$$u=(x+y)/2,\\ v = (x-y)/2,\\ w = z-(x^{2}-y^{2})/2.$$\n",
    "As superífices coordenadas são planos para $u=u_{0}$ e $v=v_{0}$ e parabolóide hiperbólico para $w=w_{0}$.\n",
    "o vetor posição é\n",
    "$$\\vec{r} = (u+v)\\hat{i}+(u-v)\\hat{j}+(2uv+w)\\hat{k}.$$\n",
    "A base natural é\n",
    "\\begin{align}\n",
    "& e_{u} = \\frac{\\partial\\vec{r}}{\\partial u} = \\hat{i}+\\hat{j}+2v\\hat{k}, \\\\\n",
    "& e_{v} = \\frac{\\partial\\vec{r}}{\\partial v} = \\hat{i}-\\hat{j}+2u\\hat{k}, \\\\\n",
    "& e_{w} = \\frac{\\partial\\vec{r}}{\\partial w} = \\hat{k}.\n",
    "\\end{align}\n",
    "Note que $e_{u}$ e $e_{v}$ não são normalizados e que em geral esses vetores não são ortogonais: $e_{u}\\cdot e_{v}=4uv$, $e_{u}\\cdot e_{w}=2v$ e $e_{v}\\cdot e_{w}=2u$.\n",
    "A base dual é\n",
    "\\begin{align}\n",
    "& e^{u} = \\nabla u = (\\hat{i}+\\hat{j})/2, \\\\\n",
    "& e^{v} = \\nabla v = (\\hat{i}-\\hat{j})/2, \\\\\n",
    "& e^{w} = \\nabla w = -x\\hat{i}+y\\hat{j}+\\hat{k} = -(u+v)\\hat{i}+(u-v)\\hat{j}+\\hat{k}.\n",
    "\\end{align}\n",
    "Vemos assim que em geral $e_{i}$ não é paralelo a $e^{i}$. \n",
    "<br> $\\diamond$"
   ]
  },
  {
   "cell_type": "markdown",
   "id": "011bca81",
   "metadata": {},
   "source": [
    "Podemos escrever um vetor qualquer $\\vec{\\lambda}$ no ponto $P$ tanto em termos da base natural como em termos da base dual. Isso será feito usando a seguinte notação\n",
    "\\begin{align}\n",
    "\\vec{\\lambda} = \\lambda^{u}e_{u} + \\lambda^{v}e_{v} + \\lambda^{w}e_{w}, \\\\\n",
    "\\vec{\\lambda} = \\lambda_{u}e^{u} + \\lambda_{v}e^{v} + \\lambda_{w}e^{w}.\n",
    "\\end{align}\n",
    "Na notação sufixo usamos $i=1,2,3$ no lugar de $u,v,w$:\n",
    "\\begin{align}\n",
    "\\vec{\\lambda} = \\lambda^{1}e_{1} + \\lambda^{2}e_{2} + \\lambda^{3}e_{3} = \\sum_{i=1}^{3}\\lambda^{i}e_{i} \\equiv \\lambda^{i}e_{i}, \\\\\n",
    "\\vec{\\lambda} = \\lambda_{1}e^{1} + \\lambda_{2}e^{2} + \\lambda_{3}e^{3} = \\sum_{i=1}^{3}\\lambda_{i}e^{i} \\equiv \\lambda_{i}e^{i},\n",
    "\\end{align}\n",
    "Acima a posição dos índices é associada a seguinte nomenclatura:\n",
    "\\begin{align}\n",
    "& \\lambda^{i}\\rightarrow \\text{ componentes contravariantes } \\rightarrow \\text{ base natural}, \\\\\n",
    "& \\lambda_{i}\\rightarrow \\text{ componentes covariantes } \\rightarrow \\text{ base dual}.\n",
    "\\end{align}\n",
    "Também usamos a notação de Einstein\n",
    "\\begin{align}\n",
    "& \\lambda^{i}e_{i} = \\sum_{i=1}^{3}\\lambda^{i}e_{i}, \\\\\n",
    "& \\lambda_{i}e^{i} = \\sum_{i=1}^{3}\\lambda_{i}e^{i}.\n",
    "\\end{align}\n",
    "Ou seja, sempre que aparecer em uma expressão dois índices iguais, um covariante e o outro contravariante, independente da ordem, a soma naquele índice está implícita. "
   ]
  },
  {
   "cell_type": "markdown",
   "id": "b517bb0c",
   "metadata": {},
   "source": [
    "### Tensor métrico\n",
    "Consideremos o produto interno entre vetores da base natural e da base dual\n",
    "\\begin{align}\n",
    "e^{i}\\cdot e_{j} & = \\nabla u^{i}\\cdot \\frac{\\partial\\vec{r}}{\\partial u^{j}} \\\\\n",
    "& = \\Big(\\frac{\\partial u^{i}}{\\partial x}\\hat{i} + \\frac{\\partial u^{i}}{\\partial y}\\hat{j} + \\frac{\\partial u^{i}}{\\partial z}\\hat{k}\\Big)\\cdot\\Big(\\frac{\\partial x}{\\partial u^{j}}\\hat{i} + \\frac{\\partial y}{\\partial u^{j}}\\hat{j} + \\frac{\\partial z}{\\partial u^{j}}\\hat{k}\\Big) \\\\\n",
    "&  = \\frac{\\partial u^{i}}{\\partial u^{j}} = \\delta^{i}_{\\ j} = \\begin{cases}1 \\text{ se } i=j\\\\ 0 \\text{ se }i\\ne j\\end{cases}.\n",
    "\\end{align}\n",
    "Claro, $e_{i}\\cdot e^{j}=\\delta_{i}^{\\ j} = \\begin{cases}1 \\text{ se } i=j\\\\ 0 \\text{ se }i\\ne j\\end{cases}$. Assim, podemos verificar que as componentes de um vetor $\\vec{\\lambda}$ na base dual podem ser obtidas tomando-se o produto interno desse vetores com os vetores da base natural e vice-versa:\n",
    "\\begin{align}\n",
    "& \\vec{\\lambda}\\cdot e^{j} = \\lambda^{i}e_{i}\\cdot e^{j} = \\lambda^{i}\\delta_{i}^{\\ j} = \\lambda^{j}, \\\\\n",
    "& \\vec{\\lambda}\\cdot e_{j} = \\lambda_{i}e^{i}\\cdot e_{j} = \\lambda_{i}\\delta^{i}_{\\ j} = \\lambda_{j}.\n",
    "\\end{align}"
   ]
  },
  {
   "cell_type": "markdown",
   "id": "92cda233",
   "metadata": {},
   "source": [
    "Seguindo, podemos considerar diferentes forma de escrever o produto interno de dois vetores quaisquer\n",
    "\\begin{align}\n",
    "\\vec{\\lambda}\\cdot\\vec{\\mu} & = \\lambda_{i}e^{i}\\cdot\\mu_{j}e^{j} = g^{ij}\\lambda_{i}\\mu_{j} \\text{ com } g^{ij}:= e^{i}\\cdot e^{j}, \\\\\n",
    "\\vec{\\lambda}\\cdot\\vec{\\mu} & = \\lambda^{i}e_{i}\\cdot\\mu^{j}e_{j} = g_{ij}\\lambda^{i}\\mu^{j} \\text{ com } g_{ij}:= e_{i}\\cdot e_{j}, \\\\\n",
    "\\vec{\\lambda}\\cdot\\vec{\\mu} & = \\lambda_{i}e^{i}\\cdot\\mu^{j}e_{j} = \\delta^{i}_{\\ j}\\lambda_{i}\\mu^{j} = \\lambda_{i}\\mu^{i}, \\\\\n",
    "\\vec{\\lambda}\\cdot\\vec{\\mu} & = \\lambda^{i}e_{i}\\cdot\\mu_{j}e^{j} = \\delta_{i}^{\\ j}\\lambda^{i}\\mu_{j} = \\lambda^{i}\\mu_{i}.\n",
    "\\end{align}\n",
    "A quantidade com dois índices que aparece nestas equações e que está relacionada com o produto interno dos vetores da base natural ou da base dual,\n",
    "$$g_{ij}=e_{i}\\cdot e_{j} \\text{ e } g^{ij}=e^{i}\\cdot e^{j},$$\n",
    "é chamado de tensor métrico. O nome vem do fator dele aparecer na expressão para o produto interno, que está relacinado com norma e com medidas de distância.\n",
    "\n",
    "Além da simetria\n",
    "\\begin{align}\n",
    "& g_{ij}=e_{i}\\cdot e_{j} = e_{j}\\cdot e_{i} = g_{ji}, \\\\\n",
    "& g^{ij}=e^{i}\\cdot e^{j} = e^{j}\\cdot e^{i} = g^{ji},\n",
    "\\end{align}\n",
    "podemos usar as equações acima para obter outras propriedades deste tensor\n",
    "\\begin{align}\n",
    "g^{ij}\\lambda_{j}\\mu_{j} = \\mu^{i}\\lambda_{i}\\ \\therefore\\ g^{ij}\\mu_{j} = \\mu^{i}, \\\\\n",
    "g_{ij}\\lambda^{j}\\mu^{j} = \\mu_{i}\\lambda^{i}\\ \\therefore\\ g_{ij}\\mu^{j} = \\mu_{i}.\n",
    "\\end{align}\n",
    "Dizemos por isso que $g^{ij}$ levanta o índice do vetor, ou seja, leva componentes covariantes em componentes contravariantes (muda a representação da base $e^{i}$ para a base $e_{i}$), e que $g_{ij}$ abaixa o índice, levando a representação da base natural para a dual. Ademais, vemos que\n",
    "\\begin{align}\n",
    "& \\mu_{i}=g_{ij}\\mu^{j} = g_{ij}g^{jk}\\mu_{k}\\ \\therefore\\ g_{ij}g^{jk} = \\delta_{i}^{\\ k}, \\\\\n",
    "& \\mu^{i}=g^{ij}\\mu_{j} = g^{ij}g_{jk}\\mu_{k}\\ \\therefore\\ g^{ij}g_{jk} = \\delta^{i}_{\\ k}.\n",
    "\\end{align}"
   ]
  },
  {
   "cell_type": "code",
   "execution_count": null,
   "id": "771f76a9",
   "metadata": {},
   "outputs": [],
   "source": []
  },
  {
   "cell_type": "code",
   "execution_count": null,
   "id": "d48590d8",
   "metadata": {},
   "outputs": [],
   "source": []
  },
  {
   "cell_type": "markdown",
   "id": "1febf792",
   "metadata": {},
   "source": [
    "---\n",
    "# Exercícios\n",
    "\n",
    "1. Para coordenadas cartesianas, escreva $(u,v,w)$ em termos de $(x,y,z)$.\n",
    "\n",
    "1. Calcule a base dual para coordenadas esférica e verifique que neste caso $\\hat{e}_{i}=\\hat{e}^{i}$ para $i=r,\\theta,\\phi$."
   ]
  },
  {
   "cell_type": "code",
   "execution_count": null,
   "id": "1eb1c0c7",
   "metadata": {},
   "outputs": [],
   "source": []
  }
 ],
 "metadata": {
  "kernelspec": {
   "display_name": "Python 3 (ipykernel)",
   "language": "python",
   "name": "python3"
  },
  "language_info": {
   "codemirror_mode": {
    "name": "ipython",
    "version": 3
   },
   "file_extension": ".py",
   "mimetype": "text/x-python",
   "name": "python",
   "nbconvert_exporter": "python",
   "pygments_lexer": "ipython3",
   "version": "3.8.11"
  }
 },
 "nbformat": 4,
 "nbformat_minor": 5
}
