{
 "cells": [
  {
   "cell_type": "code",
   "execution_count": 2,
   "id": "399f8beb",
   "metadata": {},
   "outputs": [],
   "source": [
    "%run init.ipynb"
   ]
  },
  {
   "cell_type": "markdown",
   "id": "933bb4f9",
   "metadata": {},
   "source": [
    "# Mecânica Quântica Relativística"
   ]
  },
  {
   "cell_type": "markdown",
   "id": "aaf76e09",
   "metadata": {},
   "source": [
    "## Transformações de Lorentz\n",
    "As coordenadas espaço-temporais de um quanton em relação aos referenciais inerciais $O$ e $O'$ são relacionadas, a partir dos postulados da Relatividade Restrita, por uma transformação de Lorentz (TL):\n",
    "\\begin{equation}\n",
    "x'^{\\mu}=\\sum_{\\nu=0}^{3}\\Lambda_{\\nu}^{\\mu}x^{\\nu} \\equiv \\Lambda_{\\nu}^{\\mu}x^{\\nu},\n",
    "\\end{equation}\n",
    "em que $x^{\\mu}=(x^{0},x^{1},x^{2},x^{3})=(ct,x,y,z)$ e o boost de Lorentz $\\Lambda^{\\mu}_{\\nu}$ é\n",
    "\\begin{equation}\n",
    "\\Lambda = \\begin{bmatrix} \\gamma & -\\gamma\\vec{\\beta}^{T} \\\\ -\\gamma\\vec{\\beta} & \\left(\\mathbb{I}_{3}+(\\gamma-1)\\vec{\\beta}\\vec{\\beta}^{T}/\\beta^{2} \\right) \\end{bmatrix}\n",
    "\\end{equation}\n",
    "com $$\\gamma=\\frac{1}{\\sqrt{1-\\beta^{2}}}$$ e $\\vec{\\beta}=\\vec{V}/c$ é a velocidade relativa entre $O$ e $O'$. Vale observar que, em relação aos elementos de matriz, $\\Lambda^{\\mu}_{\\nu}\\equiv\\Lambda_{\\mu,\\nu}$."
   ]
  },
  {
   "cell_type": "markdown",
   "id": "611d0e01",
   "metadata": {},
   "source": [
    "## Não invariância relativística da equação de Schrödinger\n",
    "A equação de Schrödinger (EqS) é $i\\hbar\\partial_{t}|\\psi_{t}\\rangle=H_{t}|\\psi_{t}\\rangle$. Indo para a base de posição, usando $H_{t}=H=P^{2}/2m+U(\\vec{r})$ com $\\langle\\vec{r}|P|\\psi\\rangle=-i\\hbar\\vec{\\nabla}_{\\vec{r}}\\langle \\vec{r}|\\psi\\rangle$, teremos\n",
    "\\begin{align}\n",
    "i\\hbar\\partial_{t}\\psi(\\vec{r},t) &= \\left(-\\frac{\\hbar^{2}}{2m}\\nabla_{\\vec{r}}^{2}+U(\\vec{r})\\right)\\psi(\\vec{r},t) \\\\\n",
    "& = \\left(-\\frac{\\hbar^{2}}{2m}(\\partial_{xx}+\\partial_{yy}+\\partial_{zz})+U(\\vec{r})\\right)\\psi(\\vec{r},t)\\hspace{2cm} (\\star)\n",
    "\\end{align} \n",
    "não é invariante por TL, pois envolve a derivada 1ª no tempo e derivadas 2ª nas coordenadas espaciais."
   ]
  },
  {
   "cell_type": "markdown",
   "id": "292e8143",
   "metadata": {},
   "source": [
    "## Equação relativística?\n",
    "Focando nos autovalores de $H$, para a energia relativística\n",
    "\\begin{equation}\n",
    "E^{2} = m_{0}^{2}c^{4}+p^{2}c^{2},\n",
    "\\end{equation}\n",
    "para $p\\ll m_{0}c$, consideramos a raiz positiva\n",
    "\\begin{align}\n",
    "E & = \\sqrt{m_{0}^{2}c^{4}+p^{2}c^{2}} = m_{0}c^{2}\\sqrt{1+p^{2}/m_{0}^{2}c^{2}} \\\\\n",
    "& = m_{0}c^{2}\\left(1+\\frac{p^{2}}{2m_{0}^{2}c^{2}}-\\frac{p^{4}}{8m_{0}^{4}c^{4}}+\\frac{p^{6}}{16m_{0}^{6}c^{6}}+\\cdots\\right).\n",
    "\\end{align}\n",
    "Podemos quantizar essa expressão e obter a equação correspondente na base de posição, como na Eq. ($\\star$). Essa equação vai envolver a derivada 1ª no tempo e derivadas de várias ordens pares na posição, sendo portanto não invariante por transformações de Lorentz."
   ]
  },
  {
   "cell_type": "code",
   "execution_count": 8,
   "id": "fa985231",
   "metadata": {},
   "outputs": [
    {
     "data": {
      "image/png": "[encoded data removed]",
      "text/latex": [
       "$\\displaystyle 1 + \\frac{x^{2}}{2} - \\frac{x^{4}}{8} + \\frac{x^{6}}{16} + O\\left(x^{8}\\right)$"
      ],
      "text/plain": [
       "     2    4    6        \n",
       "    x    x    x     ⎛ 8⎞\n",
       "1 + ── - ── + ── + O⎝x ⎠\n",
       "    2    8    16        "
      ]
     },
     "execution_count": 8,
     "metadata": {},
     "output_type": "execute_result"
    }
   ],
   "source": [
    "x = symbols('x'); series(sqrt(1+x**2),x,0,8)"
   ]
  },
  {
   "cell_type": "markdown",
   "id": "61830511",
   "metadata": {},
   "source": [
    "## Equação de Klein-Gordon\n",
    "Para $H_{t}=H$, derivando a EqS em relação ao tempo, vem que\n",
    "\\begin{align}\n",
    "& i\\hbar\\partial_{tt}|\\psi_{t}\\rangle = \\partial_{t}(H|\\psi_{t}\\rangle) = H\\partial_{t}|\\psi_{t}\\rangle = H\\frac{H}{i\\hbar}|\\psi_{t}\\rangle \\\\\n",
    "& \\therefore\\ -\\hbar^{2}\\partial_{tt}|\\psi_{t}\\rangle = H^{2}|\\psi_{t}\\rangle.\n",
    "\\end{align}\n",
    "Assim, usando $H^{2}=m_{0}^{2}c^{4}\\mathbb{I}+P^{2}c^{2}$ e $\\langle\\vec{r}|P^{2}|\\psi_{t}\\rangle=-\\hbar^{2}\\vec{\\nabla}_{\\vec{r}}\\langle\\vec{r}|\\psi_{t}\\rangle$ teremos \n",
    "\\begin{align}\n",
    "& -\\hbar^{2}\\partial_{tt}|\\psi_{t}\\rangle = (m_{0}^{2}c^{4}\\mathbb{I}+P^{2}c^{2})|\\psi_{t}\\rangle \\ \\therefore\\ -\\hbar^{2}\\partial_{tt}\\psi_{t}(\\vec{r}) = m_{0}^{2}c^{4}\\psi_{t}(\\vec{r})-\\hbar^{2}\\nabla^{2}c^{2}\\psi_{t}(\\vec{r}) \\\\\n",
    "& \\therefore\\ \\left(-\\frac{1}{c^{2}}\\partial_{tt} + \\nabla^{2} - \\frac{m_{0}^{2}c^{2}}{\\hbar^{2}}\\right)\\psi_{t}(\\vec{r}) = 0 \\ \\therefore \\left(\\partial_{\\mu}\\partial^{\\mu} + \\frac{m_{0}^{2}c^{2}}{\\hbar^{2}}\\right)\\psi_{t}(\\vec{r}) = 0,\n",
    "\\end{align}\n",
    "em que usamos \n",
    "\\begin{equation}\n",
    "\\eta^{\\mu\\nu}=\\eta_{\\mu\\nu}=diag(1,-1,-1,-1)\n",
    "\\end{equation}\n",
    "para escrever\n",
    "\\begin{align}\n",
    "\\partial_{\\mu}\\partial^{\\mu} & = \\partial_{\\mu}\\eta^{\\mu\\nu}\\partial_{\\nu} = \\frac{\\partial}{\\partial x^{\\mu}}\\eta^{\\mu\\nu}\\frac{\\partial}{\\partial x^{\\nu}} \\\\\n",
    "& = \\frac{\\partial}{\\partial x^{0}}g^{00}\\frac{\\partial}{\\partial x^{0}} + \\frac{\\partial}{\\partial x^{1}}g^{11}\\frac{\\partial}{\\partial x^{1}} + \\frac{\\partial}{\\partial x^{2}}g^{22}\\frac{\\partial}{\\partial x^{2}} + \\frac{\\partial}{\\partial x^{3}}g^{33}\\frac{\\partial}{\\partial x^{3}} + 0 \\\\\n",
    "& = \\frac{\\partial}{\\partial (ct)}(1)\\frac{\\partial}{\\partial (ct)} + \\frac{\\partial}{\\partial x}(-1)\\frac{\\partial}{\\partial x} + \\frac{\\partial}{\\partial y}(-1)\\frac{\\partial}{\\partial y} + \\frac{\\partial}{\\partial z}(-1)\\frac{\\partial}{\\partial z} \\\\\n",
    "& = \\frac{1}{c^{2}}\\frac{\\partial^{2}}{\\partial t^{2}} - \\frac{\\partial^{2}}{\\partial x^{2}} - \\frac{\\partial^{2}}{\\partial y^{2}} - \\frac{\\partial^{2}}{\\partial z^{2}} = \\frac{1}{c^{2}}\\frac{\\partial^{2}}{\\partial t^{2}} - \\nabla^{2}.\n",
    "\\end{align}\n",
    "Quantidades como esta última equação são invariantes de Lorentz. Por conseguinte, a equação de Klein-Gordon (EqKG),\n",
    "\\begin{equation}\n",
    "\\left(\\partial_{\\mu}\\partial^{\\mu} + \\frac{m_{0}^{2}c^{2}}{\\hbar^{2}}\\right)\\psi_{t}(\\vec{r}) = 0,\n",
    "\\end{equation}\n",
    "é invariante por TL. "
   ]
  },
  {
   "cell_type": "markdown",
   "id": "01e32ab7",
   "metadata": {},
   "source": [
    "### Partícula livre\n",
    "Pode-se verificar que a onda harmônica \n",
    "\\begin{equation}\n",
    "\\phi_{t}(\\vec{r}) = Ne^{-i(\\vec{k}\\cdot\\vec{r}-\\omega t)} = Ne^{-i(\\vec{p}\\cdot\\vec{r}-Et)/\\hbar} = Ne^{-ip^{\\mu}p_{\\mu}/\\hbar},\n",
    "\\end{equation}\n",
    "em que definimos o quadrivetor momento \n",
    "\\begin{equation}\n",
    "p^{\\mu}=(E/c,\\vec{p}),\n",
    "\\end{equation}\n",
    "satisfaz a EqKG. Para isso, notemos que\n",
    "\\begin{align}\n",
    "\\partial_{0}\\partial^{0}\\phi_{t}(\\vec{r}) & = \\frac{1}{c^{2}}\\frac{\\partial^{2}\\phi_{t}(\\vec{r})}{\\partial t^{2}} = \\frac{1}{c^{2}}\\left(\\frac{iE}{\\hbar}\\right)^{2}\\phi_{t}(\\vec{r}) = -\\frac{E^{2}}{\\hbar^{2}c^{2}}\\phi_{t}(\\vec{r}), \\\\\n",
    "\\partial_{1}\\partial^{1}\\phi_{t}(\\vec{r}) & = -\\frac{\\partial^{2}}{\\partial x^{2}}Ne^{-i(p_{x}x+p_{y}y+p_{z}z-Et)/\\hbar} = -\\left(\\frac{-ip_{x}}{\\hbar}\\right)^{2}\\phi_{t}(\\vec{r}) = \\frac{p_{x}^{2}}{\\hbar^{2}}\\phi_{t}(\\vec{r}), \\\\\n",
    "\\partial_{2}\\partial^{2}\\phi_{t}(\\vec{r}) & = \\frac{p_{y}^{2}}{\\hbar^{2}}\\phi_{t}(\\vec{r}) \\text{, } \\partial_{3}\\partial^{3}\\phi_{t}(\\vec{r}) = \\frac{p_{z}^{2}}{\\hbar^{2}}\\phi_{t}(\\vec{r}).\n",
    "\\end{align}\n",
    "Assim, vem que\n",
    "\\begin{align}\n",
    "& \\left(\\partial_{\\mu}\\partial^{\\mu} + \\frac{m_{0}^{2}c^{2}}{\\hbar^{2}}\\right)\\psi_{t}(\\vec{r}) = \\left(-\\frac{E^{2}}{\\hbar^{2}c^{2}} + \\frac{p_{x}^{2}}{\\hbar^{2}} + \\frac{p_{y}^{2}}{\\hbar^{2}} + \\frac{p_{z}^{2}}{\\hbar^{2}} + \\frac{m_{0}^{2}c^{2}}{\\hbar^{2}} \\right)\\psi_{t}(\\vec{r}) \\\\\n",
    "& = \\left(-\\frac{E^{2}}{\\hbar^{2}c^{2}} + \\frac{p^{2}}{\\hbar^{2}} + \\frac{m_{0}^{2}c^{2}}{\\hbar^{2}} \\right)\\psi_{t}(\\vec{r}),\n",
    "\\end{align}\n",
    "que é satisfeita pois\n",
    "\\begin{equation}\n",
    "-\\frac{E^{2}}{\\hbar^{2}c^{2}} + \\frac{p^{2}}{\\hbar^{2}} + \\frac{m_{0}^{2}c^{2}}{\\hbar^{2}}=0\\ \\therefore\\ E^{2}=p^{2}c^{2}+m_{0}^{2}c^{4}.\n",
    "\\end{equation}"
   ]
  },
  {
   "cell_type": "markdown",
   "id": "62a45954",
   "metadata": {},
   "source": [
    "### Complicações com a equação de Klein-Gordon\n",
    "Existem algumas questões a serem tratadas sobre a EqKG. Primeiramente, notamos que partir da EqKG é possível definir a densidade de corrente de probabilidade e densidade de probabilidade como\n",
    "\\begin{equation}\n",
    "j^{\\mu} = \\frac{i\\hbar}{2m_{0}c}\\left(\\psi^{*}\\partial^{\\mu}\\psi-\\psi\\partial^{\\mu}\\psi^{*}\\right),\n",
    "\\end{equation}\n",
    "que satisfaz a equação da continuidade \n",
    "\\begin{equation}\n",
    "\\partial_{\\mu}j^{\\mu}=0.\n",
    "\\end{equation}\n",
    "No entanto, a densidade de probabilidade associada\n",
    "$\n",
    "j^{0} = \\frac{i\\hbar}{2m_{0}c}\\left(\\psi^{*}\\frac{\\partial\\psi}{\\partial t}-\\psi\\frac{\\partial\\psi^{*}}{\\partial t}\\right)\n",
    "$\n",
    "pode ser negativa, o que impede sua interpretação probabilística. Por exemplo, para a função de onda $\\phi_{t}(\\vec{r})$ teremos \n",
    "$$\\partial^{0}\\phi_{t}(\\vec{r})=iE\\phi_{t}(\\vec{r})/\\hbar c \\text{ e } \\partial^{0}\\phi_{t}(\\vec{r})^{*}=-iE\\phi_{t}(\\vec{r})^{*}/\\hbar c,$$ \n",
    "que nos fornece\n",
    "\\begin{align}\n",
    "j^{0} & = \\frac{i\\hbar}{2m_{0}c}\\left(\\frac{iE|\\phi_{t}(\\vec{r})|^{2}}{c\\hbar}+ \\frac{iE|\\phi_{t}(\\vec{r})|^{2}}{c\\hbar}\\right) = -\\frac{E}{m_{0}c^{2}}|\\phi_{t}(\\vec{r})|^{2},\n",
    "\\end{align}\n",
    "que é negativa para $E>0$."
   ]
  },
  {
   "cell_type": "markdown",
   "id": "5dfad69b",
   "metadata": {},
   "source": [
    "A segunda questão que surge da EqKG é que a igualdade $E^{2}=p^{2}c^{2}+m_{0}^{2}c^{4}$, satisfeita para a função de onda de uma partícula livre, também comporta energia negativa pois\n",
    "\\begin{equation}\n",
    "E=\\pm\\sqrt{p^{2}c^{2}+m_{0}^{2}c^{4}}.\n",
    "\\end{equation}\n",
    "Qual é a interpretação para a energia negativa de uma partícula livre?"
   ]
  },
  {
   "cell_type": "markdown",
   "id": "f69e5e64",
   "metadata": {},
   "source": [
    "## Equação de Dirac\n",
    "Acreditando que os problemas que aparecem na EqKG se devem à presença de uma derivada segunda no tempo, Dirac buscou uma equação de primeira ordem no tempo, ou seja, propondo a equação de Dirac (EqD)\n",
    "\\begin{equation}\n",
    "\\left(i\\gamma^{\\mu}\\partial_{\\mu}-\\frac{m_{0}c}{\\hbar}\\right)\\psi_{t}(\\vec{r})=0\n",
    "\\end{equation}\n",
    "e buscando os $\\gamma^{\\mu}$ que satisfazem condições adequadas. Como a EqD deve ser compatível com a expressão relativística $E^{2}=p^{2}c^{2}+m_{0}^{2}c^{4}$, esperamos obter a EqKG a partir da EqD. Para isso, vamos multiplicar a EqD por $\\left(-i\\gamma^{\\nu}\\partial_{\\nu}-\\frac{m_{0}c}{\\hbar}\\right)$:\n",
    "\\begin{align}\n",
    "& \\left(-i\\gamma^{\\nu}\\partial_{\\nu}-\\frac{m_{0}c}{\\hbar}\\right)\\left(i\\gamma^{\\mu}\\partial_{\\mu}-\\frac{m_{0}c}{\\hbar}\\right)\\psi_{t}(\\vec{r})=0 \\\\\n",
    "& \\therefore\\ \\left(\\gamma^{\\nu}\\partial_{\\nu}\\gamma^{\\mu}\\partial_{\\mu} + i\\left(\\gamma^{\\nu}\\partial_{\\nu}-\\gamma^{\\mu}\\partial_{\\mu}\\right)\\frac{m_{0}c}{\\hbar} + \\frac{m_{0}^{2}c^{2}}{\\hbar^{2}}\\right)\\psi_{t}(\\vec{r})=0 \\\\\n",
    "& \\therefore\\ \\left(\\gamma^{\\nu}\\gamma^{\\mu}\\partial_{\\nu}\\partial_{\\mu} + \\frac{m_{0}^{2}c^{2}}{\\hbar^{2}}\\right)\\psi_{t}(\\vec{r})=0.\n",
    "\\end{align}\n",
    "Como $\\partial_{\\mu}\\partial^{\\mu}=\\partial_{\\mu}\\eta^{\\mu\\nu}\\partial_{\\nu}=\\eta^{\\mu\\nu}\\partial_{\\mu}\\partial_{\\nu}=\\eta^{\\nu\\mu}\\partial_{\\mu}\\partial_{\\nu}$, simetrizamos os índices para obter\n",
    "\\begin{equation}\n",
    "\\frac{1}{2}(\\gamma^{\\nu}\\gamma^{\\mu}+\\gamma^{\\mu}\\gamma^{\\nu}) = \\frac{1}{2}\\{\\gamma^{\\mu},\\gamma^{\\nu}\\} = \\eta^{\\mu\\nu},\n",
    "\\end{equation}\n",
    "que define a chamada _álgebra de Clifford_. "
   ]
  },
  {
   "cell_type": "markdown",
   "id": "9f840de9",
   "metadata": {},
   "source": [
    "Dessa relação, teremos que\n",
    "\\begin{align}\n",
    "& (\\gamma^{0})^{2}=1, \\\\\n",
    "& (\\gamma^{j})^{2}=-1 \\text{ para } j=1,2,3, \\\\\n",
    "& \\gamma^{\\mu}\\gamma^{\\nu}=-\\gamma^{\\nu}\\gamma^{\\mu} \\text{ para } \\mu\\ne\\nu.\n",
    "\\end{align}\n",
    "Assim, para $\\mu\\ne k$ e $\\mu=0,1,2,3$ e $j=1,2,3$ teremos\n",
    "\\begin{align}\n",
    "& \\gamma^{\\mu}\\gamma^{j}=-\\gamma^{j}\\gamma^{\\mu} \\ \\therefore\\ \\gamma^{\\mu}\\gamma^{j}\\gamma^{j}=-\\gamma^{j}\\gamma^{\\mu}\\gamma^{j}  \\ \\therefore\\ \\gamma^{\\mu}(-1)=-\\gamma^{j}\\gamma^{\\mu}\\gamma^{j} \\\\\n",
    "& \\therefore\\ Tr(\\gamma^{\\mu}) = Tr(\\gamma^{j}\\gamma^{\\mu}\\gamma^{j}) = Tr(\\gamma^{\\mu}\\gamma^{j}\\gamma^{j}) = Tr(\\gamma^{\\mu}(-1)) = -Tr(\\gamma^{\\mu}) \\\\\n",
    "& \\therefore\\ Tr(\\gamma^{\\mu}) = 0.\n",
    "\\end{align}\n",
    "Seguindo, vamos olhar para as dimensões possíveis das matrizes de Dirac. Usamos novamente que $\\gamma^{\\mu}\\gamma^{\\nu}=-\\gamma^{\\nu}\\gamma^{\\mu}$. Se essas matrizes tem dimensão $d$, teremos que \n",
    "$$\\det(-\\gamma^{\\mu})=(-1)^{d}\\det(\\gamma^{\\mu}).$$\n",
    "Assim\n",
    "\\begin{align}\n",
    "& \\det(\\gamma^{\\mu}\\gamma^{\\nu}) = \\det(-\\gamma^{\\nu}\\gamma^{\\mu}) \\\\\n",
    "& \\det(\\gamma^{\\mu})\\det(\\gamma^{\\nu}) = \\det(-\\gamma^{\\nu})\\det(\\gamma^{\\mu}) = (-1)^{d}\\det(\\gamma^{\\nu})\\det(\\gamma^{\\mu}).\n",
    "\\end{align}\n",
    "Para que esta última igualdade seja satisfeita, i.e., para que \n",
    "$$(-1)^{d}=1,$$\n",
    "a dimensão $d$ deve ser um número par."
   ]
  },
  {
   "cell_type": "markdown",
   "id": "af37e667",
   "metadata": {},
   "source": [
    "### Partícula livre\n",
    "Seguindo, vamos aplicar a EqD ao caso da partícula livre. Usando\n",
    "\\begin{align}\n",
    "\\partial_{0}\\phi_{t}(\\vec{r}) & = \\frac{1}{c}\\frac{\\partial}{\\partial t}Ne^{-i(\\vec{p}\\cdot\\vec{r}-Et)/\\hbar} = \\frac{iE}{c\\hbar}\\phi_{t}(\\vec{r}), \\\\\n",
    "\\partial_{j}\\phi_{t}(\\vec{r}) & = \\frac{\\partial}{\\partial x^{j}}\\phi_{t}(\\vec{r}) = -\\frac{ip_{j}}{\\hbar}\\phi_{t}(\\vec{r}) \\text{ para } j=1,2,3,\n",
    "\\end{align}\n",
    "obteremos\n",
    "\\begin{align}\n",
    "& \\left(i\\gamma^{\\mu}\\partial_{\\mu}-\\frac{m_{0}c}{\\hbar}\\right)\\phi_{t}(\\vec{r}) = \\left(i\\gamma^{0}\\partial_{0}+i\\gamma^{1}\\partial_{1}+i\\gamma^{2}\\partial_{2}+i\\gamma^{3}\\partial_{3}-\\frac{m_{0}c}{\\hbar}\\right)\\phi_{t}(\\vec{r}) \\\\\n",
    "& = \\left(-\\gamma^{0}\\frac{E}{c\\hbar}+\\gamma^{1}\\frac{p_{1}}{\\hbar}+\\gamma^{2}\\frac{p_{2}}{\\hbar}+\\gamma^{3}\\frac{p_{3}}{\\hbar}-\\frac{m_{0}c}{\\hbar}\\right)\\phi_{t}(\\vec{r}) = -\\frac{1}{\\hbar}\\left(\\gamma^{0}\\frac{E}{c}-\\gamma^{1}p_{1}-\\gamma^{2}p_{2}-\\gamma^{3}p_{3}+m_{0}c\\right)\\phi_{t}(\\vec{r}) \\\\\n",
    "& = -\\frac{1}{\\hbar}\\left(\\gamma^{\\mu}p_{\\mu}+m_{0}c\\right)\\phi_{t}(\\vec{r}) = 0\n",
    "\\end{align}\n",
    "se \n",
    "\\begin{equation}\n",
    "\\gamma^{\\mu}p_{\\mu}+m_{0}c=0, \\hspace{2cm} (\\star\\star)\n",
    "\\end{equation}\n",
    "em que usamos \n",
    "$$p_{\\mu}=g_{\\mu\\nu}p^{\\nu}=(g_{00}p^{0},g_{11}p^{1},g_{22}p^{2},g_{33}p^{3})=(p^{0},-p^{1},-p^{2},-p^{3})=(E/c,-\\vec{p}).$$"
   ]
  },
  {
   "cell_type": "markdown",
   "id": "b5a8a25f",
   "metadata": {},
   "source": [
    "### Hamiltoniano de Dirac\n",
    "Seguindo, assumimos que a Eq. ($\\star\\star$) é válida em geral. Mais especificamente, assumimos que \n",
    "\\begin{equation}\n",
    "(\\gamma^{\\mu}p_{\\mu}+m_{0}c)\\psi_{t}(\\vec{r})=0.\n",
    "\\end{equation}\n",
    "Multiplicando essa equação por $\\gamma^{0}$, teremos\n",
    "\\begin{align}\n",
    "& \\gamma^{0}(\\gamma^{\\mu}p_{\\mu}+m_{0}c)\\psi_{t}(\\vec{r})= (\\gamma^{0}\\gamma^{\\mu}p_{\\mu} + \\gamma^{0}m_{0}c)\\psi_{t}(\\vec{r}) \\\\\n",
    "& = (\\gamma^{0}\\gamma^{0}p_{0} + \\gamma^{0}\\gamma^{j}p_{j} + \\gamma^{0}m_{0}c)\\psi_{t}(\\vec{r}) = ((1)(E/c) - \\gamma^{0}\\vec{\\gamma}\\cdot\\vec{p} + \\gamma^{0}m_{0}c)\\psi_{t}(\\vec{r}) \\\\\n",
    "& = (E/c - \\gamma^{0}\\vec{\\gamma}\\cdot\\vec{p} + \\gamma^{0}m_{0}c)\\psi_{t}(\\vec{r}) = 0.\n",
    "\\end{align}\n",
    "Se definirmos as matrizes de Dirac\n",
    "\\begin{equation}\n",
    "\\beta = -\\gamma^{0} \\text{ e } \\alpha_{j}=\\gamma^{0}\\gamma^{j}\n",
    "\\end{equation}\n",
    "obteremos o Hamiltoniano de Dirac\n",
    "\\begin{align}\n",
    "H\\psi_{t}(\\vec{r}) = (\\vec{\\alpha}\\cdot\\vec{p}c + \\beta m_{0}c^{2})\\psi_{t}(\\vec{r}) = E\\psi_{t}(\\vec{r}).\n",
    "\\end{align}"
   ]
  },
  {
   "cell_type": "markdown",
   "id": "3175e1b4",
   "metadata": {},
   "source": [
    "Impondo que o Hamiltoniano deve ser um operador hermitiano, $H^{\\dagger}=H$, teremos que\n",
    "\\begin{equation}\n",
    "\\beta^{\\dagger}=\\beta\\ \\therefore\\ (\\gamma^{0})^{\\dagger}=\\gamma^{0}\n",
    "\\end{equation}\n",
    "e\n",
    "\\begin{align}\n",
    "&(\\alpha_{j}p_{j})^{\\dagger} =\\alpha_{j}p_{j} \\ \\therefore\\ p_{j}^{\\dagger}\\alpha_{j}^{\\dagger} = p_{j}\\alpha_{j}^{\\dagger} = \\alpha_{j}p_{j} =: p_{j}\\alpha_{j} \\ \\therefore\\ \\alpha_{j}^{\\dagger}=\\alpha_{j} \\\\\n",
    "& \\therefore\\ (\\gamma^{0}\\gamma^{j})^{\\dagger} = \\gamma^{0}\\gamma^{j} \\ \\therefore\\ (\\gamma^{j})^{\\dagger}(\\gamma^{0})^{\\dagger} = (\\gamma^{j})^{\\dagger}\\gamma^{0} = \\gamma^{0}\\gamma^{j} = -\\gamma^{j}\\gamma^{0} \\\\\n",
    "& \\therefore\\ (\\gamma^{j})^{\\dagger}=-\\gamma^{j}.\n",
    "\\end{align}\n",
    "Acima consideramos $p_{j}$ sendo os autovalores de $P_{j}$, i.e., $p_{j}\\in\\mathbb{R}$.\n",
    "\n",
    "Construídas essas propriedades que as matrizes gama devem satisfazer, podemos olhar para possibilidades de matrizes. Para $d=2$ as matrizes de Pauli\n",
    "\\begin{equation}\n",
    "\\sigma_{1}=\\begin{bmatrix} 0 & 1 \\\\ 1 & 0 \\end{bmatrix} \\text{, } \\sigma_{2}=\\begin{bmatrix} 0 & -i \\\\ i & 0 \\end{bmatrix} \\text{, } \\sigma_{3}=\\begin{bmatrix} 1 & 0 \\\\ 0 & -1 \\end{bmatrix}\n",
    "\\end{equation}\n",
    "e a matriz identidade $\\sigma_{0} =\\begin{bmatrix} 1 & 0 \\\\ 0 & 1 \\end{bmatrix}$ formam uma base para o espaço vetorial de matrizes $2\\text{x}2$. No entanto, $\\{\\sigma_{0},\\sigma_{j}\\}=2\\sigma_{j}$ para $j=1,2,3$. Por conseguinte, a princípio a menor dimensão para a qual as matrizes $\\gamma^{\\mu}$ podem ser definidas é $d=4$. De fato, nesse caso, uma possibilidade para as _matrizes de Dirac_ é\n",
    "\\begin{align}\n",
    "\\gamma^{0} = \\begin{bmatrix} \\sigma_{0} & \\mathbb{O}_{2} \\\\ \\mathbb{O}_{2} & -\\sigma_{0} \\end{bmatrix} \\text{ e } \\gamma^{j} = \\begin{bmatrix} \\mathbb{O}_{2} & \\sigma_{j} \\\\ -\\sigma_{j} & \\mathbb{O}_{2} \\end{bmatrix} \\hspace{2cm} (*)\n",
    "\\end{align}\n",
    "para $j=1,2,3$. A verificação de que $\\{\\gamma^{\\mu},\\gamma^{\\nu}\\}=2\\eta_{\\mu\\nu}$ é feita com o código abaixo e é também deixada como exercício."
   ]
  },
  {
   "cell_type": "code",
   "execution_count": 18,
   "id": "a63aa46c",
   "metadata": {},
   "outputs": [],
   "source": [
    "def dirac(j):\n",
    "    if j == 0:\n",
    "        return Matrix([[1,0,0,0],[0,1,0,0],[0,0,-1,0],[0,0,0,-1]])\n",
    "    elif j == 1:\n",
    "        return Matrix([[0,0,0,1],[0,0,1,0],[0,-1,0,0],[-1,0,0,0]])\n",
    "    elif j == 2:\n",
    "        return Matrix([[0,0,0,-1j],[0,0,1j,0],[0,1j,0,0],[-1j,0,0,0]])\n",
    "    elif j == 3:\n",
    "        return Matrix([[0,0,1,0],[0,0,0,-1],[-1,0,0,0],[0,1,0,0]])"
   ]
  },
  {
   "cell_type": "code",
   "execution_count": 33,
   "id": "dbd52491",
   "metadata": {},
   "outputs": [
    {
     "name": "stdout",
     "output_type": "stream",
     "text": [
      "j= 0 ,k= 0 , Matrix([[2, 0, 0, 0], [0, 2, 0, 0], [0, 0, 2, 0], [0, 0, 0, 2]])\n",
      "j= 1 ,k= 1 , Matrix([[-2, 0, 0, 0], [0, -2, 0, 0], [0, 0, -2, 0], [0, 0, 0, -2]])\n",
      "j= 2 ,k= 2 , Matrix([[-2.00000000000000, 0, 0, 0], [0, -2.00000000000000, 0, 0], [0, 0, -2.00000000000000, 0], [0, 0, 0, -2.00000000000000]])\n",
      "j= 3 ,k= 3 , Matrix([[-2, 0, 0, 0], [0, -2, 0, 0], [0, 0, -2, 0], [0, 0, 0, -2]])\n"
     ]
    }
   ],
   "source": [
    "z4 = Matrix([[0,0,0,0],[0,0,0,0],[0,0,0,0],[0,0,0,0]])\n",
    "for j in range(0,4):\n",
    "    for k in range(0,4):\n",
    "        if(acomm(dirac(j),dirac(k)) != z4):\n",
    "            print('j=',j,',k=',k,',',acomm(dirac(j),dirac(k)))"
   ]
  },
  {
   "cell_type": "markdown",
   "id": "f3964989",
   "metadata": {},
   "source": [
    "#### Densidade de probabilidade positiva\n",
    "Note que como o Hamiltoniano é, neste caso, uma matriz $4\\text{x}4$, a função de onda não é uma função escalar como caso não relativístico da equação de Schrödinger. No caso relativístico da equação de Dirac a função de onda $\\psi_{t}(\\vec{r})$ é um vetor com $4$ componentes. Nesse caso a densidade de probabilidade pode ser definida como\n",
    "\\begin{equation}\n",
    "\\rho = \\psi^{\\dagger}\\psi,\n",
    "\\end{equation}\n",
    "que é não negativa, i.e., $\\rho\\ge 0$. Acima usamos a notação $\\rho=\\rho_{t}(\\vec{r})$ e $\\psi=\\psi_{t}(\\vec{r})$. \n",
    "\n",
    "Usando a equação de Dirac na forma $H\\psi=(\\vec{\\alpha}\\cdot\\vec{p}c+\\beta m_{0}c^{2})\\psi=E\\psi$ e fazendo as trocas $p_{j}\\rightarrow-i\\hbar\\frac{\\partial}{\\partial x^{j}}$ e $E\\rightarrow i\\hbar\\frac{\\partial}{\\partial t}$ teremos\n",
    "\\begin{equation}\n",
    "\\left(\\sum_{j=1}^{3}\\alpha_{j}p_{j}c+\\beta m_{0}c^{2}\\right)\\psi = \\left(-i\\hbar\\sum_{j=1}^{3}\\alpha_{j}\\frac{\\partial}{\\partial x^{j}}c+\\beta m_{0}c^{2}\\right)\\psi = i\\hbar\\frac{\\partial}{\\partial t}\\psi.\n",
    "\\end{equation}\n",
    "Tomando a adjunta desta equação, obtemos\n",
    "\\begin{equation}\n",
    "\\left(i\\hbar\\sum_{j=1}^{3}\\frac{\\partial}{\\partial x^{j}}\\psi^{\\dagger}\\alpha_{j}^{\\dagger}c+\\psi^{\\dagger}\\beta^{\\dagger} m_{0}c^{2}\\right) = -i\\hbar\\frac{\\partial}{\\partial t}\\psi^{\\dagger}.\n",
    "\\end{equation}\n",
    "Assim \n",
    "\\begin{align}\n",
    "\\partial_{t}\\rho & = (\\partial_{t}\\psi^{\\dagger})\\psi + \\psi^{\\dagger}(\\partial_{t}\\psi) \\\\\n",
    "& = \\frac{i}{\\hbar}\\left(i\\hbar\\sum_{j=1}^{3}\\frac{\\partial\\psi^{\\dagger}}{\\partial x^{j}}\\alpha_{j}c+\\psi^{\\dagger}\\beta m_{0}c^{2}\\right)\\psi -\\psi^{\\dagger}\\frac{i}{\\hbar}\\left(-i\\hbar\\sum_{j=1}^{3}\\alpha_{j}\\frac{\\partial}{\\partial x^{j}}c+\\beta m_{0}c^{2}\\right)\\psi \\\\\n",
    "& = -\\sum_{j=1}^{3}\\frac{\\partial\\psi^{\\dagger}}{\\partial x^{j}}\\alpha_{j}c\\psi + \\frac{i}{\\hbar}\\psi^{\\dagger}\\beta m_{0}c^{2}\\psi - \\sum_{j=1}^{3}\\psi^{\\dagger}\\alpha_{j}\\frac{\\partial\\psi}{\\partial x^{j}}c - \\frac{i}{\\hbar}\\psi^{\\dagger}\\beta m_{0}c^{2}\\psi \\\\\n",
    "& = -\\sum_{j=1}^{3}\\frac{\\partial(\\psi^{\\dagger}\\alpha_{j}c\\psi)}{\\partial x^{j}} = -\\vec{\\nabla}\\cdot\\vec{j},\n",
    "\\end{align}\n",
    "onde definimos a densidade de corrente de probabilidade\n",
    "\\begin{equation}\n",
    "\\vec{j} = \\psi^{\\dagger}\\vec{\\alpha}c\\psi.\n",
    "\\end{equation}\n",
    "Com isso, vemos que a EqD resolve o problema da não positividade da densidade de probabilidade presente na EqKG."
   ]
  },
  {
   "cell_type": "markdown",
   "id": "1febf792",
   "metadata": {},
   "source": [
    "---\n",
    "# Exercícios\n",
    "\n",
    "1. Usando a equação de Klein-Gordon, verifique que $j^{\\mu} = \\frac{i\\hbar}{2m_{0}c}\\left(\\psi^{*}\\partial^{\\mu}\\psi-\\psi\\partial^{\\mu}\\psi^{*}\\right)$ satisfaz a equação da continuidade $\\partial_{\\mu}j^{\\mu}=0$.\n",
    "\n",
    "1. Para as matrizes de Dirac na Eq. ($*$), com $j=1,2,3$, verifique que $\\{\\gamma^{\\mu},\\gamma^{\\nu}\\}=\\mathbb{O}_{4}$ para $\\mu\\ne\\nu$ e que $(\\gamma^{0})^{2}=\\mathbb{I}_{4}$ e $(\\gamma^{j})^{2}=-\\mathbb{I}_{4}$. Verifique também que $\\gamma^{0}$ é uma matriz hermitiana e que $\\gamma^{j}$ são matrizes anti-hermitianas."
   ]
  },
  {
   "cell_type": "code",
   "execution_count": null,
   "id": "1eb1c0c7",
   "metadata": {},
   "outputs": [],
   "source": []
  }
 ],
 "metadata": {
  "kernelspec": {
   "display_name": "Python 3 (ipykernel)",
   "language": "python",
   "name": "python3"
  },
  "language_info": {
   "codemirror_mode": {
    "name": "ipython",
    "version": 3
   },
   "file_extension": ".py",
   "mimetype": "text/x-python",
   "name": "python",
   "nbconvert_exporter": "python",
   "pygments_lexer": "ipython3",
   "version": "3.8.8"
  }
 },
 "nbformat": 4,
 "nbformat_minor": 5
}
