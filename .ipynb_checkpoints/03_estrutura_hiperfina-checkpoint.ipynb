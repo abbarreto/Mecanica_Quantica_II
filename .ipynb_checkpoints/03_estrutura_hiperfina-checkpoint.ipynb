{
 "cells": [
  {
   "cell_type": "markdown",
   "id": "8ee472de",
   "metadata": {},
   "source": [
    "# Estrutura hiperfina do átomo de Hidrogênio\n",
    "\n",
    "Como vimos, a interação eletrostática entre as cargas elétricas do próton e do elétron no átomo de Hidrogênio dão origem a sua estrutura \"principal\" de níveis energia:\n",
    "\\begin{equation}\n",
    "\\text{estrutura principal}\\propto 1\\text{ eV}.\n",
    "\\end{equation}\n",
    "No entanto, também vimos que a interação entre o spin do elétron com o campo magnético gerado pelo movimento relativo do próton, a consideração de efeitos relativísticos do movimento do elétron e a consideração de que o elétron, sendo um sistema quântico, tem dimensão espacial finita, nos levam à identificação de uma estrutura fina para os níveis de energia do átomo de Hidrogênio:\n",
    "\\begin{equation}\n",
    "\\text{estrutura fina}\\propto 10^{-3}\\text{ eV}.\n",
    "\\end{equation}\n",
    "Na sequência, consideraremos a interação do spin do elétron com o campo magnético gerado pelo spin do próton (ou vice-versa). Essa interação dará origem à estrutura hiperfina do átomo de Hidrogênio."
   ]
  },
  {
   "cell_type": "markdown",
   "id": "1e1bd399",
   "metadata": {},
   "source": [
    "## Campo magnético gerado por um dipolo magnético\n",
    "Começamos considerando o potencial vetor magnético\n",
    "\\begin{equation}\n",
    "\\vec{\\mathcal{A}} = \\frac{\\mu_{0}}{4\\pi}\\int_{V'}\\frac{\\vec{J}}{|\\vec{r}-\\vec{r}'|}dV',\n",
    "\\end{equation}\n",
    "em que $\\vec{r}$ é a posição do ponto $P$ onde estamos calculando $\\vec{\\mathcal{A}}$ e $\\vec{r}'$ é a posição da densidade de corrente elétrica $\\vec{J}$ em relação ao centro da distribuição de correntes. Usando a série de Taylor $(1+x)^{-1/2}=1-0.5x+\\cdots$, podemos escrever\n",
    "\\begin{align}\n",
    "\\frac{1}{|\\vec{r}-\\vec{r}'|} & = \\frac{1}{\\sqrt{r^{2}+r'^{2}-2\\vec{r}\\cdot\\vec{r}'}} = \\frac{1}{r\\sqrt{1+r'^{2}/r^{2}-2\\vec{r}\\cdot\\vec{r}'/r^{2}}} \\\\\n",
    "& = \\frac{1}{r}\\left(1+\\frac{r'^{2}}{r^{2}}-2\\frac{\\vec{r}\\cdot\\vec{r}'}{r^{2}}\\right)^{-1/2} \\approx  \\frac{1}{r}\\left(1-\\frac{1}{2}\\frac{r'^{2}}{r^{2}}+\\frac{1}{2}2\\frac{\\vec{r}\\cdot\\vec{r}'}{r^{2}}\\right) \\\\\n",
    "& = \\frac{1}{r}-\\frac{1}{2}\\frac{r'^{2}}{r^{3}} + \\frac{\\vec{r}\\cdot\\vec{r}'}{r^{3}} \\approx \\frac{1}{r} + \\frac{\\vec{r}\\cdot\\vec{r}'}{r^{3}}.\n",
    "\\end{align}\n",
    "Na última passagem, desprezamos o 2º termo considerando um dipolo magnético de dimensão muito pequena, i.e., $r'\\ll r$."
   ]
  },
  {
   "cell_type": "code",
   "execution_count": 12,
   "id": "a84afcaf",
   "metadata": {},
   "outputs": [
    {
     "data": {
      "text/latex": [
       "$\\displaystyle 1 - 0.5 x + 0.375 x^{2} + O\\left(x^{3}\\right)$"
      ],
      "text/plain": [
       "1 - 0.5*x + 0.375*x**2 + O(x**3)"
      ]
     },
     "execution_count": 12,
     "metadata": {},
     "output_type": "execute_result"
    }
   ],
   "source": [
    "from sympy import *\n",
    "x = symbols('x'); series((1+x)**(-1/2), x, 0, 3)"
   ]
  },
  {
   "cell_type": "markdown",
   "id": "73864b92",
   "metadata": {},
   "source": [
    "Com isso, teremos que\n",
    "\\begin{align}\n",
    "\\vec{\\mathcal{A}} & = \\frac{\\mu_{0}}{4\\pi}\\int_{V'}\\frac{\\vec{J}}{r}dV' + \\frac{\\mu_{0}}{4\\pi}\\int_{V'}\\frac{(\\vec{r}\\cdot\\vec{r}')\\vec{J}}{r^{3}}dV' \\\\\n",
    "& = \\frac{\\mu_{0}}{4\\pi r}\\int_{V'}\\vec{J}dV' + \\frac{\\mu_{0}}{4\\pi r^{3}}\\int_{V'}(\\vec{r}\\cdot\\vec{r}')\\vec{J}dV'\n",
    "\\end{align}\n",
    "Usando\n",
    "\\begin{equation}\n",
    "\\vec{\\nabla}\\cdot\\big(\\phi\\vec{A}\\big) = \\vec{\\nabla}\\phi\\cdot\\vec{A} + \\phi\\vec{\\nabla}\\cdot\\vec{A},\n",
    "\\end{equation}\n",
    "pode-se demonstrar que\n",
    "\\begin{equation}\n",
    "\\int_{V}\\big(f\\vec{J}\\cdot\\vec{\\nabla}g+g\\vec{J}\\cdot\\vec{\\nabla}f\\big)dV = 0, \\hspace{1cm} (\\star)\n",
    "\\end{equation}\n",
    "em que $f(\\vec{r})$ e $g(\\vec{r})$ são funções bem comportadas e $\\vec{J}$ é uma distribuição de corrente elétrica estacionária e localizada em um volume finito."
   ]
  },
  {
   "cell_type": "markdown",
   "id": "8c2afd6f",
   "metadata": {},
   "source": [
    "Se escolhemos\n",
    "\\begin{equation}\n",
    "f(\\vec{r}) = 1 \\text{ e } g(\\vec{r})=x_{j},\n",
    "\\end{equation}\n",
    "e as substituímos na eq. ($\\star$), vem que\n",
    "\\begin{align}\n",
    "& \\int_{V}\\big(1\\vec{J}\\cdot\\vec{\\nabla}x_{j}+x_{j}\\vec{J}\\cdot\\vec{\\nabla}1\\big)dV = \\int_{V}\\big(\\vec{J}\\cdot\\hat{e}_{j}+0\\big)dV \\\\\n",
    "& = \\int_{V}J_{j}dV = 0,\n",
    "\\end{align}\n",
    "que implica que\n",
    "\\begin{equation}\n",
    "\\int_{V}\\vec{J}dV = \\vec{0}.\n",
    "\\end{equation}"
   ]
  },
  {
   "cell_type": "markdown",
   "id": "207d55ff",
   "metadata": {},
   "source": [
    "Seguindo, substituindo esse resultado na equação para o potencial vetor magnético, e usando \n",
    "\\begin{equation}\n",
    "\\vec{A}\\cdot\\int_{V}\\vec{r}J_{i}dV = -\\frac{1}{2}\\sum_{j,k}\\epsilon_{ijk}A_{j}\\int_{V}\\big(\\vec{r}\\times\\vec{J}\\big)_{k}dV,\n",
    "\\end{equation}\n",
    "que é válida para qualquer campo vetorial $\\vec{A}$, teremos\n",
    "\\begin{align}\n",
    "\\vec{\\mathcal{A}} & = 0 + \\frac{\\mu_{0}}{4\\pi r^{3}}\\int_{V'}(\\vec{r}\\cdot\\vec{r}')\\vec{J}dV' = \\sum_{i}\\hat{e}_{i}\\frac{\\mu_{0}}{4\\pi r^{3}}\\vec{r}\\cdot\\int_{V'}\\vec{r}'J_{i}dV' \\\\\n",
    "& = -\\sum_{ijk}\\epsilon_{ijk}\\hat{e}_{i}\\frac{\\mu_{0}}{4\\pi r^{3}}x_{j}\\frac{1}{2}\\int_{V'}\\big(\\vec{r}'\\times\\vec{J}\\big)_{k}dV' = \\sum_{i}\\hat{e}_{i}\\Big(-\\frac{\\mu_{0}}{4\\pi r^{3}}\\sum_{jk}\\epsilon_{ijk}x_{j}\\mu_{k}\\Big) \\\\\n",
    "& = -\\frac{\\mu_{0}}{4\\pi r^{3}}\\sum_{i}\\hat{e}_{i}(\\vec{r}\\times\\vec{\\mu})_{i} = -\\frac{\\mu_{0}}{4\\pi r^{3}}\\vec{r}\\times\\vec{\\mu},\n",
    "\\end{align}\n",
    "em que usamos a definição de __momento de dipolo magnético__:\n",
    "\\begin{equation}\n",
    "\\vec{\\mu} := \\frac{1}{2}\\int_{V'}\\vec{r}'\\times\\vec{J}dV'.\n",
    "\\end{equation}"
   ]
  },
  {
   "cell_type": "markdown",
   "id": "a7f047c7",
   "metadata": {},
   "source": [
    "Utilizando a igualdade \n",
    "\\begin{equation}\n",
    "\\vec{\\nabla}\\times(\\vec{A}\\times\\vec{B}) = (\\vec{\\nabla}\\cdot\\vec{B})\\vec{A} - (\\vec{\\nabla}\\cdot\\vec{A})\\vec{B} + (\\vec{B}\\cdot\\vec{\\nabla})\\vec{A} - (\\vec{A}\\cdot\\vec{\\nabla})\\vec{B}\n",
    "\\end{equation}\n",
    "vamos passar para o cálculo do __campo magnético__ gerado pelo dipolo magnético:\n",
    "\\begin{align}\n",
    "\\vec{B}_{\\mu} & = \\vec{\\nabla}\\times\\vec{\\mathcal{A}} = -\\frac{\\mu_{0}}{4\\pi}\\vec{\\nabla}\\times\\Big(\\frac{\\vec{r}}{r^{3}}\\times\\vec{\\mu}\\Big) \\\\\n",
    "& = -\\frac{\\mu_{0}}{4\\pi}\\Big((\\vec{\\nabla}\\cdot\\vec{\\mu})\\frac{\\vec{r}}{r^{3}} -\\Big(\\vec{\\nabla}\\cdot\\frac{\\vec{r}}{r^{3}}\\Big)\\vec{\\mu} +(\\vec{\\mu}\\cdot\\vec{\\nabla})\\frac{\\vec{r}}{r^{3}} -\\Big(\\frac{\\vec{r}}{r^{3}}\\cdot\\vec{\\nabla}\\Big)\\vec{\\mu}\\Big) \\\\\n",
    "& = \\frac{\\mu_{0}}{4\\pi}\\Big(\\Big(\\vec{\\nabla}\\cdot\\frac{\\vec{r}}{r^{3}}\\Big)\\vec{\\mu} -(\\vec{\\mu}\\cdot\\vec{\\nabla})\\frac{\\vec{r}}{r^{3}}\\Big),\n",
    "\\end{align}\n",
    "em que usamos \n",
    "\\begin{equation}\n",
    "\\vec{\\nabla}\\cdot\\vec{\\mu} = \\Big(\\frac{\\vec{r}}{r^{3}}\\cdot\\vec{\\nabla}\\Big)\\vec{\\mu} = 0\n",
    "\\end{equation}\n",
    "pois o momento de dipolo magnético é um vetor fixo no espaço."
   ]
  },
  {
   "cell_type": "markdown",
   "id": "9418161e",
   "metadata": {},
   "source": [
    "Pode-se verificar que\n",
    "\\begin{equation}\n",
    "\\vec{\\nabla}\\cdot\\frac{\\vec{r}}{r^{3}} = 4\\pi\\delta(\\vec{r}).\n",
    "\\end{equation}\n",
    "e que\n",
    "\\begin{equation}\n",
    "(\\vec{\\mu}\\cdot\\vec{\\nabla})\\frac{\\vec{r}}{r^{3}} = \\frac{\\vec{\\mu}}{r^{3}} - 3\\frac{(\\vec{\\mu}\\cdot\\vec{r})\\vec{r}}{r^{5}}.\n",
    "\\end{equation}"
   ]
  },
  {
   "cell_type": "markdown",
   "id": "1e88d379",
   "metadata": {},
   "source": [
    "Substituindo esses resultados, podemos escrever o campo magnético como segue\n",
    "\\begin{align}\n",
    "\\vec{B}_{\\mu} & = \\frac{\\mu_{0}}{4\\pi}\\Big(4\\pi\\delta(\\vec{r})\\vec{\\mu} - \\frac{\\vec{\\mu}}{r^{3}} + \\frac{3(\\vec{\\mu}\\cdot\\vec{r})\\vec{r}}{r^{5}}\\Big) \\\\\n",
    "& = \\frac{\\mu_{0}}{4\\pi}\\Big(\\frac{3(\\vec{\\mu}\\cdot\\hat{r})\\hat{r} - \\vec{\\mu}}{r^{3}} + 4\\pi(1-d)\\delta(\\vec{r})\\vec{\\mu} \\Big),\n",
    "\\end{align}\n",
    "onde introduzimos o parâmetro $d$, chamado de fator de desmagnetização, que é usado de maneira fenomenológica para levar em conta possíveis assimetrias da distribuição de correntes responsável pelo dispolo magnético.\n",
    "\n",
    "Com isso, podemos calcular a energia potencial de interação entre o momento magnético do elétron com o campo magnético gerado pelo momento magnético do próton:\n",
    "\\begin{align}\n",
    "U & = -\\vec{\\mu}_{e}\\cdot\\vec{B}_{\\mu_{p}} \\\\\n",
    "& = -\\vec{\\mu}_{e}\\cdot\\frac{\\mu_{0}}{4\\pi}\\Big(\\frac{3(\\vec{\\mu}_{p}\\cdot\\hat{r})\\hat{r} - \\vec{\\mu}_{p}}{r^{3}} + 4\\pi(1-d)\\delta(\\vec{r})\\vec{\\mu}_{p} \\Big) \\\\\n",
    "& = \\frac{\\mu_{0}}{4\\pi}\\Big(\\frac{\\vec{\\mu}_{e}\\cdot\\vec{\\mu}_{p} - 3(\\vec{\\mu}_{p}\\cdot\\hat{r})(\\vec{\\mu}_{e}\\cdot\\hat{r})}{r^{3}} - 4\\pi(1-d)\\delta(\\vec{r})\\vec{\\mu}_{e}\\cdot\\vec{\\mu}_{p}\\Big).\n",
    "\\end{align}"
   ]
  },
  {
   "cell_type": "markdown",
   "id": "cdc00205",
   "metadata": {},
   "source": [
    "Usando a relação entre momento magnético e momento angular (veja a aula sobre spin):\n",
    "\\begin{equation}\n",
    "\\vec{\\mu} = \\frac{q}{2m}\\vec{L} = \\frac{1}{\\hbar}\\frac{q\\hbar}{2m}\\vec{L} = \\frac{1}{\\hbar}\\mu_{b}\\vec{L},\n",
    "\\end{equation}\n",
    "com\n",
    "\\begin{equation}\n",
    "\\mu_{b} := \\frac{q\\hbar}{2m}\n",
    "\\end{equation}\n",
    "sendo o magneton de Bohr, podemos escrever as relações entre os momentos de dipolo magnético intrínsecos e momentos angulares intrínsecos do elétron e do próton como segue:\n",
    "\\begin{equation}\n",
    "\\vec{\\mu}_{e} = \\frac{g_{e}\\mu_{be}}{\\hbar}\\vec{S}_{e} \\text{ e } \\vec{\\mu}_{p} = \\frac{g_{p}\\mu_{bp}}{\\hbar}\\vec{S}_{p},\n",
    "\\end{equation}\n",
    "em que introduzimos os fatores giromagnéticos do elétron e do próton.\n",
    "\n",
    "Com isso podemos substituir as variáveis clássicas na expressão para a energia potencial de interação entre os dois momentos de dipolo magnético para assim obter o operador hamiltoniano quântico:\n",
    "\\begin{equation}\n",
    "H_{ss} = \\frac{\\mu_{0}g_{e}\\mu_{be}g_{p}\\mu_{bp}}{4\\pi\\hbar^{2}}\\Big(\\frac{\\vec{S}_{e}\\cdot\\vec{S}_{p} - 3(\\vec{S}_{p}\\cdot\\hat{r})(\\vec{S}_{e}\\cdot\\hat{r})}{r^{3}} - 4\\pi(1-d)\\delta(\\vec{r})\\vec{S}_{e}\\cdot\\vec{S}_{p}\\Big).\n",
    "\\end{equation}"
   ]
  },
  {
   "cell_type": "markdown",
   "id": "21986831",
   "metadata": {},
   "source": [
    "Seguindo, utilizaremos a soma de momentos angulares de spin do próton e do elétron,\n",
    "\\begin{equation}\n",
    "\\vec{S} = \\vec{S}_{e}\\otimes\\mathbb{I}_{p} + \\mathbb{I}_{e}\\otimes\\vec{S}_{p},\n",
    "\\end{equation}\n",
    "para escrever\n",
    "\\begin{align}\n",
    "S^{2} & = \\vec{S}\\cdot\\vec{S} = \\big(\\vec{S}_{e}\\otimes\\mathbb{I}_{p} + \\mathbb{I}_{e}\\otimes\\vec{S}_{p}\\big)\\cdot\\big(\\vec{S}_{e}\\otimes\\mathbb{I}_{p} + \\mathbb{I}_{e}\\otimes\\vec{S}_{p}\\big) \\\\\n",
    "& = \\vec{S}_{e}\\cdot\\vec{S}_{e}\\otimes\\mathbb{I}_{p} + \\mathbb{I}_{e}\\otimes\\vec{S}_{p}\\cdot\\vec{S}_{p} + \\big(\\vec{S}_{e}\\otimes\\mathbb{I}_{p}\\big)\\cdot\\big(\\mathbb{I}_{e}\\otimes\\vec{S}_{p}\\big) + \\big(\\mathbb{I}_{e}\\otimes\\vec{S}_{p}\\big)\\cdot\\big(\\vec{S}_{e}\\otimes\\mathbb{I}_{p}\\big) \\\\\n",
    "& =: S_{e}^{2}\\otimes\\mathbb{I}_{p} + \\mathbb{I}_{e}\\otimes S_{p}^{2} + 2\\vec{S}_{e}\\cdot \\vec{S}_{p},\n",
    "\\end{align}\n",
    "em que utilizamos a notação\n",
    "\\begin{equation}\n",
    "2\\vec{S}_{e}\\cdot \\vec{S}_{p} := \\big(\\vec{S}_{e}\\otimes\\mathbb{I}_{p}\\big)\\cdot\\big(\\mathbb{I}_{e}\\otimes\\vec{S}_{p}\\big) + \\big(\\mathbb{I}_{e}\\otimes\\vec{S}_{p}\\big)\\cdot\\big(\\vec{S}_{e}\\otimes\\mathbb{I}_{p}\\big).\n",
    "\\end{equation}\n",
    "Com isso, temos que\n",
    "\\begin{equation}\n",
    "\\vec{S}_{e}\\cdot \\vec{S}_{p} = \\frac{1}{2}\\Big(S^{2} - S_{e}^{2}\\otimes\\mathbb{I}_{p} - \\mathbb{I}_{e}\\otimes S_{p}^{2}\\Big).\n",
    "\\end{equation}"
   ]
  },
  {
   "cell_type": "markdown",
   "id": "8519d152",
   "metadata": {},
   "source": [
    "Também podemos usar\n",
    "\\begin{align}\n",
    "\\big(\\vec{S}\\cdot\\vec{r}\\big)^{2} & = \\big((\\vec{S}_{e}+\\vec{S}_{p})\\cdot\\vec{r}\\big)^{2} = \\big(\\vec{S}_{e}\\cdot\\vec{r}+\\vec{S}_{p}\\cdot\\vec{r}\\big)^{2} \\\\\n",
    "& = (\\vec{S}_{e}\\cdot\\vec{r})^{2} + (\\vec{S}_{p}\\cdot\\vec{r})^{2} + 2(\\vec{S}_{e}\\cdot\\vec{r})(\\vec{S}_{p}\\cdot\\vec{r})\n",
    "\\end{align}\n",
    "para escrever\n",
    "\\begin{equation}\n",
    "(\\vec{S}_{e}\\cdot\\vec{r})(\\vec{S}_{p}\\cdot\\vec{r}) = \\frac{1}{2}\\Big(\\big(\\vec{S}\\cdot\\vec{r}\\big)^{2} -(\\vec{S}_{e}\\cdot\\vec{r})^{2} - (\\vec{S}_{p}\\cdot\\vec{r})^{2} \\Big).\n",
    "\\end{equation}\n",
    "\n",
    "Com isso, podemos escrever o hamiltoniano de interação spin-spin como segue\n",
    "\\begin{align}\n",
    "H_{ss} & = \\frac{\\mu_{0}g_{e}\\mu_{be}g_{p}\\mu_{bp}}{8\\pi\\hbar^{2}}\\Big(\\frac{\\big(S^{2} - S_{e}^{2}\\otimes\\mathbb{I}_{p} - \\mathbb{I}_{e}\\otimes S_{p}^{2}\\big) - 3\\big(\\big(\\vec{S}\\cdot\\hat{r}\\big)^{2} -(\\vec{S}_{e}\\cdot\\hat{r})^{2} - (\\vec{S}_{p}\\cdot\\hat{r})^{2} \\big)}{r^{3}} \\\\\n",
    "& \\hspace{3.5cm} - 4\\pi(1-d)\\delta(\\vec{r})\\big(S^{2} - S_{e}^{2}\\otimes\\mathbb{I}_{p} - \\mathbb{I}_{e}\\otimes S_{p}^{2}\\big)\\Big).\n",
    "\\end{align}"
   ]
  },
  {
   "cell_type": "code",
   "execution_count": null,
   "id": "c5d2add7",
   "metadata": {},
   "outputs": [],
   "source": []
  },
  {
   "cell_type": "code",
   "execution_count": null,
   "id": "d265c707",
   "metadata": {},
   "outputs": [],
   "source": []
  },
  {
   "cell_type": "code",
   "execution_count": null,
   "id": "005a72aa",
   "metadata": {},
   "outputs": [],
   "source": []
  },
  {
   "cell_type": "markdown",
   "id": "46051510",
   "metadata": {},
   "source": [
    "---\n",
    "# Exercícios\n",
    "\n",
    "1. Para um campo escalar qualquer $\\phi=\\phi(\\vec{r})$ e para um campo vetorial qualquer $\\vec{A}=\\vec{A}(\\vec{r})$, verifique a igualdade\n",
    "\\begin{equation}\n",
    "\\vec{\\nabla}\\cdot\\big(\\phi\\vec{A}\\big) = \\vec{\\nabla}\\phi\\cdot\\vec{A} + \\phi\\vec{\\nabla}\\cdot\\vec{A}.\n",
    "\\end{equation}\n",
    "\n",
    "1. Considerando duas funções bem comportadas $f(\\vec{r})$ e $g(\\vec{r})$ e uma distribuição de corrente elétrica estacionária e localizada em um volume finito, demonstre a igualdade\n",
    "\\begin{equation}\n",
    "\\int_{V}\\big(f\\vec{J}\\cdot\\vec{\\nabla}g+g\\vec{J}\\cdot\\vec{\\nabla}f\\big)dV = 0.\n",
    "\\end{equation}\n",
    "\n",
    "1. Utilizando o resultado do último exercício, verifique que\n",
    "\\begin{align}\n",
    "\\vec{A}\\cdot\\int_{V}\\vec{r}J_{i}dV & = -\\frac{1}{2}\\sum_{j}A_{j}\\int_{V}\\big(x_{j}J_{j}-x_{j}J_{i}\\big)dV \\\\\n",
    "& = -\\frac{1}{2}\\sum_{j,k}\\epsilon_{ijk}A_{j}\\int_{V}\\big(\\vec{r}\\times\\vec{J}\\big)_{k}dV. \n",
    "\\end{align}\n",
    "\n",
    "1. Verifique a igualdade\n",
    "\\begin{equation}\n",
    "\\vec{\\nabla}\\times(\\vec{A}\\times\\vec{B}) = (\\vec{\\nabla}\\cdot\\vec{B})\\vec{A} - (\\vec{\\nabla}\\cdot\\vec{A})\\vec{B} + (\\vec{B}\\cdot\\vec{\\nabla})\\vec{A} - (\\vec{A}\\cdot\\vec{\\nabla})\\vec{B}.\n",
    "\\end{equation}\n",
    "\n",
    "1. Verifique que\n",
    "\\begin{equation}\n",
    "\\vec{\\nabla}\\cdot\\frac{\\vec{r}}{r^{3}} = 4\\pi\\delta(\\vec{r}).\n",
    "\\end{equation}\n",
    "\n",
    "1. Verifique que\n",
    "\\begin{equation}\n",
    "(\\vec{\\mu}\\cdot\\vec{\\nabla})\\frac{\\vec{r}}{r^{3}} = \\frac{\\vec{\\mu}}{r^{3}} - 3\\frac{(\\vec{\\mu}\\cdot\\vec{r})\\vec{r}}{r^{5}}.\n",
    "\\end{equation}"
   ]
  },
  {
   "cell_type": "code",
   "execution_count": null,
   "id": "6538c94c",
   "metadata": {},
   "outputs": [],
   "source": []
  }
 ],
 "metadata": {
  "kernelspec": {
   "display_name": "Python 3 (ipykernel)",
   "language": "python",
   "name": "python3"
  },
  "language_info": {
   "codemirror_mode": {
    "name": "ipython",
    "version": 3
   },
   "file_extension": ".py",
   "mimetype": "text/x-python",
   "name": "python",
   "nbconvert_exporter": "python",
   "pygments_lexer": "ipython3",
   "version": "3.8.11"
  }
 },
 "nbformat": 4,
 "nbformat_minor": 5
}
