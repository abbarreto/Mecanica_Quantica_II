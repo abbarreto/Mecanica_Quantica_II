{
 "cells": [
  {
   "cell_type": "markdown",
   "id": "8ee472de",
   "metadata": {},
   "source": [
    "# Estrutura hiperfina do átomo de Hidrogênio\n",
    "\n",
    "Como vimos, a interação eletrostática entre as cargas elétricas do próton e do elétron no átomo de Hidrogênio dá origem a sua estrutura \"principal\" de níveis energia:\n",
    "\\begin{equation}\n",
    "\\text{estrutura principal}\\propto 1\\text{ eV}.\n",
    "\\end{equation}\n",
    "No entanto, também vimos que a interação entre o spin do elétron com o campo magnético gerado pelo movimento relativo do próton, a consideração de efeitos relativísticos do movimento do elétron e a consideração de que o elétron, sendo um sistema quântico, tem dimensão espacial finita, nos levam à identificação de uma estrutura fina para os níveis de energia do átomo de Hidrogênio:\n",
    "\\begin{equation}\n",
    "\\text{estrutura fina}\\propto 10^{-3}\\text{ eV}.\n",
    "\\end{equation}\n",
    "Na sequência, consideraremos a interação do spin do elétron com o campo magnético gerado pelo spin do próton (ou vice-versa). Essa interação dará origem a correções ainda menores para a energia de $H$, sendo responsável pela chamada estrutura hiperfina do átomo de Hidrogênio: \n",
    "\\begin{equation}\n",
    "\\text{estrutura hiperfina}\\propto 10^{-6}\\text{ eV}.\n",
    "\\end{equation}\n",
    "\n",
    "A seguir vamos iniciar obtendo o campo magnético gerado por um momento de dipolo magnético clássico. Usaremos esse campo para obter a energia potencial de interação entre dois momentos de dipolo magnético clássicos. Feito isso, quantizaremos essa expressão para obter o hamiltoniano que descreve a interação entre dois dipolos magnéticos quânticos. Esse hamiltoniano será usado para obter as correções perturbativas que levam a estrutura hiperfina de $H$."
   ]
  },
  {
   "cell_type": "markdown",
   "id": "a64556a5",
   "metadata": {},
   "source": [
    "## Campo magnético gerado por um dipolo magnético\n",
    "Começamos considerando o potencial vetor magnético\n",
    "\\begin{equation}\n",
    "\\vec{\\mathcal{A}} = \\frac{\\mu_{0}}{4\\pi}\\int_{V'}\\frac{\\vec{J}}{|\\vec{r}-\\vec{r}'|}dV',\n",
    "\\end{equation}\n",
    "em que $\\vec{r}$ é a posição do ponto $P$ onde estamos calculando $\\vec{\\mathcal{A}}$ e $\\vec{r}'$ é a posição da densidade de corrente elétrica $\\vec{J}$ em relação ao centro da distribuição de correntes. Usando a série de Taylor $(1+x)^{-1/2}=1-0.5x+\\cdots$, podemos escrever\n",
    "\\begin{align}\n",
    "\\frac{1}{|\\vec{r}-\\vec{r}'|} & = \\frac{1}{\\sqrt{r^{2}+r'^{2}-2\\vec{r}\\cdot\\vec{r}'}} = \\frac{1}{r\\sqrt{1+r'^{2}/r^{2}-2\\vec{r}\\cdot\\vec{r}'/r^{2}}} \\\\\n",
    "& = \\frac{1}{r}\\left(1+\\frac{r'^{2}}{r^{2}}-2\\frac{\\vec{r}\\cdot\\vec{r}'}{r^{2}}\\right)^{-1/2} \\approx  \\frac{1}{r}\\left(1-\\frac{1}{2}\\frac{r'^{2}}{r^{2}}+\\frac{1}{2}2\\frac{\\vec{r}\\cdot\\vec{r}'}{r^{2}}\\right) \\\\\n",
    "& = \\frac{1}{r}-\\frac{1}{2}\\frac{r'^{2}}{r^{3}} + \\frac{\\vec{r}\\cdot\\vec{r}'}{r^{3}} \\approx \\frac{1}{r} + \\frac{\\vec{r}\\cdot\\vec{r}'}{r^{3}}.\n",
    "\\end{align}\n",
    "Na última passagem, desprezamos o 2º termo considerando um dipolo magnético de dimensão muito pequena, i.e., $r'\\ll r$."
   ]
  },
  {
   "cell_type": "code",
   "execution_count": 12,
   "id": "bbca1469",
   "metadata": {},
   "outputs": [
    {
     "data": {
      "text/latex": [
       "$\\displaystyle 1 - 0.5 x + 0.375 x^{2} + O\\left(x^{3}\\right)$"
      ],
      "text/plain": [
       "1 - 0.5*x + 0.375*x**2 + O(x**3)"
      ]
     },
     "execution_count": 12,
     "metadata": {},
     "output_type": "execute_result"
    }
   ],
   "source": [
    "from sympy import *\n",
    "x = symbols('x'); series((1+x)**(-1/2), x, 0, 3)"
   ]
  },
  {
   "cell_type": "markdown",
   "id": "19d499ef",
   "metadata": {},
   "source": [
    "Com isso, teremos que\n",
    "\\begin{align}\n",
    "\\vec{\\mathcal{A}} & = \\frac{\\mu_{0}}{4\\pi}\\int_{V'}\\frac{\\vec{J}}{r}dV' + \\frac{\\mu_{0}}{4\\pi}\\int_{V'}\\frac{(\\vec{r}\\cdot\\vec{r}')\\vec{J}}{r^{3}}dV' \\\\\n",
    "& = \\frac{\\mu_{0}}{4\\pi r}\\int_{V'}\\vec{J}dV' + \\frac{\\mu_{0}}{4\\pi r^{3}}\\int_{V'}(\\vec{r}\\cdot\\vec{r}')\\vec{J}dV'\n",
    "\\end{align}\n",
    "Usando\n",
    "\\begin{equation}\n",
    "\\vec{\\nabla}\\cdot\\big(\\phi\\vec{A}\\big) = \\vec{\\nabla}\\phi\\cdot\\vec{A} + \\phi\\vec{\\nabla}\\cdot\\vec{A},\n",
    "\\end{equation}\n",
    "pode-se demonstrar que\n",
    "\\begin{equation}\n",
    "\\int_{V}\\big(f\\vec{J}\\cdot\\vec{\\nabla}g+g\\vec{J}\\cdot\\vec{\\nabla}f\\big)dV = 0, \\hspace{1cm} (\\star)\n",
    "\\end{equation}\n",
    "em que $f(\\vec{r})$ e $g(\\vec{r})$ são funções bem comportadas e $\\vec{J}$ é uma distribuição de corrente elétrica estacionária e localizada em um volume finito."
   ]
  },
  {
   "cell_type": "markdown",
   "id": "fabd797f",
   "metadata": {},
   "source": [
    "Se escolhemos\n",
    "\\begin{equation}\n",
    "f(\\vec{r}) = 1 \\text{ e } g(\\vec{r})=x_{j},\n",
    "\\end{equation}\n",
    "e as substituímos na eq. ($\\star$), vem que\n",
    "\\begin{align}\n",
    "& \\int_{V}\\big(1\\vec{J}\\cdot\\vec{\\nabla}x_{j}+x_{j}\\vec{J}\\cdot\\vec{\\nabla}1\\big)dV = \\int_{V}\\big(\\vec{J}\\cdot\\hat{e}_{j}+0\\big)dV \\\\\n",
    "& = \\int_{V}J_{j}dV = 0,\n",
    "\\end{align}\n",
    "que implica que\n",
    "\\begin{equation}\n",
    "\\int_{V}\\vec{J}dV = \\vec{0}.\n",
    "\\end{equation}"
   ]
  },
  {
   "cell_type": "markdown",
   "id": "b0117247",
   "metadata": {},
   "source": [
    "Seguindo, substituindo esse resultado na equação para o potencial vetor magnético, e usando \n",
    "\\begin{equation}\n",
    "\\vec{A}\\cdot\\int_{V}\\vec{r}J_{i}dV = -\\frac{1}{2}\\sum_{j,k}\\epsilon_{ijk}A_{j}\\int_{V}\\big(\\vec{r}\\times\\vec{J}\\big)_{k}dV,\n",
    "\\end{equation}\n",
    "que é válida para qualquer campo vetorial $\\vec{A}$, teremos\n",
    "\\begin{align}\n",
    "\\vec{\\mathcal{A}} & = 0 + \\frac{\\mu_{0}}{4\\pi r^{3}}\\int_{V'}(\\vec{r}\\cdot\\vec{r}')\\vec{J}dV' = \\sum_{i}\\hat{e}_{i}\\frac{\\mu_{0}}{4\\pi r^{3}}\\vec{r}\\cdot\\int_{V'}\\vec{r}'J_{i}dV' \\\\\n",
    "& = -\\sum_{ijk}\\epsilon_{ijk}\\hat{e}_{i}\\frac{\\mu_{0}}{4\\pi r^{3}}x_{j}\\frac{1}{2}\\int_{V'}\\big(\\vec{r}'\\times\\vec{J}\\big)_{k}dV' = \\sum_{i}\\hat{e}_{i}\\Big(-\\frac{\\mu_{0}}{4\\pi r^{3}}\\sum_{jk}\\epsilon_{ijk}x_{j}\\mu_{k}\\Big) \\\\\n",
    "& = -\\frac{\\mu_{0}}{4\\pi r^{3}}\\sum_{i}\\hat{e}_{i}(\\vec{r}\\times\\vec{\\mu})_{i} = -\\frac{\\mu_{0}}{4\\pi r^{3}}\\vec{r}\\times\\vec{\\mu},\n",
    "\\end{align}\n",
    "em que usamos a definição de __momento de dipolo magnético__:\n",
    "\\begin{equation}\n",
    "\\vec{\\mu} := \\frac{1}{2}\\int_{V'}\\vec{r}'\\times\\vec{J}dV'.\n",
    "\\end{equation}"
   ]
  },
  {
   "cell_type": "markdown",
   "id": "3b89dff7",
   "metadata": {},
   "source": [
    "Utilizando a igualdade \n",
    "\\begin{equation}\n",
    "\\vec{\\nabla}\\times(\\vec{A}\\times\\vec{B}) = (\\vec{\\nabla}\\cdot\\vec{B})\\vec{A} - (\\vec{\\nabla}\\cdot\\vec{A})\\vec{B} + (\\vec{B}\\cdot\\vec{\\nabla})\\vec{A} - (\\vec{A}\\cdot\\vec{\\nabla})\\vec{B}\n",
    "\\end{equation}\n",
    "vamos passar para o cálculo do __campo magnético__ gerado pelo dipolo magnético:\n",
    "\\begin{align}\n",
    "\\vec{B}_{\\mu} & = \\vec{\\nabla}\\times\\vec{\\mathcal{A}} = -\\frac{\\mu_{0}}{4\\pi}\\vec{\\nabla}\\times\\Big(\\frac{\\vec{r}}{r^{3}}\\times\\vec{\\mu}\\Big) \\\\\n",
    "& = -\\frac{\\mu_{0}}{4\\pi}\\Big((\\vec{\\nabla}\\cdot\\vec{\\mu})\\frac{\\vec{r}}{r^{3}} -\\Big(\\vec{\\nabla}\\cdot\\frac{\\vec{r}}{r^{3}}\\Big)\\vec{\\mu} +(\\vec{\\mu}\\cdot\\vec{\\nabla})\\frac{\\vec{r}}{r^{3}} -\\Big(\\frac{\\vec{r}}{r^{3}}\\cdot\\vec{\\nabla}\\Big)\\vec{\\mu}\\Big) \\\\\n",
    "& = \\frac{\\mu_{0}}{4\\pi}\\Big(\\Big(\\vec{\\nabla}\\cdot\\frac{\\vec{r}}{r^{3}}\\Big)\\vec{\\mu} -(\\vec{\\mu}\\cdot\\vec{\\nabla})\\frac{\\vec{r}}{r^{3}}\\Big),\n",
    "\\end{align}\n",
    "em que usamos \n",
    "\\begin{equation}\n",
    "\\vec{\\nabla}\\cdot\\vec{\\mu} = \\Big(\\frac{\\vec{r}}{r^{3}}\\cdot\\vec{\\nabla}\\Big)\\vec{\\mu} = 0\n",
    "\\end{equation}\n",
    "pois o momento de dipolo magnético é um vetor fixo no espaço."
   ]
  },
  {
   "cell_type": "markdown",
   "id": "29be4f0c",
   "metadata": {},
   "source": [
    "Pode-se verificar que\n",
    "\\begin{equation}\n",
    "\\vec{\\nabla}\\cdot\\frac{\\vec{r}}{r^{3}} = 4\\pi\\delta(\\vec{r}).\n",
    "\\end{equation}\n",
    "e que\n",
    "\\begin{equation}\n",
    "(\\vec{\\mu}\\cdot\\vec{\\nabla})\\frac{\\vec{r}}{r^{3}} = \\frac{\\vec{\\mu}}{r^{3}} - 3\\frac{(\\vec{\\mu}\\cdot\\vec{r})\\vec{r}}{r^{5}}.\n",
    "\\end{equation}"
   ]
  },
  {
   "cell_type": "markdown",
   "id": "2d566a57",
   "metadata": {},
   "source": [
    "Substituindo esses resultados, podemos escrever o campo magnético como segue\n",
    "\\begin{align}\n",
    "\\vec{B}_{\\mu} & = \\frac{\\mu_{0}}{4\\pi}\\Big(4\\pi\\delta(\\vec{r})\\vec{\\mu} - \\frac{\\vec{\\mu}}{r^{3}} + \\frac{3(\\vec{\\mu}\\cdot\\vec{r})\\vec{r}}{r^{5}}\\Big) \\\\\n",
    "& = \\frac{\\mu_{0}}{4\\pi}\\Big(\\frac{3(\\vec{\\mu}\\cdot\\hat{r})\\hat{r} - \\vec{\\mu}}{r^{3}} + 4\\pi(1-d)\\delta(\\vec{r})\\vec{\\mu} \\Big),\n",
    "\\end{align}\n",
    "onde introduzimos o parâmetro $d$, chamado de fator de desmagnetização, que é usado de maneira fenomenológica para levar em conta possíveis assimetrias da distribuição de correntes responsável pelo dispolo magnético.\n",
    "\n",
    "Com isso, podemos calcular a energia potencial de interação entre o momento magnético do elétron com o campo magnético gerado pelo momento magnético do próton:\n",
    "\\begin{align}\n",
    "U & = -\\vec{\\mu}_{e}\\cdot\\vec{B}_{\\mu_{p}} \\\\\n",
    "& = -\\vec{\\mu}_{e}\\cdot\\frac{\\mu_{0}}{4\\pi}\\Big(\\frac{3(\\vec{\\mu}_{p}\\cdot\\hat{r})\\hat{r} - \\vec{\\mu}_{p}}{r^{3}} + 4\\pi(1-d)\\delta(\\vec{r})\\vec{\\mu}_{p} \\Big) \\\\\n",
    "& = \\frac{\\mu_{0}}{4\\pi}\\Big(\\frac{\\vec{\\mu}_{e}\\cdot\\vec{\\mu}_{p} - 3(\\vec{\\mu}_{p}\\cdot\\hat{r})(\\vec{\\mu}_{e}\\cdot\\hat{r})}{r^{3}} - 4\\pi(1-d)\\delta(\\vec{r})\\vec{\\mu}_{e}\\cdot\\vec{\\mu}_{p}\\Big).\n",
    "\\end{align}"
   ]
  },
  {
   "cell_type": "markdown",
   "id": "2d5ad7c7",
   "metadata": {},
   "source": [
    "Usando a relação entre momento magnético e momento angular (veja a aula sobre spin):\n",
    "\\begin{equation}\n",
    "\\vec{\\mu} = \\frac{q}{2m}\\vec{L} = \\frac{1}{\\hbar}\\frac{q\\hbar}{2m}\\vec{L} = \\frac{1}{\\hbar}\\mu_{b}\\vec{L},\n",
    "\\end{equation}\n",
    "com\n",
    "\\begin{equation}\n",
    "\\mu_{b} := \\frac{q\\hbar}{2m}\n",
    "\\end{equation}\n",
    "sendo o magneton de Bohr, podemos escrever as relações entre os momentos de dipolo magnético intrínsecos e momentos angulares intrínsecos do elétron e do próton como segue:\n",
    "\\begin{equation}\n",
    "\\vec{\\mu}_{e} = \\frac{g_{e}\\mu_{be}}{\\hbar}\\vec{S}_{e} \\text{ e } \\vec{\\mu}_{p} = \\frac{g_{p}\\mu_{bp}}{\\hbar}\\vec{S}_{p},\n",
    "\\end{equation}\n",
    "em que introduzimos os fatores giromagnéticos do elétron e do próton.\n",
    "\n",
    "Com isso podemos substituir as variáveis clássicas na expressão para a energia potencial de interação entre os dois momentos de dipolo magnético para assim obter o operador hamiltoniano quântico:\n",
    "\\begin{equation}\n",
    "H_{1}^{ss} = \\frac{\\mu_{0}g_{e}\\mu_{be}g_{p}\\mu_{bp}}{4\\pi\\hbar^{2}}\\Big(\\frac{\\vec{S}_{e}\\cdot\\vec{S}_{p} - 3(\\vec{S}_{p}\\cdot\\hat{r})(\\vec{S}_{e}\\cdot\\hat{r})}{r^{3}} - 4\\pi(1-d)\\delta(\\vec{r})\\vec{S}_{e}\\cdot\\vec{S}_{p}\\Big).\n",
    "\\end{equation}"
   ]
  },
  {
   "cell_type": "markdown",
   "id": "471b2b77",
   "metadata": {},
   "source": [
    "Seguindo, utilizaremos a soma de momentos angulares de spin do próton e do elétron,\n",
    "\\begin{equation}\n",
    "\\vec{S} = \\vec{S}_{e}\\otimes\\mathbb{I}_{p} + \\mathbb{I}_{e}\\otimes\\vec{S}_{p},\n",
    "\\end{equation}\n",
    "para escrever\n",
    "\\begin{align}\n",
    "S^{2} & = \\vec{S}\\cdot\\vec{S} = \\big(\\vec{S}_{e}\\otimes\\mathbb{I}_{p} + \\mathbb{I}_{e}\\otimes\\vec{S}_{p}\\big)\\cdot\\big(\\vec{S}_{e}\\otimes\\mathbb{I}_{p} + \\mathbb{I}_{e}\\otimes\\vec{S}_{p}\\big) \\\\\n",
    "& = \\vec{S}_{e}\\cdot\\vec{S}_{e}\\otimes\\mathbb{I}_{p} + \\mathbb{I}_{e}\\otimes\\vec{S}_{p}\\cdot\\vec{S}_{p} + \\big(\\vec{S}_{e}\\otimes\\mathbb{I}_{p}\\big)\\cdot\\big(\\mathbb{I}_{e}\\otimes\\vec{S}_{p}\\big) + \\big(\\mathbb{I}_{e}\\otimes\\vec{S}_{p}\\big)\\cdot\\big(\\vec{S}_{e}\\otimes\\mathbb{I}_{p}\\big) \\\\\n",
    "& =: S_{e}^{2}\\otimes\\mathbb{I}_{p} + \\mathbb{I}_{e}\\otimes S_{p}^{2} + 2\\vec{S}_{e}\\cdot \\vec{S}_{p},\n",
    "\\end{align}\n",
    "em que utilizamos a notação\n",
    "\\begin{equation}\n",
    "2\\vec{S}_{e}\\cdot \\vec{S}_{p} := \\big(\\vec{S}_{e}\\otimes\\mathbb{I}_{p}\\big)\\cdot\\big(\\mathbb{I}_{e}\\otimes\\vec{S}_{p}\\big) + \\big(\\mathbb{I}_{e}\\otimes\\vec{S}_{p}\\big)\\cdot\\big(\\vec{S}_{e}\\otimes\\mathbb{I}_{p}\\big).\n",
    "\\end{equation}\n",
    "Com isso, temos que\n",
    "\\begin{equation}\n",
    "\\vec{S}_{e}\\cdot \\vec{S}_{p} = \\frac{1}{2}\\Big(S^{2} - S_{e}^{2}\\otimes\\mathbb{I}_{p} - \\mathbb{I}_{e}\\otimes S_{p}^{2}\\Big).\n",
    "\\end{equation}"
   ]
  },
  {
   "cell_type": "markdown",
   "id": "2db00df8",
   "metadata": {},
   "source": [
    "Também podemos usar\n",
    "\\begin{align}\n",
    "\\big(\\vec{S}\\cdot\\vec{r}\\big)^{2} & = \\big((\\vec{S}_{e}+\\vec{S}_{p})\\cdot\\vec{r}\\big)^{2} = \\big(\\vec{S}_{e}\\cdot\\vec{r}+\\vec{S}_{p}\\cdot\\vec{r}\\big)^{2} \\\\\n",
    "& = (\\vec{S}_{e}\\cdot\\vec{r})^{2} + (\\vec{S}_{p}\\cdot\\vec{r})^{2} + 2(\\vec{S}_{e}\\cdot\\vec{r})(\\vec{S}_{p}\\cdot\\vec{r})\n",
    "\\end{align}\n",
    "para escrever\n",
    "\\begin{equation}\n",
    "(\\vec{S}_{e}\\cdot\\vec{r})(\\vec{S}_{p}\\cdot\\vec{r}) = \\frac{1}{2}\\Big(\\big(\\vec{S}\\cdot\\vec{r}\\big)^{2} -(\\vec{S}_{e}\\cdot\\vec{r})^{2} - (\\vec{S}_{p}\\cdot\\vec{r})^{2} \\Big).\n",
    "\\end{equation}\n",
    "\n",
    "Com isso, podemos escrever o hamiltoniano de interação spin-spin como segue\n",
    "\\begin{align}\n",
    "H_{1}^{ss} & = \\frac{\\mu_{0}g_{e}\\mu_{be}g_{p}\\mu_{bp}}{8\\pi\\hbar^{2}}\\Big(\\frac{\\big(S^{2} - S_{e}^{2}\\otimes\\mathbb{I}_{p} - \\mathbb{I}_{e}\\otimes S_{p}^{2}\\big) - 3\\big(\\big(\\vec{S}\\cdot\\hat{r}\\big)^{2} -(\\vec{S}_{e}\\cdot\\hat{r})^{2} - (\\vec{S}_{p}\\cdot\\hat{r})^{2} \\big)}{r^{3}} \\\\\n",
    "& \\hspace{3.5cm} - 4\\pi(1-d)\\delta(\\vec{r})\\big(S^{2} - S_{e}^{2}\\otimes\\mathbb{I}_{p} - \\mathbb{I}_{e}\\otimes S_{p}^{2}\\big)\\Big).\n",
    "\\end{align}"
   ]
  },
  {
   "cell_type": "markdown",
   "id": "8de98d71",
   "metadata": {},
   "source": [
    "A função de onda total desse sistema deve levar em conta o grau de liberdade espacial e de spin do elétron e o grau de liberdade de spin do próton:\n",
    "\\begin{equation}\n",
    "|\\Psi\\rangle = |\\psi\\rangle\\otimes|\\sigma_{e}\\rangle\\otimes|\\sigma_{p}\\rangle.\n",
    "\\end{equation}\n",
    "Quanto aos spins, vamos trabalhar na base de autovetores comuns a $S_{e}^{2}, S_{p}^{2},S^{2}$, que é\n",
    "\\begin{equation}\n",
    "|s_{e},s_{p},s,m_{s}\\rangle = |1/2,1/2,s,m_{s}\\rangle,\n",
    "\\end{equation}\n",
    "em que usamos o fato de que os elétron e o próton são férmions com spin $1/2$:\n",
    "\\begin{equation}\n",
    "s_{e} = \\frac{1}{2} \\text{ e } s_{p} = \\frac{1}{2}.\n",
    "\\end{equation}\n",
    "Da teoria sobre a soma de momentos angulares, temos que\n",
    "\\begin{equation}\n",
    "s = |s_{e}-s_{p}|,|s_{e}-s_{p}|,\\cdots,s_{e}+s_{p} = 0,1\n",
    "\\end{equation}\n",
    "e para cada valor do número quântico do momento angular totoal, $s$, o número quântico que determina a componente $z$ do momento angular total pode assumir os valores\n",
    "\\begin{equation}\n",
    "m_{s} = -s,-s+1,\\cdots,s.\n",
    "\\end{equation}\n",
    "Nesse caso\n",
    "\\begin{equation}\n",
    "m_{s=0}=0 \\text{ e } m_{s=1} = -1,0,1.\n",
    "\\end{equation}"
   ]
  },
  {
   "cell_type": "markdown",
   "id": "b0a0508b",
   "metadata": {},
   "source": [
    "Como os momentos angulares intrínsecos individuais do elétron e do próton podem ser escritos em termos das matrizes de Pauli, i.e.,\n",
    "\\begin{equation}\n",
    "\\vec{S}_{e} = \\frac{\\hbar}{2}\\vec{\\sigma} \\text{ e } \\vec{S}_{p} = \\frac{\\hbar}{2}\\vec{\\sigma}.\n",
    "\\end{equation}\n",
    "Com isso, vemos que\n",
    "\\begin{align}\n",
    "\\big(\\vec{S}_{e}\\cdot\\hat{r}\\big)^{2} & = \\big(2^{-1}\\hbar\\vec{\\sigma}\\cdot\\hat{r}\\big)^{2}  = 2^{-2}\\hbar^{2}\\big(\\vec{\\sigma}\\cdot\\hat{r}\\big)^{2} = 2^{-2}\\hbar^{2}\\mathbb{I}_{e}, \\\\\n",
    "\\big(\\vec{S}_{p}\\cdot\\hat{r}\\big)^{2} & = \\big(2^{-1}\\hbar\\vec{\\sigma}\\cdot\\hat{r}\\big)^{2}  = 2^{-2}\\hbar^{2}\\big(\\vec{\\sigma}\\cdot\\hat{r}\\big)^{2} = 2^{-2}\\hbar^{2}\\mathbb{I}_{p}.\n",
    "\\end{align}\n",
    "\n",
    "Assim, usando\n",
    "\\begin{equation}\n",
    "S_{e,p}^{2}|1/2,1/2,s,m_{s}\\rangle = \\hbar^{2}(1/2)(1/2+1)|1/2,1/2,s,m_{s}\\rangle = \\hbar^{2}(3/4)|1/2,1/2,s,m_{s}\\rangle,\n",
    "\\end{equation}\n",
    "a correção perturbativa de primeira ordem pode ser escrita como\n",
    "\\begin{align}\n",
    "E_{n,l}^{ss(1)} & = \\langle\\psi|\\otimes\\langle1/2,1/2,s,m_{s}|H_{1}^{ss}|\\psi\\rangle\\otimes|1/2,1/2,s,m_{s}\\rangle \\\\\n",
    "& = \\frac{\\mu_{0}g_{e}\\mu_{be}g_{p}\\mu_{bp}}{8\\pi\\hbar^{2}}\\Big(\\langle\\psi|\\otimes\\langle1/2,1/2,s,m_{s}|r^{-3}\\big(S^{2} - S_{e}^{2}\\otimes\\mathbb{I}_{p} - \\mathbb{I}_{e}\\otimes S_{p}^{2}\\big)|\\psi\\rangle\\otimes|1/2,1/2,s,m_{s}\\rangle \\\\\n",
    "& \\hspace{3.5cm} - 3\\langle\\psi|\\otimes\\langle1/2,1/2,s,m_{s}|r^{-3}\\big(\\big(\\vec{S}\\cdot\\hat{r}\\big)^{2} -22^{-2}\\hbar^{2}\\mathbb{I}_{e}\\otimes\\mathbb{I}_{p} \\big)|\\psi\\rangle\\otimes|1/2,1/2,s,m_{s}\\rangle \\\\\n",
    "& \\hspace{3.5cm} - 4\\pi(1-d)\\langle\\psi|\\otimes\\langle1/2,1/2,s,m_{s}|\\delta(\\vec{r})\\big(S^{2} - S_{e}^{2}\\otimes\\mathbb{I}_{p} - \\mathbb{I}_{e}\\otimes S_{p}^{2}\\big)|\\psi\\rangle\\otimes|1/2,1/2,s,m_{s}\\rangle\\Big) \\\\\n",
    "& = \\frac{\\mu_{0}g_{e}\\mu_{be}g_{p}\\mu_{bp}}{8\\pi\\hbar^{2}}\\Big(\\langle\\psi|\\otimes\\langle1/2,1/2,s,m_{s}|r^{-3}\\big(S^{2} - (3\\hbar^{2}/2)\\big)|\\psi\\rangle\\otimes|1/2,1/2,s,m_{s}\\rangle \\\\\n",
    "& \\hspace{3.5cm} - 3\\langle\\psi|\\otimes\\langle1/2,1/2,s,m_{s}|r^{-3}\\big(\\big(\\vec{S}\\cdot\\hat{r}\\big)^{2} -(\\hbar^{2}/2)\\big)|\\psi\\rangle\\otimes|1/2,1/2,s,m_{s}\\rangle \\\\\n",
    "& \\hspace{3.5cm} - 4\\pi(1-d)\\langle\\psi|\\otimes\\langle1/2,1/2,s,m_{s}|\\delta(\\vec{r})\\big(S^{2} - (3\\hbar^{2}/2)\\big)|\\psi\\rangle\\otimes|1/2,1/2,s,m_{s}\\rangle\\Big).\n",
    "\\end{align}"
   ]
  },
  {
   "cell_type": "markdown",
   "id": "1b3bbbb2",
   "metadata": {},
   "source": [
    "Doravante vamos considerar somente autoestados do hamiltoniano não perturbado com momento angular nulo, i.e.,\n",
    "\\begin{equation}\n",
    "l=0.\n",
    "\\end{equation}\n",
    "Com isso, além de simplificar as contas, anulamos a contribuição da interação do spin do próton com o momento magnético orbital do elétron. Nesse caso, a função de onda é dada por\n",
    "\\begin{align}\n",
    "\\psi_{n,l,m_{l}}(r,\\theta,\\phi) & = \\sqrt{\\left(\\frac{2Z}{a_{0}n}\\right)^{3}\\frac{(n-l-1)!}{(n+l)!2n}}e^{-Zr/a_{0}n}\\left(\\frac{2Zr}{a_{0}n}\\right)^{l}L_{n-l-1}^{2l+1}\\left(\\frac{2Zr}{a_{0}n}\\right)\\sqrt{\\frac{2l+1}{4\\pi}\\frac{(l-|m_{l}|)!}{(l+|m_{l}|)!}}(\\sin\\theta)^{|m_{l}|}\\frac{\\partial^{|m_{l}|}P_{l}(\\cos\\theta)}{\\partial z^{|m_{l}|}}e^{im_{l}\\phi}, \\\\\n",
    "\\psi_{n,0,0}(r,\\theta,\\phi) & = \\sqrt{\\left(\\frac{2Z}{a_{0}n}\\right)^{3}\\frac{1}{2n^{2}}}e^{-Zr/a_{0}n}L_{n-1}^{1}\\left(\\frac{2Zr}{a_{0}n}\\right)\\sqrt{\\frac{1}{4\\pi}}P_{0}(\\cos\\theta).\n",
    "\\end{align}\n",
    "Como $L_{j}^{k}(x)=(e^{x}x^{-k}/j!)\\partial_{x^{j}}(e^{-x}x^{j+k})$ e $P_{l}(z)=(1/l!2^{l})\\partial_{z^{l}}(z^{2}-1)^{l}$, vem que\n",
    "\\begin{equation}\n",
    "L_{j}^{k}(x)=(e^{x}x^{-k}/j!)\\partial_{x^{j}}(e^{-x}x^{j+k})\n",
    "\\end{equation}"
   ]
  },
  {
   "cell_type": "code",
   "execution_count": null,
   "id": "0330cc16",
   "metadata": {},
   "outputs": [],
   "source": []
  },
  {
   "cell_type": "markdown",
   "id": "8fae6ab2",
   "metadata": {},
   "source": [
    "---\n",
    "# Exercícios\n",
    "\n",
    "1. Para um campo escalar qualquer $\\phi=\\phi(\\vec{r})$ e para um campo vetorial qualquer $\\vec{A}=\\vec{A}(\\vec{r})$, verifique a igualdade\n",
    "\\begin{equation}\n",
    "\\vec{\\nabla}\\cdot\\big(\\phi\\vec{A}\\big) = \\vec{\\nabla}\\phi\\cdot\\vec{A} + \\phi\\vec{\\nabla}\\cdot\\vec{A}.\n",
    "\\end{equation}\n",
    "\n",
    "1. Considerando duas funções bem comportadas $f(\\vec{r})$ e $g(\\vec{r})$ e uma distribuição de corrente elétrica estacionária e localizada em um volume finito, demonstre a igualdade\n",
    "\\begin{equation}\n",
    "\\int_{V}\\big(f\\vec{J}\\cdot\\vec{\\nabla}g+g\\vec{J}\\cdot\\vec{\\nabla}f\\big)dV = 0.\n",
    "\\end{equation}\n",
    "\n",
    "1. Utilizando o resultado do último exercício, verifique que\n",
    "\\begin{align}\n",
    "\\vec{A}\\cdot\\int_{V}\\vec{r}J_{i}dV & = -\\frac{1}{2}\\sum_{j}A_{j}\\int_{V}\\big(x_{j}J_{j}-x_{j}J_{i}\\big)dV \\\\\n",
    "& = -\\frac{1}{2}\\sum_{j,k}\\epsilon_{ijk}A_{j}\\int_{V}\\big(\\vec{r}\\times\\vec{J}\\big)_{k}dV. \n",
    "\\end{align}\n",
    "\n",
    "1. Verifique a igualdade\n",
    "\\begin{equation}\n",
    "\\vec{\\nabla}\\times(\\vec{A}\\times\\vec{B}) = (\\vec{\\nabla}\\cdot\\vec{B})\\vec{A} - (\\vec{\\nabla}\\cdot\\vec{A})\\vec{B} + (\\vec{B}\\cdot\\vec{\\nabla})\\vec{A} - (\\vec{A}\\cdot\\vec{\\nabla})\\vec{B}.\n",
    "\\end{equation}\n",
    "\n",
    "1. Verifique que\n",
    "\\begin{equation}\n",
    "\\vec{\\nabla}\\cdot\\frac{\\vec{r}}{r^{3}} = 4\\pi\\delta(\\vec{r}).\n",
    "\\end{equation}\n",
    "\n",
    "1. Verifique que\n",
    "\\begin{equation}\n",
    "(\\vec{\\mu}\\cdot\\vec{\\nabla})\\frac{\\vec{r}}{r^{3}} = \\frac{\\vec{\\mu}}{r^{3}} - 3\\frac{(\\vec{\\mu}\\cdot\\vec{r})\\vec{r}}{r^{5}}.\n",
    "\\end{equation}\n",
    "\n",
    "1. Para $\\vec{\\sigma}=\\sum_{j=1}^{3}\\hat{e}_{j}\\sigma_{j}$, com\n",
    "\\begin{equation}\n",
    "\\sigma_{1} = \\begin{bmatrix}0&1\\\\1&0\\end{bmatrix},\\ \\sigma_{2} = \\begin{bmatrix}0&-i\\\\i&0\\end{bmatrix}, \\ \\sigma_{3} = \\begin{bmatrix}1&0\\\\0&-1\\end{bmatrix}\n",
    "\\end{equation}\n",
    "e $\\hat{r}$ um versor e $\\{\\hat{e}_{j}\\}$ a base padrão de $\\mathbb{R}^{3}$, verifique que\n",
    "\\begin{equation}\n",
    "(\\vec{\\sigma}\\cdot\\hat{r})^{2}=\\sigma_{0},\n",
    "\\end{equation}\n",
    "com $\\sigma_{0}=\\begin{bmatrix}1&0\\\\0&1\\end{bmatrix}$."
   ]
  },
  {
   "cell_type": "code",
   "execution_count": null,
   "id": "1981ad1a",
   "metadata": {},
   "outputs": [],
   "source": []
  }
 ],
 "metadata": {
  "kernelspec": {
   "display_name": "Python 3 (ipykernel)",
   "language": "python",
   "name": "python3"
  },
  "language_info": {
   "codemirror_mode": {
    "name": "ipython",
    "version": 3
   },
   "file_extension": ".py",
   "mimetype": "text/x-python",
   "name": "python",
   "nbconvert_exporter": "python",
   "pygments_lexer": "ipython3",
   "version": "3.8.8"
  }
 },
 "nbformat": 4,
 "nbformat_minor": 5
}
