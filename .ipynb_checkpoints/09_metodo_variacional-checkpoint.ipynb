{
 "cells": [
  {
   "cell_type": "markdown",
   "id": "4ae46450",
   "metadata": {},
   "source": [
    "### Notas de aula de Mecânica Quântica <br> Autor: Jonas Maziero"
   ]
  },
  {
   "cell_type": "code",
   "execution_count": 1,
   "id": "38654557",
   "metadata": {},
   "outputs": [],
   "source": [
    "%run init.ipynb"
   ]
  },
  {
   "cell_type": "markdown",
   "id": "16806687",
   "metadata": {},
   "source": [
    "# Método Variacional\n",
    "Outro método bastante usado para obter soluções aproximadas de sistemas quânticos é o método variacional. A seguir veremos uma versão simples deste método e sua aplicação a alguns sistemas interessantes.\n",
    "\n",
    "## Teorema variacional (estado fundamental)\n",
    "Seja $H$ um hamiltoniano com espectro discreto de autovalores e seja \n",
    "$$H|\\psi_{n}\\rangle = E_{n}|\\psi_{n}\\rangle,\\ \\text{com } n = 0,1,2,\\cdots,$$\n",
    "tal que\n",
    "$$E_{n+1}\\ge E_{n}.$$\n",
    "Ou seja, ordenamos os autovaores em ordem não crescente. Seque que\n",
    "$$\\langle H\\rangle_{\\phi} \\ge E_{0}\\ \\forall \\phi \\text{ com } ||\\phi||=1.$$\n",
    "\n",
    "### Prova\n",
    "A prova deste teorema é uma aplicação simples do fato de que o valor médio de uma variável aleatória é um número que está entre seus valores mínimo e máximo. No entanto, vamos repetir aqui essa prova:\n",
    "\\begin{align}\n",
    "\\langle H\\rangle_{\\phi} & = \\sum_{n}E_{n}Pr(E_{n}|\\phi) = \\sum_{n}E_{n}|\\langle\\psi_{n}|\\phi\\rangle|^{2} \\\\\n",
    "& \\le \\sum_{n}E_{0}|\\langle\\psi_{n}|\\phi\\rangle|^{2} = E_{0}\\sum_{n}|\\langle\\psi_{n}|\\phi\\rangle|^{2} = E_{0}\\sum_{n}Pr(E_{n}|\\phi) = E_{0}(1) \\\\\n",
    "& = E_{0},\n",
    "\\end{align}\n",
    "em que usamos $E_{n}\\ge E_{0}$, a regra de Born e a normalização para as probabilidades. <br>\n",
    "$\\square$"
   ]
  },
  {
   "cell_type": "markdown",
   "id": "f67884c5",
   "metadata": {},
   "source": [
    "#### Exemplo\n",
    "Vamos considerar o oscilador harmônico quântico unidimensional (OHQ1D):\n",
    "$$H = \\frac{P^{2}}{2m}+\\frac{m\\omega^{2}X^{2}}{2}.$$\n",
    "Uma __função de onda teste__ natural, para começar, é uma gaussiana\n",
    "$$\\phi(x) = Ae^{-bx^{2}}.$$\n",
    "Normalizando,\n",
    "\\begin{align}\n",
    "& \\int_{-\\infty}^{\\infty}|\\phi(x)|^{2}dx = |A|^{2}\\int_{-\\infty}^{\\infty}e^{-2bx^{2}}dx = |A|^{2}\\sqrt{\\frac{\\pi}{2b}} \\\\\n",
    "& \\therefore\\ A = \\big(2b/\\pi\\big)^{1/4},\n",
    "\\end{align}\n",
    "teremos que\n",
    "$$\\phi(x) = \\big(2b/\\pi\\big)^{1/4}e^{-bx^{2}} = \\phi(x,b).$$\n",
    "Podemos chamar $b$ de __parâmetro variacional__."
   ]
  },
  {
   "cell_type": "markdown",
   "id": "b8017c8e",
   "metadata": {},
   "source": [
    "Com isso, vem que\n",
    "\\begin{align}\n",
    "\\langle H\\rangle_{\\phi} & = \\frac{1}{2m}\\langle P^{2}\\rangle_{\\phi} + \\frac{m\\omega^{2}}{2}\\langle X^{2}\\rangle_{\\phi} \\\\\n",
    "& = -\\hbar^{2}\\frac{\\sqrt{2b/\\pi}}{2m}\\int_{-\\infty}^{+\\infty}dx e^{-bx^{2}}\\partial_{xx}e^{-bx^{2}} + \\frac{\\sqrt{2b/\\pi}m\\omega^{2}}{2}\\int_{-\\infty}^{+\\infty}dx  x^{2}e^{-2bx^{2}} \\\\\n",
    "& = -\\hbar^{2}\\frac{\\sqrt{2b/\\pi}}{2m}\\Big(4b^{2}\\int_{-\\infty}^{+\\infty}dx x^{2}e^{-bx^{2}} - 2b\\int_{-\\infty}^{+\\infty}dx e^{-2bx^{2}}\\Big) + \\frac{\\sqrt{2b/\\pi}m\\omega^{2}}{2}\\frac{\\sqrt{2\\pi}}{2^{3}b^{3/2}} \\\\\n",
    "& = -\\hbar^{2}\\frac{\\sqrt{2b/\\pi}}{2m}\\Big(4b^{2}\\frac{\\sqrt{2\\pi}}{2^{3}b^{3/2}} - 2b\\sqrt{\\pi/2b}\\Big) + \\frac{m\\omega^{2}}{2^{3}b} \\\\\n",
    "& = -\\hbar^{2}\\frac{\\sqrt{2b/\\pi}}{2m}\\Big(-\\frac{\\sqrt{2\\pi b}}{2}\\Big) + \\frac{m\\omega^{2}}{2^{3}b} \\\\\n",
    "& = \\frac{b\\hbar^{2}}{2m} + \\frac{m\\omega^{2}}{2^{3}b}.\n",
    "\\end{align}"
   ]
  },
  {
   "cell_type": "code",
   "execution_count": 52,
   "id": "984f5306",
   "metadata": {},
   "outputs": [
    {
     "data": {
      "image/png": "[encoded data removed]",
      "text/latex": [
       "$\\displaystyle 2 b \\left(2 b x^{2} - 1\\right) e^{- b x^{2}}$"
      ],
      "text/plain": [
       "                      2\n",
       "    ⎛     2    ⎞  -b⋅x \n",
       "2⋅b⋅⎝2⋅b⋅x  - 1⎠⋅ℯ     "
      ]
     },
     "execution_count": 52,
     "metadata": {},
     "output_type": "execute_result"
    }
   ],
   "source": [
    "b = symbols('b', positive=True); x = symbols('x')\n",
    "diff(exp(-b*x**2),x,2)"
   ]
  },
  {
   "cell_type": "code",
   "execution_count": 44,
   "id": "0efc2fb4",
   "metadata": {},
   "outputs": [
    {
     "data": {
      "image/png": "[encoded data removed]",
      "text/latex": [
       "$\\displaystyle \\frac{\\sqrt{\\pi}}{\\sqrt{b}}$"
      ],
      "text/plain": [
       "√π\n",
       "──\n",
       "√b"
      ]
     },
     "execution_count": 44,
     "metadata": {},
     "output_type": "execute_result"
    }
   ],
   "source": [
    "integrate(exp(-b*x**2),(x,-oo,+oo))"
   ]
  },
  {
   "cell_type": "code",
   "execution_count": 45,
   "id": "2ee9766d",
   "metadata": {},
   "outputs": [
    {
     "data": {
      "image/png": "[encoded data removed]",
      "text/latex": [
       "$\\displaystyle \\frac{\\sqrt{2} \\sqrt{\\pi}}{8 b^{\\frac{3}{2}}}$"
      ],
      "text/plain": [
       "√2⋅√π \n",
       "──────\n",
       "   3/2\n",
       "8⋅b   "
      ]
     },
     "execution_count": 45,
     "metadata": {},
     "output_type": "execute_result"
    }
   ],
   "source": [
    "integrate(x**2*exp(-2*b*x**2),(x,-oo,+oo))"
   ]
  },
  {
   "cell_type": "markdown",
   "id": "db5496a9",
   "metadata": {},
   "source": [
    "Com isso, obtemos o $b$ que nos retorna um valor extremo de $\\langle H\\rangle_{\\phi}$ usando\n",
    "\\begin{align}\n",
    "& 0 = \\partial_{b}\\langle H\\rangle_{\\phi} = \\frac{\\partial}{\\partial b}\\Big(\\frac{b\\hbar^{2}}{2m} + \\frac{m\\omega^{2}}{2^{3}b}\\Big) = \\frac{\\hbar^{2}}{2m} - \\frac{m\\omega^{2}}{2^{3}b^{2}} \\\\\n",
    "& \\therefore\\ b_{opt} = \\frac{m\\omega}{2\\hbar}.\n",
    "\\end{align}\n",
    "\n",
    "Assim temos uma estimativa para a energia do estado fundamental:\n",
    "\\begin{align}\n",
    "\\langle H\\rangle_{\\phi(b_{opt})} & = \\frac{b_{opt}\\hbar^{2}}{2m} + \\frac{m\\omega^{2}}{2^{3}b_{opt}}  =  \\frac{m\\omega}{2\\hbar}\\frac{\\hbar^{2}}{2m} +  \\frac{2\\hbar}{m\\omega}\\frac{m\\omega^{2}}{2^{3}} \\\\\n",
    "&  =  \\frac{m\\omega}{2\\hbar}\\frac{\\hbar^{2}}{2m} +  \\frac{2\\hbar}{m\\omega}\\frac{m\\omega^{2}}{2^{3}} = \\hbar\\omega(1/2),\n",
    "\\end{align}\n",
    "que coincide com a energia do estado fundamental do OHQ1D. Isso ocorreu porquê escolhemos uma função de onda teste que tem a mesma forma da autofunção correspondente ao estado fundamental do OHQ1D."
   ]
  },
  {
   "cell_type": "markdown",
   "id": "5d64ce18",
   "metadata": {},
   "source": [
    "## Teorema variacional (1º estado excitado)\n",
    "Seja $H$ um hamiltoniano com espectro discreto de autovalores e seja $H|\\psi_{n}\\rangle = E_{n}|\\psi_{n}\\rangle,\\ \\text{com } n = 0,1,2,\\cdots,$ tal que $E_{n+1}\\ge E_{n}$, e seja o __vetor de estado teste__ $|\\phi\\rangle$ ortogonal ao autovetor correspondente à menor energia, $|\\psi_{0}\\rangle$ (ou ao subespaço correspondente a $E_{0}$, se houver degenerescência), i.e., \n",
    "$$\\langle\\phi|\\psi_{0}\\rangle :=0.$$\n",
    "Seque que\n",
    "$$\\langle H\\rangle_{\\phi} \\ge E_{1}.$$\n",
    "\n",
    "### Prova\n",
    "Neste caso, teremos que:\n",
    "\\begin{align}\n",
    "\\langle H\\rangle_{\\phi} & = \\sum_{n}E_{n}Pr(E_{n}|\\phi) = \\sum_{n}E_{n}|\\langle\\psi_{n}|\\phi\\rangle|^{2}  \\\\\n",
    "& = E_{0}|\\langle\\psi_{0}|\\phi\\rangle|^{2} + \\sum_{n>0}E_{n}|\\langle\\psi_{n}|\\phi\\rangle|^{2}  = E_{0}0 + \\sum_{n>0}E_{n}|\\langle\\psi_{n}|\\phi\\rangle|^{2} \\\\\n",
    "& \\ge \\sum_{n>0}E_{1}|\\langle\\psi_{n}|\\phi\\rangle|^{2} = E_{1}\\sum_{n>0}|\\langle\\psi_{n}|\\phi\\rangle|^{2}  = E_{1}\\Big(|\\langle\\psi_{0}|\\phi\\rangle|^{2}+\\sum_{n>0}|\\langle\\psi_{n}|\\phi\\rangle|^{2}\\Big) \\\\\n",
    "& = E_{1}\\sum_{n}Pr(E_{n}|\\phi) = E_{1}(1) \\\\\n",
    "& = E_{1}.\n",
    "\\end{align}\n",
    "$\\square$\n",
    "\n",
    "OBS. Esse teorema pode ser estendido para estados com maior energia (2º, 3º, ... estados excitados). A ideia é a mesma. Por exemplo, para o 2º estado excitado, se usarmos um vetor de estado teste $|\\phi\\rangle$ ortogonal aos autovetores do estado fundamental, $|\\psi_{0}\\rangle$, e do 1º estados excitado, $|\\psi_{1}\\rangle$, teremos que $\\langle H\\rangle_{\\phi}\\ge E_{2}.$ "
   ]
  },
  {
   "cell_type": "markdown",
   "id": "13fecc0e",
   "metadata": {},
   "source": [
    "#### Exemplo\n",
    "Vamos considerar novamente o OHQ1D. Mas desta vez queremos estimar a energia do 1º estado excitado. Para isso, devemos utilizar uma função teste ortogonal à função de onda do estado fundamental. Como \"não conhecemos\" a solução exata, usamos uma função teste que seja ortogonal à função teste ótima obtida quando da estimativa da energia do estado fundamental. Podemos usar\n",
    "$$\\phi_{1}(x) = Axe^{-bx^{2}} = \\sqrt{\\frac{2^{3}b^{3/2}}{\\sqrt{2\\pi}}}xe^{-bx^{2}}.$$\n",
    "Pode-se verificar que\n",
    "$$\\langle\\phi_{1}|\\phi\\rangle = \\int_{-\\infty}^{+\\infty}dx\\phi_{1}^{*}(x)\\phi(x)\\propto \\int_{-\\infty}^{+\\infty}xe^{-2bx^{2}}dx=0.$$"
   ]
  },
  {
   "cell_type": "code",
   "execution_count": 46,
   "id": "6fd5a9d6",
   "metadata": {},
   "outputs": [
    {
     "data": {
      "image/png": "[encoded data removed]",
      "text/latex": [
       "$\\displaystyle 0$"
      ],
      "text/plain": [
       "0"
      ]
     },
     "execution_count": 46,
     "metadata": {},
     "output_type": "execute_result"
    }
   ],
   "source": [
    "integrate(x*exp(-2*b*x**2),(x,-oo,+oo))"
   ]
  },
  {
   "cell_type": "markdown",
   "id": "130d4004",
   "metadata": {},
   "source": [
    "Neste caso, teremos\n",
    "\\begin{align}\n",
    "\\langle H\\rangle_{\\phi_{1}}  & = \\frac{1}{2m}\\langle P^{2}\\rangle_{\\phi_{1}} + \\frac{m\\omega^{2}}{2}\\langle X^{2}\\rangle_{\\phi_{1}} \\\\\n",
    "& = -\\frac{\\hbar^{2}}{2m}\\int_{-\\infty}^{+\\infty}Axe^{-bx^{2}}\\partial_{xx}Axe^{-bx^{2}}dx + \\frac{m\\omega^{2}}{2}\\int_{-\\infty}^{+\\infty}x^{2}A^{2}x^{2}e^{-2bx^{2}} \\\\\n",
    "& = -\\frac{A^{2}\\hbar^{2}}{2m}\\int_{-\\infty}^{+\\infty}xe^{-bx^{2}}\\big(4b^{2}x^{3}-6bx\\big)e^{-bx^{2}}dx + \\frac{A^{2}m\\omega^{2}}{2}\\int_{-\\infty}^{+\\infty}x^{4}e^{-2bx^{2}} \\\\\n",
    "& = -\\frac{A^{2}\\hbar^{2}}{2m}\\Big(4b^{2}\\int_{-\\infty}^{+\\infty}x^{4}e^{-2bx^{2}}dx -6b\\int_{-\\infty}^{+\\infty}x^{2}e^{-2bx^{2}}dx\\Big) + \\frac{A^{2}m\\omega^{2}}{2}\\frac{3\\sqrt{2\\pi}}{32b^{5/2}} \\\\\n",
    "& = -\\frac{A^{2}\\hbar^{2}}{2m}\\Big(4b^{2}\\frac{3\\sqrt{2\\pi}}{32b^{5/2}} -6b\\frac{\\sqrt{2\\pi}}{8b^{3/2}}\\Big) + \\frac{A^{2}m\\omega^{2}}{2}\\frac{3\\sqrt{2\\pi}}{32b^{5/2}} \\\\\n",
    "& = -\\frac{2^{3}b^{3/2}}{\\sqrt{2\\pi}}\\frac{\\hbar^{2}}{2m}\\Big(4b^{2}\\frac{3\\sqrt{2\\pi}}{32b^{5/2}} -6b\\frac{\\sqrt{2\\pi}}{8b^{3/2}}\\Big) + \\frac{2^{3}b^{3/2}}{\\sqrt{2\\pi}}\\frac{m\\omega^{2}}{2}\\frac{3\\sqrt{2\\pi}}{32b^{5/2}} \\\\\n",
    "& = \\frac{3b\\hbar^{2}}{2m} + \\frac{3m\\omega^{2}}{8b}.\n",
    "\\end{align}"
   ]
  },
  {
   "cell_type": "code",
   "execution_count": 47,
   "id": "a6d5435c",
   "metadata": {},
   "outputs": [
    {
     "data": {
      "image/png": "[encoded data removed]",
      "text/latex": [
       "$\\displaystyle 2 b x \\left(2 b x^{2} - 3\\right) e^{- b x^{2}}$"
      ],
      "text/plain": [
       "                        2\n",
       "      ⎛     2    ⎞  -b⋅x \n",
       "2⋅b⋅x⋅⎝2⋅b⋅x  - 3⎠⋅ℯ     "
      ]
     },
     "execution_count": 47,
     "metadata": {},
     "output_type": "execute_result"
    }
   ],
   "source": [
    "diff(x*exp(-b*x**2),x,2)"
   ]
  },
  {
   "cell_type": "code",
   "execution_count": 48,
   "id": "425133f8",
   "metadata": {},
   "outputs": [
    {
     "data": {
      "image/png": "[encoded data removed]",
      "text/latex": [
       "$\\displaystyle \\frac{3 \\sqrt{2} \\sqrt{\\pi}}{32 b^{\\frac{5}{2}}}$"
      ],
      "text/plain": [
       "3⋅√2⋅√π\n",
       "───────\n",
       "    5/2\n",
       "32⋅b   "
      ]
     },
     "execution_count": 48,
     "metadata": {},
     "output_type": "execute_result"
    }
   ],
   "source": [
    "integrate(x**4*exp(-2*b*x**2), (x,-oo,+oo))"
   ]
  },
  {
   "cell_type": "markdown",
   "id": "7e2bc2c0",
   "metadata": {},
   "source": [
    "Para obter o valor mínimo, fazemos\n",
    "\\begin{align}\n",
    "& 0 = \\partial_{b}\\langle H\\rangle_{\\phi_{1}} = \\frac{\\partial}{\\partial b}\\Big(\\ \\frac{3b\\hbar^{2}}{2m} + \\frac{3m\\omega^{2}}{8b}\\Big) =  \\frac{3\\hbar^{2}}{2m} - \\frac{3m\\omega^{2}}{8b^{2}} \\\\\n",
    "& \\therefore\\ b_{opt} = \\frac{m\\omega}{2\\hbar}.\n",
    "\\end{align}\n",
    "\n",
    "Assim, a estimativa varicional para a energia do 1º estado excitado do OHQ1D é\n",
    "\\begin{align}\n",
    "\\langle H\\rangle_{\\phi_{1}(b_{opt}} & = \\frac{3b_{opt}\\hbar^{2}}{2m} + \\frac{3m\\omega^{2}}{8b_{opt}}  =  \\frac{m\\omega}{2\\hbar}\\frac{3\\hbar^{2}}{2m} +  \\frac{2\\hbar}{m\\omega}\\frac{3m\\omega^{2}}{8} \\\\\n",
    "& = \\hbar\\omega(3/2) = \\hbar\\omega(1+1/2),\n",
    "\\end{align}\n",
    "que também coincide com o resultado exato, também porquê usamos uma função de onda teste com a mesma forma da função de onda exata."
   ]
  },
  {
   "cell_type": "markdown",
   "id": "2f88f97c",
   "metadata": {},
   "source": [
    "## Estimativa do erro\n",
    "Vamos começar escrevendo o vetor de estado teste como\n",
    "$$|\\phi\\rangle = \\sum_{n}c_{n}|\\psi_{n}\\rangle \\equiv \\sum_{n}\\langle\\psi_{n}|\\phi\\rangle|\\psi_{n}\\rangle.$$\n",
    "Se o estado teste é igual ao autovetor correspondente ao estado fundamental, então $|c_{0}|=1$ (lembre que $|c_{n}|\\le 1$ e $\\sum_{n}|c_{n}|^{2}=1$). Quanto mais longe estamos do estado exato, menor será $|c_{0}|\\le 1$. Por conseguinte, podemos quantificar o quão errada está nossa função de onda teste em relação ao autovetor do estado fundamental usando\n",
    "$$\\epsilon(\\phi) := 1-|c_{0}|^{2}.$$\n",
    "\n",
    "Usando que \n",
    "$$Pr(E_{n}|\\phi) = |\\langle\\psi_{n}|\\phi\\rangle|^{2} = |c_{n}|^{2},$$"
   ]
  },
  {
   "cell_type": "markdown",
   "id": "b3621c2a",
   "metadata": {},
   "source": [
    "teremos que (lembre que $E_{0}\\le E_{1}\\le E_{2}\\le\\cdots$)\n",
    "\\begin{align}\n",
    "\\langle H\\rangle_{\\phi}-E_{0} & = \\sum_{n}E_{n}Pr(E_{n}|\\phi)-E_{0} = \\sum_{n}E_{n}|c_{n}|^{2}-E_{0} \\\\\n",
    "& = E_{0}|c_{0}|^{2} + \\sum_{n>0}E_{n}|c_{n}|^{2} - E_{0} \\\\\n",
    "& \\ge E_{0}|c_{0}|^{2} + \\sum_{n>0}|c_{n}|^{2}E_{1} - E_{0} \\\\\n",
    "& = -E_{0}(1-|c_{0}|^{2}) + (1-|c_{0}|^{2})E_{1} \\\\\n",
    "& = (E_{1}-E_{0})(1-|c_{0}|^{2}) \\\\\n",
    "& = (E_{1}-E_{0})\\epsilon(\\phi),\n",
    "\\end{align}\n",
    "em que usamos que\n",
    "$$\\sum_{n}|c_{n}|^{2} = \\sum_{n}Pr(E_{n}|\\phi)=1 = |c_{0}|^{2}+\\sum_{n>0}|c_{n}|^{2}.$$"
   ]
  },
  {
   "cell_type": "markdown",
   "id": "0ef05500",
   "metadata": {},
   "source": [
    "Então um __limite superior__ para o erro é o seguinte\n",
    "$$\\epsilon(\\phi) \\le \\frac{\\langle H\\rangle_{\\phi}-E_{0}}{E_{1}-E_{0}}.$$\n",
    "Esse limite superior pode ser calculado se conhecemos $E_{0}$ e $E_{1}$ de experimentos, ou seja, que queremos obter funções de onda que descrevam um sistema com espectro de autovalores conhecido do experimento.\n",
    "\n",
    "*** provar para um estado qualquer ***\n",
    "\n",
    "#### Exemplo\n",
    "Fazendo $\\hbar=1$, $\\omega=1$ e $m=1$, mostramos na figura abaixo o limite superior para o erro do vetor de estado teste em função do parâmetro livre $b$ para estimativa da energia do estado fundamental do OHQ1D."
   ]
  },
  {
   "cell_type": "code",
   "execution_count": 4,
   "id": "143b8d99",
   "metadata": {},
   "outputs": [
    {
     "data": {
      "image/png": "[encoded data removed]",
      "text/plain": [
       "<Figure size 500x300 with 1 Axes>"
      ]
     },
     "metadata": {
      "needs_background": "light"
     },
     "output_type": "display_data"
    }
   ],
   "source": [
    "# hb = w = m = 1\n",
    "import matplotlib\n",
    "matplotlib.rcParams.update({'font.size':10}); plt.figure(figsize = (5,3), dpi = 100)\n",
    "x = np.arange(0.1,1,0.05); ub = (x/2 + 1/(8*x) - 1/2)/(1)\n",
    "plt.plot(x,ub,'-o'); plt.ylim(0,)\n",
    "plt.xlabel(r'$b$'); plt.title('Limite superior para o erro'); plt.show()"
   ]
  },
  {
   "cell_type": "markdown",
   "id": "04fcc0c4",
   "metadata": {},
   "source": [
    "## Limites variacionais inferiores e superiores\n",
    "### Teorema\n",
    "Seja $|\\phi\\rangle$ um vetor de estado teste. Existe algum autovalor $E_{k}$ do hamiltoniano $H$ para o qual a seguinte desigualdade é satisfeita:\n",
    "$$\\langle H\\rangle_{\\phi}-\\sqrt{Var(H)_{\\phi}} \\le  E_{k} \\le \\langle H\\rangle_{\\phi}+\\sqrt{Var(H)_{\\phi}}.$$\n",
    "\n",
    "#### Prova\n",
    "Começamos considerando a variância do hamiltoniano para o estado teste:\n",
    "\\begin{align}\n",
    "Var(H)_{\\phi} & = \\big\\langle\\big(H-\\langle H\\rangle_{\\phi}\\mathbb{I}\\big)^{2}\\big\\rangle \\\\\n",
    "& = \\sum_{n}\\big(E_{n}-\\langle H\\rangle_{\\phi}\\big)^{2}Pr(E_{n}|\\phi).\n",
    "\\end{align}\n",
    "\n",
    "Para uma dada função de onda teste $\\phi$, existe algum autovalor $E_{k}$ que é tão próximo do valor médio $\\langle H\\rangle_{\\phi}$ quanto qualquer outro autovalor. Ou seja, consideremos a __condição__:\n",
    "$$\\big(E_{k}-\\langle H\\rangle_{\\phi}\\big)^{2} \\le \\big(E_{n}-\\langle H\\rangle_{\\phi}\\big)^{2}\\ \\forall n.$$"
   ]
  },
  {
   "cell_type": "markdown",
   "id": "735d31a3",
   "metadata": {},
   "source": [
    "Com isso, vem que\n",
    "\\begin{align}\n",
    "Var(H)_{\\phi} & \\ge \\sum_{n}\\big(E_{k}-\\langle H\\rangle_{\\phi}\\big)^{2}Pr(E_{n}|\\phi) = \\big(E_{k}-\\langle H\\rangle_{\\phi}\\big)^{2}\\sum_{n}Pr(E_{n}|\\phi) \\\\\n",
    "& = \\big(E_{k}-\\langle H\\rangle_{\\phi}\\big)^{2}.\n",
    "\\end{align}\n",
    "Então\n",
    "$$\\sqrt{Var(H)_{\\phi}} \\ge |E_{k}-\\langle H\\rangle_{\\phi}|.$$\n",
    "Teremos assim os seguintes casos\n",
    "\\begin{align}\n",
    "E_{k}\\ge\\langle H\\rangle_{\\phi} & \\therefore\\ \\sqrt{Var(H)_{\\phi}} \\ge E_{k}-\\langle H\\rangle_{\\phi} \\ \\therefore\\ E_{k} \\le \\langle H\\rangle_{\\phi}+\\sqrt{Var(H)_{\\phi}}, \\\\\n",
    "E_{k}<\\langle H\\rangle_{\\phi} & \\therefore\\ \\sqrt{Var(H)_{\\phi}} \\ge -E_{k}+\\langle H\\rangle_{\\phi} \\ \\therefore\\ E_{k} \\ge \\langle H\\rangle_{\\phi}-\\sqrt{Var(H)_{\\phi}}.\n",
    "\\end{align}\n",
    "Com isso segue a seguinte desigualdade dupla:\n",
    "$$\\langle H\\rangle_{\\phi}-\\sqrt{Var(H)_{\\phi}} \\le  E_{k} \\le \\langle H\\rangle_{\\phi}+\\sqrt{Var(H)_{\\phi}}.$$\n",
    "$\\square$"
   ]
  },
  {
   "cell_type": "markdown",
   "id": "8ff18d8c",
   "metadata": {},
   "source": [
    "Note que, dada uma certa função de onda teste $\\phi$, essas desigualdades valem somente para o autovalor $E_{k}$ mais próximo de $\\langle H\\rangle_{\\phi}$. Isso é, de certo modo, lógico pois se a variância de $H$ é $0$ isso implica que $\\phi$ é autovetor de $H$, e neste caso os limites inferior e superior acima coincidem. \n",
    "\n",
    "Por outro lado, podemos usar esses limites inferior e superior para quantificar quanto um certo vetor de estado teste $|\\phi\\rangle$ está de ser um certo autovetor $|\\psi_{k}\\rangle$ de $H$."
   ]
  },
  {
   "cell_type": "markdown",
   "id": "d40e90ba",
   "metadata": {},
   "source": [
    "#### Exemplo\n",
    "Vamos considerar os cálculos feitos para estimar a energia do estado fundamental do OHQ1D, para o qual temos $\\phi(x,b)=(2b/\\pi)^{1/4}e^{-bx^{2}}$ e $\\langle H\\rangle_{\\phi} = b\\hbar^{2}/2m + m\\omega^{2}/8b$. Para calcular a variância, precisamos ainda obter\n",
    "\\begin{align}\n",
    "\\langle H^{2}\\rangle_{\\phi} & = \\langle\\phi|H^{2}|\\phi\\rangle = \\langle\\phi|\\Big(\\frac{P^{2}}{2m}+\\frac{m\\omega^{2}}{2}X^{2}\\Big)^{2}|\\phi\\rangle \\\\\n",
    "& = \\frac{1}{4m^{2}}\\langle\\phi|P^{4}|\\phi\\rangle + \\frac{m^{2}\\omega^{4}}{4}\\langle\\phi|X^{4}|\\phi\\rangle + \\frac{\\omega^{2}}{4}\\langle\\phi|\\big(P^{2}X^{2}+X^{2}P^{2}\\big)|\\phi\\rangle.\n",
    "\\end{align}\n"
   ]
  },
  {
   "cell_type": "markdown",
   "id": "b2e7574c",
   "metadata": {},
   "source": [
    "Passemos para o cálculo desses valores médios. Começamos com\n",
    "\\begin{align}\n",
    "\\langle\\phi|P^{4}|\\phi\\rangle & = \\int_{-\\infty}^{+\\infty}dx\\phi^{*}\\big(-i\\hbar\\partial_{x}\\big)^{4}\\phi  = \\hbar^{4}\\int_{-\\infty}^{+\\infty}dx\\phi^{*}\\partial_{xxxx}\\phi \\\\\n",
    "& = \\hbar^{4}\\sqrt{\\frac{2b}{\\pi}}\\int_{-\\infty}^{+\\infty}dx 4b^{2}\\big(4b^{2}x^{4}-12bx^{2}+3\\big)e^{-2bx^{2}} \\\\\n",
    "& = \\hbar^{4}\\sqrt{\\frac{2b}{\\pi}}4b^{2}\\Big(4b^{2}\\frac{3\\sqrt{2\\pi}}{32b^{5/2}}-12b\\frac{\\sqrt{2\\pi}}{8b^{3/2}}+3\\sqrt{\\frac{\\pi}{2b}}\\Big) \\\\\n",
    "& = 3b^{2}\\hbar^{4}.\n",
    "\\end{align}"
   ]
  },
  {
   "cell_type": "code",
   "execution_count": 53,
   "id": "e5d3f9f4",
   "metadata": {},
   "outputs": [
    {
     "data": {
      "image/png": "[encoded data removed]",
      "text/latex": [
       "$\\displaystyle 4 b^{2} \\left(4 b^{2} x^{4} - 12 b x^{2} + 3\\right) e^{- b x^{2}}$"
      ],
      "text/plain": [
       "                                  2\n",
       "   2 ⎛   2  4         2    ⎞  -b⋅x \n",
       "4⋅b ⋅⎝4⋅b ⋅x  - 12⋅b⋅x  + 3⎠⋅ℯ     "
      ]
     },
     "execution_count": 53,
     "metadata": {},
     "output_type": "execute_result"
    }
   ],
   "source": [
    "diff(exp(-b*x**2),x,4)"
   ]
  },
  {
   "cell_type": "code",
   "execution_count": 54,
   "id": "e25a24c8",
   "metadata": {},
   "outputs": [
    {
     "data": {
      "image/png": "[encoded data removed]",
      "text/latex": [
       "$\\displaystyle 3 b^{2.0} \\hbar^{4}$"
      ],
      "text/plain": [
       "   2.0  4\n",
       "3⋅b   ⋅h̅ "
      ]
     },
     "execution_count": 54,
     "metadata": {},
     "output_type": "execute_result"
    }
   ],
   "source": [
    "hb = symbols('hbar')\n",
    "simplify(hb**4*sqrt(2*b/pi)*4*b**2*( (4*b**2*3*sqrt(2*pi))/(32*b**(5/2))  \n",
    "         - (12*b*sqrt(2*pi))/(8*b**(3/2)) + (3*sqrt(pi))/(sqrt(2*b))))"
   ]
  },
  {
   "cell_type": "markdown",
   "id": "6c2a2a4c",
   "metadata": {},
   "source": [
    "Seguindo, consideramos\n",
    "\\begin{align}\n",
    "\\langle\\phi|X^{4}|\\phi\\rangle & = \\int_{-\\infty}^{+\\infty}x^{4}|\\phi|^{2}dx = \\sqrt{\\frac{2b}{\\pi}}\\int_{-\\infty}^{+\\infty}x^{4}e^{-2bx^{2}}dx \\\\\n",
    "& = \\sqrt{\\frac{2b}{\\pi}}\\frac{3\\sqrt{2\\pi}}{32b^{5/2}} = \\frac{3}{16b^{3/2}}.\n",
    "\\end{align}"
   ]
  },
  {
   "cell_type": "markdown",
   "id": "4a003411",
   "metadata": {},
   "source": [
    "Já\n",
    "\\begin{align}\n",
    "\\langle\\phi|X^{2}P^{2}|\\phi\\rangle & = \\int_{-\\infty}^{+\\infty}\\langle\\phi|X^{2}P|x\\rangle\\langle x|P|\\phi\\rangle = \\int_{-\\infty}^{+\\infty}dx\\langle\\phi|X^{2}P|x\\rangle\\frac{\\hbar}{i}\\partial_{x}\\langle x|\\phi\\rangle \\\\\n",
    "& = \\int_{-\\infty}^{+\\infty}dx\\int_{-\\infty}^{+\\infty}dx'\\langle\\phi|X^{2}|x'\\rangle\\langle x'|P\\big(\\big(-i\\hbar\\partial_{x}\\phi(x)\\big)|x\\rangle\\big) \\\\\n",
    "& = \\int_{-\\infty}^{+\\infty}dx\\int_{-\\infty}^{+\\infty}dx'\\langle\\phi|x'^{2}|x'\\rangle\\frac{\\hbar}{i}\\partial_{x'}\\big(\\big(-i\\hbar\\partial_{x}\\phi(x)\\big)\\langle x'|x\\rangle\\big) \\\\\n",
    "& = \\int_{-\\infty}^{+\\infty}dx\\int_{-\\infty}^{+\\infty}dx'\\phi(x')^{*}x'^{2}\\frac{\\hbar}{i}\\partial_{x'}\\big(\\big(-i\\hbar\\partial_{x}\\phi(x)\\big)\\delta(x'-x)\\big) \\\\\n",
    "& = \\int_{-\\infty}^{+\\infty}dx\\phi(x)^{*}x^{2}\\big(-i\\hbar\\partial_{x}\\big)^{2}\\phi(x) \\\\\n",
    "& = -\\hbar^{2}\\int_{-\\infty}^{+\\infty}dx\\phi(x)^{*}x^{2}\\partial_{xx}\\phi(x) \\\\\n",
    "& = -\\hbar^{2}\\sqrt{\\frac{2b}{\\pi}}\\int_{-\\infty}^{+\\infty} x^{2}2bx\\big(2bx^{2}-3\\big)e^{-2bx^{2}}dx \\\\\n",
    "& = 0.\n",
    "\\end{align}"
   ]
  },
  {
   "cell_type": "markdown",
   "id": "fe44de70",
   "metadata": {},
   "source": [
    "Pode-se mostrar também que\n",
    "\\begin{align}\n",
    "\\langle\\phi|P^{2}X^{2}|\\phi\\rangle & = \\int_{-\\infty}^{\\infty} dx\\phi(x)^{*}\\big(-i\\hbar\\partial_{x}\\big)^{2}\\big(x^{2}\\phi(x)\\big) \\\\\n",
    "& = -\\hbar^{2}\\int_{-\\infty}^{\\infty} dx\\phi(x)^{*}\\partial_{xx}\\big(x^{2}\\phi(x)\\big) \\\\\n",
    "& = -\\hbar^{2}\\sqrt{\\frac{2b}{\\pi}}\\int_{-\\infty}^{\\infty} dxe^{-bx^{2}}\\partial_{xx}\\big(x^{2}e^{-bx^{2}}\\big) \\\\\n",
    "& = -\\hbar^{2}\\sqrt{\\frac{2b}{\\pi}}\\Big(4b^{2}\\int_{-\\infty}^{\\infty}dxx^{4}e^{-2bx^{2}} - 10b\\int_{-\\infty}^{\\infty}dxx^{2}e^{-2bx^{2}}+2\\int_{-\\infty}^{\\infty}dxe^{-2bx^{2}} \\Big) \\\\\n",
    "& = -\\frac{9\\hbar^{2}}{4}.\n",
    "\\end{align}"
   ]
  },
  {
   "cell_type": "code",
   "execution_count": 57,
   "id": "5b6d992a",
   "metadata": {},
   "outputs": [
    {
     "data": {
      "image/png": "[encoded data removed]",
      "text/latex": [
       "$\\displaystyle 2 \\left(2 b^{2} x^{4} - 5 b x^{2} + 1\\right) e^{- b x^{2}}$"
      ],
      "text/plain": [
       "                              2\n",
       "  ⎛   2  4        2    ⎞  -b⋅x \n",
       "2⋅⎝2⋅b ⋅x  - 5⋅b⋅x  + 1⎠⋅ℯ     "
      ]
     },
     "execution_count": 57,
     "metadata": {},
     "output_type": "execute_result"
    }
   ],
   "source": [
    "simplify(diff(x**2*exp(-b*x**2),x,2))"
   ]
  },
  {
   "cell_type": "code",
   "execution_count": 59,
   "id": "b40fd876",
   "metadata": {},
   "outputs": [
    {
     "data": {
      "image/png": "[encoded data removed]",
      "text/latex": [
       "$\\displaystyle - \\frac{9 \\hbar^{2}}{4}$"
      ],
      "text/plain": [
       "    2 \n",
       "-9⋅h̅  \n",
       "──────\n",
       "  4   "
      ]
     },
     "execution_count": 59,
     "metadata": {},
     "output_type": "execute_result"
    }
   ],
   "source": [
    "simplify( -hb**2*sqrt(2*b/pi)*(4*b**2*integrate(x**4*exp(-2*b*x**2),(x,-oo,oo)) \n",
    "                              -10*b*integrate(x**2*exp(-2*b*x**2),(x,-oo,oo))\n",
    "                              +4*integrate(exp(-2*b*x**2),(x,-oo,oo))) )"
   ]
  },
  {
   "cell_type": "markdown",
   "id": "55624f5a",
   "metadata": {},
   "source": [
    "Obtemos assim\n",
    "\\begin{align}\n",
    "\\langle H^{2}\\rangle_{\\phi} & = \\frac{1}{4m^{2}}3b^{2}\\hbar^{4} + \\frac{m^{2}\\omega^{4}}{4}\\frac{3}{16b^{3/2}} + \\frac{\\omega^{2}}{4}\\Big(-\\frac{9\\hbar^{2}}{4}+0\\Big).\n",
    "\\end{align}\n",
    "Com isso podemos calcular a variância e os limites inferior e superior, que estão mostrados na figura abaixo."
   ]
  },
  {
   "cell_type": "code",
   "execution_count": 53,
   "id": "d433f476",
   "metadata": {},
   "outputs": [
    {
     "data": {
      "image/png": "[encoded data removed]",
      "text/plain": [
       "<Figure size 500x300 with 1 Axes>"
      ]
     },
     "metadata": {
      "needs_background": "light"
     },
     "output_type": "display_data"
    }
   ],
   "source": [
    "matplotlib.rcParams.update({'font.size':10}); plt.figure(figsize = (5,3), dpi = 100)\n",
    "m = 1; w = 1; hbb = 1\n",
    "b = np.arange(0.1,2,0.03); \n",
    "H2m = (3*b**2*hbb**4)/(4*m**2) + (3*m**2*w**4)/(64*b*(3/2)) - (9*w**2*hbb**2)/(16)\n",
    "Hm = (b*hbb**2)/(2*m) + (m*w**2)/(8*b)\n",
    "Var = abs(H2m - Hm**2)#; print(Var)\n",
    "ub = Hm + np.sqrt(Var); lb = Hm - np.sqrt(Var)\n",
    "plt.plot(b, ub,'-o',label='ub'); plt.plot(b, lb,'-*',label='lb'); plt.plot(b, Var,'-.',label='Var')\n",
    "plt.legend()\n",
    "plt.xlabel(r'$b$'); plt.title('Limite superior e inferior')\n",
    "plt.show()"
   ]
  },
  {
   "cell_type": "markdown",
   "id": "3c2169b8",
   "metadata": {},
   "source": [
    "# Exercícios\n",
    "\n",
    "1. Utilize o método variacional para estimar a energia do estado fundamental do oscilador harmônico quântico unidimensional usando como função de onda teste\n",
    "$$\\phi(x,b) = \\frac{A}{x^{2}+b^{2}}.$$\n",
    "\n",
    "1. Normalize a função de onda $$\\phi_{1}(x) = Axe^{-bx^{2}}$$ para obter $$A = \\sqrt{\\frac{2^{3}b^{3/2}}{\\sqrt{2\\pi}}}.$$\n",
    "\n",
    "1. Use o método variacional para obter um limite superior para $E_{2}$, a energia do 2º estado excitado. Especifique que propriedades a função de onda deve ter.\n",
    "\n",
    "1. Verifique que\n",
    "$$\\langle\\phi|P^{2}X^{2}|\\phi\\rangle = \\int dx\\phi(x)^{*}\\big(-i\\hbar\\partial_{x}\\big)^{2}\\big(x^{2}\\phi(x)\\big).$$"
   ]
  },
  {
   "cell_type": "code",
   "execution_count": null,
   "id": "ebfaa62d",
   "metadata": {},
   "outputs": [],
   "source": []
  }
 ],
 "metadata": {
  "kernelspec": {
   "display_name": "Python 3 (ipykernel)",
   "language": "python",
   "name": "python3"
  },
  "language_info": {
   "codemirror_mode": {
    "name": "ipython",
    "version": 3
   },
   "file_extension": ".py",
   "mimetype": "text/x-python",
   "name": "python",
   "nbconvert_exporter": "python",
   "pygments_lexer": "ipython3",
   "version": "3.8.8"
  }
 },
 "nbformat": 4,
 "nbformat_minor": 5
}
