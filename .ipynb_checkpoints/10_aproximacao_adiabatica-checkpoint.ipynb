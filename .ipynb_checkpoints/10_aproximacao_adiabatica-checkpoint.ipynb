{
 "cells": [
  {
   "cell_type": "markdown",
   "id": "21b643a5",
   "metadata": {},
   "source": [
    "### Notas de aula de Mecânica Quântica <br> Autor: Jonas Maziero"
   ]
  },
  {
   "cell_type": "code",
   "execution_count": 2,
   "id": "1791fae4",
   "metadata": {},
   "outputs": [
    {
     "name": "stderr",
     "output_type": "stream",
     "text": [
      "/var/folders/c1/_8nwnwc923z5dw_vmskv8p5r0000gn/T/ipykernel_75782/1833980435.py:15: DeprecationWarning: Importing display from IPython.core.display is deprecated since IPython 7.14, please import from IPython display\n",
      "  from IPython.core.display import display, HTML, clear_output\n",
      "/var/folders/c1/_8nwnwc923z5dw_vmskv8p5r0000gn/T/ipykernel_75782/1833980435.py:15: DeprecationWarning: Importing clear_output from IPython.core.display is deprecated since IPython 7.14, please import from IPython display\n",
      "  from IPython.core.display import display, HTML, clear_output\n"
     ]
    }
   ],
   "source": [
    "%run init.ipynb"
   ]
  },
  {
   "cell_type": "markdown",
   "id": "39b25a13",
   "metadata": {},
   "source": [
    "# Teorema adiabático (caso particular)\n",
    "Considere um hamiltoniano dependente do tempo mas que comuta em tempos diferentes, i.e., $[H_{t},H_{t'}]=\\mathbb{O}\\ \\forall\\ t,t'$. Se o hamiltoniano muda lentamente com o tempo, mais precisamente, se para $H_{t}|E_{n}(t)\\rangle=E_{n}(t)|E_{n}(t)\\rangle$ temos que $|\\langle E_{m}(t)|\\dot{H}_{t}|E_{n}(t)\\rangle| \\ll |E_{n}(t)-E_{m}(t)|$, com $\\dot{H}_{t}=\\partial_{t}H_{t}$, e se inicialmente o estado do sistema é autovetor de $H_{0}$ com índice $n$, i.e., se $|\\psi_{0}\\rangle=|E_{n}(0)\\rangle$, então o estado evoluído no tempo desse sistema será autovetor de $H_{t}$ com o mesmo índice $n$, i.e., $|\\psi_{t}\\rangle\\propto |E_{n}(t)\\rangle$.\n",
    "\n",
    "\n",
    "## Prova\n",
    "Vamos lembrar de alguns resultados. Se o Hamiltoniano é independente do tempo, \n",
    "$$H_{t}=H,$$\n",
    "o operador de evolução temporal toma a forma $U_{t}=e^{-iHt/\\hbar}$. Assim, para $H|E_{n}(0)\\rangle=E_{n}(0)|E_{n}(0)\\rangle$, escrendo o estado inicial como $|\\psi_{0}\\rangle = \\sum_{n}c_{n}(0)|E_{n}(0)\\rangle$ teremos o estado evoluído\n",
    "\\begin{align}\n",
    "|\\psi_{t}\\rangle & = U_{t}|\\psi_{0}\\rangle = \\sum_{n}c_{n}(0)U_{t}|E_{n}(0)\\rangle = \\sum_{n}c_{n}(0)e^{-iHt/\\hbar}|E_{n}(0)\\rangle \\\\\n",
    "& = \\sum_{n}c_{n}(0)e^{-iE_{n}t/\\hbar}|E_{n}(0)\\rangle.\n",
    "\\end{align}"
   ]
  },
  {
   "cell_type": "markdown",
   "id": "c73471e8",
   "metadata": {},
   "source": [
    "Se o hamiltoniano é dependente do tempo mas $[H_{t},H_{t'}]=\\mathbb{O}\\ \\forall\\ t,t'$ temos que $U_{t}=e^{-\\frac{i}{\\hbar}\\int_{0}^{t}H_{t'}dt'}$. Assim, se escrevemos o estado inicial como $|\\psi_{0}\\rangle=\\sum_{n}c_{n}(t)|E_{n}(t)\\rangle$, com $H_{t}|E_{n}(t)\\rangle=E_{n}(t)|E_{n}(t)\\rangle$, e assumimos que\n",
    "$$H_{t'}|E_{n}(t)\\rangle=E_{n}(t')|E_{n}(t)\\rangle\\ \\forall\\ t,t',$$\n",
    "o estado evoluído pode ser escrito como\n",
    "\\begin{align}\n",
    "|\\psi_{t}\\rangle & = U_{t}|\\psi_{0}\\rangle = \\sum_{n}c_{n}(t)e^{-\\frac{i}{\\hbar}\\int_{0}^{t}H_{t'}dt'}|E_{n}(t)\\rangle \\\\\n",
    "& = \\sum_{n}c_{n}(t)\\Big(\\mathbb{I} + \\Big(-\\frac{i}{\\hbar}\\int_{0}^{t}H_{t'}dt'\\Big) + \\frac{1}{2!}\\Big(-\\frac{i}{\\hbar}\\int_{0}^{t}H_{t'}dt'\\Big)^{2} + \\cdots \\Big)|E_{n}(t)\\rangle \\\\\n",
    "& = \\sum_{n}c_{n}(t)\\Big(1 + \\Big(-\\frac{i}{\\hbar}\\int_{0}^{t}E_{n}(t')dt'\\Big) + \\frac{1}{2!}\\Big(-\\frac{i}{\\hbar}\\int_{0}^{t}E_{n}(t')dt'\\Big)^{2} + \\cdots \\Big)|E_{n}(t)\\rangle \\\\\n",
    "& = \\sum_{n}c_{n}(t)e^{-\\frac{i}{\\hbar}\\int_{0}^{t}E_{n}(t')dt'}|E_{n}(t)\\rangle \\\\\n",
    "& = \\sum_{n}c_{n}(t)e^{i\\theta_{n}(t)}|E_{n}(t)\\rangle,\n",
    "\\end{align}\n",
    "em que definimos a chamada __fase dinâmica__: \n",
    "$$\\theta_{n}(t)=-\\frac{1}{\\hbar}\\int_{0}^{t}E_{n}(t')dt'.$$\n",
    "\n",
    "Substituindo essa expressão na equação de Schrödinger, $$i\\hbar\\partial_{t}|\\psi_{t}\\rangle=H_{t}|\\psi_{t}\\rangle = \\sum_{n}c_{n}(t)e^{i\\theta(t)}E_{n}(t)|E_{n}(t)\\rangle,$$"
   ]
  },
  {
   "cell_type": "markdown",
   "id": "892435df",
   "metadata": {},
   "source": [
    "obteremos (denotamos $\\dot{x}=\\partial_{t}x$)\n",
    "\\begin{align}\n",
    "& i\\hbar \\sum_{n}\\big(\\dot{c}_{n}(t)e^{i\\theta_{n}(t)}|E_{n}(t)\\rangle + c_{n}(t)i\\dot{\\theta}_{n}(t)e^{i\\theta_{n}(t)}|E_{n}(t)\\rangle + c_{n}(t)e^{i\\theta_{n}(t)}|\\dot{E}_{n}(t)\\rangle\\big) \\\\\n",
    "& = i\\hbar \\sum_{n}\\big(\\dot{c}_{n}(t)e^{i\\theta_{n}(t)}|E_{n}(t)\\rangle + c_{n}(t)i\\frac{-E_{n}(t)}{\\hbar}e^{i\\theta_{n}(t)}|E_{n}(t)\\rangle + c_{n}(t)e^{i\\theta_{n}(t)}|\\dot{E}_{n}(t)\\rangle\\big) \\\\\n",
    "&  = \\sum_{n}c_{n}(t)e^{i\\theta(t)}E_{n}(t)|E_{n}(t)\\rangle \\\\\n",
    "& \\therefore\\ \\sum_{n}\\big(\\dot{c}_{n}(t)|E_{n}(t)\\rangle + c_{n}(t)|\\dot{E}_{n}(t)\\rangle\\big)e^{i\\theta_{n}(t)}=0,\n",
    "\\end{align}\n",
    "em que usamos\n",
    "$$\\dot{\\theta}(t) = -\\frac{1}{\\hbar}\\partial_{t}\\int_{0}^{t}E_{n}(t')dt' = -\\frac{E_{n}(t)}{\\hbar}.$$\n",
    "Por conseguinte\n",
    "$$\\sum_{n}\\dot{c}_{n}(t)|E_{n}(t)\\rangle e^{i\\theta_{n}(t)} =- \\sum_{n}c_{n}(t)|\\dot{E}_{n}(t)\\rangle e^{i\\theta_{n}(t)}.$$"
   ]
  },
  {
   "cell_type": "markdown",
   "id": "670a948f",
   "metadata": {},
   "source": [
    "Tomando o produto interno com $|E_{m}(t)\\rangle$ vem que\n",
    "\\begin{align}\n",
    "& \\sum_{n}\\dot{c}_{n}(t)\\langle E_{m}(t)|E_{n}(t)\\rangle e^{i\\theta_{n}(t)} = \\sum_{n}\\dot{c}_{n}(t)\\delta_{m,n}e^{i\\theta_{n}(t)} = \\dot{c}_{m}(t)e^{i\\theta_{m}(t)} \\\\\n",
    "& = - \\sum_{n}c_{n}(t)\\langle E_{m}(t)|\\dot{E}_{n}(t)\\rangle e^{i\\theta_{n}(t)} \\\\\n",
    "& \\therefore\\ \\dot{c}_{m}(t) = - \\sum_{n}c_{n}(t)\\langle E_{m}(t)|\\dot{E}_{n}(t)\\rangle e^{i(\\theta_{n}(t)-\\theta_{m}(t))}. \\hspace{2cm} (\\star)\n",
    "\\end{align}\n",
    "\n",
    "Seguindo, vamos diferenciar a equação de autvalores e autovetores, $H_{t}|E_{n}(t)\\rangle=E_{n}(t)|E_{n}(t)\\rangle$ e tomar o produto interno com $|E_{m}(t)\\rangle$:\n",
    "\\begin{align}\n",
    "& \\dot{H}_{t}|E_{n}(t)\\rangle +  H_{t}|\\dot{E}_{n}(t)\\rangle = \\dot{E}_{n}(t)|E_{n}(t)\\rangle + E_{n}(t)|\\dot{E}_{n}(t)\\rangle \\\\\n",
    "& \\therefore\\ \\langle E_{m}(t)|\\dot{H}_{t}|E_{n}(t)\\rangle +  \\langle E_{m}(t)|H_{t}|\\dot{E}_{n}(t)\\rangle = \\dot{E}_{n}(t)\\langle E_{m}(t)|E_{n}(t)\\rangle + E_{n}(t)\\langle E_{m}(t)|\\dot{E}_{n}(t)\\rangle \\\\\n",
    "& \\therefore\\ \\langle E_{m}(t)|\\dot{H}_{t}|E_{n}(t)\\rangle +  E_{m}(t)\\langle E_{m}(t)|\\dot{E}_{n}(t)\\rangle = \\dot{E}_{n}(t)\\delta_{m,n} + E_{n}(t)\\langle E_{m}(t)|\\dot{E}_{n}(t)\\rangle \\\\\n",
    "& \\therefore\\ \\langle E_{m}(t)|\\dot{H}_{t}|E_{n}(t)\\rangle = \\dot{E}_{n}(t)\\delta_{m,n} + (E_{n}(t)-E_{m}(t))\\langle E_{m}(t)|\\dot{E}_{n}(t)\\rangle \\\\\n",
    "& \\therefore\\ \\langle E_{m}(t)|\\dot{E}_{n}(t)\\rangle = \\frac{\\langle E_{m}(t)|\\dot{H}_{t}|E_{n}(t)\\rangle}{E_{n}(t)-E_{m}(t)} - \\frac{\\dot{E}_{n}(t)\\delta_{m,n}}{E_{n}(t)-E_{m}(t)}.\n",
    "\\end{align}\n",
    "Note que para estas contas estamos supondo a inexistência de degenerescência, i.e., $E_{n}(t)\\ne E_{m}(t)\\ \\forall\\ m\\ne n$."
   ]
  },
  {
   "cell_type": "markdown",
   "id": "c939f71d",
   "metadata": {},
   "source": [
    "Fazendo $m\\ne n$ e substituindo esse último resultado na eq. $(\\star)$, obteremos\n",
    "\\begin{align}\n",
    "\\dot{c}_{m}(t) & = - c_{m}(t)\\langle E_{m}(t)|\\dot{E}_{m}(t)\\rangle - \\sum_{n\\ne m}c_{n}(t)\\langle E_{m}(t)|\\dot{E}_{n}(t)\\rangle e^{i(\\theta_{n}(t)-\\theta_{m}(t))} \\\\\n",
    "& = - c_{m}(t)\\langle E_{m}(t)|\\dot{E}_{m}(t)\\rangle - \\sum_{n}c_{n}(t)\\frac{\\langle E_{m}(t)|\\dot{H}_{t}|E_{n}(t)\\rangle}{E_{n}(t)-E_{m}(t)} e^{i(\\theta_{n}(t)-\\theta_{m}(t))}\n",
    "\\end{align}\n",
    "Agora vamos fazer a __aproximação adiabática__, que é supor que o hamiltoniano varia muito lentamente com o tempo. Mais precisamente, vamos supor que para $m\\ne n$ teremos\n",
    "$$|\\langle E_{m}(t)|\\dot{H}_{t}|E_{n}(t)\\rangle| \\ll |E_{n}(t)-E_{m}(t)|.$$\n",
    "Nesta situação podemos desprezar o 2º termo da equação acima para obter\n",
    "\\begin{align}\n",
    "& \\dot{c}_{m}(t) \\approx - c_{m}(t)\\langle E_{m}(t)|\\dot{E}_{m}(t)\\rangle \\\\\n",
    "& \\therefore\\ c_{m}(t) = c_{m}(0)e^{i\\gamma_{m}(t)},\n",
    "\\end{align}\n",
    "em que definimos a chamada __fase geométrica__:\n",
    "$$\\gamma_{m}(t) = i\\int_{0}^{t}\\langle E_{m}(t')|\\dot{E}_{m}(t')\\rangle dt'.$$"
   ]
  },
  {
   "cell_type": "markdown",
   "id": "67a8c2cf",
   "metadata": {},
   "source": [
    "Podemos verificar que $\\gamma_{m}(t)$ é um número real. Usamos\n",
    "\\begin{align}\n",
    "& 0 = \\partial_{t}(1) = \\partial_{t}\\langle E_{m}(t)|E_{m}(t)\\rangle \\\\\n",
    "& = \\big(\\partial_{t}\\langle E_{m}(t)|\\big)|E_{m}(t)\\rangle + \\langle E_{m}(t)|\\partial_{t}|E_{m}(t)\\rangle \\\\\n",
    "& \\therefore\\ \\big(\\langle E_{m}(t)|\\partial_{t}|E_{m}(t)\\rangle\\big)^{*} = \\big(\\big(\\partial_{t}\\langle E_{m}(t)|\\big)|E_{m}(t)\\rangle\\big) = - \\langle E_{m}(t)|\\partial_{t}|E_{m}(t)\\rangle.\n",
    "\\end{align}\n",
    "Portando $\\langle E_{m}(t')|\\dot{E}_{m}(t')\\rangle$ é um número imaginário puro, o que implica que $\\gamma_{m}(t)$ é um número real.\n",
    "\n",
    "Em particular, se o sistema começa em um certo auto-estado do Hamiltoniano, i.e., se\n",
    "$$|\\psi_{0}\\rangle=|E_{n}(0)\\rangle\\ \\therefore\\ c_{n}(0)=1\\ \\text{e}\\ c_{m\\ne n}=0,$$\n",
    "teremos que\n",
    "$$c_{n}(t)=e^{i\\gamma_{n}(t)}\\ \\text{e}\\ c_{m\\ne n}(t)=0.$$\n",
    "Portanto o estado permanece sendo o autovetor do hamiltoniano com mesmo índice, ganhando somente fases globais:\n",
    "$$|\\psi_{t}\\rangle = e^{i\\gamma_{n}(t)}e^{i\\theta_{n}(t)}|E_{n}(t)\\rangle.$$\n",
    "Com isso, completamos a prova do terorema adiabático, neste caso particular.\n",
    "\n",
    "$\\square$"
   ]
  },
  {
   "cell_type": "markdown",
   "id": "c8e0985c",
   "metadata": {},
   "source": [
    "# Teorema adiabático (caso geral)\n",
    "Messiah pg 745"
   ]
  },
  {
   "cell_type": "markdown",
   "id": "5176463c",
   "metadata": {},
   "source": [
    "### Exemplo\n",
    "Vamos considerar um elétron na origem do referencial sujeito a um campo de amplitude constante $B_{0}$ mas cuja direção gira em um cone com eixo na direção $z$ e frequência angular $\\omega$:\n",
    "$$\\vec{B}_{t} = B_{0}\\big(\\hat{i}\\sin\\alpha\\cos(\\omega t) + \\hat{j}\\sin\\alpha\\sin(\\omega t) + \\hat{k}\\cos\\alpha\\big).$$\n",
    "Para este sistema, o hamiltoniano é\n",
    "\\begin{align}\n",
    "H_{t} & = -\\vec{\\mu}\\cdot\\vec{B}_{t} = \\frac{e}{m_{e}}\\vec{S}\\cdot \\vec{B}_{t} = \\frac{e}{m_{e}}\\frac{\\hbar}{2}\\vec{\\sigma}\\cdot \\vec{B}_{t} \\\\\n",
    "& = \\frac{e\\hbar B_{0}}{2m_{e}}\\big(\\sigma_{x}\\sin\\alpha\\cos(\\omega t) + \\sigma_{y}\\sin\\alpha\\sin(\\omega t) + \\sigma_{z}\\cos\\alpha\\big) \\\\\n",
    "& = \\frac{\\hbar\\omega_{1}}{2}\\begin{bmatrix}\\cos\\alpha & e^{-i\\omega t}\\sin\\alpha \\\\ e^{i\\omega t}\\sin\\alpha& -\\cos\\alpha\\end{bmatrix},\n",
    "\\end{align}\n",
    "em que definimos a frequência de Larmor \n",
    "$$\\omega_{1} := \\frac{eB_{0}}{m_{e}}.$$"
   ]
  },
  {
   "cell_type": "code",
   "execution_count": 12,
   "id": "4e888eec",
   "metadata": {},
   "outputs": [
    {
     "data": {
      "image/png": "[encoded data removed]",
      "text/latex": [
       "$\\displaystyle \\left[\\begin{matrix}\\cos{\\left(\\alpha \\right)} & 1.0 e^{- i \\omega t} \\sin{\\left(\\alpha \\right)}\\\\1.0 e^{i \\omega t} \\sin{\\left(\\alpha \\right)} & - \\cos{\\left(\\alpha \\right)}\\end{matrix}\\right]$"
      ],
      "text/plain": [
       "⎡                        -ⅈ⋅ω⋅t       ⎤\n",
       "⎢     cos(α)        1.0⋅ℯ      ⋅sin(α)⎥\n",
       "⎢                                     ⎥\n",
       "⎢     ⅈ⋅ω⋅t                           ⎥\n",
       "⎣1.0⋅ℯ     ⋅sin(α)       -cos(α)      ⎦"
      ]
     },
     "execution_count": 12,
     "metadata": {},
     "output_type": "execute_result"
    }
   ],
   "source": [
    "al,om,t = symbols('alpha omega t')\n",
    "def H(t):\n",
    "    return pauli(1)*sin(al)*cos(om*t) + pauli(2)*sin(al)*sin(om*t) + pauli(3)*cos(al)\n",
    "simplify(H(t))"
   ]
  },
  {
   "cell_type": "code",
   "execution_count": 17,
   "id": "3f573516",
   "metadata": {},
   "outputs": [
    {
     "data": {
      "image/png": "[encoded data removed]",
      "text/latex": [
       "$\\displaystyle \\left[\\begin{matrix}- 2.0 i \\sin^{2}{\\left(\\alpha \\right)} \\sin{\\left(\\omega \\left(t - t_{1}\\right) \\right)} & 2.0 \\left(e^{- i \\omega t_{1}} - e^{- i \\omega t}\\right) \\sin{\\left(\\alpha \\right)} \\cos{\\left(\\alpha \\right)}\\\\2.0 \\left(e^{i \\omega t} - e^{i \\omega t_{1}}\\right) \\sin{\\left(\\alpha \\right)} \\cos{\\left(\\alpha \\right)} & 2.0 i \\sin^{2}{\\left(\\alpha \\right)} \\sin{\\left(\\omega \\left(t - t_{1}\\right) \\right)}\\end{matrix}\\right]$"
      ],
      "text/plain": [
       "⎡             2                            ⎛ -ⅈ⋅ω⋅t₁    -ⅈ⋅ω⋅t⎞              ⎤\n",
       "⎢   -2.0⋅ⅈ⋅sin (α)⋅sin(ω⋅(t - t₁))     2.0⋅⎝ℯ        - ℯ      ⎠⋅sin(α)⋅cos(α)⎥\n",
       "⎢                                                                            ⎥\n",
       "⎢    ⎛ ⅈ⋅ω⋅t    ⅈ⋅ω⋅t₁⎞                             2                        ⎥\n",
       "⎣2.0⋅⎝ℯ      - ℯ      ⎠⋅sin(α)⋅cos(α)      2.0⋅ⅈ⋅sin (α)⋅sin(ω⋅(t - t₁))     ⎦"
      ]
     },
     "execution_count": 17,
     "metadata": {},
     "output_type": "execute_result"
    }
   ],
   "source": [
    "t1 = symbols('t_1'); simplify(comm(H(t),H(t1)))"
   ]
  },
  {
   "cell_type": "markdown",
   "id": "c80a9d86",
   "metadata": {},
   "source": [
    "Os autovetores deste hamiltoniano são\n",
    "\\begin{align}\n",
    "& |\\chi_{+}(t)\\rangle = \\cos(\\alpha/2)|z_{+}\\rangle + e^{i\\omega t}\\sin(\\alpha/2)|z_{-}\\rangle, \\\\\n",
    "& |\\chi_{-}(t)\\rangle = e^{-i\\omega t}\\sin(\\alpha/2)|z_{+}\\rangle - \\cos(\\alpha/2)|z_{-}\\rangle,\n",
    "\\end{align}\n",
    "e correspondem, respectivamente, aos autovalores\n",
    "$$E_{\\pm}(t)=E_{\\pm} = \\pm \\hbar\\omega_{1}/2.$$\n",
    "\n",
    "Vamos supor que o elétron inicie no estado (spin pra cima na direção de $\\vec{B}(0)$), i.e.,\n",
    "$$|\\psi_{0}\\rangle = |\\chi_{+}(0)\\rangle = \\cos(\\alpha/2)|z_{+}\\rangle + \\sin(\\alpha/2)|z_{-}\\rangle.$$\n",
    "Neste caso, o estado evoluído no tempo é\n",
    "\\begin{align}\n",
    "|\\psi_{t}\\rangle = & \\big(\\cos(\\lambda t/2)-i((\\omega_{1}-\\omega)/\\lambda)\\sin(\\lambda t/2)\\big)\\cos(\\alpha/2)e^{-i\\omega t/2}|z_{+}\\rangle \\\\\n",
    "& + \\big(\\cos(\\lambda t/2)-i((\\omega_{1}-\\omega)/\\lambda)\\sin(\\lambda t/2)\\big)\\sin(\\alpha/2)e^{+i\\omega t/2}|z_{+}\\rangle.\n",
    "\\end{align}"
   ]
  },
  {
   "cell_type": "markdown",
   "id": "07b6413d",
   "metadata": {},
   "source": [
    "A probabilidade de transição para o estado \"spin para baixo\" na direção do campo magnético no tempo $t$ é\n",
    "\\begin{align}\n",
    "Pr\\big(\\chi_{+}(0)\\rightarrow \\chi_{-}(t)\\big) = & \\big|\\langle\\chi_{-}(t)|\\psi_{t}\\rangle\\big|^{2} \\\\\n",
    "& \\vdots \\\\\n",
    "& = \\big((\\omega/\\lambda)\\sin\\alpha\\sin(\\lambda t/2)\\big)^{2}.\n",
    "\\end{align}\n",
    "A escala de tempo para mudanças do hamiltoniano (tempo externo) é \n",
    "$$T_{e}\\propto \\frac{1}{\\omega}.$$\n",
    "A escala de tempo para mudanças do estado (tempo interno) é \n",
    "$$T_{i}\\propto \\frac{1}{\\omega_{1}}.$$\n",
    "\n",
    "A aproximação adiabática pode ser considerada a grosso modo como \n",
    "$$T_{e}\\gg T_{i}\\ \\therefore\\ \\omega\\ll\\omega_{1}.$$\n",
    "Nesse limite temos que\n",
    "$$\\lambda \\approx \\omega_{1}.$$\n",
    "Assim\n",
    "$$Pr(\\chi_{+}(0)\\rightarrow \\chi_{-}(t)) \\propto (\\omega/\\lambda)^{2} \\approx 0.$$\n",
    "\n",
    "Por outro lado, se $\\omega \\gg \\omega_{1}$, a aproximação adiabática não vale e o sistema oscila entre os estados $|\\chi_{+}(t)\\rangle$ e $|\\chi_{-}(t)\\rangle$."
   ]
  },
  {
   "cell_type": "markdown",
   "id": "47f0ed53",
   "metadata": {},
   "source": [
    "## Fase de Berry\n",
    "A fase geométrica \n",
    "$$\\gamma_{n}(t)=i\\int_{0}^{t}\\langle E_{n}(t')|\\dot{E}_{n}(t')\\rangle dt'$$\n",
    "ganhou importância com o trabalho de Michael Berry (https://doi.org/10.1098/rspa.1984.0023), e hoje também é chamada de fase de Berry. \n",
    "\n",
    "Para estudar mais a fundo esta fase, vamos considerar que a dependência temporal do hamiltoniano pode ser escrita em termos de um vetor de parâmetros $\\vec{R}_{t}$. Aqui consideraremos somente o caso em que $\\vec{R}$ é um vetor de $\\mathbb{R}^{3}$, para evitar complicações com o teorema de Stokes. Teremos então que \n",
    "$$H_{t} = H(\\vec{R}_{t}) \\text{, } E_{n}(t)=E_{n}(\\vec{R}_{t})\\text{ e } |E_{n}(t)\\rangle=|E_{n}(\\vec{R}_{t})\\rangle.$$\n",
    "Assim\n",
    "\\begin{align}\n",
    "|\\dot{E}_{m}(t')\\rangle & = \\partial_{t'}|E_{n}(\\vec{R}_{t'})\\rangle  \\equiv \\frac{d}{dt'}|E_{n}(\\vec{R}_{t'})\\rangle \\\\\n",
    "& = \\sum_{j=1}^{3}\\partial_{X_{j}}|E_{n}(\\vec{R}_{t'})\\rangle\\frac{d X_{j}}{d t'} \\\\\n",
    "& = \\vec{\\nabla}_{\\vec{R}}|E_{n}(\\vec{R}_{t'})\\rangle\\cdot \\frac{d\\vec{R}}{dt'},\n",
    "\\end{align}\n",
    "em que usamos $\\vec{R}=\\big(X_{1},X_{2},X_{3}\\big)$. Note que os operadores diferenciais são aplicados componente a componente em um ket."
   ]
  },
  {
   "cell_type": "markdown",
   "id": "5c9c27d3",
   "metadata": {},
   "source": [
    "Com isso, podemos escrever\n",
    "\\begin{align}\n",
    "\\gamma_{n}(t) & = i\\int_{0}^{t}\\langle E_{n}(\\vec{R}_{t'})|\\vec{\\nabla}_{\\vec{R}}|E_{n}(\\vec{R}_{t'})\\rangle\\cdot \\frac{d\\vec{R}_{t'}}{dt'} dt' \\\\\n",
    "& = i\\int_{\\vec{R}_{0}}^{\\vec{R}_{t}}\\langle E_{n}(\\vec{R}_{t'})|\\vec{\\nabla}_{\\vec{R}}|E_{n}(\\vec{R}_{t'})\\rangle\\cdot d\\vec{R}_{t'}.\n",
    "\\end{align}\n",
    "Se o intervalo de tempo $t$ é tal que \n",
    "$$\\vec{R}_{t}=\\vec{R}_{0}$$\n",
    "e definimos um potencial vetor generalizado\n",
    "$$\\vec{A}_{n}(\\vec{R}_{t'}) := i\\langle E_{n}(\\vec{R}_{t'})|\\vec{\\nabla}_{\\vec{R}}|E_{n}(\\vec{R}_{t'})\\rangle,$$"
   ]
  },
  {
   "cell_type": "markdown",
   "id": "f3395917",
   "metadata": {},
   "source": [
    "teremos que a fase de Berry para um caminho fechado $C$ no espaço de parâmetros $\\vec{R}_{t'}$ é\n",
    "\\begin{align}\n",
    "\\gamma_{n}(C) & = \\oint_{C}i\\langle E_{n}(\\vec{R}_{t'})|\\vec{\\nabla}_{\\vec{R}}|E_{n}(\\vec{R}_{t'})\\rangle\\cdot d\\vec{R}_{t'} \\\\\n",
    "& =: \\oint_{C} \\vec{A}_{n}(\\vec{R}_{t'})\\cdot d\\vec{R}_{t'} \\\\\n",
    "& = \\int_{S}\\vec{\\nabla}_{\\vec{R}}\\times \\vec{A}_{n}(\\vec{R}_{t'})\\cdot d\\vec{a} \\\\\n",
    "& =: \\int_{S}\\vec{B}_{n}(\\vec{R}_{t'})\\cdot d\\vec{a},\n",
    "\\end{align}\n",
    "que pode ser identificada como o fluxo através da superfície $S$, delimitada pelo caminho $C$, no espaço de parâmetros $\\vec{R}$, de um campo vetorial generalizado\n",
    "$$\\vec{B}_{n}(\\vec{R}) := \\vec{\\nabla}_{\\vec{R}}\\times \\vec{A}_{n}(\\vec{R}).$$\n",
    "Acima, na passagem da 2ª para a 3ª igualdade, usamos o teorema de Stokes. Vale observar que, assim como fizemos para $\\gamma_{n}(t)$, podemos verificar que $\\vec{A}_{n}(\\vec{R})$ e $\\vec{B}_{n}(\\vec{R})$ são vetores com componentes reais."
   ]
  },
  {
   "cell_type": "markdown",
   "id": "7148bf7e",
   "metadata": {},
   "source": [
    "Podemos verificar que __$\\gamma_{n}(t)$ depende somente da geometria do caminho $C$__ percorrido pelo vetor de parâmetros $\\vec{R}(t)$ (por isso o nome fase geométrica). Consideremos que ao percorrer o caminho $C$ os autovetores do hamiltoniano recebam um fator de fase que depende do caminho, i.e.,\n",
    "$$|E_{n}(\\vec{R}_{t})\\rangle \\rightarrow e^{i\\chi(\\vec{R})}|E_{n}(\\vec{R}_{t})\\rangle,$$\n",
    "com $\\chi(\\vec{R})$ sendo uma função escalar qualquer. Temos assim que\n",
    "\\begin{align}\n",
    "\\vec{\\nabla}_{\\vec{R}}|E_{n}(\\vec{R}_{t'})\\rangle & \\rightarrow \\vec{\\nabla}_{\\vec{R}}\\big(e^{i\\chi(\\vec{R})}|E_{n}(\\vec{R}_{t'})\\rangle\\big) \\\\\n",
    "& = i\\big(\\vec{\\nabla}_{\\vec{R}}\\chi(\\vec{R})\\big)e^{i\\chi(\\vec{R})}|E_{n}(\\vec{R}_{t'})\\rangle + e^{i\\chi(\\vec{R})}\\vec{\\nabla}_{\\vec{R}}|E_{n}(\\vec{R}_{t'})\\rangle.\n",
    "\\end{align}\n",
    "Com isso, o novo potencial vetor generalizado será\n",
    "\\begin{align}\n",
    "\\vec{A}_{n}(\\vec{R}) & \\rightarrow i\\langle E_{n}(\\vec{R}_{t'})|e^{-i\\chi(\\vec{R})}\\vec{\\nabla}_{\\vec{R}}\\big(e^{i\\chi(\\vec{R})}|E_{n}(\\vec{R}_{t'})\\rangle\\big) \\\\\n",
    "& = i\\langle E_{n}(\\vec{R}_{t'})|e^{-i\\chi(\\vec{R})}\\Big(i\\big(\\vec{\\nabla}_{\\vec{R}}\\chi(\\vec{R})\\big)e^{i\\chi(\\vec{R})}|E_{n}(\\vec{R}_{t'})\\rangle + e^{i\\chi(\\vec{R})}\\vec{\\nabla}_{\\vec{R}}|E_{n}(\\vec{R}_{t'})\\rangle\\Big) \\\\\n",
    "& = - \\vec{\\nabla}_{\\vec{R}}\\chi(\\vec{R}) + i\\langle E_{n}(\\vec{R}_{t'})|\\vec{\\nabla}_{\\vec{R}}|E_{n}(\\vec{R}_{t'})\\rangle \\\\\n",
    "& = \\vec{A}_{n}(\\vec{R}) - \\vec{\\nabla}_{\\vec{R}}\\chi(\\vec{R}).\n",
    "\\end{align}"
   ]
  },
  {
   "cell_type": "markdown",
   "id": "368ac166",
   "metadata": {},
   "source": [
    "Por conseguinte, o campo vetorial generalizado passa a ser\n",
    "\\begin{align}\n",
    "\\vec{B}_{n}(\\vec{R}) & \\rightarrow \\vec{\\nabla}_{\\vec{R}}\\times\\big(\\vec{A}_{n}(\\vec{R}) - \\vec{\\nabla}_{\\vec{R}}\\chi(\\vec{R})\\big) \\\\\n",
    "& = \\vec{\\nabla}_{\\vec{R}}\\times\\vec{A}_{n}(\\vec{R}) - \\vec{\\nabla}_{\\vec{R}}\\times\\vec{\\nabla}_{\\vec{R}}\\chi(\\vec{R})\\big) \\\\\n",
    "& = \\vec{\\nabla}_{\\vec{R}}\\times\\vec{A}_{n}(\\vec{R}) - 0 \\\\\n",
    "& = \\vec{B}_{n}(\\vec{R}).\n",
    "\\end{align}\n",
    "Isto implica que a fase geométrica não muda com a mudança de fase $e^{i\\chi(\\vec{R})}$ dos autovetores de energia:\n",
    "$$\\gamma_{n}(C) \\xrightarrow[]{|E_{n}(\\vec{R}_{t})\\rangle \\rightarrow e^{i\\chi(\\vec{R})}|E_{n}(\\vec{R}_{t})\\rangle} \\gamma_{n}(C),$$\n",
    "como queríamos demonstrar."
   ]
  },
  {
   "cell_type": "markdown",
   "id": "04956f85",
   "metadata": {},
   "source": [
    "__Equação fundamental para $\\gamma_{n}(C)$__ <br>\n",
    "Para duas funções arbitrárias $f$ e $g$ de $\\mathbb{R}^{3}$, pode-se verificar que $\\vec{\\nabla}\\times(f\\vec{\\nabla}g) = (\\vec{\\nabla}f)\\times(\\vec{\\nabla}g)$. Usando este resultado, podemos escrever\n",
    "\\begin{align}\n",
    "\\vec{B}_{n}(\\vec{R}) &= \\vec{\\nabla}_{\\vec{R}}\\times \\vec{A}_{n}(\\vec{R}) = \\vec{\\nabla}_{\\vec{R}}\\times i\\langle E_{n}(\\vec{R}_{t'})|\\vec{\\nabla}_{\\vec{R}}|E_{n}(\\vec{R}_{t'})\\rangle \\\\\n",
    "& = i\\big(\\vec{\\nabla}_{\\vec{R}}\\langle E_{n}(\\vec{R}_{t'})|\\big)\\times\\big(\\vec{\\nabla}_{\\vec{R}}|E_{n}(\\vec{R}_{t'})\\rangle\\big) \\\\\n",
    "& = i\\big(\\vec{\\nabla}_{\\vec{R}}\\langle E_{n}(\\vec{R}_{t'})|\\big)\\sum_{m}|E_{m}(\\vec{R}_{t'})\\rangle\\langle E_{m}(\\vec{R}_{t'})|\\times\\big(\\vec{\\nabla}_{\\vec{R}}|E_{n}(\\vec{R}_{t'})\\rangle\\big) \\\\\n",
    "& = i\\sum_{m}\\big(\\vec{\\nabla}_{\\vec{R}}\\langle E_{n}(\\vec{R}_{t'})|\\big)|E_{m}(\\vec{R}_{t'})\\rangle\\times\\langle E_{m}(\\vec{R}_{t'})|\\vec{\\nabla}_{\\vec{R}}|E_{n}(\\vec{R}_{t'})\\rangle \\\\\n",
    "& = i\\sum_{m\\ne n}\\big(\\vec{\\nabla}_{\\vec{R}}\\langle E_{n}(\\vec{R}_{t'})|\\big)|E_{m}(\\vec{R}_{t'})\\rangle\\times\\langle E_{m}(\\vec{R}_{t'})|\\vec{\\nabla}_{\\vec{R}}|E_{n}(\\vec{R}_{t'})\\rangle,\n",
    "\\end{align}\n",
    "pois\n",
    "\\begin{align}\n",
    "& \\vec{\\nabla}_{\\vec{R}}\\big(\\langle E_{n}(\\vec{R}_{t'})|E_{n}(\\vec{R}_{t'})\\rangle\\big) = \\vec{\\nabla}_{\\vec{R}}(1) = 0 \\\\\n",
    "& = \\big(\\vec{\\nabla}_{\\vec{R}}\\langle E_{n}(\\vec{R}_{t'})|\\big)|E_{n}(\\vec{R}_{t'})\\rangle + \\langle E_{n}(\\vec{R}_{t'})|\\big(\\vec{\\nabla}_{\\vec{R}}|E_{n}(\\vec{R}_{t'})\\rangle\\big) \\\\\n",
    "& \\therefore \\big(\\vec{\\nabla}_{\\vec{R}}\\langle E_{n}(\\vec{R}_{t'})|\\big)|E_{n}(\\vec{R}_{t'})\\rangle = - \\langle E_{n}(\\vec{R}_{t'})|\\big(\\vec{\\nabla}_{\\vec{R}}|E_{n}(\\vec{R}_{t'})\\rangle\\big) \\\\\n",
    "& \\therefore \\big(\\vec{\\nabla}_{\\vec{R}}\\langle E_{n}(\\vec{R}_{t'})|\\big)|E_{n}(\\vec{R}_{t'})\\rangle\\times\\langle E_{n}(\\vec{R}_{t'})|\\vec{\\nabla}_{\\vec{R}}|E_{n}(\\vec{R}_{t'})\\rangle \\\\\n",
    "& = -\\langle E_{n}(\\vec{R}_{t'})|\\vec{\\nabla}_{\\vec{R}}|E_{n}(\\vec{R}_{t'})\\rangle\\times\\langle E_{n}(\\vec{R}_{t'})|\\vec{\\nabla}_{\\vec{R}}|E_{n}(\\vec{R}_{t'})\\rangle = 0.\n",
    "\\end{align}"
   ]
  },
  {
   "cell_type": "markdown",
   "id": "9665a0ee",
   "metadata": {},
   "source": [
    "Tomando o gradiente de $H(\\vec{R}_{t'})|E_{n}(\\vec{R}_{t'})\\rangle=E_{n}(\\vec{R}_{t'})|E_{n}(\\vec{R}_{t'})\\rangle$ obtemos\n",
    "\\begin{align}\n",
    "& \\big(\\vec{\\nabla}_{\\vec{R}}H(\\vec{R}_{t'})\\big)|E_{n}(\\vec{R}_{t'})\\rangle + H(\\vec{R}_{t'})\\big(\\vec{\\nabla}_{\\vec{R}}|E_{n}(\\vec{R}_{t'})\\rangle\\big) \\\\\n",
    "& = \\big(\\vec{\\nabla}_{\\vec{R}}E_{n}(\\vec{R}_{t'})\\big)|E_{n}(\\vec{R}_{t'})\\rangle + E_{n}(\\vec{R}_{t'})\\big(\\vec{\\nabla}_{\\vec{R}}|E_{n}(\\vec{R}_{t'})\\rangle\\big).\n",
    "\\end{align}\n",
    "Agora, para $m\\ne n$, tomamos o produto interno de $|E_{m}(\\vec{R}_{t'})\\rangle$ com esta última equação:\n",
    "\\begin{align}\n",
    "& \\langle E_{m}(\\vec{R}_{t'})|\\big(\\vec{\\nabla}_{\\vec{R}}H(\\vec{R}_{t'})\\big)|E_{n}(\\vec{R}_{t'})\\rangle + \\langle E_{m}(\\vec{R}_{t'})|H(\\vec{R}_{t'})\\big(\\vec{\\nabla}_{\\vec{R}}|E_{n}(\\vec{R}_{t'})\\rangle\\big) \\\\\n",
    "& = \\langle E_{m}(\\vec{R}_{t'})|\\big(\\vec{\\nabla}_{\\vec{R}}E_{n}(\\vec{R}_{t'})\\big)|E_{n}(\\vec{R}_{t'})\\rangle + \\langle E_{m}(\\vec{R}_{t'})|E_{n}(\\vec{R}_{t'})\\big(\\vec{\\nabla}_{\\vec{R}}|E_{n}(\\vec{R}_{t'})\\rangle\\big) \\\\\n",
    "& \\therefore \\langle E_{m}(\\vec{R}_{t'})|\\big(\\vec{\\nabla}_{\\vec{R}}H(\\vec{R}_{t'})\\big)|E_{n}(\\vec{R}_{t'})\\rangle + E_{m}(\\vec{R}_{t'})\\langle E_{m}(\\vec{R}_{t'})|\\big(\\vec{\\nabla}_{\\vec{R}}|E_{n}(\\vec{R}_{t'})\\rangle\\big) \\\\\n",
    "& = \\big(\\vec{\\nabla}_{\\vec{R}}E_{n}(\\vec{R}_{t'})\\big)\\langle E_{m}(\\vec{R}_{t'})|E_{n}(\\vec{R}_{t'})\\rangle + E_{n}(\\vec{R}_{t'})\\langle E_{m}(\\vec{R}_{t'})|\\big(\\vec{\\nabla}_{\\vec{R}}|E_{n}(\\vec{R}_{t'})\\rangle\\big) \\\\\n",
    "& \\therefore \\langle E_{m}(\\vec{R}_{t'})|\\big(\\vec{\\nabla}_{\\vec{R}}|E_{n}(\\vec{R}_{t'})\\rangle\\big) = \\frac{\\langle E_{m}(\\vec{R}_{t'})|\\big(\\vec{\\nabla}_{\\vec{R}}H(\\vec{R}_{t'})\\big)|E_{n}(\\vec{R}_{t'})\\rangle}{E_{n}(\\vec{R}_{t'})-E_{m}(\\vec{R}_{t'})}.\n",
    "\\end{align}"
   ]
  },
  {
   "cell_type": "markdown",
   "id": "197f2639",
   "metadata": {},
   "source": [
    "Vem assim que\n",
    "\\begin{align}\n",
    "\\vec{B}_{n}(\\vec{R}) & = i\\sum_{m\\ne n}\\big(\\langle E_{m}(\\vec{R}_{t'})|\\vec{\\nabla}_{\\vec{R}}|E_{n}(\\vec{R}_{t'})\\rangle\\big)^{*}\\times\\langle E_{m}(\\vec{R}_{t'})|\\vec{\\nabla}_{\\vec{R}}|E_{n}(\\vec{R}_{t'})\\rangle \\\\\n",
    "& = i\\sum_{m\\ne n}\\frac{\\big(\\langle E_{m}(\\vec{R}_{t'})|\\big(\\vec{\\nabla}H(\\vec{R}_{t'})\\big)|E_{n}(\\vec{R}_{t'})\\rangle\\big)^{*}}{\\big(E_{n}(\\vec{R}_{t'})-E_{m}(\\vec{R}_{t'})\\big)^{*}}\\times\\frac{\\langle E_{m}(\\vec{R}_{t'})|\\big(\\vec{\\nabla}H(\\vec{R}_{t'})\\big)|E_{n}(\\vec{R}_{t'})\\rangle}{E_{n}(\\vec{R}_{t'})-E_{m}(\\vec{R}_{t'})} \\\\\n",
    "& = i\\sum_{m\\ne n}\\frac{\\langle E_{n}(\\vec{R}_{t'})|\\big(\\vec{\\nabla}H(\\vec{R}_{t'})\\big)|E_{m}(\\vec{R}_{t'})\\rangle\\times\\langle E_{m}(\\vec{R}_{t'})|\\big(\\vec{\\nabla}H(\\vec{R}_{t'})\\big)|E_{n}(\\vec{R}_{t'})\\rangle}{\\big(E_{n}(\\vec{R}_{t'})-E_{m}(\\vec{R}_{t'})\\big)^{2}}\n",
    "\\end{align}\n",
    "Com isso a fase de Barry fica escrita como\n",
    "$$\\gamma_{n}(C) = \\int_{S}i\\sum_{m\\ne n}\\frac{\\langle E_{n}(\\vec{R}_{t'})|\\big(\\vec{\\nabla}H(\\vec{R}_{t'})\\big)|E_{m}(\\vec{R}_{t'})\\rangle\\times\\langle E_{m}(\\vec{R}_{t'})|\\big(\\vec{\\nabla}H(\\vec{R}_{t'})\\big)|E_{n}(\\vec{R}_{t'})\\rangle}{\\big(E_{n}(\\vec{R}_{t'})-E_{m}(\\vec{R}_{t'})\\big)^{2}}\\cdot d\\vec{a}.$$\n",
    "Segundo Berry, essa equação contém o seu principal resultado, que mesmo pontos do espaço de parâmetros $\\vec{R}$ tais que $E_{m}(\\vec{R})=E_{n}(\\vec{R})$ contribuem para a integral, mesmo que estes pontos não estejam no caminho $C$."
   ]
  },
  {
   "cell_type": "markdown",
   "id": "b4aa203e",
   "metadata": {},
   "source": [
    "### Exemplo: Fase de Berry para spin 1/2\n",
    "Consideremos uma partícula de spin 1/2 sujeita a um campo magnético que varia lentamente com o tempo."
   ]
  },
  {
   "cell_type": "code",
   "execution_count": null,
   "id": "8344048d",
   "metadata": {},
   "outputs": [],
   "source": []
  },
  {
   "cell_type": "markdown",
   "id": "72114708",
   "metadata": {},
   "source": [
    "# Exercícios\n",
    "\n",
    "1. Para duas funções arbitrárias $f$ e $g$ de $\\mathbb{R}^{n}$, verifique que\n",
    "$$\\vec{\\nabla}\\times(f\\vec{\\nabla}g) = (\\vec{\\nabla}f)\\times(\\vec{\\nabla}g).$$"
   ]
  },
  {
   "cell_type": "code",
   "execution_count": null,
   "id": "ec5844c2",
   "metadata": {},
   "outputs": [],
   "source": []
  }
 ],
 "metadata": {
  "kernelspec": {
   "display_name": "Python 3 (ipykernel)",
   "language": "python",
   "name": "python3"
  },
  "language_info": {
   "codemirror_mode": {
    "name": "ipython",
    "version": 3
   },
   "file_extension": ".py",
   "mimetype": "text/x-python",
   "name": "python",
   "nbconvert_exporter": "python",
   "pygments_lexer": "ipython3",
   "version": "3.8.8"
  }
 },
 "nbformat": 4,
 "nbformat_minor": 5
}
