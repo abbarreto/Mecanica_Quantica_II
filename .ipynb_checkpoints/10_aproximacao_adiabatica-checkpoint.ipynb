{
 "cells": [
  {
   "cell_type": "markdown",
   "id": "21b643a5",
   "metadata": {},
   "source": [
    "### Notas de aula de Mecânica Quântica <br> Autor: Jonas Maziero"
   ]
  },
  {
   "cell_type": "code",
   "execution_count": 1,
   "id": "1791fae4",
   "metadata": {},
   "outputs": [],
   "source": [
    "%run init.ipynb"
   ]
  },
  {
   "cell_type": "markdown",
   "id": "39b25a13",
   "metadata": {},
   "source": [
    "# Teorema adiabático\n",
    "Considere um hamiltoniano dependente do tempo mas que comuta em tempos diferentes, i.e., $[H_{t},H_{t'}]=\\mathbb{O}\\ \\forall\\ t,t'$. Se o hamiltoniano muda lentamente com o tempo, mais precisamente, se para $H_{t}|E_{n}(t)\\rangle=E_{n}(t)|E_{n}(t)\\rangle$ temos que $\\langle E_{m}(t)|\\dot{H}_{t}|E_{n}(t)\\rangle \\ll E_{n}(t)-E_{m}(t)$, e se inicialmente o estado do sistema é autovetor de $H_{0}$ com índice $n$, i.e., se $|\\psi_{0}\\rangle=|E_{n}(0)\\rangle$, o estado evoluído será autovetor de $H_{t}$ com o mesmo índice $n$, i.e., $|\\psi_{t}\\rangle\\propto |E_{n}(t)\\rangle$.\n",
    "\n",
    "\n",
    "## Prova\n",
    "Vamos lembrar de alguns resultados. Se o Hamiltoniano é independente do tempo, \n",
    "$$H_{t}=H,$$\n",
    "o operador de evolução temporal toma a forma $U_{t}=e^{-iHt/\\hbar}$. Assim, para $H|E_{n}(0)\\rangle=E_{n}(0)|E_{n}(0)\\rangle$, escrendo o estado inicial como $|\\psi_{0}\\rangle = \\sum_{n}c_{n}(0)|E_{n}(0)\\rangle$ teremos o estado evoluído\n",
    "\\begin{align}\n",
    "|\\psi_{t}\\rangle & = U_{t}|\\psi_{0}\\rangle = \\sum_{n}c_{n}(0)U_{t}|E_{n}(0)\\rangle = \\sum_{n}c_{n}(0)e^{-iHt/\\hbar}|E_{n}(0)\\rangle \\\\\n",
    "& = \\sum_{n}c_{n}(0)e^{-iE_{n}t/\\hbar}|E_{n}(0)\\rangle.\n",
    "\\end{align}"
   ]
  },
  {
   "cell_type": "markdown",
   "id": "c73471e8",
   "metadata": {},
   "source": [
    "Se o hamiltoniano dependente do tempo mas $[H_{t},H_{t'}]=\\mathbb{O}\\ \\forall\\ t,t'$ temos que $U_{t}=e^{-\\frac{i}{\\hbar}\\int_{0}^{t}H_{t'}dt'}$. Assim, se escrevemos o estado inicial com $|\\psi_{0}\\rangle=\\sum_{n}c_{n}(t)|E_{n}(t)\\rangle$, com $H_{t}|E_{n}(t)\\rangle=E_{n}(t)|E_{n}(t)\\rangle$, o estado evoluído pode ser escrito como\n",
    "\\begin{align}\n",
    "|\\psi_{t}\\rangle & = U_{t}|\\psi_{0}\\rangle = \\sum_{n}c_{n}(t)e^{-\\frac{i}{\\hbar}\\int_{0}^{t}H_{t'}dt'}|E_{n}(t)\\rangle. \\\\\n",
    "& ...\n",
    "\\end{align}\n",
    "\n",
    "Vamos usar a seguinte forma para o vetor de estado evoluído no tempo\n",
    "$$|\\psi_{t}\\rangle = \\sum_{n}c_{n}(t)e^{i\\theta_{n}(t)}|E_{n}(t)\\rangle,$$\n",
    "com $$\\theta_{n}(t)=-\\frac{1}{\\hbar}\\int_{0}^{t}E_{n}(t')dt'.$$\n",
    "Substituindo essa expressão na equação de Schrödinger, $$i\\hbar\\partial_{t}|\\psi_{t}\\rangle=H_{t}|\\psi_{t}\\rangle = \\sum_{n}c_{n}(t)e^{i\\theta(t)}E_{n}(t)|E_{n}(t)\\rangle,$$"
   ]
  },
  {
   "cell_type": "markdown",
   "id": "892435df",
   "metadata": {},
   "source": [
    "obteremos (denotamos $\\dot{x}=\\partial_{t}x$)\n",
    "\\begin{align}\n",
    "& i\\hbar \\sum_{n}\\big(\\dot{c}_{n}(t)e^{i\\theta_{n}(t)}|E_{n}(t)\\rangle + c_{n}(t)i\\dot{\\theta}_{n}(t)e^{i\\theta_{n}(t)}|E_{n}(t)\\rangle + c_{n}(t)e^{i\\theta_{n}(t)}|\\dot{E}_{n}(t)\\rangle\\big) \\\\\n",
    "& = i\\hbar \\sum_{n}\\big(\\dot{c}_{n}(t)e^{i\\theta_{n}(t)}|E_{n}(t)\\rangle + c_{n}(t)i\\frac{-E_{n}(t)}{\\hbar}e^{i\\theta_{n}(t)}|E_{n}(t)\\rangle + c_{n}(t)e^{i\\theta_{n}(t)}|\\dot{E}_{n}(t)\\rangle\\big) \\\\\n",
    "&  = \\sum_{n}c_{n}(t)e^{i\\theta(t)}E_{n}(t)|E_{n}(t)\\rangle \\\\\n",
    "& \\therefore\\ \\sum_{n}\\big(\\dot{c}_{n}(t)|E_{n}(t)\\rangle + c_{n}(t)|\\dot{E}_{n}(t)\\rangle\\big)e^{i\\theta_{n}(t)}=0,\n",
    "\\end{align}\n",
    "em que usamos\n",
    "$$\\dot{\\theta}(t) = -\\frac{1}{\\hbar}\\partial_{t}\\int_{0}^{t}E_{n}(t')dt' = -\\frac{E_{n}(t)}{\\hbar}.$$\n",
    "Por conseguinte\n",
    "$$\\sum_{n}\\dot{c}_{n}(t)|E_{n}(t)\\rangle e^{i\\theta_{n}(t)} =- \\sum_{n}c_{n}(t)|\\dot{E}_{n}(t)\\rangle e^{i\\theta_{n}(t)}.$$"
   ]
  },
  {
   "cell_type": "markdown",
   "id": "670a948f",
   "metadata": {},
   "source": [
    "Tomando o produto interno com $|E_{m}(t)\\rangle$ vem que\n",
    "\\begin{align}\n",
    "& \\sum_{n}\\dot{c}_{n}(t)\\langle E_{m}(t)|E_{n}(t)\\rangle e^{i\\theta_{n}(t)} = \\sum_{n}\\dot{c}_{n}(t)\\delta_{m,n}e^{i\\theta_{n}(t)} = \\dot{c}_{m}(t)e^{i\\theta_{m}(t)} \\\\\n",
    "& = - \\sum_{n}c_{n}(t)\\langle E_{m}(t)|\\dot{E}_{n}(t)\\rangle e^{i\\theta_{n}(t)} \\\\\n",
    "& \\therefore\\ \\dot{c}_{m}(t) = - \\sum_{n}c_{n}(t)\\langle E_{m}(t)|\\dot{E}_{n}(t)\\rangle e^{i(\\theta_{n}(t)-\\theta_{m}(t))}. \\hspace{2cm} (\\star)\n",
    "\\end{align}\n",
    "\n",
    "Seguindo, vamos diferenciar a equação de autvalores e autovetores, $H_{t}|E_{n}(t)\\rangle=E_{n}(t)|E_{n}(t)\\rangle$:\n",
    "\\begin{align}\n",
    "& \\dot{H}_{t}|E_{n}(t)\\rangle +  H_{t}|\\dot{E}_{n}(t)\\rangle = \\dot{E}_{n}(t)|E_{n}(t)\\rangle + E_{n}(t)|\\dot{E}_{n}(t)\\rangle \\\\\n",
    "& \\therefore\\ \\langle E_{m}(t)|\\dot{H}_{t}|E_{n}(t)\\rangle +  \\langle E_{m}(t)|H_{t}|\\dot{E}_{n}(t)\\rangle = \\dot{E}_{n}(t)\\langle E_{m}(t)|E_{n}(t)\\rangle + E_{n}(t)\\langle E_{m}(t)|\\dot{E}_{n}(t)\\rangle \\\\\n",
    "& \\therefore\\ \\langle E_{m}(t)|\\dot{H}_{t}|E_{n}(t)\\rangle +  E_{m}(t)\\langle E_{m}(t)|\\dot{E}_{n}(t)\\rangle = \\dot{E}_{n}(t)\\delta_{m,n} + E_{n}(t)\\langle E_{m}(t)|\\dot{E}_{n}(t)\\rangle \\\\\n",
    "& \\therefore\\ \\langle E_{m}(t)|\\dot{H}_{t}|E_{n}(t)\\rangle = \\dot{E}_{n}(t)\\delta_{m,n} + (E_{n}(t)-E_{m}(t))\\langle E_{m}(t)|\\dot{E}_{n}(t)\\rangle \\\\\n",
    "& \\therefore\\ \\langle E_{m}(t)|\\dot{E}_{n}(t)\\rangle = \\frac{\\langle E_{m}(t)|\\dot{H}_{t}|E_{n}(t)\\rangle}{E_{n}(t)-E_{m}(t)} - \\frac{\\dot{E}_{n}(t)\\delta_{m,n}}{E_{n}(t)-E_{m}(t)}.\n",
    "\\end{align}\n",
    "Note que para estas contas estamos supondo a inexistência de degenerescência, i.e., $E_{n}(t)\\ne E_{m}(t)\\ \\forall\\ m\\ne n$."
   ]
  },
  {
   "cell_type": "markdown",
   "id": "c939f71d",
   "metadata": {},
   "source": [
    "Fazendo $m\\ne n$ e substituindo esse último resultado na eq. $(\\star)$, obteremos\n",
    "\\begin{align}\n",
    "\\dot{c}_{m}(t) & = - c_{m}(t)\\langle E_{m}(t)|\\dot{E}_{m}(t)\\rangle - \\sum_{n\\ne m}c_{n}(t)\\langle E_{m}(t)|\\dot{E}_{n}(t)\\rangle e^{i(\\theta_{n}(t)-\\theta_{m}(t))} \\\\\n",
    "& = - c_{m}(t)\\langle E_{m}(t)|\\dot{E}_{m}(t)\\rangle - \\sum_{n}c_{n}(t)\\frac{\\langle E_{m}(t)|\\dot{H}_{t}|E_{n}(t)\\rangle}{E_{n}(t)-E_{m}(t)} e^{i(\\theta_{n}(t)-\\theta_{m}(t))}\n",
    "\\end{align}\n",
    "Agora vamos fazer a aproximação adiabática, que é supor que o hamiltoniano varia muito lentamente com o tempo. Mais precisamente, vamos supor que para $m\\ne n$ teremos\n",
    "$$\\langle E_{m}(t)|\\dot{H}_{t}|E_{n}(t)\\rangle \\ll E_{n}(t)-E_{m}(t).$$\n",
    "Nesta situação podemos desprezar o 2º termo da equação acima para obter\n",
    "\\begin{align}\n",
    "& \\dot{c}_{m}(t) \\approx - c_{m}(t)\\langle E_{m}(t)|\\dot{E}_{m}(t)\\rangle \\\\\n",
    "& c_{m}(t) = c_{m}(0)e^{i\\gamma_{m}(t)},\n",
    "\\end{align}\n",
    "em que definimos\n",
    "$$\\gamma_{m}(t) = i\\int_{0}^{t}\\langle E_{m}(t')|\\dot{E}_{m}(t')\\rangle dt'. $$"
   ]
  },
  {
   "cell_type": "markdown",
   "id": "67a8c2cf",
   "metadata": {},
   "source": [
    "Em particular, se o sistema começa em um certo auto-estado do Hamiltoniano, i.e., se\n",
    "$$|\\psi_{0}\\rangle=|E_{n}(0)\\rangle\\ \\therefore\\ c_{n}(0)=1\\ \\text{e}\\ c_{m\\ne n}=0,$$\n",
    "teremos que\n",
    "$$c_{n}(t)=e^{i\\gamma_{n}(t)}\\ \\text{e}\\ c_{m\\ne n}(t)=0.$$\n",
    "Portanto o estado permanece sendo o mesmo autovetor do hamiltoniano, ganhando somente fases globais:\n",
    "$$|\\psi_{t}\\rangle = e^{i\\gamma_{n}(t)}e^{i\\theta_{n}(t)}|E_{n}(t)\\rangle.$$\n",
    "Ou seja, o índice $n$ não muda. Com isso, completamos a prova do terorema adiabático.\n",
    "\n",
    "$\\square$"
   ]
  },
  {
   "cell_type": "code",
   "execution_count": null,
   "id": "f91b9cd0",
   "metadata": {},
   "outputs": [],
   "source": []
  }
 ],
 "metadata": {
  "kernelspec": {
   "display_name": "Python 3 (ipykernel)",
   "language": "python",
   "name": "python3"
  },
  "language_info": {
   "codemirror_mode": {
    "name": "ipython",
    "version": 3
   },
   "file_extension": ".py",
   "mimetype": "text/x-python",
   "name": "python",
   "nbconvert_exporter": "python",
   "pygments_lexer": "ipython3",
   "version": "3.8.11"
  }
 },
 "nbformat": 4,
 "nbformat_minor": 5
}
