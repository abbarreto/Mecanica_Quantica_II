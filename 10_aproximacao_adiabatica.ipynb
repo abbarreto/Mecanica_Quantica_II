{
 "cells": [
  {
   "cell_type": "markdown",
   "id": "21b643a5",
   "metadata": {},
   "source": [
    "### Notas de aula de Mecânica Quântica <br> Autor: Jonas Maziero"
   ]
  },
  {
   "cell_type": "code",
   "execution_count": 1,
   "id": "1791fae4",
   "metadata": {},
   "outputs": [],
   "source": [
    "%run init.ipynb"
   ]
  },
  {
   "cell_type": "markdown",
   "id": "39b25a13",
   "metadata": {},
   "source": [
    "# Aproximação Adiabática"
   ]
  },
  {
   "cell_type": "code",
   "execution_count": null,
   "id": "55aeeadf",
   "metadata": {},
   "outputs": [],
   "source": []
  }
 ],
 "metadata": {
  "kernelspec": {
   "display_name": "Python 3 (ipykernel)",
   "language": "python",
   "name": "python3"
  },
  "language_info": {
   "codemirror_mode": {
    "name": "ipython",
    "version": 3
   },
   "file_extension": ".py",
   "mimetype": "text/x-python",
   "name": "python",
   "nbconvert_exporter": "python",
   "pygments_lexer": "ipython3",
   "version": "3.8.11"
  }
 },
 "nbformat": 4,
 "nbformat_minor": 5
}
