{
 "cells": [
  {
   "cell_type": "markdown",
   "metadata": {},
   "source": [
    "### Notas de aula de Mecânica Quântica <br> Autor: Jonas Maziero"
   ]
  },
  {
   "cell_type": "markdown",
   "metadata": {},
   "source": [
    "# Estrutura fina do átomo de hidrogênio\n",
    "\n",
    "## Átomo de hidrogênio: Caso não \"perturbado\"\n",
    "Aqui usaremos correções perturbativas de 1ª ordem para obter a estrutura fina dos níveis de energia do átomo de hidrogênio. O mesmo procedimento se aplica a átomos hidrogenóides, e os resultados se aplicam qualitativamente a qualquer sistema atômico.\n",
    "\n",
    "Lembrando, com o referencial no centro de massa, quando consideramos somente a interação Coulombiana, o Hamiltoniano do átomo de Hidrogênio tem a forma\n",
    "\\begin{equation}\n",
    "H_{0} = \\frac{P^{2}}{2m}+U = -\\frac{\\hbar^{2}}{2m}\\nabla^{2} - \\frac{ke^{2}}{r},\n",
    "\\end{equation}\n",
    "onde a massa reduzida é\n",
    "\\begin{equation}\n",
    "m=\\frac{m_{e}m_{p}}{m_{e}+m_{p}},\n",
    "\\end{equation}\n",
    "com $m_{e}\\ (m_{p})$ sendo a massa do elétron (próton). \n",
    "Da solução exata para a equação de Schrödinger nesse caso (https://nbviewer.jupyter.org/github/jonasmaziero/mecanica_quantica_1900-1925/blob/master/16_hidrogenio.ipynb), temos as energias\n",
    "\\begin{align}\n",
    "E_{n}^{(0)} &= -\\frac{m k^{2}e^{4}}{2\\hbar^{2}}\\frac{1}{n^{2}} = -\\left(\\frac{ke^{2}}{\\hbar c}\\right)^{2}\\frac{mc^{2}}{2n^{2}} = -\\frac{\\alpha^{2}mc^{2}}{2n^{2}},\n",
    "\\end{align}\n",
    "com $n=1,2,3,\\cdots$ e a constante de estrutura fina sendo\n",
    "\\begin{equation}\n",
    "\\alpha := \\frac{ke^{2}}{\\hbar c} \\approx \\frac{1}{137,04}.\n",
    "\\end{equation}\n",
    "Na sequência, também utilizaremos o raio de Bohr:\n",
    "\\begin{equation}\n",
    "a := \\frac{\\hbar^{2}}{kme^{2}} \\approx 0,53\\text{ }\\mathring{A}.\n",
    "\\end{equation}\n",
    "\n",
    "### Ordem de grandeza das autoenergias não perturbadas de H\n",
    "Vale notar que a ordem de grandeza dessas energias é ditada principalmente por\n",
    "\\begin{equation}\n",
    "\\alpha^{2}mc^{2}\\approx 27,2\\text{ eV}.\n",
    "\\end{equation}"
   ]
  },
  {
   "cell_type": "code",
   "execution_count": 1,
   "metadata": {},
   "outputs": [
    {
     "data": {
      "image/png": "[encoded data removed]",
      "text/latex": [
       "$\\displaystyle \\left( 9.1044235768052 \\cdot 10^{-31}, \\  27.1965781785896, \\  5.29465334135241 \\cdot 10^{-11}\\right)$"
      ],
      "text/plain": [
       "(9.104423576805199e-31, 27.196578178589604, 5.294653341352413e-11)"
      ]
     },
     "execution_count": 1,
     "metadata": {},
     "output_type": "execute_result"
    }
   ],
   "source": [
    "%run init.ipynb\n",
    "m = (me*mp)/(me+mp); a0 = hb**2/(k*m*e**2); m, al**2*m*c**2/e, a0"
   ]
  },
  {
   "cell_type": "code",
   "execution_count": 2,
   "metadata": {},
   "outputs": [
    {
     "data": {
      "image/png": "[encoded data removed]",
      "text/latex": [
       "$\\displaystyle -13.5982890892948$"
      ],
      "text/plain": [
       "-13.598289089294802"
      ]
     },
     "execution_count": 2,
     "metadata": {},
     "output_type": "execute_result"
    }
   ],
   "source": [
    "def bohrH(m,n): # em eV\n",
    "    return (-(al**2*m*c**2)/(2*n**2))/e\n",
    "bohrH(m,1)"
   ]
  },
  {
   "cell_type": "code",
   "execution_count": 4,
   "metadata": {},
   "outputs": [
    {
     "data": {
      "image/png": "[encoded data removed]",
      "text/plain": [
       "<Figure size 500x300 with 1 Axes>"
      ]
     },
     "metadata": {
      "needs_background": "light"
     },
     "output_type": "display_data"
    }
   ],
   "source": [
    "import matplotlib\n",
    "def bohr(Z,mu,n): # em eV\n",
    "    return (-((mu*Z**2*e**4*k**2)/(2*hb**2))/n**2)/e\n",
    "def bohr_ed(Z,mu,xmin,xmax):\n",
    "    matplotlib.rcParams.update({'font.size':10}); \n",
    "    plt.figure(figsize = (5,3), dpi = 100)\n",
    "    plt.hlines(bohr(Z,mu,1),xmin,xmax,color='blue')\n",
    "    plt.text(-0.15,bohr(Z,mu,1),'1',color='blue'); \n",
    "    plt.text(1.01,bohr(Z,mu,1),'%3.2f' % (bohr(Z,mu,1)),color='blue')\n",
    "    plt.hlines(bohr(Z,mu,2),xmin,xmax,color='blue')\n",
    "    plt.text(-0.15,bohr(Z,mu,2),'2',color='blue'); \n",
    "    plt.text(1.01,bohr(Z,mu,2),'%3.2f' % (bohr(Z,mu,2)),color='blue')\n",
    "    plt.hlines(bohr(Z,mu,3),xmin,xmax,color='blue') \n",
    "    plt.text(-0.15,bohr(Z,mu,3),'3',color='blue'); \n",
    "    plt.text(1.01,bohr(Z,mu,3),'%3.2f' % (bohr(Z,mu,3)),color='blue')\n",
    "    plt.hlines(bohr(Z,mu,4),xmin,xmax,color='blue')\n",
    "    plt.text(-0.15,bohr(Z,mu,4),'4',color='blue'); \n",
    "    plt.text(1.01,bohr(Z,mu,4),'%3.2f' % (bohr(Z,mu,4)),color='blue')\n",
    "    plt.text(0.5,-0.5,r'$\\vdots$',color='blue'); \n",
    "    plt.hlines(0,0,1,color='blue')\n",
    "    plt.text(-0.15,0,r'$n=\\infty$',color='blue'); \n",
    "    plt.text(1.01,0.1,r'0 (eV)',color='blue')\n",
    "    plt.xlim(0,2); plt.ylim(bohr(Z,mu,1)-0.1,0)\n",
    "    plt.axis('off'); plt.show()\n",
    "Z=1; mu = me; bohr_ed(Z,mu,0,1)"
   ]
  },
  {
   "cell_type": "markdown",
   "metadata": {},
   "source": [
    "## Correção relativística\n",
    "A energia cinética relativística é dada pela doferença entre a energia total e a energia de repouso:\n",
    "\\begin{align}\n",
    "E_{c} &= E-E_{0}= \\sqrt{P^{2}c^{2}+m^{2}c^{4}}-mc^{2} \\\\\n",
    "&= mc^{2}\\left(\\sqrt{P^{2}/m^{2}c^{2}+1} - 1\\right),\n",
    "\\end{align}\n",
    "com $m=m_{e}m_{p}/(m_{e}+m_{p})$ sendo a massa reduzida. Seguindo, usamos a série \n",
    "\\begin{equation}\n",
    "\\sqrt{1+x}=1+x/2-x^{2}/8+\\cdots \\text{, para } |x|<1,\n",
    "\\end{equation}\n",
    "para escrever\n",
    "\\begin{align}\n",
    "E_{c} &= mc^{2}\\left(1 + \\frac{P^{2}}{2m^{2}c^{2}} - \\frac{P^{4}}{8m^{4}c^{4}} + \\cdots - 1\\right) \\approx \\frac{P^{2}}{2m} - \\frac{P^{4}}{8m^{3}c^{2}}.\n",
    "\\end{align}\n",
    "Então, escrevendo o Hamiltoniano total, nesta aproximação, como \n",
    "\\begin{equation}\n",
    "H=H_{0}+H_{1}^{r},\n",
    "\\end{equation}\n",
    "a correção relativística será calculada usando o _Hamiltoniano de perturbação_:\n",
    "\\begin{equation}\n",
    "H_{1}^{r}=-\\frac{P^{4}}{8m^{3}c^{2}}.\n",
    "\\end{equation}"
   ]
  },
  {
   "cell_type": "code",
   "execution_count": 5,
   "metadata": {},
   "outputs": [
    {
     "data": {
      "image/png": "[encoded data removed]",
      "text/latex": [
       "$\\displaystyle \\left( 9.1044235768052 \\cdot 10^{-31}, \\  510720.711869285, \\  5.68562909125462\\right)$"
      ],
      "text/plain": [
       "(9.104423576805199e-31, 510720.7118692852, 5.685629091254621)"
      ]
     },
     "execution_count": 5,
     "metadata": {},
     "output_type": "execute_result"
    }
   ],
   "source": [
    "m = (me*mp)/(me+mp); m, m*c**2/e, me*(10**6)**2/e"
   ]
  },
  {
   "cell_type": "markdown",
   "metadata": {},
   "source": [
    "### Correção perturbativa de 1ª ordem\n",
    "\\begin{equation}\n",
    "E_{n}^{r(1)} = \\langle\\psi_{n,l,m_{l}}^{(0)}|H_{1}^{r}|\\psi_{n,l,m_{l}}^{(0)}\\rangle = -\\frac{1}{8m^{3}c^{2}}\\langle\\psi_{n,l,m_{l}}^{(0)}|P^{4}|\\psi_{n,l,m_{l}}^{(0)}\\rangle.\n",
    "\\end{equation}\n",
    "O termo $P^{4}$ pode ser reescrito como segue\n",
    "\\begin{align}\n",
    "P^{4} & = P^{2}P^{2} = 2m(H_{0}-U)2m(H_{0}-U) \\\\\n",
    "      & = 4m^{2}\\left(H_{0}^{2} - UH_{0} - H_{0}U + U^{2}\\right).\n",
    "\\end{align}\n",
    "Assim\n",
    "\\begin{align}\n",
    "E_{n}^{r(1)} & = -\\frac{1}{2mc^{2}}\\left(\\langle \\psi_{n,l,m_{l}}^{(0)}|H_{0}^{2}|\\psi_{n,l,m_{l}}^{(0)}\\rangle - \\langle\\psi_{n,l,m_{l}}^{(0)}|UH_{0}|\\psi_{n,l,m_{l}}^{(0)}\\rangle - \\langle\\psi_{n,l,m_{l}}^{(0)}|H_{0}U|\\psi_{n,l,m_{l}}^{(0)}\\rangle + \\langle\\psi_{n,l,m_{l}}^{(0)}|U^{2}|\\psi_{n,l,m_{l}}^{(0)}\\rangle \\right) \\\\\n",
    "& = -\\frac{1}{2mc^{2}}\\left((E_{n}^{(0)})^{2} -2E_{n}^{(0)}\\langle\\psi_{n,l,m_{l}}^{(0)}|U|\\psi_{n,l,m_{l}}^{(0)}\\rangle + \\langle\\psi_{n,l,m_{l}}^{(0)}|U^{2}|\\psi_{n,l,m_{l}}^{(0)}\\rangle \\right) \\\\\n",
    "& = -\\frac{1}{2mc^{2}}\\left((E_{n}^{(0)})^{2} +2E_{n}^{(0)}\\frac{e^{2}}{4\\pi\\epsilon_{0}}\\langle\\psi_{n,l,m_{l}}^{(0)}|r^{-1}|\\psi_{n,l,m_{l}}^{(0)}\\rangle + \\left(-\\frac{e^{2}}{4\\pi\\epsilon_{0}}\\right)^{2}\\langle\\psi_{n,l,m_{l}}^{(0)}|r^{-2}|\\psi_{n,l,m_{l}}^{(0)}\\rangle \\right).\n",
    "\\end{align}"
   ]
  },
  {
   "cell_type": "markdown",
   "metadata": {},
   "source": [
    "Usando o teorema de Pauli (https://github.com/jonasmaziero/mecanica_quantica_1900-1925/blob/master/19_pauli_thm.ipynb), temos que\n",
    "\\begin{align}\n",
    "& \\langle\\psi_{n,l,m_{l}}^{(0)}|r^{-1}|\\psi_{n,l,m_{l}}^{(0)}\\rangle=\\frac{1}{an^{2}}, \\\\\n",
    "& \\langle\\psi_{n,l,m_{l}}^{(0)}|r^{-2}|\\psi_{n,l,m_{l}}^{(0)}\\rangle = \\frac{1}{a^{2}n^{3}(l+1/2)}.\n",
    "\\end{align}\n",
    "Assim\n",
    "\\begin{align}\n",
    "E_{n}^{r(1)} & = -\\frac{1}{2mc^{2}}\\left((E_{n}^{(0)})^{2} + 2E_{n}^{(0)}\\frac{e^{2}}{4\\pi\\epsilon_{0}}\\frac{1}{an^{2}} + \\left(\\frac{e^{2}}{4\\pi\\epsilon_{0}}\\right)^{2}\\frac{1}{a^{2}n^{3}(l+1/2)} \\right) \\\\\n",
    "& = -\\frac{1}{2mc^{2}}\\left((E_{n}^{(0)})^{2} + 2E_{n}^{(0)}\\frac{e^{2}}{4\\pi\\epsilon_{0}}\\frac{me^{2}}{4\\pi\\epsilon_{0}\\hbar^{2}}\\frac{1}{n^{2}} + \\left(\\frac{e^{2}}{4\\pi\\epsilon_{0}}\\right)^{2}\\frac{m^{2}e^{4}}{(4\\pi\\epsilon_{0}\\hbar^{2})^{2}}\\frac{1}{n^{3}(l+1/2)} \\right) \\\\\n",
    "& = -\\frac{1}{2mc^{2}}\\left((E_{n}^{(0)})^{2} - 4(E_{n}^{(0)})^{2} + (E_{n}^{(0)})^{2}\\frac{4n}{l+1/2} \\right) \\\\\n",
    "& = -\\frac{1}{2mc^{2}}(E_{n}^{(0)})^{2}\\left(1 - 4 + \\frac{4n}{l+1/2} \\right) = -\\frac{(E_{n}^{(0)})^{2}}{2mc^{2}}\\left(\\frac{4n}{l+1/2} -3 \\right) \\\\\n",
    "& = -\\alpha^{4}mc^{2}\\frac{1}{8n^{4}}\\left(\\frac{4n}{l+1/2} -3 \\right).\n",
    "\\end{align}\n",
    "Para obter a última igualdade, usamos \n",
    "\\begin{equation}\n",
    "\\frac{(E_{n}^{(0)})^{2}}{mc^{2}}=\\frac{\\alpha^{4}mc^{2}}{4n^{4}}.\n",
    "\\end{equation}\n",
    "Note que essa correção quebra a degenerescência da energia em $l$."
   ]
  },
  {
   "cell_type": "markdown",
   "metadata": {},
   "source": [
    "### Ordem de magnitude da correção relativística: \n",
    "O fator principal para determinação da magnitude da estrutura fina de H é \n",
    "\\begin{equation}\n",
    "\\alpha^{4}mc^{2}\\approx 1,45\\mathrm{x}10^{-3}\\text{ eV}.\n",
    "\\end{equation}\n",
    "Consideremos como exemplo o caso $n=1$ e $l=0$, para o qual\n",
    "\\begin{equation}\n",
    "E_{1}^{r(1)} = -\\alpha^{4}mc^{2}(5/8) \\approx -9,05\\mathrm{x}10^{-4}\\text{ eV}. \n",
    "\\end{equation}\n",
    "Note, dos resultados mostrados abaixo e da expressão geral, que esse valor tipicamente diminui em magnitude com o aumento de $n$."
   ]
  },
  {
   "cell_type": "code",
   "execution_count": 6,
   "metadata": {},
   "outputs": [
    {
     "data": {
      "image/png": "[encoded data removed]",
      "text/latex": [
       "$\\displaystyle \\left( 0.00144825507843012, \\  0.000905159424018822\\right)$"
      ],
      "text/plain": [
       "(0.0014482550784301156, 0.0009051594240188222)"
      ]
     },
     "execution_count": 6,
     "metadata": {},
     "output_type": "execute_result"
    }
   ],
   "source": [
    "al**4*m*c**2/e, (al**4*m*c**2/e)*(5/8)"
   ]
  },
  {
   "cell_type": "code",
   "execution_count": 7,
   "metadata": {},
   "outputs": [],
   "source": [
    "def Erel(n,l): # em eV\n",
    "    return -(al**4*m*c**2/e)*(1/(8*n**4))*((4*n)/(l+1/2)-3)"
   ]
  },
  {
   "cell_type": "code",
   "execution_count": 8,
   "metadata": {},
   "outputs": [
    {
     "name": "stdout",
     "output_type": "stream",
     "text": [
      "n= 1 , l= 0 , Erel= -0.0009051594240188222 eV\n",
      "n= 2 , l= 0 , Erel= -0.0001470884064030586 eV\n",
      "n= 2 , l= 1 , Erel= -2.6400483200548978e-05 eV\n",
      "n= 3 , l= 0 , Erel= -4.6934192356531516e-05 eV\n",
      "n= 3 , l= 1 , Erel= -1.1174807703936075e-05 eV\n",
      "n= 3 , l= 2 , Erel= -4.0229307734169865e-06 eV\n",
      "n= 4 , l= 0 , Erel= -2.0507518200426443e-05 eV\n",
      "n= 4 , l= 1 , Erel= -5.421527800112737e-06 eV\n",
      "n= 4 , l= 2 , Erel= -2.4043297200499968e-06 eV\n",
      "n= 4 , l= 3 , Erel= -1.111244828594536e-06 eV\n"
     ]
    }
   ],
   "source": [
    "s=1/2\n",
    "for n in range(1,5):\n",
    "    for l in range(0,n):\n",
    "        print('n=',n,', l=',l,', Erel=',Erel(n,l),'eV')"
   ]
  },
  {
   "cell_type": "code",
   "execution_count": 16,
   "metadata": {},
   "outputs": [
    {
     "data": {
      "image/png": "[encoded data removed]",
      "text/plain": [
       "<Figure size 500x300 with 1 Axes>"
      ]
     },
     "metadata": {
      "needs_background": "light"
     },
     "output_type": "display_data"
    }
   ],
   "source": [
    "matplotlib.rcParams.update({'font.size':10}); \n",
    "plt.figure(figsize = (5,3), dpi = 100)\n",
    "def plot_Hrel(n):\n",
    "    plt.hlines(bohr(Z,mu,n), 0, 0.3, color='blue')\n",
    "    plt.text(-0.15,bohr(Z,mu,n),'%10.7f' % (bohr(Z,mu,n)),color='blue')\n",
    "    plt.text(0.1, bohr(Z,mu,n), 'n='+str(n), color='red')\n",
    "    for l in range(0, n):\n",
    "        plt.plot([0.3,0.6],[bohr(Z,mu,n),bohr(Z,mu,n)+Erel(n,l)], '--', color='gray', linewidth=0.5)\n",
    "        plt.hlines(bohr(Z,mu,n)+Erel(n,l), 0.6, 0.9, color='blue')\n",
    "        plt.text(0.9,bohr(Z,mu,n)+Erel(n,l),'%10.7f' % (bohr(Z,mu,n)+Erel(n,l)),color='blue')\n",
    "        plt.text(0.7,bohr(Z,mu,n)+Erel(n,l),'l='+str(l),color='red')\n",
    "    plt.axis('off'); plt.show()\n",
    "plot_Hrel(3)"
   ]
  },
  {
   "cell_type": "markdown",
   "metadata": {},
   "source": [
    "OBS. Note que ainda temos a estrutura principal de níveis de energia, claro, mas se a plotarmos, a estrutura fina não aparecerá."
   ]
  },
  {
   "cell_type": "markdown",
   "metadata": {},
   "source": [
    "## Correção da interação spin-órbita\n",
    "No referencial do elétron, o próton está em movimento e gera um campo magnético que pode ser calculado usando a lei de Biot-Savart:\n",
    "\\begin{equation}\n",
    "\\vec{B} = \\frac{\\mu_{0}i}{4\\pi}\\oint_{c}\\frac{d\\vec{l}\\mathrm{x}\\hat{r}}{r^{2}} = \\frac{\\mu_{0}i}{4\\pi r^{2}}\\oint_{c}ds\\hat{e} = \\frac{\\mu_{0}i}{4\\pi r^{2}}2\\pi r\\hat{e} = \\frac{\\mu_{0}e/\\tau}{2r}\\hat{e},\n",
    "\\end{equation}\n",
    "em que aproximamos a \"trajetória\" por um círculo. O momento angular do próton, nessas condições, será\n",
    "\\begin{equation}\n",
    "L = rP = rmv = rm\\frac{2\\pi r}{\\tau}.\n",
    "\\end{equation}\n",
    "Assim\n",
    "\\begin{equation}\n",
    "\\vec{B} = \\frac{\\mu_{0}e}{2r}\\frac{L}{2\\pi m r^{2}}\\hat{e} = \\frac{\\mu_{0}e}{4\\pi mr^{3}}\\vec{L} = \\frac{e}{4\\pi\\epsilon_{0} mc^{2}r^{3}}\\vec{L},\n",
    "\\end{equation}\n",
    "onde usamos $c=1/\\sqrt{\\mu_{0}\\epsilon_{0}}$. Este campo magnético interage como o momento magnético de spin do elétron \n",
    "\\begin{equation}\n",
    "\\vec{\\mu}_{e} = (-e/m)\\vec{S}_{e}\n",
    "\\end{equation}\n",
    "segundo o Hamiltoniano:\n",
    "\\begin{equation}\n",
    "H_{1}^{so} = -\\mu_{e}\\cdot \\vec{B} = \\frac{e^{2}}{4\\pi\\epsilon_{0} m^{2}c^{2}r^{3}}\\vec{S}\\cdot\\vec{L}.\n",
    "\\end{equation}\n",
    "\n",
    "OBS. Note que acima a massa reduzida $m$ aparece em vez das massas do elétron e do próton, e isso é por causa da transformação que fizemos do problema de dois corpos em um problema de um corpo."
   ]
  },
  {
   "cell_type": "markdown",
   "metadata": {},
   "source": [
    "A correção perturbativa de 1ª ordem devido à interação spin-órbita será dada por\n",
    "\\begin{align}\n",
    "E_{n}^{so(1)} & = \\langle\\psi_{n,l,m_{l}}^{(0)}|H_{1}^{so}|\\psi_{n,l,m_{l}}^{(0)}\\rangle \\\\\n",
    "& = \\frac{e^{2}}{4\\pi\\epsilon_{0} m^{2}c^{2}}\\langle\\psi_{n,l,m_{l}}^{(0)}|r^{-3}\\vec{S}\\cdot\\vec{L}|\\psi_{n,l,m_{l}}^{(0)}\\rangle.\n",
    "\\end{align}\n",
    "Para o momento angular total do elétron,\n",
    "\\begin{equation}\n",
    "\\vec{J} = \\mathbb{I}_{L}\\otimes\\vec{S} + \\vec{L}\\otimes\\mathbb{I}_{S}\\therefore J^{2} = \\mathbb{I}_{L}\\otimes S^{2} + L^{2}\\otimes\\mathbb{I}_{S}+2(\\mathbb{I}_{L}\\otimes\\vec{S})\\cdot(\\vec{L}\\otimes\\mathbb{I}_{S}),\n",
    "\\end{equation}\n",
    "teremos que\n",
    "\\begin{equation}\n",
    "\\vec{S}\\cdot\\vec{L} \\equiv (\\mathbb{I}_{L}\\otimes\\vec{S})\\cdot(\\vec{L}\\otimes\\mathbb{I}_{S}) = 2^{-1}\\left(J^{2} - \\mathbb{I}_{L}\\otimes S^{2} - L^{2}\\otimes\\mathbb{I}_{S} \\right).\n",
    "\\end{equation}"
   ]
  },
  {
   "cell_type": "markdown",
   "metadata": {},
   "source": [
    "Assim, usando autoestados com momento angular total bem difinido, que são autovetores compartilhados de $J^{2}$ e $L^{2}$ (de $H_{1}^{so}$ e de $H_{0}$),\n",
    "\\begin{equation}\n",
    "|\\psi_{n,l,m_{l}}^{(0)}\\rangle \\rightarrow |n,l,s,j,m_{j}\\rangle,\n",
    "\\end{equation}\n",
    "teremos\n",
    "\\begin{align}\n",
    "E_{n}^{so(1)} & = \\frac{e^{2}}{4\\pi\\epsilon_{0} m^{2}c^{2}}\\langle n,l,s,j,m_{j}|r^{-3}2^{-1}\\left(J^{2} - \\mathbb{I}_{L}\\otimes S^{2} - L^{2}\\otimes\\mathbb{I}_{S} \\right)|n,l,s,j,m_{j}\\rangle \\\\\n",
    "& = \\frac{e^{2}\\hbar^{2}\\left(j(j+1)-l(l+1)-s(s+1)\\right)}{8\\pi\\epsilon_{0} m^{2}c^{2}}\\langle n,l,s,j,m_{j}|r^{-3}|n,l,s,j,m_{j}\\rangle.\n",
    "\\end{align}\n",
    "Usando os resultados demonstrados em (https://nbviewer.jupyter.org/github/jonasmaziero/mecanica_quantica_1900-1925/blob/master/19_pauli_thm.ipynb), obtemos\n",
    "\\begin{equation}\n",
    "\\langle n,l,s,j,m_{j}|r^{-3}|n,l,s,j,m_{j}\\rangle = \\frac{1}{l(l+1/2)(l+1)n^{3}a^{3}}\n",
    "\\end{equation}\n",
    "e $s=1/2$, vem que\n",
    "\\begin{align}\n",
    "E_{n}^{so(1)} & = \\frac{e^{2}\\hbar^{2}\\left(j(j+1)-l(l+1)-3/4\\right)}{8\\pi\\epsilon_{0} m^{2}c^{2}}\\frac{1}{l(l+1/2)(l+1)n^{3}a^{3}} \\\\\n",
    "& = \\frac{e^{2}\\hbar^{2}}{8\\pi\\epsilon_{0}m^{2}c^{2}}\\frac{1}{n^{3}}\\frac{m^{3}e^{6}}{(4\\pi\\epsilon_{0})^{3}\\hbar^{6}}\\frac{j(j+1)-l(l+1)-3/4}{l(l+1/2)(l+1)} \\\\\n",
    "& = \\frac{(E_{n}^{(0)})^{2}2n}{mc^{2}}\\left(\\frac{j(j+1)-l(l+1)-3/4}{l(l+1/2)(l+1)}\\right) \\\\\n",
    "& = \\alpha^{4}mc^{2}\\frac{1}{2n^{3}}\\left(\\frac{j(j+1)-l(l+1)-3/4}{l(l+1/2)(l+1)}\\right)\n",
    "\\end{align}\n",
    "Para obter a última igualdade, usamos $(E_{n}^{(0)})^{2}/mc^{2}=\\alpha^{4}mc^{2}/4n^{4}$."
   ]
  },
  {
   "cell_type": "markdown",
   "metadata": {},
   "source": [
    "Vale notar que para $l=0\\therefore j=s=1/2$ temos (não há momento angular/magnético orbital, mas ainda assim há momento angular/magnético intrínseco para interagir com o campo magnético gerado pelo movimento do próton):\n",
    "\\begin{align}\n",
    "E_{n}^{so(1)}(l=0) &= \\alpha^{4}mc^{2}\\frac{1}{2n^{3}}\\left(\\frac{(1/2)(1/2+1)-l(l+1)-3/4}{l(l+1/2)(l+1)}\\right) \\\\\n",
    "&=  \\alpha^{4}mc^{2}\\frac{1}{2n^{3}}\\left(\\frac{-(l+1)}{(l+1/2)(l+1)}\\right) \\\\\n",
    "& =  \\alpha^{4}mc^{2}\\frac{1}{2n^{3}}\\left(\\frac{-1}{1/2}\\right) = -\\frac{\\alpha^{4}mc^{2}}{n^{3}}.\n",
    "\\end{align}\n",
    "\n",
    "Lembremos que, de forma geral\n",
    "\\begin{equation}\n",
    "j = |l-s|, |l-s|+1,\\cdots,l+s.\n",
    "\\end{equation}\n",
    "Assim, como $s=1/2$ para o elétron, teremos\n",
    "\\begin{align}\n",
    "& l = 0 \\ \\therefore\\ j=1/2, \\\\\n",
    "& l = 1 \\ \\therefore\\ j = 1/2, 3/2, \\\\\n",
    "& l = 2 \\ \\therefore\\ j = 3/2, 5/2, \\\\\n",
    "& l = 3 \\ \\therefore\\ j = 5/2, 7/2, \\\\\n",
    "& \\vdots.\n",
    "\\end{align}\n",
    "Como para cada valor de $n$, temos $n$ possíveis valores de $l$, termos $2n-1$ pares de valores de $(l,j)$."
   ]
  },
  {
   "cell_type": "markdown",
   "metadata": {},
   "source": [
    "### Ordem de magnitude da correção pela interação spin-órbita\n",
    "A ordem de magnitude para a interação spin-órbita também é ditada principalmente por $\\alpha^{4}mc^{2}$, como no caso da correção relativística. \n",
    "\n",
    "Alguns exemplos específicos podem ser obtidos com o código abaixo. Por exemplo, para $n=1,l=0,j=1/2$ temos \\begin{equation}\n",
    "E_{n}^{so(1)}\\approx -1,45\\mathrm{x}10^{-3}\\text{ eV}.\n",
    "\\end{equation}\n",
    "\n",
    "OBS. Eu não incluí aqui o termo $1/2$ da precessão de Thomas (um efeito relativístico), que faria com essa correção ficasse ainda mais próxima da correção relativística."
   ]
  },
  {
   "cell_type": "code",
   "execution_count": 45,
   "metadata": {},
   "outputs": [],
   "source": [
    "def Eso(n,l,j): # em eV\n",
    "    if l==0:\n",
    "        return ((2*n*e*bohrH(m,n)**2)/(m*c**2))*2 # j=0+1/2=1/2\n",
    "    else:\n",
    "        return ((2*n*e*bohrH(m,n)**2)/(m*c**2))*((j*(j+1)-l*(l+1)-3/4)/(l*(l+1/2)*(l+1)))"
   ]
  },
  {
   "cell_type": "code",
   "execution_count": 108,
   "metadata": {},
   "outputs": [
    {
     "name": "stdout",
     "output_type": "stream",
     "text": [
      "n= 1 , l= 0 , j= 0.5 , Eso= 0.0014482550784301158  eV\n",
      "n= 2 , l= 0 , j= 0.5 , Eso= 0.00018103188480376447  eV\n",
      "n= 2 , l= 1 , j= 0.5 , Eso= -6.034396160125482e-05  eV\n",
      "n= 2 , l= 1 , j= 1.5 , Eso= 3.017198080062741e-05  eV\n",
      "n= 3 , l= 0 , j= 0.5 , Eso= 5.363907697889317e-05  eV\n",
      "n= 3 , l= 1 , j= 0.5 , Eso= -1.787969232629772e-05  eV\n",
      "n= 3 , l= 1 , j= 1.5 , Eso= 8.93984616314886e-06  eV\n",
      "n= 3 , l= 2 , j= 1.5 , Eso= -5.3639076978893175e-06  eV\n",
      "n= 3 , l= 2 , j= 2.5 , Eso= 3.5759384652595445e-06  eV\n",
      "n= 4 , l= 0 , j= 0.5 , Eso= 2.262898560047056e-05  eV\n",
      "n= 4 , l= 1 , j= 0.5 , Eso= -7.542995200156853e-06  eV\n",
      "n= 4 , l= 1 , j= 1.5 , Eso= 3.7714976000784263e-06  eV\n",
      "n= 4 , l= 2 , j= 1.5 , Eso= -2.262898560047056e-06  eV\n",
      "n= 4 , l= 2 , j= 2.5 , Eso= 1.5085990400313707e-06  eV\n",
      "n= 4 , l= 3 , j= 2.5 , Eso= -1.0775707428795504e-06  eV\n",
      "n= 4 , l= 3 , j= 3.5 , Eso= 8.081780571596628e-07  eV\n"
     ]
    }
   ],
   "source": [
    "s=1/2\n",
    "for n in range(1, 5):\n",
    "    for l in range(0,n):\n",
    "        j=abs(l-s)-1\n",
    "        while j<(l+s):\n",
    "            j+=1\n",
    "            print('n=',n,', l=',l,', j=',j,', Eso=',Eso(n,l,j), ' eV')"
   ]
  },
  {
   "cell_type": "code",
   "execution_count": 77,
   "metadata": {},
   "outputs": [
    {
     "data": {
      "image/png": "[encoded data removed]",
      "text/plain": [
       "<Figure size 500x300 with 1 Axes>"
      ]
     },
     "metadata": {
      "needs_background": "light"
     },
     "output_type": "display_data"
    }
   ],
   "source": [
    "matplotlib.rcParams.update({'font.size':10}); \n",
    "plt.figure(figsize = (5,3), dpi = 100)\n",
    "def plot_Hso(n):\n",
    "    plt.hlines(bohr(Z,mu,n), 0, 0.3, color='blue')\n",
    "    plt.text(-0.15,bohr(Z,mu,n),'%10.7f' % (bohr(Z,mu,n)),color='blue')\n",
    "    plt.text(0.1, bohr(Z,mu,n), 'n='+str(n), color='red')\n",
    "    for l in range(0, n):\n",
    "        j=abs(l-s)-1\n",
    "        while j<(l+s):\n",
    "            j+=1\n",
    "            plt.plot([0.3,0.6],[bohr(Z,mu,n),bohr(Z,mu,n)+Eso(n,l,j)], '--', color='gray', linewidth=0.5)\n",
    "            plt.hlines(bohr(Z,mu,n)+Eso(n,l,j), 0.6, 0.9, color='blue')\n",
    "            plt.text(0.9,bohr(Z,mu,n)+Eso(n,l,j),'%10.7f' % (bohr(Z,mu,n)+Eso(n,l,j)),color='blue')\n",
    "            plt.text(0.6,bohr(Z,mu,n)+Eso(n,l,j),'l='+str(l)+',j='+str(j),color='red')\n",
    "    plt.axis('off'); plt.show()\n",
    "plot_Hso(3)"
   ]
  },
  {
   "cell_type": "markdown",
   "metadata": {},
   "source": [
    "## Correção de Darwin\n",
    "OBS. Esse físico também tem o nome Charles Darwin, mas ele é neto do Charles Darwin que propôs a teoria da evolução das espécies por seleção natural.\n",
    "\n",
    "Consideremos que o elétron possui _extensão espacial finita_, com sua carga elétrica $-e$ distribuída em uma esfera of raio igual ao seu comprimento de onda de Compton:\n",
    "\\begin{equation}\n",
    "R_{e^{-}}=\\frac{\\hbar}{mc}.\n",
    "\\end{equation}\n",
    "Seja $\\vec{r}'$ a posição de um elemento de carga $dq$ do elétron em relação ao centro de cargas, que está na posição $\\vec{r}$ em relação ao próton. A verdadeira energia potencial elétrica de interação entre elétron e próton nesse caso é\n",
    "\\begin{equation}\n",
    "\\tilde{V} = \\int_{e^{-}}dq(\\vec{r}') \\Phi(||\\vec{r}+\\vec{r}'||),\n",
    "\\end{equation}\n",
    "com $\\Phi(r)=ke/r$ sendo o potencial elétrico criado pelo próton na posição do elemento de carga $dq$. Vamos escrever a densidade volumétrica de carga elétrica do elétron como\n",
    "\\begin{equation}\n",
    "\\rho(\\vec{r}')=-e\\rho_{0}(\\vec{r}'),\n",
    "\\end{equation}\n",
    "de forma que $-e=\\int_{e^{-}}d^{3}r'\\rho(\\vec{r}')=\\int_{e^{-}}d^{3}r'(-e\\rho_{0}(\\vec{r}'))=-e\\int_{e^{-}}d^{3}r'\\rho_{0}(\\vec{r}')$, e assim devemos ter $\\int_{e^{-}}d^{3}r'\\rho_{0}(\\vec{r}')=1$. Uma forma de satisfazermos essa relação é utilizando\n",
    "\\begin{equation}\n",
    "\\rho_{0}(\\vec{r}')=\\begin{cases}\\frac{1}{4\\pi R_{e^{-}}^{3}/3}\\text{, }r'<R_{e^{-}}, \\\\ 0\\hspace{1cm}\\text{, } r'>R_{e^{-}}.\\end{cases}\n",
    "\\end{equation}\n",
    "e\n",
    "\\begin{align}\n",
    "\\tilde{V} &= \\int_{e^{-}}d^{3}r'\\rho(\\vec{r}') \\Phi(||\\vec{r}+\\vec{r}'||) = \\int_{e^{-}}d^{3}r'(-e\\rho_{0}(\\vec{r}')) \\Phi(||\\vec{r}+\\vec{r}'||) \\\\\n",
    "&= -e\\int_{e^{-}}d^{3}r'\\rho_{0}(\\vec{r}')\\Phi(||\\vec{r}+\\vec{r}'||).\n",
    "\\end{align}"
   ]
  },
  {
   "cell_type": "markdown",
   "metadata": {},
   "source": [
    "Considerando o pequeno tamanho do elétron, vamos usar a expansão em série de Taylor:\n",
    "\\begin{align}\n",
    "\\Phi(||\\vec{r}+\\vec{r}'||) = \\Phi(r) + \\sum_{j=1}^{3}\\left(\\frac{\\partial \\Phi}{\\partial x_{j}'}\\right)_{r}x_{j}' + \\frac{1}{2}\\sum_{j,k=1}^{3}\\left(\\frac{\\partial^{2} \\Phi}{\\partial x_{j}'\\partial x_{k}'}\\right)_{r}x_{j}'x_{k}'+\\cdots,\n",
    "\\end{align}\n",
    "para escrever\n",
    "\\begin{align}\n",
    "\\tilde{V} &\\approx -e\\int_{e^{-}}d^{3}r'\\rho_{0}(\\vec{r}') \\Phi(r) -e\\int_{e^{-}}d^{3}r'\\rho_{0}(\\vec{r}') \\sum_{j=1}^{3}\\left(\\frac{\\partial \\Phi}{\\partial x_{j}'}\\right)_{r}x_{j}' -e\\frac{1}{2}\\int_{e^{-}}d^{3}r'\\rho_{0}(\\vec{r}')\\sum_{j,k=1}^{3}\\left(\\frac{\\partial^{2} \\Phi}{\\partial x_{j}'\\partial x_{k}'}\\right)_{r}x_{j}'x_{k}' \\\\\n",
    "&=  -e\\Phi(r)\\int_{e^{-}}d^{3}r'\\rho_{0}(\\vec{r}') -e\\sum_{j=1}^{3}\\left(\\frac{\\partial \\Phi}{\\partial x_{j}'}\\right)_{r}\\int_{e^{-}}d^{3}r'\\rho_{0}(\\vec{r}') x_{j}' -e\\frac{1}{2}\\sum_{j,k=1}^{3}\\left(\\frac{\\partial^{2} \\Phi}{\\partial x_{j}'\\partial x_{k}'}\\right)_{r}\\int_{e^{-}}d^{3}r'\\rho_{0}(\\vec{r}')x_{j}'x_{k}' \\\\\n",
    "&=  -e\\Phi(r) +0 -e\\frac{1}{2}\\sum_{j,k=1}^{3}\\left(\\frac{\\partial^{2} \\Phi}{\\partial x_{j}'\\partial x_{k}'}\\right)_{r}\\delta_{j,k}\\frac{1}{3}\\int_{e^{-}}d^{3}r'\\rho_{0}(\\vec{r}')r'^{2} \\\\\n",
    "&=  V(r) - \\frac{e}{6}\\nabla^{2}\\Phi\\int_{e^{-}}d^{3}r'\\rho_{0}(\\vec{r}')r'^{2} =  V(r) + \\frac{R_{e^{-}}}{10}\\nabla^{2}V(r) \\\\\n",
    "&=  V(r) + \\frac{\\hbar^{2}}{10m^{2}c^{2}}\\nabla^{2}V(r).\n",
    "\\end{align}\n",
    "\n",
    "Para obter os resultados acima, assumimos que a distribuição de cargas do elétron é esfericamente simétrica e com densidade constante, como explicitado acima para $\\rho_{0}(\\vec{r}')$.\n",
    "Além disso, usamos $r'^{2}=\\sum_{j=1}^{2}x_{j}'^{2}$, $\\int_{e^{-}}d^{3}r'\\rho_{0}(\\vec{r}') x_{j}'=0$ para $j=1,2,3$ e $\\int_{e^{-}}d^{3}r'\\rho_{0}(\\vec{r}')r'^{2}=3R_{e^{-}}^{2}/5$."
   ]
  },
  {
   "cell_type": "markdown",
   "metadata": {},
   "source": [
    "Com isso, teremos um Hamiltoniano de perturbação devido ao termo de Darwin\n",
    "\\begin{align}\n",
    "H_{1}^{d} &= \\frac{\\hbar^{2}}{10m^{2}c^{2}}\\nabla^{2}V(r) = \\frac{\\hbar^{2}}{10m^{2}c^{2}}\\nabla^{2}\\left(-\\frac{ke^{2}}{r}\\right) = -\\frac{\\hbar^{2}ke^{2}}{10m^{2}c^{2}}\\nabla^{2}\\left(\\frac{1}{r}\\right) \\\\\n",
    "& = -\\frac{\\hbar^{2}ke^{2}}{10m^{2}c^{2}}\\left(-4\\pi\\delta(\\vec{r})\\right) = \\frac{2\\pi\\hbar^{2}ke^{2}}{5m_{e}^{2}c^{2}}\\delta(\\vec{r}).\n",
    "\\end{align}\n",
    "em que usamos o resultado $\\nabla^{2}(1/r)=-4\\pi\\delta(\\vec{r})$. Nesse caso a correção perturbativa de 1ª ordem pode ser escrita como\n",
    "\\begin{align}\n",
    "E_{n}^{d(1)} &= \\langle\\psi_{n,l,m_{l}}^{(0)}|H_{1}^{d}|\\psi_{n,l,m_{l}}^{(0)}\\rangle = \\langle\\psi_{n,l,m_{l}}^{(0)}|\\frac{2\\pi\\hbar^{2}ke^{2}}{5m^{2}c^{2}}\\delta(\\vec{r})|\\psi_{n,l,m_{l}}^{(0)}\\rangle \\\\\n",
    "&= \\frac{2\\pi\\hbar^{2}ke^{2}}{5m^{2}c^{2}}\\langle\\psi_{n,l,m_{l}}^{(0)}|\\int d^{3}r'|\\vec{r}'\\rangle\\langle\\vec{r}'|\\delta(\\vec{r})|\\psi_{n,l,m_{l}}^{(0)}\\rangle \\\\\n",
    "&= \\frac{2\\pi\\hbar^{2}ke^{2}}{5m^{2}c^{2}}\\int d^{3}r'\\langle\\psi_{n,l,m_{l}}^{(0)}|\\vec{r}'\\rangle\\langle\\vec{r}'|\\psi_{n,l,m_{l}}^{(0)}\\rangle\\delta(\\vec{r}) \\\\\n",
    "& = \\frac{2\\pi\\hbar^{2}ke^{2}}{5m^{2}c^{2}}\\int d^{3}r'|\\psi_{n,l,m_{l}}^{(0)}(\\vec{r}')|^{2}\\delta(\\vec{r}) \\\\\n",
    "& = \\frac{2\\pi\\hbar^{2}ke^{2}}{5m^{2}c^{2}}\\left|\\psi_{n,l,m_{l}}^{(0)}(\\vec{0})\\right|^{2}.\n",
    "\\end{align}"
   ]
  },
  {
   "cell_type": "markdown",
   "metadata": {},
   "source": [
    "As funções de onda não perturbadas de átomos hidrogenóides são\n",
    "\\begin{equation}\n",
    "\\psi_{n,l,m_{l}}(r,\\theta,\\phi) = \\sqrt{\\left(\\frac{2Z}{a_{0}n}\\right)^{3}\\frac{(n-l-1)!}{(n+l)!2n}}e^{-Zr/a_{0}n}\\left(\\frac{2Zr}{a_{0}n}\\right)^{l}L_{n-l-1}^{2l+1}\\left(\\frac{2Zr}{a_{0}n}\\right)\\sqrt{\\frac{2l+1}{4\\pi}\\frac{(l-|m_{l}|)!}{(l+|m_{l}|)!}}(\\sin\\theta)^{|m_{l}|}\\frac{\\partial^{|m_{l}|}P_{l}(\\cos\\theta)}{\\partial z^{|m_{l}|}}e^{im_{l}\\phi},\n",
    "\\end{equation}\n",
    "com $L_{j}^{k}(x)=(e^{x}x^{-k}/j!)\\partial_{x^{j}}(e^{-x}x^{j+k})$ e $P_{l}(z)=(1/l!2^{l})\\partial_{z^{l}}(z^{2}-1)^{l}$. O termo $\\left(\\frac{2Zr}{a_{0}n}\\right)^{l}$ implica que \n",
    "$$\\psi_{n,l>0,m_{l}}(r,\\theta,\\phi)=0\\Rightarrow E_{n}^{d(1)}=0.$$\n",
    "Para $n=1,l=0,m_{l}=0$ teremos ($Z=1$):\n",
    "\\begin{equation}\n",
    "\\psi_{1,0,0}(r=0,\\theta,\\phi) = \\frac{1}{\\sqrt{\\pi}}\\left(\\frac{Z}{a}\\right)^{3/2}e^{-Z0/a_{0}} = 1/\\sqrt{\\pi a^{3}}.\n",
    "\\end{equation}\n",
    "Assim\n",
    "\\begin{align}\n",
    "E_{n=1,l=0,m_{l}=0}^{d(1)} &= \\frac{2\\pi\\hbar^{2}ke^{2}}{5m^{2}c^{2}}\\left|\\psi_{1,0,0}^{(0)}(\\vec{0})\\right|^{2} = \\frac{2\\pi\\hbar^{2}ke^{2}}{5m^{2}c^{2}}\\frac{1}{\\pi a^{3}} = \\frac{2\\hbar^{2}ke^{2}}{5m^{2}c^{2}}\\frac{k^{3}m^{3}e^{6}}{\\hbar^{6}} \\\\\n",
    "&= \\frac{k^{4}e^{8}}{\\hbar^{4}c^{4}}c^{2}m\\frac{2}{5} = \\alpha^{4}mc^{2}\\frac{2}{5} \\approx 5,79\\times 10^{-4}\\text{ eV}.\n",
    "\\end{align}\n",
    "Vemos assim que a correção de Darwin é da mesma ordem de grandeza que as correções relativística e de interação spin-órbita."
   ]
  },
  {
   "cell_type": "code",
   "execution_count": 92,
   "metadata": {},
   "outputs": [
    {
     "data": {
      "image/png": "[encoded data removed]",
      "text/latex": [
       "$\\displaystyle 0.000579302031372046$"
      ],
      "text/plain": [
       "0.0005793020313720462"
      ]
     },
     "execution_count": 92,
     "metadata": {},
     "output_type": "execute_result"
    }
   ],
   "source": [
    "((2*al**4*m*c**2)/5)/e"
   ]
  },
  {
   "cell_type": "markdown",
   "metadata": {},
   "source": [
    "Para o código a seguir, consideremos a função de onda de átomos hidrogenóides com $l=0$ e calculada em $r=0$:\n",
    "\\begin{align}\n",
    "\\psi_{n,l=0,m_{l}=0}(r=0,\\theta,\\phi) & = \\sqrt{\\left(\\frac{2Z}{a_{0}n}\\right)^{3}\\frac{(n-0-1)!}{(n+0)!2n}}e^{-Z(0)/a_{0}n}\\left(\\frac{2Zr}{a_{0}n}\\right)^{0}L_{n-0-1}^{2(0)+1}\\left(\\frac{2Z(0)}{a_{0}n}\\right)\\sqrt{\\frac{2(0)+1}{4\\pi}\\frac{(0-|0|)!}{(0+|0|)!}}(\\sin\\theta)^{|0|}\\frac{\\partial^{|0|}P_{0}(\\cos\\theta)}{\\partial z^{|0|}}e^{i(0)\\phi} \\\\\n",
    "&  = \\sqrt{\\left(\\frac{2Z}{a_{0}n}\\right)^{3}\\frac{(n-1)!}{n!2n}}(1)(1)L_{n-1}^{1}(0)\\sqrt{\\frac{1}{4\\pi}}(1)(1)(1)\n",
    "\\end{align}\n",
    "em que usamos $P_{0}(z)=(1/0!2^{0})\\partial_{z^{0}}(z^{2}-1)^{0} = 1$ e $L_{j=n-1}^{k=1}(x)=(e^{x}x^{-1}/(n-1)!)\\partial_{x^{n-1}}(e^{-x}x^{n-1+1})$."
   ]
  },
  {
   "cell_type": "code",
   "execution_count": 131,
   "metadata": {},
   "outputs": [],
   "source": [
    "def rodrigues_laguerre(j,k,x):\n",
    "    if j == 0:\n",
    "        return 1\n",
    "    rod = exp(-x)*x**(j+k)\n",
    "    for l in range(1,j+1):\n",
    "        rod = diff(rod,x)\n",
    "    return ((exp(x)*(x**(-k)))/(factorial(j)))*rod"
   ]
  },
  {
   "cell_type": "code",
   "execution_count": 134,
   "metadata": {},
   "outputs": [
    {
     "name": "stdout",
     "output_type": "stream",
     "text": [
      "n= 1 , Ed= 0.000579302031372046  eV\n",
      "n= 2 , Ed= 0.00115860406274409  eV\n",
      "n= 3 , Ed= 0.00173790609411614  eV\n",
      "n= 4 , Ed= 0.00231720812548819  eV\n"
     ]
    }
   ],
   "source": [
    "def Ed(n):\n",
    "    Z = 1\n",
    "    psi = sqrt((1/(4*pi))*(((2*Z)/a0*n)**3)*(1/(2*n**2)))#*rodrigues_laguerre(n-1,1,0.00001)\n",
    "    return (((2*pi*hb**2*k*e**2)/(5*m**2*c**2))*psi**2)/e\n",
    "for n in range(1, 5):\n",
    "    print('n=',n,', Ed=',Ed(n), ' eV')"
   ]
  },
  {
   "cell_type": "code",
   "execution_count": 135,
   "metadata": {},
   "outputs": [
    {
     "data": {
      "image/png": "[encoded data removed]",
      "text/plain": [
       "<Figure size 500x300 with 1 Axes>"
      ]
     },
     "metadata": {
      "needs_background": "light"
     },
     "output_type": "display_data"
    }
   ],
   "source": [
    "matplotlib.rcParams.update({'font.size':10}); \n",
    "plt.figure(figsize = (5,3), dpi = 100)\n",
    "def plot_Hd(n):\n",
    "    plt.hlines(bohr(Z,mu,n), 0, 0.3, color='blue')\n",
    "    plt.text(-0.15,bohr(Z,mu,n),'%10.7f' % (bohr(Z,mu,n)),color='blue')\n",
    "    plt.text(0.1, bohr(Z,mu,n), 'n='+str(n), color='red')\n",
    "    plt.plot([0.3,0.6],[bohr(Z,mu,n),bohr(Z,mu,n)+Ed(n)], '--', color='gray', linewidth=0.5)\n",
    "    plt.plot([0.6,0.9],[bohr(Z,mu,n)+Ed(n),bohr(Z,mu,n)+Ed(n)], color='blue')\n",
    "    plt.text(0.9,bohr(Z,mu,n)+Ed(n),'%10.7f' % (bohr(Z,mu,n)+Ed(n)),color='blue')\n",
    "    plt.text(0.7,bohr(Z,mu,n)+Ed(n),'n='+str(n),color='red')\n",
    "    plt.axis('off'); plt.show()\n",
    "plot_Hd(2)"
   ]
  },
  {
   "cell_type": "markdown",
   "metadata": {},
   "source": [
    "## Estrutura fina\n",
    "OBS. Todos esses termos de correção fina, o relativístico, o de interação spin-órbita e o de Darwin, aparecem, de forma mais precisa, como um limite da Equação de Dirac da Mecânica Quântica Relativística aplicada ao átomo de Hidrogênio. Por isso, não incluiremos \"na mão\" um fator devido à precessão de Thomas, que é um efeito relativístico.\n",
    "\n",
    "Usando as fórmulas obtidas aqui, vamos somar essas três contribuições descritas acima para obter a correção de estrutura fina para o estado fundamental $(n=1,l=0,m_{l}=0,j=1/2)$ do átomo de Hidrogênio:\n",
    "\\begin{align}\n",
    "E_{1}^{f(1)} &= E_{1}^{r(1)} + E_{1}^{so(1)} + E_{1}^{d(1)} \\\\ \n",
    "& = -\\alpha^{4}mc^{2}\\frac{1}{8(1)^{4}}\\left(\\frac{4(1)}{0+1/2} -3 \\right) -\\frac{\\alpha^{4}mc^{2}}{(1)^{3}} + \\alpha^{4}mc^{2}\\frac{2}{5} \\\\\n",
    "& = \\alpha^{4}mc^{2}\\left(-\\frac{5}{8}-1+\\frac{2}{5}\\right) \\\\\n",
    "& = -1,225\\alpha^{4}mc^{2}.\n",
    "\\end{align}"
   ]
  },
  {
   "cell_type": "markdown",
   "metadata": {},
   "source": [
    "Para $l>0$ a correção de Darwin é nula. Vamos adicionar as duas contribuições restantes para obter uma fórmula geral para a estrutura fina do átomo de Hidrogênio:\n",
    "\\begin{align}\n",
    "E_{n,l>0} & \\rightarrow E_{n}^{(0)} + E_{n}^{r(1)} + E_{n}^{so(1)} \\\\\n",
    "& = -\\alpha^{2}mc^{2}\\frac{1}{2n^{2}} - \\alpha^{4}mc^{2}\\frac{1}{8n^{4}}\\left(\\frac{4n}{l+1/2} -3 \\right) + \\alpha^{4}mc^{2}\\frac{1}{2n^{3}}\\left(\\frac{j(j+1)-l(l+1)-3/4}{l(l+1/2)(l+1)}\\right) \\\\\n",
    "& = \\frac{-\\alpha^{2}mc^{2}}{2n^{2}}\\left(1 + \\frac{\\alpha^{2}}{4n^{2}}\\left(\\frac{4n}{l+1/2} -3 \\right) - \\frac{\\alpha^{2}}{n}\\left(\\frac{j(j+1)-l(l+1)-3/4}{l(l+1/2)(l+1)}\\right)\\right) \\\\\n",
    "& = \\cdots\n",
    "\\end{align}\n",
    "Notemos que $j=|l-s|,\\cdots,l+s = |l-1/2|,l+1/2$, ou $1\\le l=j\\mp1/2$."
   ]
  },
  {
   "cell_type": "code",
   "execution_count": 142,
   "metadata": {},
   "outputs": [
    {
     "name": "stdout",
     "output_type": "stream",
     "text": [
      "n= 1 , l= 0 , j= 0.5 , Ef= 0.00112239768578334  eV\n",
      "n= 2 , l= 0 , j= 0.5 , Ef= 0.00119254754114480  eV\n",
      "n= 2 , l= 1 , j= 0.5 , Ef= -8.67444448018038e-05  eV\n",
      "n= 2 , l= 1 , j= 1.5 , Ef= 3.7714976000784327e-06  eV\n",
      "n= 3 , l= 0 , j= 0.5 , Ef= 0.00174461097873850  eV\n",
      "n= 3 , l= 1 , j= 0.5 , Ef= -2.9054500030233795e-05  eV\n",
      "n= 3 , l= 1 , j= 1.5 , Ef= -2.2349615407872142e-06  eV\n",
      "n= 3 , l= 2 , j= 1.5 , Ef= -9.386838471306303e-06  eV\n",
      "n= 3 , l= 2 , j= 2.5 , Ef= -4.46992308157442e-07  eV\n",
      "n= 4 , l= 0 , j= 0.5 , Ef= 0.00231932959288823  eV\n",
      "n= 4 , l= 1 , j= 0.5 , Ef= -1.296452300026959e-05  eV\n",
      "n= 4 , l= 1 , j= 1.5 , Ef= -1.650030200034311e-06  eV\n",
      "n= 4 , l= 2 , j= 1.5 , Ef= -4.667228280097053e-06  eV\n",
      "n= 4 , l= 2 , j= 2.5 , Ef= -8.957306800186261e-07  eV\n",
      "n= 4 , l= 3 , j= 2.5 , Ef= -2.1888155714740864e-06  eV\n",
      "n= 4 , l= 3 , j= 3.5 , Ef= -3.0306677143487324e-07  eV\n"
     ]
    }
   ],
   "source": [
    "def Ef(n,l,j):\n",
    "    if l == 0:\n",
    "        return Erel(n,l) + Eso(n,l,j) + Ed(n)\n",
    "    else:\n",
    "        return Erel(n,l) + Eso(n,l,j)\n",
    "s=1/2\n",
    "for n in range(1, 5):\n",
    "    for l in range(0,n):\n",
    "        j=abs(l-s)-1\n",
    "        while j<(l+s):\n",
    "            j+=1\n",
    "            print('n=',n,', l=',l,', j=',j,', Ef=', Ef(n,l,j), ' eV')"
   ]
  },
  {
   "cell_type": "code",
   "execution_count": 143,
   "metadata": {},
   "outputs": [
    {
     "data": {
      "image/png": "[encoded data removed]",
      "text/plain": [
       "<Figure size 500x300 with 1 Axes>"
      ]
     },
     "metadata": {
      "needs_background": "light"
     },
     "output_type": "display_data"
    }
   ],
   "source": [
    "matplotlib.rcParams.update({'font.size':10}); \n",
    "plt.figure(figsize = (5,3), dpi = 100)\n",
    "def plot_Hf(n):\n",
    "    plt.hlines(bohr(Z,mu,n), 0, 0.3, color='blue')\n",
    "    plt.text(-0.15,bohr(Z,mu,n),'%10.7f' % (bohr(Z,mu,n)),color='blue')\n",
    "    plt.text(0.1, bohr(Z,mu,n), 'n='+str(n), color='red')\n",
    "    for l in range(0, n):\n",
    "        j=abs(l-s)-1\n",
    "        while j<(l+s):\n",
    "            j+=1\n",
    "            plt.plot([0.3,0.6],[bohr(Z,mu,n),bohr(Z,mu,n)+Ef(n,l,j)], '--', color='gray', linewidth=0.5)\n",
    "            plt.plot([0.6,0.9],[bohr(Z,mu,n)+Ef(n,l,j),bohr(Z,mu,n)+Ef(n,l,j)], color='blue')\n",
    "            plt.text(0.9,bohr(Z,mu,n)+Ef(n,l,j),'%10.7f' % (bohr(Z,mu,n)+Ef(n,l,j)),color='blue')\n",
    "            plt.text(0.6,bohr(Z,mu,n)+Ef(n,l,j),'l='+str(l)+',j='+str(j),color='red')\n",
    "    plt.axis('off'); plt.show()\n",
    "plot_Hf(2)"
   ]
  },
  {
   "cell_type": "markdown",
   "metadata": {},
   "source": [
    "---\n",
    "# Exercícios\n",
    "\n",
    "1. Verifique que $(E_{n}^{(0)})^{2}/mc^{2}=\\alpha^{4}mc^{2}/4n^{4}$.\n",
    "\n",
    "1. Calcule os valores possíveis da correção perturbativa relativística para $n=2$.\n",
    "\n",
    "1. Calcule os valores possíveis da correção perturbativa pela interação spin-órbita para $n=2$.\n",
    "\n",
    "1. Verifique que $\\int_{e^{-}}d^{3}r'\\rho_{0}(\\vec{r}') x_{j}'=0$ para $j=1,2,3$, assumindo $\\rho_{0}(\\vec{r}')=\\rho_{0}(r')$ constante.\n",
    "\n",
    "1. Verifique que $\\int_{e^{-}}d^{3}r'\\rho_{0}(\\vec{r}')r'^{2}=3R_{e^{-}}^{2}/5$, assumindo $\\rho_{0}(\\vec{r}')=\\rho_{0}(r')$ constante.\n",
    "\n",
    "1. Verifique que $\\nabla^{2}(1/r)=-4\\pi\\delta(\\vec{r})$.\n",
    "\n",
    "1. Calcule os valores possíveis da correção perturbativa pelo termo de Darwin para $n=2$.\n",
    "\n",
    "1. Calcule os possíveis valores de energia do átomo de Hidrogênio para $n=2$, incluindo as correções relativística, de interação spin-órbita e de Darwin."
   ]
  }
 ],
 "metadata": {
  "kernelspec": {
   "display_name": "Python 3 (ipykernel)",
   "language": "python",
   "name": "python3"
  },
  "language_info": {
   "codemirror_mode": {
    "name": "ipython",
    "version": 3
   },
   "file_extension": ".py",
   "mimetype": "text/x-python",
   "name": "python",
   "nbconvert_exporter": "python",
   "pygments_lexer": "ipython3",
   "version": "3.8.8"
  }
 },
 "nbformat": 4,
 "nbformat_minor": 2
}
